{
 "cells": [
  {
   "cell_type": "markdown",
   "metadata": {},
   "source": [
    "# Test multiprocessing for isotope distribution"
   ]
  },
  {
   "cell_type": "code",
   "execution_count": null,
   "metadata": {},
   "outputs": [],
   "source": [
    "import pandas as pd\n",
    "repeat = 100\n",
    "peptides = ['AGHCEWQMKAADER']*repeat\n",
    "mods = ['Acetyl@Protein_N-term;Carbamidomethyl@C;Oxidation@M']*repeat\n",
    "sites = ['0;4;8']*repeat\n",
    "peptides += ['AGHCEWQMK']*repeat\n",
    "mods += ['']*repeat\n",
    "sites += ['']*repeat\n",
    "\n",
    "precursor_df = pd.DataFrame({\n",
    "    'sequence': peptides,\n",
    "    'mods': mods,\n",
    "    'mod_sites': sites\n",
    "})\n",
    "precursor_df['nAA'] = precursor_df['sequence'].str.len()\n",
    "precursor_df['charge'] = 2"
   ]
  },
  {
   "cell_type": "code",
   "execution_count": null,
   "metadata": {},
   "outputs": [],
   "source": [
    "from alphabase.peptide.precursor import calc_precursor_isotope_intensity_mp\n",
    "\n",
    "precursor_df = calc_precursor_isotope_intensity_mp(precursor_df, mp_process_num=2, mp_batch_size=50)\n",
    "precursor_df"
   ]
  },
  {
   "cell_type": "code",
   "execution_count": null,
   "metadata": {},
   "outputs": [],
   "source": [
    "import numpy as np\n",
    "assert (precursor_df.mono_isotope_idx == 0).all()\n",
    "assert np.allclose(precursor_df[[f\"i_{i}\" for i in range(6)]].sum(axis=1), 1)"
   ]
  },
  {
   "cell_type": "code",
   "execution_count": null,
   "metadata": {},
   "outputs": [],
   "source": []
  }
 ],
 "metadata": {
  "kernelspec": {
   "display_name": "Python 3.8.3 ('base')",
   "language": "python",
   "name": "python3"
  },
  "language_info": {
   "codemirror_mode": {
    "name": "ipython",
    "version": 3
   },
   "file_extension": ".py",
   "mimetype": "text/x-python",
   "name": "python",
   "nbconvert_exporter": "python",
   "pygments_lexer": "ipython3",
   "version": "3.9.12"
  },
  "vscode": {
   "interpreter": {
    "hash": "8a3b27e141e49c996c9b863f8707e97aabd49c4a7e8445b9b783b34e4a21a9b2"
   }
  }
 },
 "nbformat": 4,
 "nbformat_minor": 2
}
