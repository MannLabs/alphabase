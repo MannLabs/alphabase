{
 "cells": [
  {
   "metadata": {},
   "cell_type": "markdown",
   "source": [
    "# Tutorial: Using AnnDataFactory for Proteomics Data Analysis\n",
    "\n",
    "This notebook demonstrates how to use the `AnnDataFactory` class to convert proteomics PSM (Peptide Spectrum Matches) data into AnnData format, which is widely used in single-cell analysis pipelines."
   ],
   "id": "e5bd244a6f88775c"
  },
  {
   "metadata": {},
   "cell_type": "code",
   "source": [
    "import pandas as pd\n",
    "import tempfile\n",
    "\n",
    "from alphabase.psm_reader.keys import PsmDfCols\n",
    "from alphabase.anndata.anndata_factory import AnnDataFactory\n",
    "from alphabase.tools.data_downloader import DataShareDownloader\n"
   ],
   "id": "84a2980926abae94",
   "outputs": [],
   "execution_count": null
  },
  {
   "metadata": {},
   "cell_type": "markdown",
   "source": [
    "### 1. Creating an AnnDataFactory from a DataFrame\n",
    "\n",
    "First, let's create a sample PSM DataFrame with the required columns and pass it to the `AnnDataFactory` constructor.\n",
    "\n",
    "The resulting AnnData object has:\n",
    "   - Rows (obs) representing samples (raw names)\n",
    "   - Columns (var) representing proteins\n",
    "   - X matrix containing intensity values"
   ],
   "id": "9647ed76f001bb89"
  },
  {
   "metadata": {},
   "cell_type": "code",
   "source": [
    "# Create sample PSM data\n",
    "sample_psm_data = {\n",
    "    PsmDfCols.RAW_NAME: ['sample1', 'sample1', 'sample2', 'sample2'],\n",
    "    PsmDfCols.PROTEINS: ['proteinA', 'proteinB', 'proteinA', 'proteinB'],\n",
    "    PsmDfCols.INTENSITY: [100, 200, 150, 250]\n",
    "}\n",
    "psm_df = pd.DataFrame(sample_psm_data)\n",
    "\n",
    "# Create AnnDataFactory instance\n",
    "factory = AnnDataFactory(psm_df)\n",
    "\n",
    "# Convert to AnnData\n",
    "adata = factory.create_anndata()\n",
    "\n",
    "print(\"AnnData shape:\", adata.shape)\n",
    "print(\"\\nObservations (samples):\", adata.obs_names)\n",
    "print(\"\\nVariables (proteins):\", adata.var_names)\n",
    "print(\"\\nIntensity matrix:\\n\", adata.X)"
   ],
   "id": "1aa9f62e70422f32",
   "outputs": [],
   "execution_count": null
  },
  {
   "metadata": {},
   "cell_type": "markdown",
   "source": [
    "## 2. Loading Data from Files (AlphaDIA Example)\n",
    "\n",
    "The AnnDataFactory can also read data directly from PSM files. Here's how to use it with MaxQuant output:\n",
    "\n"
   ],
   "id": "14a55a3abe72ad83"
  },
  {
   "metadata": {},
   "cell_type": "code",
   "source": [
    "url = \"https://datashare.biochem.mpg.de/s/Hk41INtwBvBl0kP/download?files=alphadia_1.8.1_report_head.tsv\"\n",
    "with tempfile.TemporaryDirectory() as temp_dir:\n",
    "    file_path = DataShareDownloader(\n",
    "        url=url, output_dir=temp_dir\n",
    "    ).download()\n",
    "    \n",
    "\n",
    "    factory = AnnDataFactory.from_files(\n",
    "        file_paths=file_path,\n",
    "        reader_type=\"alphadia\"\n",
    "    )\n",
    "\n",
    "# Convert to AnnData\n",
    "adata = factory.create_anndata()\n",
    "\n",
    "\n",
    "print(\"AnnData shape:\", adata.shape)\n",
    "\n",
    "adata.to_df()\n"
   ],
   "id": "d2af73ad60b29601",
   "outputs": [],
   "execution_count": null
  },
  {
   "metadata": {},
   "cell_type": "markdown",
   "source": [
    "\n",
    "## 3. Customizing Column Names\n",
    "\n",
    "If your input files use different column names than what is preconfigured in `AnnDataFactory`, you can specify them:"
   ],
   "id": "685930b74da70a12"
  },
  {
   "metadata": {},
   "cell_type": "code",
   "source": [
    "# factory = AnnDataFactory.from_files(\n",
    "#     file_paths=\"path/to/psm_file.txt\",\n",
    "#     reader_type=\"alphadia\",\n",
    "#     intensity_column=\"CustomIntensity\",\n",
    "#     protein_id_column=\"ProteinIdentifier\",\n",
    "#     raw_name_column=\"RunName\"\n",
    "# )"
   ],
   "id": "767c7268ff800451",
   "outputs": [],
   "execution_count": null
  }
 ],
 "metadata": {
  "kernelspec": {
   "display_name": "Python 3",
   "language": "python",
   "name": "python3"
  },
  "language_info": {
   "codemirror_mode": {
    "name": "ipython",
    "version": 2
   },
   "file_extension": ".py",
   "mimetype": "text/x-python",
   "name": "python",
   "nbconvert_exporter": "python",
   "pygments_lexer": "ipython2",
   "version": "2.7.6"
  }
 },
 "nbformat": 4,
 "nbformat_minor": 5
}
