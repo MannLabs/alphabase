{
 "cells": [
  {
   "cell_type": "code",
   "execution_count": 1,
   "metadata": {},
   "outputs": [],
   "source": [
    "#---#| default_exp spectral_library.flat_library"
   ]
  },
  {
   "cell_type": "code",
   "execution_count": 2,
   "metadata": {},
   "outputs": [],
   "source": [
    "import numpy as np\n",
    "import pandas as pd\n",
    "\n",
    "from alphabase.spectral_library.base import SpecLibBase\n",
    "from alphabase.spectral_library.flat import SpecLibFlat "
   ]
  },
  {
   "cell_type": "code",
   "execution_count": 3,
   "metadata": {},
   "outputs": [],
   "source": [
    "#｜ hide\n",
    "from io import StringIO\n",
    "from alphabase.spectral_library.reader import LibraryReaderBase"
   ]
  },
  {
   "cell_type": "code",
   "execution_count": null,
   "metadata": {},
   "outputs": [],
   "source": [
    "#| hide\n",
    "tsv_str = \"\"\"PrecursorCharge\tModifiedPeptide\tStrippedPeptide\tiRT\tLabeledPeptide\tPrecursorMz\tFragmentLossType\tFragmentNumber\tFragmentType\tFragmentCharge\tFragmentMz\tRelativeIntensity\tIonMobility\n",
    "2\t_DPLAVDK_\tDPLAVDK\t-15.0871\t_DPLAVDK_\t379.2081611\tnoloss\t3\tb\t1\t326.1710473\t14.37029\t0.9\n",
    "2\t_DPLAVDK_\tDPLAVDK\t-15.0871\t_DPLAVDK_\t379.2081611\tnoloss\t3\ty\t1\t361.2081611\t37.7585\t0.9\n",
    "2\t_DPLAVDK_\tDPLAVDK\t-15.0871\t_DPLAVDK_\t379.2081611\tnoloss\t4\tb\t1\t397.2081611\t9.488808\t0.9\n",
    "2\t_DPLAVDK_\tDPLAVDK\t-15.0871\t_DPLAVDK_\t379.2081611\tnoloss\t4\ty\t1\t432.2452749\t100\t0.9\n",
    "2\t_DPLAVDK_\tDPLAVDK\t-15.0871\t_DPLAVDK_\t379.2081611\tnoloss\t5\tb\t1\t496.276575\t5.498003\t0.9\n",
    "2\t_DPLAVDK_\tDPLAVDK\t-15.0871\t_DPLAVDK_\t379.2081611\tnoloss\t5\ty\t1\t545.3293389\t74.56643\t0.9\n",
    "2\t_DPLAVDK_\tDPLAVDK\t-15.0871\t_DPLAVDK_\t379.2081611\tnoloss\t6\ty\t2\t321.6946896\t51.50719\t0.9\n",
    "2\t_AVVVS[Phospho (STY)]PK_\tAVVVSPK\t-22.84974\t_AVVVS[Phospho (STY)]PK_\t390.2067795\tnoloss\t3\ty\t1\t411.1639269\t6.911595\t0.9\n",
    "2\t_AVVVS[Phospho (STY)]PK_\tAVVVSPK\t-22.84974\t_AVVVS[Phospho (STY)]PK_\t390.2067795\tH3PO4\t3\ty\t1\t313.1870287\t17.38582\t0.9\n",
    "2\t_AVVVS[Phospho (STY)]PK_\tAVVVSPK\t-22.84974\t_AVVVS[Phospho (STY)]PK_\t390.2067795\tnoloss\t4\ty\t1\t510.2323409\t10.65426\t0.9\n",
    "2\t_AVVVS[Phospho (STY)]PK_\tAVVVSPK\t-22.84974\t_AVVVS[Phospho (STY)]PK_\t390.2067795\tH3PO4\t4\ty\t1\t412.2554427\t37.41231\t0.9\n",
    "2\t_AVVVS[Phospho (STY)]PK_\tAVVVSPK\t-22.84974\t_AVVVS[Phospho (STY)]PK_\t390.2067795\tnoloss\t5\ty\t1\t609.3007548\t45.03617\t0.9\n",
    "2\t_AVVVS[Phospho (STY)]PK_\tAVVVSPK\t-22.84974\t_AVVVS[Phospho (STY)]PK_\t390.2067795\tH3PO4\t5\ty\t1\t511.3238566\t100\t0.9\n",
    "2\t_MGS[Phospho (STY)]LDSK_\tMGSLDSK\t-27.5635\t_MGS[Phospho (STY)]LDSK_\t409.1617118\tnoloss\t3\ty\t1\t349.1717756\t9.20575\t0.9\n",
    "2\t_MGS[Phospho (STY)]LDSK_\tMGSLDSK\t-27.5635\t_MGS[Phospho (STY)]LDSK_\t409.1617118\tnoloss\t6\ty\t1\t686.2756622\t10.37339\t0.9\n",
    "2\t_MGS[Phospho (STY)]LDSK_\tMGSLDSK\t-27.5635\t_MGS[Phospho (STY)]LDSK_\t409.1617118\tH3PO4\t6\ty\t1\t588.298764\t100\t0.9\n",
    "1\t_SVS[Phospho (STY)]FSLK_\tSVSFSLK\t35.01411\t_SVS[Phospho (STY)]FSLK_\t847.3961117\tnoloss\t3\ty\t1\t347.2288965\t88.27327\t0.9\n",
    "1\t_SVS[Phospho (STY)]FSLK_\tSVSFSLK\t35.01411\t_SVS[Phospho (STY)]FSLK_\t847.3961117\tH3PO4\t3\tb\t1\t256.1291795\t64.97146\t0.9\n",
    "1\t_SVS[Phospho (STY)]FSLK_\tSVSFSLK\t35.01411\t_SVS[Phospho (STY)]FSLK_\t847.3961117\tnoloss\t4\ty\t1\t494.2973105\t100\t0.9\n",
    "1\t_SVS[Phospho (STY)]FSLK_\tSVSFSLK\t35.01411\t_SVS[Phospho (STY)]FSLK_\t847.3961117\tH3PO4\t4\tb\t1\t403.1975934\t35.17805\t0.9\n",
    "1\t_SVS[Phospho (STY)]FSLK_\tSVSFSLK\t35.01411\t_SVS[Phospho (STY)]FSLK_\t847.3961117\tnoloss\t5\ty\t1\t661.2956694\t19.89741\t0.9\n",
    "1\t_SVS[Phospho (STY)]FSLK_\tSVSFSLK\t35.01411\t_SVS[Phospho (STY)]FSLK_\t847.3961117\tH3PO4\t5\tb\t1\t490.2296218\t40.04738\t0.9\n",
    "1\t_SVS[Phospho (STY)]FSLK_\tSVSFSLK\t35.01411\t_SVS[Phospho (STY)]FSLK_\t847.3961117\tH3PO4\t5\ty\t1\t563.3187712\t77.43164\t0.9\n",
    "1\t_SVS[Phospho (STY)]FSLK_\tSVSFSLK\t35.01411\t_SVS[Phospho (STY)]FSLK_\t847.3961117\tnoloss\t6\tb\t1\t701.290584\t24.43497\t0.9\n",
    "1\t_SVS[Phospho (STY)]FSLK_\tSVSFSLK\t35.01411\t_SVS[Phospho (STY)]FSLK_\t847.3961117\tH3PO4\t6\tb\t1\t603.3136858\t63.09999\t0.9\n",
    "1\t_SVS[Phospho (STY)]FSLK_\tSVSFSLK\t35.01411\t_SVS[Phospho (STY)]FSLK_\t847.3961117\t1(+H2+O)1(+H3+O4+P)\t3\tb\t1\t238.1186147\t62.60851\t0.9\n",
    "1\t_SVS[Phospho (STY)]FSLK_\tSVSFSLK\t35.01411\t_SVS[Phospho (STY)]FSLK_\t847.3961117\t1(+H2+O)1(+H3+O4+P)\t5\tb\t1\t472.219057\t22.99903\t0.9\n",
    "1\t_SVS[Phospho (STY)]FSLK_\tSVSFSLK\t35.01411\t_SVS[Phospho (STY)]FSLK_\t847.3961117\t1(+H2+O)1(+H3+O4+P)\t6\tb\t1\t585.303121\t66.30389\t0.9\n",
    "2\t_VS[Phospho (STY)]VS[Phospho (STY)]PGR_\tVSVSPGR\t-23.93085\t_VS[Phospho (STY)]VS[Phospho (STY)]PGR_\t431.1670009\tnoloss\t3\ty\t1\t329.1931797\t100\t0.9\n",
    "2\t_VS[Phospho (STY)]VS[Phospho (STY)]PGR_\tVSVSPGR\t-23.93085\t_VS[Phospho (STY)]VS[Phospho (STY)]PGR_\t431.1670009\tH3PO4\t3\tb\t1\t268.165565\t5.755442\t0.9\n",
    "2\t_VS[Phospho (STY)]VS[Phospho (STY)]PGR_\tVSVSPGR\t-23.93085\t_VS[Phospho (STY)]VS[Phospho (STY)]PGR_\t431.1670009\tnoloss\t4\tb\t2\t267.0740493\t8.743931\t0.9\n",
    "2\t_VS[Phospho (STY)]VS[Phospho (STY)]PGR_\tVSVSPGR\t-23.93085\t_VS[Phospho (STY)]VS[Phospho (STY)]PGR_\t431.1670009\tnoloss\t4\ty\t1\t496.1915387\t27.69686\t0.9\n",
    "2\t_VS[Phospho (STY)]VS[Phospho (STY)]PGR_\tVSVSPGR\t-23.93085\t_VS[Phospho (STY)]VS[Phospho (STY)]PGR_\t431.1670009\tH3PO4\t4\tb\t1\t435.1639239\t6.162673\t0.9\n",
    "2\t_VS[Phospho (STY)]VS[Phospho (STY)]PGR_\tVSVSPGR\t-23.93085\t_VS[Phospho (STY)]VS[Phospho (STY)]PGR_\t431.1670009\t2(+H3+O4+P)\t4\tb\t1\t337.1870258\t10.84257\t0.9\n",
    "2\t_VS[Phospho (STY)]VS[Phospho (STY)]PGR_\tVSVSPGR\t-23.93085\t_VS[Phospho (STY)]VS[Phospho (STY)]PGR_\t431.1670009\tH3PO4\t4\ty\t1\t398.2146405\t26.28527\t0.9\n",
    "2\t_VS[Phospho (STY)]VS[Phospho (STY)]PGR_\tVSVSPGR\t-23.93085\t_VS[Phospho (STY)]VS[Phospho (STY)]PGR_\t431.1670009\tH3PO4\t5\ty\t1\t497.2830544\t28.41294\t0.9\n",
    "2\t_VS[Phospho (STY)]VS[Phospho (STY)]PGR_\tVSVSPGR\t-23.93085\t_VS[Phospho (STY)]VS[Phospho (STY)]PGR_\t431.1670009\tnoloss\t6\ty\t1\t762.2583115\t8.490795\t0.9\n",
    "2\t_VS[Phospho (STY)]VS[Phospho (STY)]PGR_\tVSVSPGR\t-23.93085\t_VS[Phospho (STY)]VS[Phospho (STY)]PGR_\t431.1670009\tH3PO4\t6\ty\t1\t664.2814133\t32.87384\t0.9\n",
    "2\t_VS[Phospho (STY)]VS[Phospho (STY)]PGR_\tVSVSPGR\t-23.93085\t_VS[Phospho (STY)]VS[Phospho (STY)]PGR_\t431.1670009\t2(+H3+O4+P)\t6\ty\t1\t566.3045151\t35.87218\t0.9\n",
    "2\t_YSLS[Phospho (STY)]PSK_\tYSLSPSK\t-6.428198\t_YSLS[Phospho (STY)]PSK_\t431.1913264\tnoloss\t3\ty\t1\t331.1975964\t49.20179\t0.9\n",
    "2\t_YSLS[Phospho (STY)]PSK_\tYSLSPSK\t-6.428198\t_YSLS[Phospho (STY)]PSK_\t431.1913264\tnoloss\t4\ty\t1\t498.1959553\t10.89141\t0.9\n",
    "2\t_YSLS[Phospho (STY)]PSK_\tYSLSPSK\t-6.428198\t_YSLS[Phospho (STY)]PSK_\t431.1913264\tH3PO4\t4\ty\t1\t400.2190571\t27.99594\t0.9\n",
    "2\t_YSLS[Phospho (STY)]PSK_\tYSLSPSK\t-6.428198\t_YSLS[Phospho (STY)]PSK_\t431.1913264\tnoloss\t5\ty\t1\t611.2800193\t14.11057\t0.9\n",
    "2\t_YSLS[Phospho (STY)]PSK_\tYSLSPSK\t-6.428198\t_YSLS[Phospho (STY)]PSK_\t431.1913264\tH3PO4\t5\ty\t1\t513.3031211\t70.5295\t0.9\n",
    "2\t_YSLS[Phospho (STY)]PSK_\tYSLSPSK\t-6.428198\t_YSLS[Phospho (STY)]PSK_\t431.1913264\tnoloss\t6\ty\t1\t698.3120477\t60.23455\t0.9\n",
    "2\t_YSLS[Phospho (STY)]PSK_\tYSLSPSK\t-6.428198\t_YSLS[Phospho (STY)]PSK_\t431.1913264\tH3PO4\t6\ty\t1\t600.3351495\t100\t0.9\n",
    "2\t_YSLS[Phospho (STY)]PSK_\tYSLSPSK\t-6.428198\t_YSLS[Phospho (STY)]PSK_\t431.1913264\t1(+H2+O)1(+H3+O4+P)\t6\ty\t1\t582.3245847\t5.233977\t0.9\n",
    "\"\"\"\n",
    "\n",
    "reader = LibraryReaderBase()\n",
    "reader.import_file(StringIO(tsv_str))\n",
    "flat_lib = SpecLibFlat(custom_fragment_df_columns=['type'])\n",
    "flat_lib.parse_base_library(reader, keep_original_frag_dfs=True)\n",
    "flat_lib.fragment_df"
   ]
  },
  {
   "cell_type": "code",
   "execution_count": null,
   "metadata": {},
   "outputs": [],
   "source": [
    "#| hide\n",
    "flat_lib.precursor_df"
   ]
  },
  {
   "cell_type": "code",
   "execution_count": 6,
   "metadata": {},
   "outputs": [],
   "source": [
    "import os\n",
    "\n",
    "flat_lib.save_hdf('test.hdf')\n",
    "test_lib = SpecLibFlat()\n",
    "test_lib.load_hdf('test.hdf')\n",
    "os.remove('test.hdf')\n",
    "assert len(test_lib.precursor_df.values) == len(flat_lib.precursor_df)\n",
    "assert len(test_lib.protein_df.values) == len(flat_lib.protein_df)\n",
    "assert len(test_lib.fragment_df.values) == len(flat_lib.fragment_df)\n",
    "assert len(test_lib.fragment_mz_df.values) == len(flat_lib.fragment_mz_df)\n",
    "assert len(test_lib.fragment_intensity_df.values) == len(flat_lib.fragment_intensity_df)"
   ]
  },
  {
   "cell_type": "code",
   "execution_count": 7,
   "metadata": {},
   "outputs": [],
   "source": [
    "flat_lib._precursor_df = flat_lib.precursor_df.iloc[[2,4]]\n",
    "flat_lib.remove_unused_fragments()\n",
    "assert (\n",
    "    flat_lib.precursor_df.flat_frag_start_idx.values[1:]\n",
    "    ==flat_lib.precursor_df.flat_frag_stop_idx[:-1]\n",
    ").all()\n",
    "assert flat_lib.precursor_df.flat_frag_stop_idx.max() == len(flat_lib.fragment_df)"
   ]
  },
  {
   "cell_type": "markdown",
   "metadata": {},
   "source": [
    "## FLatLib to SpecLibBAse"
   ]
  },
  {
   "cell_type": "code",
   "execution_count": null,
   "metadata": {},
   "outputs": [],
   "source": [
    "target = LibraryReaderBase()\n",
    "target.import_file(StringIO(tsv_str))\n",
    "target.fragment_intensity_df"
   ]
  },
  {
   "cell_type": "code",
   "execution_count": null,
   "metadata": {},
   "outputs": [],
   "source": [
    "# Flatten original library to use it as a test input with target the original library\n",
    "flat_lib = SpecLibFlat(custom_fragment_df_columns=['type','charge','position','loss_type'])\n",
    "flat_lib.parse_base_library(target, keep_original_frag_dfs=True)\n",
    "flat_lib.fragment_df.head()"
   ]
  },
  {
   "cell_type": "code",
   "execution_count": null,
   "metadata": {},
   "outputs": [],
   "source": [
    "back_to_base = flat_lib.to_SpecLibBase()\n",
    "back_to_base.fragment_intensity_df.head()"
   ]
  },
  {
   "cell_type": "code",
   "execution_count": null,
   "metadata": {},
   "outputs": [],
   "source": [
    "back_to_base.available_dense_fragment_dfs()"
   ]
  },
  {
   "cell_type": "code",
   "execution_count": 12,
   "metadata": {},
   "outputs": [],
   "source": [
    "# Check if the fragment intensity dataframes are equal\n",
    "# since for now the reader uses a predefined charge_types and the \"to_specLibBase\" method infers the charged_types \n",
    "# We will ignore columns that are full zeros in the target object\n",
    "\n",
    "non_zero_target_columns = target.fragment_intensity_df.columns[target.fragment_intensity_df.sum() != 0]\n",
    "\n",
    "pd.testing.assert_frame_equal(target.fragment_intensity_df[non_zero_target_columns].sort_index(axis=1), back_to_base.fragment_intensity_df.sort_index(axis=1), check_dtype=False)"
   ]
  },
  {
   "cell_type": "code",
   "execution_count": 13,
   "metadata": {},
   "outputs": [],
   "source": [
    "# Check the non zero values in back_to_base.fragment_mz_df are the same as in target.fragment_mz_df\n",
    "non_zero_indices = back_to_base.fragment_mz_df > 0\n",
    "pd.testing.assert_frame_equal(target.fragment_mz_df[non_zero_target_columns][non_zero_indices].sort_index(axis=1), back_to_base.fragment_mz_df[non_zero_indices].sort_index(axis=1), check_dtype=False)"
   ]
  },
  {
   "cell_type": "code",
   "execution_count": 14,
   "metadata": {},
   "outputs": [],
   "source": [
    "#Calculate the full fragment_mz for the back_to_base and compare to the original\n",
    "back_to_base.calc_fragment_mz_df()\n",
    "pd.testing.assert_frame_equal(target.fragment_mz_df[non_zero_target_columns].sort_index(axis=1), back_to_base.fragment_mz_df.sort_index(axis=1), check_dtype=False)"
   ]
  },
  {
   "cell_type": "code",
   "execution_count": 15,
   "metadata": {},
   "outputs": [],
   "source": [
    "# enable appending of flat libraries while making sure the flat_frag_start_idx is updated\n",
    "\n",
    "lib1 = SpecLibBase()\n",
    "lib1.precursor_df = pd.DataFrame({\n",
    "    'sequence': ['PEPTI', 'SEQUE'],\n",
    "    'charge': [2, 3],\n",
    "    'mod_sites': ['', ''],\n",
    "    'mods': ['', ''],\n",
    "})\n",
    "lib1.calc_precursor_mz()\n",
    "lib1.calc_fragment_mz_df()\n",
    "lib1._fragment_intensity_df = lib1.fragment_mz_df.copy()\n",
    "lib1._fragment_intensity_df.iloc[:] = 0\n",
    "lib2 = lib1.copy()\n",
    "lib2._fragment_intensity_df.iloc[:] = 1\n",
    "\n",
    "flatlib_1 = SpecLibFlat(min_fragment_intensity=0)\n",
    "flatlib_1.parse_base_library(lib1, keep_original_frag_dfs=True)\n",
    "flatlib_2 = SpecLibFlat(min_fragment_intensity=0)\n",
    "flatlib_2.parse_base_library(lib2, keep_original_frag_dfs=True)\n",
    "\n",
    "flatlib_1.append(flatlib_2)\n",
    "\n",
    "assert flatlib_1.precursor_df.shape[0] == 4\n",
    "assert flatlib_1.fragment_mz_df.shape[0] == 16\n",
    "assert flatlib_1.fragment_df.shape[0] == np.prod(flatlib_1.fragment_mz_df.shape)\n",
    "\n",
    "assert np.all(flatlib_1.precursor_df['frag_start_idx'] == [0, 4, 8, 12])\n",
    "assert np.all(flatlib_1.precursor_df['flat_frag_start_idx'] == [0, 16, 32, 48])\n",
    "\n",
    "assert np.all(flatlib_1.fragment_df['intensity'] == np.repeat([0, 1], 32))\n",
    "assert np.all(flatlib_1.fragment_intensity_df.values.flatten() == np.repeat([0, 1], 32))"
   ]
  }
 ],
 "metadata": {
  "kernelspec": {
   "display_name": "metaptcm",
   "language": "python",
   "name": "python3"
  },
  "language_info": {
   "codemirror_mode": {
    "name": "ipython",
    "version": 3
   },
   "file_extension": ".py",
   "mimetype": "text/x-python",
   "name": "python",
   "nbconvert_exporter": "python",
   "pygments_lexer": "ipython3",
   "version": "3.12.5"
  }
 },
 "nbformat": 4,
 "nbformat_minor": 2
}
