{
 "cells": [
  {
   "cell_type": "code",
   "execution_count": null,
   "metadata": {},
   "outputs": [],
   "source": [
    "#---#| default_exp spectral_library.decoy"
   ]
  },
  {
   "cell_type": "markdown",
   "metadata": {},
   "source": [
    "# Decoy Libraries"
   ]
  },
  {
   "cell_type": "code",
   "execution_count": null,
   "metadata": {},
   "outputs": [],
   "source": [
    "from alphabase.spectral_library.decoy import *"
   ]
  },
  {
   "cell_type": "markdown",
   "metadata": {},
   "source": [
    "### Registered decoy methods"
   ]
  },
  {
   "cell_type": "code",
   "execution_count": null,
   "metadata": {},
   "outputs": [],
   "source": [
    "decoy_lib_provider.decoy_dict"
   ]
  },
  {
   "cell_type": "code",
   "execution_count": null,
   "metadata": {},
   "outputs": [],
   "source": [
    "#| hide\n",
    "import os\n",
    "import numpy as np\n",
    "import pandas as pd"
   ]
  },
  {
   "cell_type": "code",
   "execution_count": null,
   "metadata": {},
   "outputs": [],
   "source": [
    "#| hide\n",
    "repeat = 3\n",
    "peptides = ['AGHCEWQMK']*repeat\n",
    "mods = ['Acetyl@Protein N-term;Carbamidomethyl@C;Oxidation@M']*repeat\n",
    "sites = ['0;4;8']*repeat\n",
    "peptides += ['AGHCEWQMKAADER']*repeat\n",
    "mods += ['']*repeat\n",
    "sites += ['']*repeat\n",
    "\n",
    "precursor_df = pd.DataFrame({\n",
    "    'sequence': peptides,\n",
    "    'mods': mods,\n",
    "    'mod_sites': sites\n",
    "})\n",
    "precursor_df['nAA'] = precursor_df['sequence'].str.len()\n",
    "precursor_df['charge'] = 2\n",
    "precursor_df"
   ]
  },
  {
   "cell_type": "code",
   "execution_count": null,
   "metadata": {},
   "outputs": [],
   "source": [
    "#| hide\n",
    "target_lib = SpecLibBase(['b_z1','b_z2','y_z1','y_z2'])\n",
    "target_lib._precursor_df = precursor_df\n",
    "target_lib.calc_precursor_mz()\n",
    "target_lib._fragment_mz_df = pd.DataFrame()\n",
    "target_lib._fragment_intensity_df = pd.DataFrame()\n",
    "if not os.path.isdir('sandbox'):\n",
    "    os.makedirs('sandbox')\n",
    "target_lib.save_hdf('sandbox/decoy_lib.hdf')\n",
    "target_lib.precursor_df"
   ]
  },
  {
   "cell_type": "code",
   "execution_count": null,
   "metadata": {},
   "outputs": [],
   "source": [
    "decoy_lib = decoy_lib_provider.get_decoy_lib('diann', target_lib.copy())\n",
    "decoy_lib.translate_to_decoy()"
   ]
  },
  {
   "cell_type": "code",
   "execution_count": null,
   "metadata": {},
   "outputs": [],
   "source": [
    "decoy_lib.precursor_df"
   ]
  },
  {
   "cell_type": "code",
   "execution_count": null,
   "metadata": {},
   "outputs": [],
   "source": [
    "#| hide\n",
    "# call once with multiprocessing and once without\n",
    "for mp_batch_size in [2, 10000]:\n",
    "\n",
    "    decoy_lib = decoy_lib_provider.get_decoy_lib('pseudo_reverse', target_lib.copy())\n",
    "    decoy_lib.translate_to_decoy(mp_batch_size=mp_batch_size)\n",
    "    decoy_lib.calc_precursor_mz()\n",
    "    assert np.allclose(decoy_lib.precursor_df.precursor_mz, target_lib.precursor_df.precursor_mz)"
   ]
  },
  {
   "cell_type": "code",
   "execution_count": null,
   "metadata": {},
   "outputs": [],
   "source": [
    "decoy_lib.precursor_df"
   ]
  },
  {
   "cell_type": "code",
   "execution_count": null,
   "metadata": {},
   "outputs": [],
   "source": [
    "#| hide\n",
    "# call once with multiprocessing and once without\n",
    "for mp_batch_size in [2, 10000]:\n",
    "    decoy_lib = decoy_lib_provider.get_decoy_lib('diann', target_lib)\n",
    "    decoy_lib.translate_to_decoy(mp_batch_size=mp_batch_size)\n",
    "    if not os.path.isdir('sandbox'):\n",
    "        os.makedirs('sandbox')\n",
    "    decoy_lib.save_hdf('sandbox/decoy_lib.hdf')\n",
    "    assert len(decoy_lib.precursor_df) > 0"
   ]
  },
  {
   "cell_type": "code",
   "execution_count": null,
   "metadata": {},
   "outputs": [],
   "source": [
    "#| hide\n",
    "speclib = SpecLibBase()\n",
    "speclib.load_hdf('sandbox/decoy_lib.hdf')\n",
    "assert len(speclib.precursor_df.values) > 0\n",
    "assert len(speclib.fragment_mz_df.values) == 0"
   ]
  },
  {
   "cell_type": "code",
   "execution_count": null,
   "metadata": {},
   "outputs": [],
   "source": [
    "#| hide\n",
    "os.remove('sandbox/decoy_lib.hdf')"
   ]
  },
  {
   "cell_type": "code",
   "execution_count": null,
   "metadata": {},
   "outputs": [],
   "source": [
    "#| hide\n",
    "assert decoy_lib_provider.get_decoy_lib(None, target_lib) is None"
   ]
  }
 ],
 "metadata": {
  "kernelspec": {
   "display_name": "python3",
   "language": "python",
   "name": "python3"
  }
 },
 "nbformat": 4,
 "nbformat_minor": 2
}
