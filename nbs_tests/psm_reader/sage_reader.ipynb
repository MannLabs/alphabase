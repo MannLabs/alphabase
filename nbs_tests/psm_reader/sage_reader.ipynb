{
 "cells": [
  {
   "cell_type": "code",
   "execution_count": null,
   "metadata": {},
   "outputs": [],
   "source": [
    "#---#| default_exp psm_reader.sage_reader"
   ]
  },
  {
   "cell_type": "code",
   "execution_count": null,
   "metadata": {},
   "outputs": [],
   "source": [
    "#| hide\n",
    "%reload_ext autoreload\n",
    "%autoreload 2\n",
    "import pandas as pd\n",
    "import numpy as np"
   ]
  },
  {
   "cell_type": "code",
   "execution_count": null,
   "metadata": {},
   "outputs": [],
   "source": [
    "from alphabase.psm_reader import psm_reader_provider\n",
    "from alphabase.psm_reader.sage_reader import (\n",
    "    SageModificationTranslation,\n",
    "    _sage_spec_idx_from_scan_nr,\n",
    "    _match_modified_sequence,\n",
    "    _get_annotated_mod_df,\n",
    "    _lookup_modification,\n",
    "    register_readers,\n",
    ")\n",
    "register_readers()"
   ]
  },
  {
   "cell_type": "code",
   "execution_count": null,
   "metadata": {},
   "outputs": [],
   "source": [
    "#| hide\n",
    "assert _sage_spec_idx_from_scan_nr('controllerType=0 controllerNumber=1 scan=7846') == 7845"
   ]
  },
  {
   "cell_type": "code",
   "execution_count": null,
   "metadata": {},
   "outputs": [],
   "source": [
    "test_df = pd.DataFrame({\n",
    "    'modified_sequence': [\n",
    "        '[-100.0]-PEPTIDE',\n",
    "        'PEPTIDE-[-100.0]',\n",
    "        'PEPTIDE[-100.0]',\n",
    "        'P[-100.0]EPTIDE',\n",
    "        'PEPT[-100.0]IDE',\n",
    "        'PE[-100.0]PTIDE[-100.0]P',\n",
    "    ],\n",
    "    'expected_signature': [\n",
    "        [('[-100.0]', '', True, False, -100)],\n",
    "        [('[-100.0]', '', False, True, -100)],\n",
    "        [('[-100.0]', 'E', False, False, -100)],\n",
    "        [('[-100.0]', 'P', False, False, -100)],\n",
    "        [('[-100.0]', 'T', False, False, -100)],\n",
    "        [('[-100.0]', 'E', False, False, -100), ('[-100.0]', 'E', False, False, -100)],\n",
    "    ]\n",
    "})\n",
    "\n",
    "test_df['observed_signature'] = test_df['modified_sequence'].apply(_match_modified_sequence)\n",
    "\n",
    "assert test_df['observed_signature'].equals(test_df['expected_signature'])"
   ]
  },
  {
   "cell_type": "code",
   "execution_count": null,
   "metadata": {},
   "outputs": [],
   "source": [
    "mod_annotated_df = _get_annotated_mod_df()\n",
    "assert all(mod_annotated_df.columns == ['mass','previous_aa','is_nterm','is_cterm','unimod_id','localizer_rank'])"
   ]
  },
  {
   "cell_type": "code",
   "execution_count": null,
   "metadata": {},
   "outputs": [],
   "source": [
    "assert _lookup_modification(15.99490, 'M', mod_annotated_df) == 'Oxidation@M'"
   ]
  },
  {
   "cell_type": "code",
   "execution_count": null,
   "metadata": {},
   "outputs": [],
   "source": [
    "df = pd.DataFrame({\n",
    "    'modified_sequence': [\n",
    "        '[+114.04293]-MAGTK[+114.04293]',\n",
    "        '[+114.04293]-MAGTK[+114.04293]',\n",
    "        '[+114.04293]-M[+15.9949]K[+42.010567]LLAR',\n",
    "        '[+1337.0]-PEPTIDEK'\n",
    "    ]\n",
    "})\n",
    "\n",
    "custom_translation_df = pd.DataFrame({\n",
    "    'modification': ['[+42.010567]'],\n",
    "    'matched_mod_name': ['ThisModDoesNotExist@K']\n",
    "})\n",
    "\n",
    "sage_translation = SageModificationTranslation(\n",
    "    custom_translation_df=custom_translation_df\n",
    "    )\n",
    "result_df = sage_translation(df)\n",
    "\n",
    "assert result_df['mod_sites'].equals(pd.Series([\n",
    "    '0;5',\n",
    "    '0;5',\n",
    "    '0;1;2'\n",
    "]))\n",
    "\n",
    "assert result_df['mods'].equals(pd.Series([\n",
    "    'GG@Protein_N-term;GG@K',\n",
    "    'GG@Protein_N-term;GG@K',\n",
    "    'GG@Protein_N-term;Oxidation@M;ThisModDoesNotExist@K'\n",
    "]))"
   ]
  },
  {
   "cell_type": "code",
   "execution_count": null,
   "metadata": {},
   "outputs": [],
   "source": [
    "#| hide\n",
    "from io import StringIO"
   ]
  },
  {
   "cell_type": "code",
   "execution_count": null,
   "metadata": {},
   "outputs": [],
   "source": [
    "#| hide\n",
    "txt = StringIO(\"\"\"filename\tscannr\tpeptide\tstripped_peptide\tproteins\tis_decoy\tcharge\trt\tion_mobility\tspectrum_q\tpeptide_q\tprotein_q\tsage_discriminant_score\n",
    "20160107_QE5_UPLC1_AKP_Hep2_R1_Pro46F_10.mzML\tcontrollerType=0 controllerNumber=1 scan=7846\tVDNDENEHQLSLR\tVDNDENEHQLSLR\tsp|P06748|NPM_HUMAN\tFalse\t3\t9.537714\t0.0\t0.00010579771\t0.00018581642\t0.00033346\t1.0614725\n",
    "20160107_QE5_UPLC1_AKP_Hep2_R1_Pro46F_13.mzML\tcontrollerType=0 controllerNumber=1 scan=10841\tVDDYSQEWAAQTEK\tVDDYSQEWAAQTEK\tsp|O95602|RPA1_HUMAN\tFalse\t2\t12.398749\t0.0\t0.00010579771\t0.00018581642\t0.00033346\t1.0588802\n",
    "20160107_QE5_UPLC1_AKP_Hep2_R1_Pro46F_11.mzML\tcontrollerType=0 controllerNumber=1 scan=1864\tITTGSSSAGTQSSTSNR\tITTGSSSAGTQSSTSNR\tsp|O14974|MYPT1_HUMAN\tFalse\t2\t3.5604227\t0.0\t0.00010579771\t0.00018581642\t0.00033346\t1.0558788\n",
    "20160107_QE5_UPLC1_AKP_Hep2_R1_Pro46F_13.mzML\tcontrollerType=0 controllerNumber=1 scan=7932\tDC[+57.021465]EDPEYKPLQGPPK\tDCEDPEYKPLQGPPK\tsp|Q9HCK8|CHD8_HUMAN\tFalse\t3\t9.552011\t0.0\t0.00010579771\t0.00018581642\t0.00033346\t1.0542139\n",
    "20160107_QE5_UPLC1_AKP_Hep2_R1_Pro46F_10.mzML\tcontrollerType=0 controllerNumber=1 scan=14771\tELGPLPDDDDMASPK\tELGPLPDDDDMASPK\tsp|Q86U86|PB1_HUMAN\tFalse\t2\t16.987766\t0.0\t0.00010579771\t0.00018581642\t0.00033346\t1.0516068\n",
    "20160107_QE5_UPLC1_AKP_Hep2_R1_Pro46F_12.mzML\tcontrollerType=0 controllerNumber=1 scan=4250\tYSGSEGSTQTLTK\tYSGSEGSTQTLTK\tsp|P25815|S100P_HUMAN\tFalse\t2\t5.6583586\t0.0\t0.00010579771\t0.00018581642\t0.00033346\t1.05135\n",
    "20160107_QE5_UPLC1_AKP_Hep2_R1_Pro46F_10.mzML\tcontrollerType=0 controllerNumber=1 scan=9584\tVDNDENEHQLSLR\tVDNDENEHQLSLR\tsp|P06748|NPM_HUMAN\tFalse\t3\t11.282358\t0.0\t0.00010579771\t0.00018581642\t0.00033346\t1.0509663\n",
    "20160107_QE5_UPLC1_AKP_Hep2_R1_Pro46F_13.mzML\tcontrollerType=0 controllerNumber=1 scan=8375\tVM[+15.9949]QENSSSFSDLSER\tVMQENSSSFSDLSER\tsp|Q86TC9|MYPN_HUMAN\tFalse\t2\t9.9729395\t0.0\t0.00010579771\t0.00018581642\t0.00033346\t1.0443583\n",
    "20160107_QE5_UPLC1_AKP_Hep2_R1_Pro46F_13.mzML\tcontrollerType=0 controllerNumber=1 scan=14001\tEELDVVEESHYIQQR\tEELDVVEESHYIQQR\tsp|Q2NKX8|ERC6L_HUMAN\tFalse\t3\t15.6105\t0.0\t0.00010579771\t0.18581642\t0.00033346\t1.0401766\n",
    "20160107_QE5_UPLC1_AKP_Hep2_R1_Pro46F_10.mzML\tcontrollerType=0 controllerNumber=1 scan=7964\tDGSASEVPSELSERPK\tDGSASEVPSELSERPK\tsp|A0A096LP01|SIM26_HUMAN\tFalse\t3\t9.63896\t0.0\t0.00010579771\t0.18581642\t0.00033346\t1.0398533\"\"\")\n",
    "\n",
    "psm_df = psm_reader_provider.get_reader('sage_tsv').import_file(txt)\n",
    "psm_df"
   ]
  },
  {
   "cell_type": "code",
   "execution_count": null,
   "metadata": {},
   "outputs": [],
   "source": [
    "#| hide\n",
    "assert np.all(psm_df['fdr'] <= 0.01)\n",
    "assert (psm_df['mods'] != \"\").sum() == 2\n",
    "assert (psm_df['mod_sites'] != \"\").sum() == 2\n",
    "for seq, mods, mod_sites in psm_df[[\"sequence\",\"mods\",\"mod_sites\"]].values:\n",
    "    if mods == \"\":\n",
    "        assert mod_sites == \"\"\n",
    "    else:\n",
    "        mods = mods.split(\";\")\n",
    "        mod_sites = mod_sites.split(\";\")\n",
    "        for mod, site in zip(mods, mod_sites):\n",
    "            if site == \"0\":\n",
    "                continue\n",
    "            assert seq[int(site)-1] == mod[-1]"
   ]
  }
 ],
 "metadata": {
  "kernelspec": {
   "display_name": "alpha",
   "language": "python",
   "name": "python3"
  },
  "language_info": {
   "codemirror_mode": {
    "name": "ipython",
    "version": 3
   },
   "file_extension": ".py",
   "mimetype": "text/x-python",
   "name": "python",
   "nbconvert_exporter": "python",
   "pygments_lexer": "ipython3",
   "version": "3.11.7"
  }
 },
 "nbformat": 4,
 "nbformat_minor": 2
}
