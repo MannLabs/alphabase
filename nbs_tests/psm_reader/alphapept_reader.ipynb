{
 "cells": [
  {
   "cell_type": "code",
   "execution_count": null,
   "metadata": {},
   "outputs": [],
   "source": [
    "#---#| default_exp psm_reader.alphapept_reader"
   ]
  },
  {
   "cell_type": "markdown",
   "metadata": {},
   "source": [
    "# AlphaPept PSM Reader"
   ]
  },
  {
   "cell_type": "markdown",
   "metadata": {},
   "source": [
    "### Column and modification mapping from alphabase to MaxQuant"
   ]
  },
  {
   "metadata": {},
   "cell_type": "code",
   "outputs": [],
   "execution_count": null,
   "source": [
    "import os\n",
    "from alphabase.psm_reader.alphapept_reader import register_readers\n",
    "from alphabase.psm_reader import psm_reader_yaml, psm_reader_provider\n",
    "\n",
    "register_readers()"
   ]
  },
  {
   "metadata": {},
   "cell_type": "code",
   "outputs": [],
   "execution_count": null,
   "source": "psm_reader_yaml['alphapept']['column_mapping']"
  },
  {
   "metadata": {},
   "cell_type": "code",
   "outputs": [],
   "execution_count": null,
   "source": "psm_reader_yaml['modification_mappings']['alphapept']"
  },
  {
   "metadata": {},
   "cell_type": "markdown",
   "source": "The modified sequence column is `precursor` column"
  },
  {
   "metadata": {},
   "cell_type": "code",
   "outputs": [],
   "execution_count": null,
   "source": [
    "#| hide\n",
    "ap_reader = psm_reader_provider.get_reader('alphapept')\n",
    "assert 'Oxidation@M' in ap_reader.modification_mapping\n",
    "assert 'oxM' in ap_reader.modification_mapping['Oxidation@M']\n",
    "assert 'oxM' in ap_reader._modification_mapper.rev_mod_mapping\n",
    "assert 'Oxidation@M' in ap_reader._modification_mapper.rev_mod_mapping.values()"
   ]
  },
  {
   "cell_type": "code",
   "execution_count": null,
   "metadata": {},
   "outputs": [
    {
     "data": {
      "text/html": [
       "<div>\n",
       "<style scoped>\n",
       "    .dataframe tbody tr th:only-of-type {\n",
       "        vertical-align: middle;\n",
       "    }\n",
       "\n",
       "    .dataframe tbody tr th {\n",
       "        vertical-align: top;\n",
       "    }\n",
       "\n",
       "    .dataframe thead th {\n",
       "        text-align: right;\n",
       "    }\n",
       "</style>\n",
       "<table border=\"1\" class=\"dataframe\">\n",
       "  <thead>\n",
       "    <tr style=\"text-align: right;\">\n",
       "      <th></th>\n",
       "    </tr>\n",
       "  </thead>\n",
       "  <tbody>\n",
       "  </tbody>\n",
       "</table>\n",
       "</div>"
      ],
      "text/plain": [
       "Empty DataFrame\n",
       "Columns: []\n",
       "Index: []"
      ]
     },
     "execution_count": null,
     "metadata": {},
     "output_type": "execute_result"
    }
   ],
   "source": [
    "#| hide\n",
    "ap_reader = psm_reader_provider.get_reader('alphapept')\n",
    "test_path = '~/Workspace/Data/Thermo_iRT/iRT.ms_data.hdf'\n",
    "if os.path.isfile(test_path):\n",
    "    hdf = os.path.expanduser(test_path)\n",
    "    if os.path.exists(hdf):\n",
    "        ap_reader.import_file(hdf)\n",
    "        assert len(ap_reader.psm_df) == 14\n",
    "        assert (ap_reader.psm_df.raw_name == 'iRT').all()\n"
   ]
  },
  {
   "cell_type": "code",
   "execution_count": null,
   "metadata": {},
   "outputs": [],
   "source": []
  }
 ],
 "metadata": {
  "kernelspec": {
   "display_name": "python3",
   "language": "python",
   "name": "python3"
  }
 },
 "nbformat": 4,
 "nbformat_minor": 2
}
