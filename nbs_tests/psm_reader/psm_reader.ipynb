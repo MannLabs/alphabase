{
 "cells": [
  {
   "cell_type": "code",
   "execution_count": null,
   "metadata": {},
   "outputs": [],
   "source": [
    "#---#| default_exp psm_reader.psm_reader"
   ]
  },
  {
   "cell_type": "code",
   "execution_count": null,
   "metadata": {},
   "outputs": [],
   "source": [
    "#| hide\n",
    "%reload_ext autoreload\n",
    "%autoreload 2"
   ]
  },
  {
   "cell_type": "markdown",
   "metadata": {},
   "source": [
    "# Base Class for PSM Readers"
   ]
  },
  {
   "cell_type": "code",
   "execution_count": null,
   "metadata": {},
   "outputs": [],
   "source": "from alphabase.psm_reader.psm_reader import translate_other_modification, PSMReaderBase, psm_reader_yaml"
  },
  {
   "cell_type": "code",
   "execution_count": null,
   "metadata": {},
   "outputs": [],
   "source": [
    "#| hide\n",
    "assert 'a', [] == translate_other_modification('A', {'A': 'a', 'B': 'b'})\n",
    "assert 'b', [] == translate_other_modification('B', {'A': 'a', 'B': 'b'})\n",
    "assert 'a;a', [] == translate_other_modification('A;A', {'A': 'a', 'B': 'b'})\n",
    "assert 'a;b', [] == translate_other_modification('A;B', {'A': 'a', 'B': 'b'})\n",
    "assert 'a;b', ['X'] == translate_other_modification('A;B;X', {'A': 'a', 'B': 'b'})"
   ]
  },
  {
   "cell_type": "markdown",
   "metadata": {},
   "source": [
    "## PSMReaderBase \n",
    "\n",
    "`PSMReaderBase` is the base abstract class for all readers. It defines the basic procedures for importing other search engine results into AlphaBase format.\n",
    "\n",
    "The main entry method is `import_file(filename)`, and it will generate `self._psm_df` (or property `self.psm_df`) after `import_file`.\n",
    "\n",
    "In `import_file` method, we designed five steps to load result files in to AlphaBase format:\n",
    "\n",
    "1. `origin_df = self._load_file(filename)`. We load result files into a dataframe without doing any file conversion. As different search engines have different file format, some of them are not in the tabular format. **All subclass of `PSMReaderBase` need to re-implement this method**.\n",
    "\n",
    "2. `self._translate_columns(origin_df)`. We translate columns in `origin_df` into AlphaBase columns by `self.column_mapping`. `self.column_mapping` provides a flexible way for developers to extract their required columns. \n",
    "\n",
    "3. `self._load_modifications(origin_df)`. As different search engines have different representation of modifications. We use this method to extract the modifications into `self._psm_df['mods']` and `self._psm_df['mod_sites']`. Note that the modification names are still in other search engines' format. **All subclass of `PSMReaderBase` need to re-implement this method**.\n",
    "\n",
    "4. `self._translate_modifications`. Convert modification names into AlphaBase names (`unimod_name@AA`). For most of the search engines, we need a dict (`self.modification_mapping`) to map search engine modification format into AlphaBase (`unimod_name@AA`, `unimod_name` is <umod:mod title=...> in the unimod xml file). **All subclass of `PSMReaderBase` need to re-implement this method**.\n",
    "\n",
    "5. `self._post_process(filename, origin_df)`. Any required post-processing steps. For example, we remove unknown modifications here.\n",
    "\n",
    "### Other results must be converted into the alphabase dataframe with required columns:\n",
    "1. `sequence` (str): AA sequence, for example, 'ATMYPEDR'.\n",
    "2. `mods` (str): modification names, separated by ';'. For example, 'Oxidation@M', 'Acetyl@Protein_N-term;Oxidation@M'.\n",
    "3. `mod_sites` (str): modification sites, seperated by ';'. For example, '3', '0;3'. The N-term site is 0, and the C-term site is -1, and all other modification sites start from 1.\n",
    "4. `nAA` (int): number of AA in the sequence, could be set by `df['nAA']=df.sequence.str.len`.\n",
    "5. `charge` (int): precursor charge states.\n",
    "6. `rt` (float): retention time (RT) of peptides, in minutes by default.\n",
    "7. `rt_norm` (float): RT normalized by the maximum value, could be set by `df['rt_norm'] = df.rt/df.rt.max`.\n",
    "### and optional columns:\n",
    "8. `ccs` (float): collisional cross section (CCS) value, requred for IM data.\n",
    "9. `mobility` (float): precursor ion mobility value, requred for IM data.\n",
    "11. `precursor_mz` (float): precursor m/z value.\n",
    "12. `proteins` (str): protein names, separated by ';'.\n",
    "13. `genes` (str): gene names, separated by ';'.\n",
    "14. `protein_ids` (str): protein ids or uniprot ids, separated by ';'.\n",
    "15. `score` (float): PSM score. The larger the better PSMs, meaning that `E-value` or `P-value` scores must be `-log`.\n",
    "16. `fdr` (float): FDR or q-value.\n",
    "17. `raw_name` (str): Raw file name.\n",
    "18. `spec_idx` (int): spectrum index starting from 0 in RAW data. For thermo RAW, it is also Scan number - 1. We can use it to locate the MS2 spectrum for identification.\n",
    "19. `query_id` (int or str): the unique id for not only inlucdes unique spectrum (`spec_idx`), but also the precursor or MS1 isotope index. It could be `query_idx` in alphapept.\n",
    "20. `decoy`: 0 if the peptide is target match, otherwise 1."
   ]
  },
  {
   "cell_type": "markdown",
   "metadata": {},
   "source": [
    "`modification_mapping` example (MaxQuant, unimod will be automatically added):\n",
    "\n",
    "```python\n",
    "{\n",
    "  'Acetyl@Protein_N-term': [\n",
    "    '_(Acetyl (Protein_N-term))',\n",
    "    '_(ac)',\n",
    "  ],\n",
    "  'Carbamidomethyl@C': [\n",
    "    'C(Carbamidomethyl (C))',\n",
    "  ],\n",
    "  'Oxidation@M': [\n",
    "    'M(Oxidation (M))',\n",
    "    'M(ox)',\n",
    "  ],\n",
    "  'Phospho@S': [\n",
    "    'S(Phospho (S))',\n",
    "    'S(Phospho (ST))',\n",
    "    'S(Phospho (STY))',\n",
    "    'S(ph)',\n",
    "    'pS',\n",
    "  ],\n",
    "  'Phospho@T': [\n",
    "    'T(Phospho (T))',\n",
    "    'T(Phospho (ST))',\n",
    "    'T(Phospho (STY))',\n",
    "    'T(ph)',\n",
    "    'pT',\n",
    "  ],\n",
    "  'Phospho@Y': [\n",
    "    'Y(Phospho (Y))',\n",
    "    'Y(Phospho (STY))',\n",
    "    'Y(ph)',\n",
    "    'pY',\n",
    "  ],\n",
    "  'Deamidated@N': ['N(Deamidation (NQ))','N(de)']\n",
    "  'Deamidated@Q': ['Q(Deamidation (NQ))','Q(de)']\n",
    "  'GlyGly@K': ['K(GlyGly (K))', 'K(gl)']\n",
    "}\n",
    "```"
   ]
  },
  {
   "cell_type": "code",
   "execution_count": null,
   "metadata": {},
   "outputs": [],
   "source": [
    "#| hide\n",
    "class TestReader(PSMReaderBase):\n",
    "    def _init_column_mapping(self): pass\n",
    "    def _load_file(self): pass\n",
    "    def _load_modifications(self): pass\n",
    "\n",
    "reader = TestReader(\n",
    "    modification_mapping={'A':'a','B':'b'}\n",
    ")\n",
    "for mod, other_mods in reader.modification_mapping.items():\n",
    "    for other in other_mods:\n",
    "        assert other in reader.rev_mod_mapping\n",
    "        assert mod == reader.rev_mod_mapping[other]"
   ]
  },
  {
   "cell_type": "markdown",
   "metadata": {},
   "source": [
    "# PSMReaderProvider\n",
    "\n",
    "To make it easier to create different readers, we design a `Provider` or `Factory` called `PSMReaderProvider` to manage all reader classes. `PSMReaderProvider` is instantiated as a global object `psm_reader_provider`. \n",
    "\n",
    "After a subclass of `PSMReaderBase` is defined, for example `AlphaPeptReader`, we can then register it in to `psm_reader_provider` by using `psm_reader_provider.register_reader('alphapept', AlphaPeptReader)`. Once we are going to use it, we just need to create a `AlphaPeptReader` object with `psm_reader_provider.get_reader('alphapept')`."
   ]
  },
  {
   "cell_type": "markdown",
   "metadata": {},
   "source": [
    "As we have loaded all readers in `psm_reader_provider` within alphabase.psm_reader.\\__init__.py, we can easily access all registered readers by `psm_reader_provider`."
   ]
  },
  {
   "cell_type": "code",
   "execution_count": null,
   "metadata": {},
   "outputs": [],
   "source": [
    "#| hide\n",
    "from alphabase.psm_reader import psm_reader_provider\n",
    "from alphabase.psm_reader import (\n",
    "    alphapept_reader, maxquant_reader, \n",
    "    pfind_reader, dia_psm_reader\n",
    ")"
   ]
  },
  {
   "cell_type": "code",
   "execution_count": null,
   "metadata": {},
   "outputs": [],
   "source": [
    "#| hide\n",
    "assert isinstance(psm_reader_provider.get_reader_by_yaml(psm_reader_yaml['alphapept']), alphapept_reader.AlphaPeptReader)\n",
    "assert isinstance(psm_reader_provider.get_reader_by_yaml(psm_reader_yaml['maxquant']), maxquant_reader.MaxQuantReader)\n",
    "assert isinstance(psm_reader_provider.get_reader_by_yaml(psm_reader_yaml['diann']), dia_psm_reader.DiannReader)\n",
    "assert isinstance(psm_reader_provider.get_reader_by_yaml(psm_reader_yaml['spectronaut']), dia_psm_reader.SpectronautReader)\n",
    "# assert isinstance(psm_reader_provider.get_reader_by_yaml(psm_reader_yaml['pfind']), pfind_reader.pFindReader)\n",
    "reader = psm_reader_provider.get_reader_by_yaml(psm_reader_yaml['diann'])\n",
    "assert set(reader.modification_mapping['Phospho@S'])==set([\n",
    "    'pS',\n",
    "    'S(ph)',\n",
    "    'S(UniMod:21)',\n",
    "    'S(Phospho (S))',\n",
    "    'S(Phospho (ST))',\n",
    "    'S(Phospho (STY))',\n",
    "    'S(Phospho (STYDH))',\n",
    "    'S[ph]',\n",
    "    'S[UniMod:21]',\n",
    "    'S[Phospho (S)]',\n",
    "    'S[Phospho (ST)]',\n",
    "    'S[Phospho (STY)]',\n",
    "    'S[Phospho (STYDH)]'\n",
    "])\n",
    "try:\n",
    "    psm_reader_provider.get_reader_by_yaml(psm_reader_yaml['unknown'])\n",
    "except Exception as e:\n",
    "    assert type(e) is KeyError"
   ]
  },
  {
   "cell_type": "code",
   "execution_count": null,
   "metadata": {},
   "outputs": [],
   "source": []
  }
 ],
 "metadata": {
  "kernelspec": {
   "display_name": "python3",
   "language": "python",
   "name": "python3"
  }
 },
 "nbformat": 4,
 "nbformat_minor": 2
}
