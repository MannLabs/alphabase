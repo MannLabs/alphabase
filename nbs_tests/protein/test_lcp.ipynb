{
 "cells": [
  {
   "cell_type": "code",
   "execution_count": null,
   "metadata": {},
   "outputs": [],
   "source": [
    "# from alphabase.protein.lcp_digest import *"
   ]
  },
  {
   "cell_type": "code",
   "execution_count": null,
   "metadata": {},
   "outputs": [],
   "source": [
    "# cat_prots = \"$ABCABCD$ABCDE$ABCE$BCDEF$\"\n",
    "# pos_starts, pos_ends = get_substring_indices(cat_prots, 2, 100)\n",
    "# substr_set = set()\n",
    "# for start,end in zip(pos_starts, pos_ends):\n",
    "#     substr_set.add(cat_prots[start:end])\n",
    "# assert len(substr_set)==len(pos_starts) #not redundant\n",
    "# for i in range(len(cat_prots)):\n",
    "#     for j in range(i+2,len(cat_prots)):\n",
    "#         if '$' in cat_prots[i:j]: break\n",
    "#         assert cat_prots[i:j] in substr_set, f\"{cat_prots[i:j]} not found\" #not missing"
   ]
  },
  {
   "cell_type": "code",
   "execution_count": null,
   "metadata": {},
   "outputs": [],
   "source": []
  }
 ],
 "metadata": {
  "kernelspec": {
   "display_name": "python3",
   "language": "python",
   "name": "python3"
  }
 },
 "nbformat": 4,
 "nbformat_minor": 2
}
