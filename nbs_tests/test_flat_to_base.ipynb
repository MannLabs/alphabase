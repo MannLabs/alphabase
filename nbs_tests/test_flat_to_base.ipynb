{
 "cells": [
  {
   "cell_type": "markdown",
   "metadata": {},
   "source": [
    "## Testing the conversion of specLibFlat to specLibBase"
   ]
  },
  {
   "cell_type": "code",
   "execution_count": 31,
   "metadata": {},
   "outputs": [
    {
     "name": "stdout",
     "output_type": "stream",
     "text": [
      "The autoreload extension is already loaded. To reload it, use:\n",
      "  %reload_ext autoreload\n"
     ]
    }
   ],
   "source": [
    "from alphabase.spectral_library.flat import *\n",
    "from io import StringIO\n",
    "from alphabase.spectral_library.reader import LibraryReaderBase\n",
    "\n",
    "# Autoreload\n",
    "%load_ext autoreload\n",
    "%autoreload 2\n"
   ]
  },
  {
   "cell_type": "code",
   "execution_count": 32,
   "metadata": {},
   "outputs": [
    {
     "name": "stderr",
     "output_type": "stream",
     "text": [
      "100%|██████████| 6/6 [00:00<00:00, 1991.60it/s]\n"
     ]
    },
    {
     "data": {
      "text/html": [
       "<div>\n",
       "<style scoped>\n",
       "    .dataframe tbody tr th:only-of-type {\n",
       "        vertical-align: middle;\n",
       "    }\n",
       "\n",
       "    .dataframe tbody tr th {\n",
       "        vertical-align: top;\n",
       "    }\n",
       "\n",
       "    .dataframe thead th {\n",
       "        text-align: right;\n",
       "    }\n",
       "</style>\n",
       "<table border=\"1\" class=\"dataframe\">\n",
       "  <thead>\n",
       "    <tr style=\"text-align: right;\">\n",
       "      <th></th>\n",
       "      <th>mods</th>\n",
       "      <th>charge</th>\n",
       "      <th>rt</th>\n",
       "      <th>mobility</th>\n",
       "      <th>sequence</th>\n",
       "      <th>mod_sites</th>\n",
       "      <th>precursor_mz</th>\n",
       "      <th>nAA</th>\n",
       "      <th>frag_start_idx</th>\n",
       "      <th>frag_stop_idx</th>\n",
       "      <th>rt_norm</th>\n",
       "      <th>ccs</th>\n",
       "    </tr>\n",
       "  </thead>\n",
       "  <tbody>\n",
       "    <tr>\n",
       "      <th>0</th>\n",
       "      <td></td>\n",
       "      <td>2</td>\n",
       "      <td>-15.087100</td>\n",
       "      <td>0.9</td>\n",
       "      <td>DPLAVDK</td>\n",
       "      <td></td>\n",
       "      <td>379.208161</td>\n",
       "      <td>7</td>\n",
       "      <td>0</td>\n",
       "      <td>6</td>\n",
       "      <td>0.199375</td>\n",
       "      <td>367.043100</td>\n",
       "    </tr>\n",
       "    <tr>\n",
       "      <th>1</th>\n",
       "      <td>Phospho@S</td>\n",
       "      <td>1</td>\n",
       "      <td>35.014110</td>\n",
       "      <td>0.9</td>\n",
       "      <td>SVSFSLK</td>\n",
       "      <td>3</td>\n",
       "      <td>847.396112</td>\n",
       "      <td>7</td>\n",
       "      <td>6</td>\n",
       "      <td>12</td>\n",
       "      <td>1.000000</td>\n",
       "      <td>183.178171</td>\n",
       "    </tr>\n",
       "    <tr>\n",
       "      <th>2</th>\n",
       "      <td>Phospho@S</td>\n",
       "      <td>2</td>\n",
       "      <td>-27.563500</td>\n",
       "      <td>0.9</td>\n",
       "      <td>MGSLDSK</td>\n",
       "      <td>3</td>\n",
       "      <td>409.161712</td>\n",
       "      <td>7</td>\n",
       "      <td>12</td>\n",
       "      <td>18</td>\n",
       "      <td>0.000000</td>\n",
       "      <td>366.564438</td>\n",
       "    </tr>\n",
       "    <tr>\n",
       "      <th>3</th>\n",
       "      <td>Phospho@S</td>\n",
       "      <td>2</td>\n",
       "      <td>-22.849740</td>\n",
       "      <td>0.9</td>\n",
       "      <td>AVVVSPK</td>\n",
       "      <td>5</td>\n",
       "      <td>390.206779</td>\n",
       "      <td>7</td>\n",
       "      <td>18</td>\n",
       "      <td>24</td>\n",
       "      <td>0.075327</td>\n",
       "      <td>366.858877</td>\n",
       "    </tr>\n",
       "    <tr>\n",
       "      <th>4</th>\n",
       "      <td>Phospho@S</td>\n",
       "      <td>2</td>\n",
       "      <td>-6.428198</td>\n",
       "      <td>0.9</td>\n",
       "      <td>YSLSPSK</td>\n",
       "      <td>4</td>\n",
       "      <td>431.191326</td>\n",
       "      <td>7</td>\n",
       "      <td>24</td>\n",
       "      <td>30</td>\n",
       "      <td>0.337745</td>\n",
       "      <td>366.254509</td>\n",
       "    </tr>\n",
       "    <tr>\n",
       "      <th>5</th>\n",
       "      <td>Phospho@S;Phospho@S</td>\n",
       "      <td>2</td>\n",
       "      <td>-23.930850</td>\n",
       "      <td>0.9</td>\n",
       "      <td>VSVSPGR</td>\n",
       "      <td>2;4</td>\n",
       "      <td>431.167001</td>\n",
       "      <td>7</td>\n",
       "      <td>30</td>\n",
       "      <td>36</td>\n",
       "      <td>0.058050</td>\n",
       "      <td>366.254833</td>\n",
       "    </tr>\n",
       "  </tbody>\n",
       "</table>\n",
       "</div>"
      ],
      "text/plain": [
       "                  mods  charge         rt  mobility sequence mod_sites  \\\n",
       "0                            2 -15.087100       0.9  DPLAVDK             \n",
       "1            Phospho@S       1  35.014110       0.9  SVSFSLK         3   \n",
       "2            Phospho@S       2 -27.563500       0.9  MGSLDSK         3   \n",
       "3            Phospho@S       2 -22.849740       0.9  AVVVSPK         5   \n",
       "4            Phospho@S       2  -6.428198       0.9  YSLSPSK         4   \n",
       "5  Phospho@S;Phospho@S       2 -23.930850       0.9  VSVSPGR       2;4   \n",
       "\n",
       "   precursor_mz  nAA  frag_start_idx  frag_stop_idx   rt_norm         ccs  \n",
       "0    379.208161    7               0              6  0.199375  367.043100  \n",
       "1    847.396112    7               6             12  1.000000  183.178171  \n",
       "2    409.161712    7              12             18  0.000000  366.564438  \n",
       "3    390.206779    7              18             24  0.075327  366.858877  \n",
       "4    431.191326    7              24             30  0.337745  366.254509  \n",
       "5    431.167001    7              30             36  0.058050  366.254833  "
      ]
     },
     "execution_count": 32,
     "metadata": {},
     "output_type": "execute_result"
    }
   ],
   "source": [
    "#| hide\n",
    "tsv_str = \"\"\"PrecursorCharge\tModifiedPeptide\tStrippedPeptide\tiRT\tLabeledPeptide\tPrecursorMz\tFragmentLossType\tFragmentNumber\tFragmentType\tFragmentCharge\tFragmentMz\tRelativeIntensity\tIonMobility\n",
    "2\t_DPLAVDK_\tDPLAVDK\t-15.0871\t_DPLAVDK_\t379.2081611\tnoloss\t3\tb\t1\t326.1710473\t14.37029\t0.9\n",
    "2\t_DPLAVDK_\tDPLAVDK\t-15.0871\t_DPLAVDK_\t379.2081611\tnoloss\t3\ty\t1\t361.2081611\t37.7585\t0.9\n",
    "2\t_DPLAVDK_\tDPLAVDK\t-15.0871\t_DPLAVDK_\t379.2081611\tnoloss\t4\tb\t1\t397.2081611\t9.488808\t0.9\n",
    "2\t_DPLAVDK_\tDPLAVDK\t-15.0871\t_DPLAVDK_\t379.2081611\tnoloss\t4\ty\t1\t432.2452749\t100\t0.9\n",
    "2\t_DPLAVDK_\tDPLAVDK\t-15.0871\t_DPLAVDK_\t379.2081611\tnoloss\t5\tb\t1\t496.276575\t5.498003\t0.9\n",
    "2\t_DPLAVDK_\tDPLAVDK\t-15.0871\t_DPLAVDK_\t379.2081611\tnoloss\t5\ty\t1\t545.3293389\t74.56643\t0.9\n",
    "2\t_DPLAVDK_\tDPLAVDK\t-15.0871\t_DPLAVDK_\t379.2081611\tnoloss\t6\ty\t2\t321.6946896\t51.50719\t0.9\n",
    "2\t_AVVVS[Phospho (STY)]PK_\tAVVVSPK\t-22.84974\t_AVVVS[Phospho (STY)]PK_\t390.2067795\tnoloss\t3\ty\t1\t411.1639269\t6.911595\t0.9\n",
    "2\t_AVVVS[Phospho (STY)]PK_\tAVVVSPK\t-22.84974\t_AVVVS[Phospho (STY)]PK_\t390.2067795\tH3PO4\t3\ty\t1\t313.1870287\t17.38582\t0.9\n",
    "2\t_AVVVS[Phospho (STY)]PK_\tAVVVSPK\t-22.84974\t_AVVVS[Phospho (STY)]PK_\t390.2067795\tnoloss\t4\ty\t1\t510.2323409\t10.65426\t0.9\n",
    "2\t_AVVVS[Phospho (STY)]PK_\tAVVVSPK\t-22.84974\t_AVVVS[Phospho (STY)]PK_\t390.2067795\tH3PO4\t4\ty\t1\t412.2554427\t37.41231\t0.9\n",
    "2\t_AVVVS[Phospho (STY)]PK_\tAVVVSPK\t-22.84974\t_AVVVS[Phospho (STY)]PK_\t390.2067795\tnoloss\t5\ty\t1\t609.3007548\t45.03617\t0.9\n",
    "2\t_AVVVS[Phospho (STY)]PK_\tAVVVSPK\t-22.84974\t_AVVVS[Phospho (STY)]PK_\t390.2067795\tH3PO4\t5\ty\t1\t511.3238566\t100\t0.9\n",
    "2\t_MGS[Phospho (STY)]LDSK_\tMGSLDSK\t-27.5635\t_MGS[Phospho (STY)]LDSK_\t409.1617118\tnoloss\t3\ty\t1\t349.1717756\t9.20575\t0.9\n",
    "2\t_MGS[Phospho (STY)]LDSK_\tMGSLDSK\t-27.5635\t_MGS[Phospho (STY)]LDSK_\t409.1617118\tnoloss\t6\ty\t1\t686.2756622\t10.37339\t0.9\n",
    "2\t_MGS[Phospho (STY)]LDSK_\tMGSLDSK\t-27.5635\t_MGS[Phospho (STY)]LDSK_\t409.1617118\tH3PO4\t6\ty\t1\t588.298764\t100\t0.9\n",
    "1\t_SVS[Phospho (STY)]FSLK_\tSVSFSLK\t35.01411\t_SVS[Phospho (STY)]FSLK_\t847.3961117\tnoloss\t3\ty\t1\t347.2288965\t88.27327\t0.9\n",
    "1\t_SVS[Phospho (STY)]FSLK_\tSVSFSLK\t35.01411\t_SVS[Phospho (STY)]FSLK_\t847.3961117\tH3PO4\t3\tb\t1\t256.1291795\t64.97146\t0.9\n",
    "1\t_SVS[Phospho (STY)]FSLK_\tSVSFSLK\t35.01411\t_SVS[Phospho (STY)]FSLK_\t847.3961117\tnoloss\t4\ty\t1\t494.2973105\t100\t0.9\n",
    "1\t_SVS[Phospho (STY)]FSLK_\tSVSFSLK\t35.01411\t_SVS[Phospho (STY)]FSLK_\t847.3961117\tH3PO4\t4\tb\t1\t403.1975934\t35.17805\t0.9\n",
    "1\t_SVS[Phospho (STY)]FSLK_\tSVSFSLK\t35.01411\t_SVS[Phospho (STY)]FSLK_\t847.3961117\tnoloss\t5\ty\t1\t661.2956694\t19.89741\t0.9\n",
    "1\t_SVS[Phospho (STY)]FSLK_\tSVSFSLK\t35.01411\t_SVS[Phospho (STY)]FSLK_\t847.3961117\tH3PO4\t5\tb\t1\t490.2296218\t40.04738\t0.9\n",
    "1\t_SVS[Phospho (STY)]FSLK_\tSVSFSLK\t35.01411\t_SVS[Phospho (STY)]FSLK_\t847.3961117\tH3PO4\t5\ty\t1\t563.3187712\t77.43164\t0.9\n",
    "1\t_SVS[Phospho (STY)]FSLK_\tSVSFSLK\t35.01411\t_SVS[Phospho (STY)]FSLK_\t847.3961117\tnoloss\t6\tb\t1\t701.290584\t24.43497\t0.9\n",
    "1\t_SVS[Phospho (STY)]FSLK_\tSVSFSLK\t35.01411\t_SVS[Phospho (STY)]FSLK_\t847.3961117\tH3PO4\t6\tb\t1\t603.3136858\t63.09999\t0.9\n",
    "1\t_SVS[Phospho (STY)]FSLK_\tSVSFSLK\t35.01411\t_SVS[Phospho (STY)]FSLK_\t847.3961117\t1(+H2+O)1(+H3+O4+P)\t3\tb\t1\t238.1186147\t62.60851\t0.9\n",
    "1\t_SVS[Phospho (STY)]FSLK_\tSVSFSLK\t35.01411\t_SVS[Phospho (STY)]FSLK_\t847.3961117\t1(+H2+O)1(+H3+O4+P)\t5\tb\t1\t472.219057\t22.99903\t0.9\n",
    "1\t_SVS[Phospho (STY)]FSLK_\tSVSFSLK\t35.01411\t_SVS[Phospho (STY)]FSLK_\t847.3961117\t1(+H2+O)1(+H3+O4+P)\t6\tb\t1\t585.303121\t66.30389\t0.9\n",
    "2\t_VS[Phospho (STY)]VS[Phospho (STY)]PGR_\tVSVSPGR\t-23.93085\t_VS[Phospho (STY)]VS[Phospho (STY)]PGR_\t431.1670009\tnoloss\t3\ty\t1\t329.1931797\t100\t0.9\n",
    "2\t_VS[Phospho (STY)]VS[Phospho (STY)]PGR_\tVSVSPGR\t-23.93085\t_VS[Phospho (STY)]VS[Phospho (STY)]PGR_\t431.1670009\tH3PO4\t3\tb\t1\t268.165565\t5.755442\t0.9\n",
    "2\t_VS[Phospho (STY)]VS[Phospho (STY)]PGR_\tVSVSPGR\t-23.93085\t_VS[Phospho (STY)]VS[Phospho (STY)]PGR_\t431.1670009\tnoloss\t4\tb\t2\t267.0740493\t8.743931\t0.9\n",
    "2\t_VS[Phospho (STY)]VS[Phospho (STY)]PGR_\tVSVSPGR\t-23.93085\t_VS[Phospho (STY)]VS[Phospho (STY)]PGR_\t431.1670009\tnoloss\t4\ty\t1\t496.1915387\t27.69686\t0.9\n",
    "2\t_VS[Phospho (STY)]VS[Phospho (STY)]PGR_\tVSVSPGR\t-23.93085\t_VS[Phospho (STY)]VS[Phospho (STY)]PGR_\t431.1670009\tH3PO4\t4\tb\t1\t435.1639239\t6.162673\t0.9\n",
    "2\t_VS[Phospho (STY)]VS[Phospho (STY)]PGR_\tVSVSPGR\t-23.93085\t_VS[Phospho (STY)]VS[Phospho (STY)]PGR_\t431.1670009\t2(+H3+O4+P)\t4\tb\t1\t337.1870258\t10.84257\t0.9\n",
    "2\t_VS[Phospho (STY)]VS[Phospho (STY)]PGR_\tVSVSPGR\t-23.93085\t_VS[Phospho (STY)]VS[Phospho (STY)]PGR_\t431.1670009\tH3PO4\t4\ty\t1\t398.2146405\t26.28527\t0.9\n",
    "2\t_VS[Phospho (STY)]VS[Phospho (STY)]PGR_\tVSVSPGR\t-23.93085\t_VS[Phospho (STY)]VS[Phospho (STY)]PGR_\t431.1670009\tH3PO4\t5\ty\t1\t497.2830544\t28.41294\t0.9\n",
    "2\t_VS[Phospho (STY)]VS[Phospho (STY)]PGR_\tVSVSPGR\t-23.93085\t_VS[Phospho (STY)]VS[Phospho (STY)]PGR_\t431.1670009\tnoloss\t6\ty\t1\t762.2583115\t8.490795\t0.9\n",
    "2\t_VS[Phospho (STY)]VS[Phospho (STY)]PGR_\tVSVSPGR\t-23.93085\t_VS[Phospho (STY)]VS[Phospho (STY)]PGR_\t431.1670009\tH3PO4\t6\ty\t1\t664.2814133\t32.87384\t0.9\n",
    "2\t_VS[Phospho (STY)]VS[Phospho (STY)]PGR_\tVSVSPGR\t-23.93085\t_VS[Phospho (STY)]VS[Phospho (STY)]PGR_\t431.1670009\t2(+H3+O4+P)\t6\ty\t1\t566.3045151\t35.87218\t0.9\n",
    "2\t_YSLS[Phospho (STY)]PSK_\tYSLSPSK\t-6.428198\t_YSLS[Phospho (STY)]PSK_\t431.1913264\tnoloss\t3\ty\t1\t331.1975964\t49.20179\t0.9\n",
    "2\t_YSLS[Phospho (STY)]PSK_\tYSLSPSK\t-6.428198\t_YSLS[Phospho (STY)]PSK_\t431.1913264\tnoloss\t4\ty\t1\t498.1959553\t10.89141\t0.9\n",
    "2\t_YSLS[Phospho (STY)]PSK_\tYSLSPSK\t-6.428198\t_YSLS[Phospho (STY)]PSK_\t431.1913264\tH3PO4\t4\ty\t1\t400.2190571\t27.99594\t0.9\n",
    "2\t_YSLS[Phospho (STY)]PSK_\tYSLSPSK\t-6.428198\t_YSLS[Phospho (STY)]PSK_\t431.1913264\tnoloss\t5\ty\t1\t611.2800193\t14.11057\t0.9\n",
    "2\t_YSLS[Phospho (STY)]PSK_\tYSLSPSK\t-6.428198\t_YSLS[Phospho (STY)]PSK_\t431.1913264\tH3PO4\t5\ty\t1\t513.3031211\t70.5295\t0.9\n",
    "2\t_YSLS[Phospho (STY)]PSK_\tYSLSPSK\t-6.428198\t_YSLS[Phospho (STY)]PSK_\t431.1913264\tnoloss\t6\ty\t1\t698.3120477\t60.23455\t0.9\n",
    "2\t_YSLS[Phospho (STY)]PSK_\tYSLSPSK\t-6.428198\t_YSLS[Phospho (STY)]PSK_\t431.1913264\tH3PO4\t6\ty\t1\t600.3351495\t100\t0.9\n",
    "2\t_YSLS[Phospho (STY)]PSK_\tYSLSPSK\t-6.428198\t_YSLS[Phospho (STY)]PSK_\t431.1913264\t1(+H2+O)1(+H3+O4+P)\t6\ty\t1\t582.3245847\t5.233977\t0.9\n",
    "\"\"\"\n",
    "\n",
    "target = LibraryReaderBase()\n",
    "target.import_file(StringIO(tsv_str))\n"
   ]
  },
  {
   "cell_type": "code",
   "execution_count": 33,
   "metadata": {},
   "outputs": [],
   "source": [
    "# Flatten original library to use it as a test input with target the original library\n",
    "flat_lib = SpecLibFlat(custom_fragment_df_columns=['type','charge','position','loss_type'])\n",
    "flat_lib.parse_base_library(target, keep_original_frag_dfs=True)"
   ]
  },
  {
   "cell_type": "code",
   "execution_count": 34,
   "metadata": {},
   "outputs": [
    {
     "data": {
      "text/plain": [
       "['_fragment_intensity_df', '_fragment_mz_df']"
      ]
     },
     "execution_count": 34,
     "metadata": {},
     "output_type": "execute_result"
    }
   ],
   "source": [
    "back_to_base = flat_lib.to_SpecLibBase()\n",
    "back_to_base.available_fragment_dfs()"
   ]
  },
  {
   "cell_type": "code",
   "execution_count": 35,
   "metadata": {},
   "outputs": [],
   "source": [
    "# Check if the fragment intensity dataframes are equal\n",
    "# since for now the reader uses a predefined charge_types and the \"to_specLibBase\" method infers the charged_types \n",
    "# We will ignore columns that are full zeros in the target object\n",
    "\n",
    "non_zero_target_columns = target.fragment_intensity_df.columns[target.fragment_intensity_df.sum() != 0]\n",
    "\n",
    "pd.testing.assert_frame_equal(target.fragment_intensity_df[non_zero_target_columns].sort_index(axis=1), back_to_base.fragment_intensity_df.sort_index(axis=1), check_dtype=False)"
   ]
  },
  {
   "cell_type": "code",
   "execution_count": 36,
   "metadata": {},
   "outputs": [],
   "source": [
    "# Check the non zero values in back_to_base.fragment_mz_df are the same as in target.fragment_mz_df\n",
    "non_zero_indices = back_to_base.fragment_mz_df > 0\n",
    "pd.testing.assert_frame_equal(target.fragment_mz_df[non_zero_target_columns][non_zero_indices].sort_index(axis=1), back_to_base.fragment_mz_df[non_zero_indices].sort_index(axis=1), check_dtype=False)"
   ]
  },
  {
   "cell_type": "code",
   "execution_count": 37,
   "metadata": {},
   "outputs": [],
   "source": [
    "#Calculate the full fragment_mz for the back_to_base and compare to the original\n",
    "back_to_base.calc_fragment_mz_df()\n",
    "pd.testing.assert_frame_equal(target.fragment_mz_df[non_zero_target_columns].sort_index(axis=1), back_to_base.fragment_mz_df.sort_index(axis=1), check_dtype=False)"
   ]
  }
 ],
 "metadata": {
  "kernelspec": {
   "display_name": "alphabase",
   "language": "python",
   "name": "python3"
  },
  "language_info": {
   "codemirror_mode": {
    "name": "ipython",
    "version": 3
   },
   "file_extension": ".py",
   "mimetype": "text/x-python",
   "name": "python",
   "nbconvert_exporter": "python",
   "pygments_lexer": "ipython3",
   "version": "3.9.18"
  }
 },
 "nbformat": 4,
 "nbformat_minor": 2
}
