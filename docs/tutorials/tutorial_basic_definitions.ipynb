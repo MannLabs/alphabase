{
 "cells": [
  {
   "cell_type": "markdown",
   "metadata": {},
   "source": [
    "# Tutorial: Basic Definitions and Settings\n",
    "\n",
    "Measuring m/z values is the elemental function of MS technologies, therefore the calculation of mass values for a peptide and its fragments becomes the most essential part in MS-based computational tools. AlphaBase calculates all mass values from atoms. And the masses of amino acids and modifications are calculated from their atom compositions, repectively. Eventually, the masses of peptides or precursors as well as their fragments can be calculated by the amino acid sequences with or without modifications (See figure below).\n",
    "\n",
    "Calculating masses from atoms makes it much easier to switch between unlabeled and heavy-labeled peptides, as we did in Stellar MS for 15N-labeled peptides as the reference for targeted proteomics (https://www.biorxiv.org/content/10.1101/2024.06.02.597029v2.full).\n",
    "\n",
    "The other advantage of starting from atoms is that AlphaBase can calculate isotope distributions of peptides based on a pre-defined isotope distribution list of atoms (e.g., NIST atom table in https://physics.nist.gov/cgi-bin/Compositions/stand_alone.pl). The isotope information has been applied in our alphaDIA search engine to boost the identification of DIA-MS data (https://www.biorxiv.org/content/10.1101/2024.05.28.596182v1)."
   ]
  },
  {
   "cell_type": "code",
   "metadata": {},
   "source": [
    "from IPython.display import Image\n",
    "Image(filename='atom-to-peptides.png')"
   ],
   "outputs": [],
   "execution_count": null
  },
  {
   "cell_type": "markdown",
   "metadata": {},
   "source": [
    "### Atoms/Elements\n",
    "\n",
    "The masses of all amino acids and modifications are calculated from their atom compositions.\n",
    "\n",
    "The atom information are defined in https://github.com/MannLabs/alphabase/blob/main/alphabase/constants/const_files/nist_element.yaml which is parsed from NIST, see https://github.com/MannLabs/alphabase/blob/main/scripts/nist_chem_to_yaml.ipynb.\n",
    "\n",
    "After adding some heavy isotopes, including 13C, 15N, 2H, and 18O, we obtain 109 kinds of atoms:"
   ]
  },
  {
   "cell_type": "code",
   "metadata": {},
   "source": [
    "import pandas as pd\n",
    "from alphabase.constants.atom import CHEM_INFO_DICT\n",
    "pd.DataFrame().from_dict(CHEM_INFO_DICT, orient='index')"
   ],
   "outputs": [],
   "execution_count": null
  },
  {
   "cell_type": "markdown",
   "metadata": {},
   "source": [
    "And their mono-isotopic mass are in `CHEM_MONO_MASS` (dict):"
   ]
  },
  {
   "cell_type": "code",
   "metadata": {},
   "source": [
    "from alphabase.constants.atom import CHEM_MONO_MASS\n",
    "pd.DataFrame().from_dict(CHEM_MONO_MASS, orient='index')"
   ],
   "outputs": [],
   "execution_count": null
  },
  {
   "cell_type": "markdown",
   "metadata": {},
   "source": [
    "These atom masses are used to calculate the masses of amino acids, modifications, and then subsequent masses of peptides and fragments."
   ]
  },
  {
   "cell_type": "markdown",
   "metadata": {},
   "source": [
    "#### Commonly used molecular masses"
   ]
  },
  {
   "cell_type": "code",
   "metadata": {},
   "source": [
    "from alphabase.constants.atom import (\n",
    "    MASS_PROTON, MASS_ISOTOPE, MASS_NH3, MASS_H2O\n",
    ")\n",
    "MASS_PROTON, MASS_ISOTOPE, MASS_NH3, MASS_H2O"
   ],
   "outputs": [],
   "execution_count": null
  },
  {
   "cell_type": "markdown",
   "metadata": {},
   "source": [
    "### Amino Acids"
   ]
  },
  {
   "cell_type": "code",
   "metadata": {},
   "source": [
    "from alphabase.constants.aa import AA_DF\n",
    "AA_DF.loc[ord('A'):ord('Z')]"
   ],
   "outputs": [],
   "execution_count": null
  },
  {
   "cell_type": "markdown",
   "metadata": {},
   "source": [
    "In `AA_DF`, amino acids are encoded by ASCII (128 characters), thus 65==ord('A'), ..., 90==ord('Z'). Unicode strings can be fastly converted to ascii int32 values using `np.array.view()`:"
   ]
  },
  {
   "cell_type": "code",
   "metadata": {},
   "source": [
    "import numpy as np\n",
    "\n",
    "np.array(['ABCXYZ']).view(np.int32)"
   ],
   "outputs": [],
   "execution_count": null
  },
  {
   "cell_type": "markdown",
   "metadata": {},
   "source": [
    "But users does not need to know this, as we provided easy to use functionalities to get residue masses from sequences."
   ]
  },
  {
   "cell_type": "markdown",
   "metadata": {},
   "source": [
    "#### Calculate AA masses in batch"
   ]
  },
  {
   "cell_type": "code",
   "metadata": {},
   "source": [
    "from alphabase.constants.aa import calc_AA_masses_for_same_len_seqs\n",
    "calc_AA_masses_for_same_len_seqs(\n",
    "    [\n",
    "        'MACDEFG', 'MAKDEFG', 'MAKDEFR'\n",
    "    ]\n",
    ")"
   ],
   "outputs": [],
   "execution_count": null
  },
  {
   "metadata": {},
   "cell_type": "code",
   "source": [
    "from alphabase.constants.aa import calc_AA_masses_for_var_len_seqs\n",
    "calc_AA_masses_for_var_len_seqs(\n",
    "    [\n",
    "        'M', 'MAK', 'MAKDEFR'\n",
    "    ])"
   ],
   "outputs": [],
   "execution_count": null
  },
  {
   "cell_type": "markdown",
   "metadata": {},
   "source": [
    "### Modifications\n",
    "\n",
    "In AlphaBase, we used `mod_name@aa` to represent a modification, the `mod_name` is from UniMod. We also used `mod_name@Protein_N-term`, `mod_name@Any_N-term` and `mod_name@Any_C-term` for terminal modifications, which follow the UniMod terminal name schema.\n",
    "\n",
    "The default modification TSV is stored in https://github.com/MannLabs/alphabase/blob/main/alphabase/constants/const_files/modification.tsv, which is loaded upon startup of AlphaBase.\n",
    "Users can add more modifications into the tsv file (only `mod_name` and `composition` columns are required), e.g. by usin the `unimod_to_tsv.ipynb` notebook."
   ]
  },
  {
   "cell_type": "code",
   "metadata": {},
   "source": [
    "from alphabase.constants.modification import MOD_DF\n",
    "MOD_DF"
   ],
   "outputs": [],
   "execution_count": null
  },
  {
   "cell_type": "markdown",
   "metadata": {},
   "source": [
    "#### Modification sites\n",
    "\n",
    "In alphabase, we use 0 and -1 to represent modification site of N-term and C-term, respectively. For other modification sites, we use 1 to n."
   ]
  },
  {
   "cell_type": "code",
   "metadata": {},
   "source": [
    "from alphabase.constants.modification import calc_modification_mass\n",
    "\n",
    "# example: add two modifications and print the array of mass modifications\n",
    "sequence = 'MACDEFG'\n",
    "mod_names = ['Acetyl@Any_N-term', 'Carbamidomethyl@C']\n",
    "mod_sites = [0, 3] # 0 for N-term, 3 for the third amino acid\n",
    "calc_modification_mass(\n",
    "    nAA=len(sequence),\n",
    "    mod_names=mod_names,\n",
    "    mod_sites=mod_sites\n",
    ")"
   ],
   "outputs": [],
   "execution_count": null
  },
  {
   "cell_type": "code",
   "metadata": {},
   "source": [
    "# example: add two modifications and print the array of mass modifications\n",
    "sequence = 'MAKDEFG'\n",
    "mod_names = ['Acetyl@Any_N-term', 'Oxidation@M']\n",
    "mod_sites = [0, 1] # 0 for N-term, 1 for the first amino acid\n",
    "calc_modification_mass(\n",
    "    nAA=len(sequence),\n",
    "    mod_names=mod_names,\n",
    "    mod_sites=mod_sites\n",
    ")"
   ],
   "outputs": [],
   "execution_count": null
  },
  {
   "cell_type": "markdown",
   "metadata": {},
   "source": [
    "Multiple modifications at a single site is supported, for example, in the following example, `K3` contains both `GlyGly@K` and `Dimethyl@K`:"
   ]
  },
  {
   "cell_type": "code",
   "metadata": {},
   "source": [
    "sequence = 'MAKDEFR'\n",
    "mod_names = ['GlyGly@K', 'Dimethyl@K']\n",
    "mod_sites = [3, 3]\n",
    "calc_modification_mass(\n",
    "    nAA=len(sequence),\n",
    "    mod_names=mod_names,\n",
    "    mod_sites=mod_sites\n",
    ")"
   ],
   "outputs": [],
   "execution_count": null
  },
  {
   "cell_type": "markdown",
   "metadata": {},
   "source": [
    "#### Caculate modification masses in batch"
   ]
  },
  {
   "cell_type": "code",
   "metadata": {},
   "source": [
    "from alphabase.constants.modification import calc_mod_masses_for_same_len_seqs\n",
    "calc_mod_masses_for_same_len_seqs(\n",
    "    nAA=7,\n",
    "    mod_names_list=[\n",
    "        ['Acetyl@Any_N-term', 'Carbamidomethyl@C'],\n",
    "        ['Acetyl@Any_N-term', 'Oxidation@M'],\n",
    "        ['GlyGly@K', 'Dimethyl@K'],\n",
    "    ],\n",
    "    mod_sites_list=[\n",
    "        [0, 3],\n",
    "        [0, 1],\n",
    "        [3, 3],\n",
    "    ]\n",
    ")"
   ],
   "outputs": [],
   "execution_count": null
  },
  {
   "cell_type": "markdown",
   "metadata": {},
   "source": [
    "### Mass calculation functionalities"
   ]
  },
  {
   "cell_type": "markdown",
   "metadata": {},
   "source": [
    "#### Calculate AA and modification masses in batch"
   ]
  },
  {
   "cell_type": "code",
   "metadata": {},
   "source": [
    "from alphabase.constants.aa import calc_AA_masses_for_same_len_seqs\n",
    "from alphabase.constants.modification import calc_mod_masses_for_same_len_seqs\n",
    "mod_masses = calc_mod_masses_for_same_len_seqs(\n",
    "    nAA=7,\n",
    "    mod_names_list=[\n",
    "        ['Acetyl@Any_N-term', 'Carbamidomethyl@C'],\n",
    "        ['Acetyl@Any_N-term', 'Oxidation@M'],\n",
    "        ['GlyGly@K', 'Dimethyl@K'],\n",
    "    ],\n",
    "    mod_sites_list=[\n",
    "        [0, 3],\n",
    "        [0, 1],\n",
    "        [3, 3],\n",
    "    ]\n",
    ")\n",
    "aa_masses = calc_AA_masses_for_same_len_seqs(\n",
    "    [\n",
    "        'MACDEFG', 'MAKDEFG', 'MAKDEFR'\n",
    "    ]\n",
    ")\n",
    "mod_masses+aa_masses"
   ],
   "outputs": [],
   "execution_count": null
  },
  {
   "cell_type": "markdown",
   "metadata": {},
   "source": [
    "#### np.cumsum to get b-ion neutral masses"
   ]
  },
  {
   "cell_type": "code",
   "metadata": {},
   "source": [
    "import numpy as np\n",
    "np.cumsum(aa_masses+mod_masses, axis=1)"
   ],
   "outputs": [],
   "execution_count": null
  },
  {
   "cell_type": "markdown",
   "metadata": {},
   "source": [
    "#### Mass functionalities in 'mass_calc'\n",
    "\n",
    "The functionalities for peptide and fragment neutral masses have been implement in `alphabase.peptide.mass_calc`:"
   ]
  },
  {
   "cell_type": "code",
   "metadata": {},
   "source": [
    "from alphabase.peptide.mass_calc import calc_peptide_masses_for_same_len_seqs\n",
    "\n",
    "peptide_masses = calc_peptide_masses_for_same_len_seqs(\n",
    "    ['MACDEFG', 'MAKDEFG', 'MAKDEFR'],\n",
    "    mod_list=[\n",
    "        'Acetyl@Any_N-term;Carbamidomethyl@C',\n",
    "        'Acetyl@Any_N-term;Oxidation@M',\n",
    "        'GlyGly@K;Dimethyl@K',\n",
    "    ],\n",
    ")\n",
    "peptide_masses"
   ],
   "outputs": [],
   "execution_count": null
  },
  {
   "cell_type": "code",
   "metadata": {},
   "source": [
    "from alphabase.peptide.mass_calc import calc_b_y_and_peptide_masses_for_same_len_seqs\n",
    "b_masses, y_masses, peptide_masses = calc_b_y_and_peptide_masses_for_same_len_seqs(\n",
    "    ['MACDEFG', 'MAKDEFG', 'MAKDEFR'],\n",
    "    mod_list=[\n",
    "        ['Acetyl@Any_N-term', 'Carbamidomethyl@C'],\n",
    "        ['Acetyl@Any_N-term', 'Oxidation@M'],\n",
    "        ['GlyGly@K', 'Dimethyl@K'],\n",
    "    ],\n",
    "    site_list=[\n",
    "        [0, 3],\n",
    "        [0, 1],\n",
    "        [3, 3],\n",
    "    ],\n",
    ")\n",
    "peptide_masses"
   ],
   "outputs": [],
   "execution_count": null
  },
  {
   "cell_type": "code",
   "metadata": {},
   "source": [
    "b_masses"
   ],
   "outputs": [],
   "execution_count": null
  },
  {
   "cell_type": "code",
   "metadata": {},
   "source": [
    "y_masses"
   ],
   "outputs": [],
   "execution_count": null
  },
  {
   "cell_type": "markdown",
   "metadata": {},
   "source": [
    "### Isotope distribution\n",
    "\n",
    "`alphabase.constants.isotope.IsotopeDistribution` will calculate the isotope distribution and the mono-isotopic idx in the distribution for a given atom composition. "
   ]
  },
  {
   "cell_type": "markdown",
   "metadata": {},
   "source": [
    "For an atom, the mono-isotopic idx (`mono_idx`) points to the highest abundance isotope, so the value is `round(mass of highest isotope - mass of first isotope)`."
   ]
  },
  {
   "cell_type": "code",
   "metadata": {},
   "source": [
    "import pandas as pd\n",
    "from alphabase.constants.atom import CHEM_INFO_DICT\n",
    "atom_df = pd.DataFrame().from_dict(CHEM_INFO_DICT, orient='index')\n",
    "def get_mono(masses_abundances):\n",
    "    masses, abundances = masses_abundances\n",
    "    return round(masses[np.argmax(abundances)]-masses[0])\n",
    "atom_df['mono_idx'] = atom_df[['mass','abundance']].apply(\n",
    "    get_mono, axis=1\n",
    ")\n",
    "atom_df"
   ],
   "outputs": [],
   "execution_count": null
  },
  {
   "cell_type": "markdown",
   "metadata": {},
   "source": [
    "`mono_idx` of an atom composition refers to the sum of the `mono_idx` of all atoms. In AlphaBase, `alphabase.constants.isotope.IsotopeDistribution` calculate both isotope abundance and `mono_idx`. "
   ]
  },
  {
   "cell_type": "markdown",
   "metadata": {},
   "source": [
    "For example, `Fe`'s `mono_idx` is 2 (mass from 53.94 to 55.93), "
   ]
  },
  {
   "cell_type": "code",
   "metadata": {},
   "source": [
    "atom_df.loc['Fe']"
   ],
   "outputs": [],
   "execution_count": null
  },
  {
   "cell_type": "markdown",
   "metadata": {},
   "source": [
    "So `C(1)Fe(1)`'s `mono_idx` is also 2:"
   ]
  },
  {
   "cell_type": "code",
   "metadata": {},
   "source": [
    "from alphabase.constants.isotope import IsotopeDistribution, parse_formula\n",
    "iso = IsotopeDistribution()\n",
    "iso.calc_formula_distribution(\n",
    "    [('C',1),('Fe',1)]\n",
    ")"
   ],
   "outputs": [],
   "execution_count": null
  },
  {
   "cell_type": "markdown",
   "metadata": {},
   "source": [
    "But `13C(1)Fe(1)`'s `mono_idx` should be 3:"
   ]
  },
  {
   "cell_type": "code",
   "metadata": {},
   "source": [
    "iso.calc_formula_distribution(\n",
    "    [('13C',1),('Fe',1)]\n",
    ")"
   ],
   "outputs": [],
   "execution_count": null
  },
  {
   "cell_type": "markdown",
   "metadata": {},
   "source": [
    "The `mono_idx` of unlabeled atom compositions is always 0, no matter how big the compositions are. This means `mono` isotope is not necessary to be the `highest` isotope peak, especially when the composition get larger. Here are three examples from small composition to large ones, we can see that the highest peaks move from 0 to 2."
   ]
  },
  {
   "cell_type": "code",
   "metadata": {},
   "source": [
    "from alphabase.constants.isotope import IsotopeDistribution, parse_formula\n",
    "iso = IsotopeDistribution()\n",
    "\n",
    "formula = 'C(50)H(50)O(20)Na(1)'\n",
    "formula = parse_formula(formula)\n",
    "dist, mono = iso.calc_formula_distribution(formula)\n",
    "f\"mono={mono}, highest={dist.argmax()}\", dist"
   ],
   "outputs": [],
   "execution_count": null
  },
  {
   "cell_type": "code",
   "metadata": {},
   "source": [
    "formula = 'C(100)H(100)O(20)Na(1)'\n",
    "formula = parse_formula(formula)\n",
    "dist, mono = iso.calc_formula_distribution(formula)\n",
    "f\"mono={mono}, highest={dist.argmax()}\", dist"
   ],
   "outputs": [],
   "execution_count": null
  },
  {
   "cell_type": "code",
   "metadata": {},
   "source": [
    "formula = 'C(200)H(200)O(40)Na(1)'\n",
    "formula = parse_formula(formula)\n",
    "dist, mono = iso.calc_formula_distribution(formula)\n",
    "f\"mono={mono}, highest={dist.argmax()}\", dist"
   ],
   "outputs": [],
   "execution_count": null
  },
  {
   "cell_type": "code",
   "metadata": {},
   "source": [],
   "outputs": [],
   "execution_count": null
  }
 ],
 "metadata": {
  "kernelspec": {
   "display_name": "Python 3.8.3 ('base')",
   "language": "python",
   "name": "python3"
  },
  "language_info": {
   "codemirror_mode": {
    "name": "ipython",
    "version": 3
   },
   "file_extension": ".py",
   "mimetype": "text/x-python",
   "name": "python",
   "nbconvert_exporter": "python",
   "pygments_lexer": "ipython3",
   "version": "3.12.4"
  },
  "orig_nbformat": 4,
  "vscode": {
   "interpreter": {
    "hash": "8a3b27e141e49c996c9b863f8707e97aabd49c4a7e8445b9b783b34e4a21a9b2"
   }
  }
 },
 "nbformat": 4,
 "nbformat_minor": 2
}
