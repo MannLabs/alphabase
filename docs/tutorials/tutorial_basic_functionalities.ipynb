{
 "cells": [
  {
   "cell_type": "markdown",
   "metadata": {},
   "source": [
    "# AlphaBase provides quite many functionalities for MS-based proteomics"
   ]
  },
  {
   "cell_type": "markdown",
   "metadata": {},
   "source": [
    "Starting from a precursor dataframe, for example:"
   ]
  },
  {
   "cell_type": "code",
   "execution_count": 1,
   "metadata": {},
   "outputs": [
    {
     "data": {
      "text/html": [
       "<div>\n",
       "<style scoped>\n",
       "    .dataframe tbody tr th:only-of-type {\n",
       "        vertical-align: middle;\n",
       "    }\n",
       "\n",
       "    .dataframe tbody tr th {\n",
       "        vertical-align: top;\n",
       "    }\n",
       "\n",
       "    .dataframe thead th {\n",
       "        text-align: right;\n",
       "    }\n",
       "</style>\n",
       "<table border=\"1\" class=\"dataframe\">\n",
       "  <thead>\n",
       "    <tr style=\"text-align: right;\">\n",
       "      <th></th>\n",
       "      <th>sequence</th>\n",
       "      <th>mods</th>\n",
       "      <th>mod_sites</th>\n",
       "      <th>charge</th>\n",
       "    </tr>\n",
       "  </thead>\n",
       "  <tbody>\n",
       "    <tr>\n",
       "      <th>0</th>\n",
       "      <td>ACDEFHIK</td>\n",
       "      <td>Carbamidomethyl@C</td>\n",
       "      <td>2</td>\n",
       "      <td>1</td>\n",
       "    </tr>\n",
       "    <tr>\n",
       "      <th>1</th>\n",
       "      <td>APDEFMNIK</td>\n",
       "      <td></td>\n",
       "      <td></td>\n",
       "      <td>2</td>\n",
       "    </tr>\n",
       "    <tr>\n",
       "      <th>2</th>\n",
       "      <td>SWDEFMNTIRAAAAKDDDDR</td>\n",
       "      <td>Phospho@S;Oxidation@M</td>\n",
       "      <td>1;6</td>\n",
       "      <td>3</td>\n",
       "    </tr>\n",
       "  </tbody>\n",
       "</table>\n",
       "</div>"
      ],
      "text/plain": [
       "               sequence                   mods mod_sites  charge\n",
       "0              ACDEFHIK      Carbamidomethyl@C         2       1\n",
       "1             APDEFMNIK                                        2\n",
       "2  SWDEFMNTIRAAAAKDDDDR  Phospho@S;Oxidation@M       1;6       3"
      ]
     },
     "execution_count": 1,
     "metadata": {},
     "output_type": "execute_result"
    }
   ],
   "source": [
    "import pandas as pd\n",
    "\n",
    "df = pd.DataFrame({\n",
    "    'sequence': ['ACDEFHIK', 'APDEFMNIK', 'SWDEFMNTIRAAAAKDDDDR'],\n",
    "    'mods': ['Carbamidomethyl@C', '', 'Phospho@S;Oxidation@M'],\n",
    "    'mod_sites': ['2', '', '1;6'],\n",
    "    'charge': [1,2,3],\n",
    "})\n",
    "df"
   ]
  },
  {
   "cell_type": "markdown",
   "metadata": {},
   "source": [
    "### Mass calculation\n",
    "\n",
    "`alphabase.peptide.fragment.create_fragment_mz_dataframe()`"
   ]
  },
  {
   "cell_type": "code",
   "execution_count": 2,
   "metadata": {},
   "outputs": [
    {
     "name": "stderr",
     "output_type": "stream",
     "text": [
      "OMP: Info #276: omp_set_nested routine deprecated, please use omp_set_max_active_levels instead.\n"
     ]
    }
   ],
   "source": [
    "from alphabase.peptide.fragment import create_fragment_mz_dataframe"
   ]
  },
  {
   "cell_type": "markdown",
   "metadata": {},
   "source": [
    "### Precursor isotopes\n",
    "\n",
    "`alphabase.peptide.precursor.calc_precursor_isotope_intensity()`"
   ]
  },
  {
   "cell_type": "code",
   "execution_count": 3,
   "metadata": {},
   "outputs": [],
   "source": [
    "from alphabase.peptide.precursor import calc_precursor_isotope_intensity"
   ]
  },
  {
   "cell_type": "markdown",
   "metadata": {},
   "source": [
    "### Protein processing\n",
    "\n",
    "`alphabase.protein.fasta.Digest` class."
   ]
  },
  {
   "cell_type": "code",
   "execution_count": 4,
   "metadata": {},
   "outputs": [
    {
     "data": {
      "text/plain": [
       "(['ABCDEFGHIJK',\n",
       "  'ABCDEFGHIJKLMNOPQR',\n",
       "  'ABCDEFGHIJKLMNOPQRSTUVWXYZ',\n",
       "  'LMNOPQR',\n",
       "  'LMNOPQRSTUVWXYZ',\n",
       "  'STUVWXYZ'],\n",
       " [0, 1, 2, 0, 1, 0],\n",
       " [True, True, True, False, False, False],\n",
       " [False, False, True, False, True, True])"
      ]
     },
     "execution_count": 4,
     "metadata": {},
     "output_type": "execute_result"
    }
   ],
   "source": [
    "from alphabase.protein.fasta import Digest\n",
    "import string\n",
    "\n",
    "digest = Digest(\n",
    "    protease=\"trypsin\",\n",
    "    max_missed_cleavages=2,\n",
    "    peptide_length_min=7,\n",
    "    peptide_length_max=45,\n",
    ")\n",
    "seqs, miss_cleaves, prot_nterms, prot_cterms = digest.cleave_sequence(string.ascii_uppercase)\n",
    "seqs, miss_cleaves, prot_nterms, prot_cterms"
   ]
  },
  {
   "cell_type": "markdown",
   "metadata": {},
   "source": [
    "Here are built-in protease dict for digestion, the digestion is actually performed by regular expression."
   ]
  },
  {
   "cell_type": "code",
   "execution_count": 5,
   "metadata": {},
   "outputs": [
    {
     "data": {
      "text/plain": [
       "{'arg-c': 'R',\n",
       " 'asp-n': '\\\\w(?=D)',\n",
       " 'bnps-skatole': 'W',\n",
       " 'caspase 1': '(?<=[FWYL]\\\\w[HAT])D(?=[^PEDQKR])',\n",
       " 'caspase 2': '(?<=DVA)D(?=[^PEDQKR])',\n",
       " 'caspase 3': '(?<=DMQ)D(?=[^PEDQKR])',\n",
       " 'caspase 4': '(?<=LEV)D(?=[^PEDQKR])',\n",
       " 'caspase 5': '(?<=[LW]EH)D',\n",
       " 'caspase 6': '(?<=VE[HI])D(?=[^PEDQKR])',\n",
       " 'caspase 7': '(?<=DEV)D(?=[^PEDQKR])',\n",
       " 'caspase 8': '(?<=[IL]ET)D(?=[^PEDQKR])',\n",
       " 'caspase 9': '(?<=LEH)D',\n",
       " 'caspase 10': '(?<=IEA)D',\n",
       " 'chymotrypsin high specificity': '([FY](?=[^P]))|(W(?=[^MP]))',\n",
       " 'chymotrypsin low specificity': '([FLY](?=[^P]))|(W(?=[^MP]))|(M(?=[^PY]))|(H(?=[^DMPW]))',\n",
       " 'chymotrypsin': '([FLY](?=[^P]))|(W(?=[^MP]))|(M(?=[^PY]))|(H(?=[^DMPW]))',\n",
       " 'clostripain': 'R',\n",
       " 'cnbr': 'M',\n",
       " 'enterokinase': '(?<=[DE]{3})K',\n",
       " 'factor xa': '(?<=[AFGILTVM][DE]G)R',\n",
       " 'formic acid': 'D',\n",
       " 'glutamyl endopeptidase': 'E',\n",
       " 'glu-c': 'E',\n",
       " 'granzyme b': '(?<=IEP)D',\n",
       " 'hydroxylamine': 'N(?=G)',\n",
       " 'iodosobenzoic acid': 'W',\n",
       " 'lys-c': 'K',\n",
       " 'lys-n': '\\\\w(?=K)',\n",
       " 'ntcb': '\\\\w(?=C)',\n",
       " 'pepsin ph1.3': '((?<=[^HKR][^P])[^R](?=[FL][^P]))|((?<=[^HKR][^P])[FL](?=\\\\w[^P]))',\n",
       " 'pepsin ph2.0': '((?<=[^HKR][^P])[^R](?=[FLWY][^P]))|((?<=[^HKR][^P])[FLWY](?=\\\\w[^P]))',\n",
       " 'proline endopeptidase': '(?<=[HKR])P(?=[^P])',\n",
       " 'proteinase k': '[AEFILTVWY]',\n",
       " 'staphylococcal peptidase i': '(?<=[^E])E',\n",
       " 'thermolysin': '[^DE](?=[AFILMV])',\n",
       " 'thrombin': '((?<=G)R(?=G))|((?<=[AFGILTVM][AFGILTVWA]P)R(?=[^DE][^DE]))',\n",
       " 'trypsin_full': '([KR](?=[^P]))|((?<=W)K(?=P))|((?<=M)R(?=P))',\n",
       " 'trypsin_exception': '((?<=[CD])K(?=D))|((?<=C)K(?=[HY]))|((?<=C)R(?=K))|((?<=R)R(?=[HR]))',\n",
       " 'trypsin_not_p': '([KR](?=[^P]))',\n",
       " 'trypsin': '([KR])',\n",
       " 'trypsin/p': '([KR])',\n",
       " 'non-specific': '()',\n",
       " 'no-cleave': '_'}"
      ]
     },
     "execution_count": 5,
     "metadata": {},
     "output_type": "execute_result"
    }
   ],
   "source": [
    "from alphabase.protein.fasta import protease_dict\n",
    "protease_dict"
   ]
  },
  {
   "cell_type": "markdown",
   "metadata": {},
   "source": [
    "We also support arbitray digestion if we design the correct regular expression, for example if we would like to combine `trypsin` (`[KR]`), `asp-n` (`\\\\w(?=D)`, cleave before `D`), and `lys-n` (`\\\\w(?=K)`, cleave before `K`), the final regular expression will be `([KR]|\\\\w(?=D)|\\\\w(?=K))`."
   ]
  },
  {
   "cell_type": "code",
   "execution_count": 6,
   "metadata": {},
   "outputs": [
    {
     "data": {
      "text/plain": [
       "(['ABCDEFGHIJ',\n",
       "  'ABCDEFGHIJK',\n",
       "  'DEFGHIJ',\n",
       "  'DEFGHIJK',\n",
       "  'DEFGHIJKLMNOPQR',\n",
       "  'KLMNOPQR',\n",
       "  'KLMNOPQRSTUVWXYZ',\n",
       "  'LMNOPQR',\n",
       "  'LMNOPQRSTUVWXYZ',\n",
       "  'STUVWXYZ'],\n",
       " [1, 2, 0, 1, 2, 1, 2, 0, 1, 0],\n",
       " [True, True, False, False, False, False, False, False, False, False],\n",
       " [False, False, False, False, False, False, True, False, True, True])"
      ]
     },
     "execution_count": 6,
     "metadata": {},
     "output_type": "execute_result"
    }
   ],
   "source": [
    "digest = Digest(\n",
    "    protease=\"([KR]|\\\\w(?=D)|\\\\w(?=K))\",\n",
    "    max_missed_cleavages=2,\n",
    "    peptide_length_min=7,\n",
    "    peptide_length_max=45,\n",
    ")\n",
    "seqs, miss_cleaves, prot_nterms, prot_cterms = digest.cleave_sequence(string.ascii_uppercase)\n",
    "seqs, miss_cleaves, prot_nterms, prot_cterms"
   ]
  },
  {
   "cell_type": "markdown",
   "metadata": {},
   "source": [
    "`alphabase.alphabase.protein.fasta.SpecLibFasta` provides functionalities to process peptides from the given fasta"
   ]
  },
  {
   "cell_type": "code",
   "execution_count": null,
   "metadata": {},
   "outputs": [],
   "source": [
    "from alphabase.protein.fasta import SpecLibFasta\n",
    "fastalib = SpecLibFasta(\n",
    "    charged_frag_types = [\"b_z1\", \"b_z2\", \"y_z1\", \"y_z2\"],\n",
    "    protease = \"trypsin\",\n",
    "    max_missed_cleavages = 2,\n",
    "    peptide_length_min = 7,\n",
    "    peptide_length_max = 35,\n",
    "    precursor_charge_min = 2,\n",
    "    precursor_charge_max = 4,\n",
    "    precursor_mz_min = 400.0,\n",
    "    precursor_mz_max = 2000.0,\n",
    "    var_mods = [\"Acetyl@Protein_N-term\", \"Oxidation@M\"],\n",
    "    min_var_mod_num = 0,\n",
    "    max_var_mod_num = 2,\n",
    "    fix_mods = [\"Carbamidomethyl@C\"],\n",
    "    labeling_channels = None,\n",
    "    special_mods = [],\n",
    "    min_special_mod_num = 0,\n",
    "    max_special_mod_num = 1,\n",
    "    special_mods_cannot_modify_pep_n_term = False,\n",
    "    special_mods_cannot_modify_pep_c_term = False,\n",
    "    decoy = None,\n",
    "    include_contaminants = False,\n",
    "    I_to_L = False,\n",
    ")\n",
    "\n",
    "# fastalib.import_and_process_fasta(fasta_files=[...])"
   ]
  },
  {
   "cell_type": "markdown",
   "metadata": {},
   "source": [
    "### PSM readers\n",
    "\n",
    "`alphabase.psm_reader`"
   ]
  },
  {
   "cell_type": "code",
   "execution_count": 7,
   "metadata": {},
   "outputs": [],
   "source": [
    "from alphabase.psm_reader import (\n",
    "    # DDA\n",
    "    AlphaPeptReader,\n",
    "    pFindReader,\n",
    "    MaxQuantReader,\n",
    "    SageReaderTSV,\n",
    "    SageReaderParquet,\n",
    "    MSFragger_PSM_TSV_Reader,\n",
    "    MSFraggerPepXML,\n",
    "    # DIA\n",
    "    DiannReader,\n",
    "    SpectronautReader,\n",
    "    SpectronautReportReader,\n",
    "    SwathReader,\n",
    ")"
   ]
  },
  {
   "cell_type": "code",
   "execution_count": null,
   "metadata": {},
   "outputs": [],
   "source": []
  }
 ],
 "metadata": {
  "kernelspec": {
   "display_name": "base",
   "language": "python",
   "name": "python3"
  },
  "language_info": {
   "codemirror_mode": {
    "name": "ipython",
    "version": 3
   },
   "file_extension": ".py",
   "mimetype": "text/x-python",
   "name": "python",
   "nbconvert_exporter": "python",
   "pygments_lexer": "ipython3",
   "version": "3.12.4"
  }
 },
 "nbformat": 4,
 "nbformat_minor": 2
}
