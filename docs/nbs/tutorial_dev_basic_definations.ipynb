{
 "cells": [
  {
   "cell_type": "markdown",
   "metadata": {},
   "source": [
    "# Tutorial for Dev: Basic Definations\n",
    "\n",
    "This notebook introduces low-level functionalities use in AlphaBase to developers."
   ]
  },
  {
   "cell_type": "code",
   "execution_count": 1,
   "metadata": {},
   "outputs": [],
   "source": [
    "%reload_ext autoreload\n",
    "%autoreload 2"
   ]
  },
  {
   "cell_type": "markdown",
   "metadata": {},
   "source": [
    "### Atoms/Elements\n",
    "\n",
    "The masses of all amino acids and modifications are calculated from their atom compositions.\n",
    "\n",
    "The atom information are defined in https://github.com/MannLabs/alphabase/blob/main/alphabase/constants/const_files/nist_element.yaml which is parsed from NIST, see https://github.com/MannLabs/alphabase/blob/main/nbs/nist_chem_to_yaml.ipynb.\n",
    "\n",
    "After adding some heavy isotopes, including 13C, 15N, 2H, and 18O, we obtain 109 kinds of atoms:"
   ]
  },
  {
   "cell_type": "code",
   "execution_count": 2,
   "metadata": {},
   "outputs": [
    {
     "data": {
      "text/html": [
       "<div>\n",
       "<style scoped>\n",
       "    .dataframe tbody tr th:only-of-type {\n",
       "        vertical-align: middle;\n",
       "    }\n",
       "\n",
       "    .dataframe tbody tr th {\n",
       "        vertical-align: top;\n",
       "    }\n",
       "\n",
       "    .dataframe thead th {\n",
       "        text-align: right;\n",
       "    }\n",
       "</style>\n",
       "<table border=\"1\" class=\"dataframe\">\n",
       "  <thead>\n",
       "    <tr style=\"text-align: right;\">\n",
       "      <th></th>\n",
       "      <th>abundance</th>\n",
       "      <th>mass</th>\n",
       "    </tr>\n",
       "  </thead>\n",
       "  <tbody>\n",
       "    <tr>\n",
       "      <th>13C</th>\n",
       "      <td>[0.01, 0.99]</td>\n",
       "      <td>[12.0, 13.00335483507]</td>\n",
       "    </tr>\n",
       "    <tr>\n",
       "      <th>14N</th>\n",
       "      <td>[0.996337, 0.003663]</td>\n",
       "      <td>[14.00307400443, 15.00010889888]</td>\n",
       "    </tr>\n",
       "    <tr>\n",
       "      <th>15N</th>\n",
       "      <td>[0.01, 0.99]</td>\n",
       "      <td>[14.00307400443, 15.00010889888]</td>\n",
       "    </tr>\n",
       "    <tr>\n",
       "      <th>18O</th>\n",
       "      <td>[0.005, 0.005, 0.99]</td>\n",
       "      <td>[15.99491461957, 16.9991317565, 17.99915961286]</td>\n",
       "    </tr>\n",
       "    <tr>\n",
       "      <th>2H</th>\n",
       "      <td>[0.01, 0.99]</td>\n",
       "      <td>[1.00782503223, 2.01410177812]</td>\n",
       "    </tr>\n",
       "    <tr>\n",
       "      <th>...</th>\n",
       "      <td>...</td>\n",
       "      <td>...</td>\n",
       "    </tr>\n",
       "    <tr>\n",
       "      <th>Xe</th>\n",
       "      <td>[0.000952, 0.00089, 0.019102, 0.264006, 0.0407...</td>\n",
       "      <td>[123.905892, 125.9042983, 127.903531, 128.9047...</td>\n",
       "    </tr>\n",
       "    <tr>\n",
       "      <th>Y</th>\n",
       "      <td>[1.0]</td>\n",
       "      <td>[88.9058403]</td>\n",
       "    </tr>\n",
       "    <tr>\n",
       "      <th>Yb</th>\n",
       "      <td>[0.00123, 0.02982, 0.1409, 0.2168, 0.16103, 0....</td>\n",
       "      <td>[167.9338896, 169.9347664, 170.9363302, 171.93...</td>\n",
       "    </tr>\n",
       "    <tr>\n",
       "      <th>Zn</th>\n",
       "      <td>[0.4917, 0.2773, 0.0404, 0.1845, 0.0061]</td>\n",
       "      <td>[63.92914201, 65.92603381, 66.92712775, 67.924...</td>\n",
       "    </tr>\n",
       "    <tr>\n",
       "      <th>Zr</th>\n",
       "      <td>[0.5145, 0.1122, 0.1715, 0.1738, 0.028]</td>\n",
       "      <td>[89.9046977, 90.9056396, 91.9050347, 93.906310...</td>\n",
       "    </tr>\n",
       "  </tbody>\n",
       "</table>\n",
       "<p>109 rows × 2 columns</p>\n",
       "</div>"
      ],
      "text/plain": [
       "                                             abundance  \\\n",
       "13C                                       [0.01, 0.99]   \n",
       "14N                               [0.996337, 0.003663]   \n",
       "15N                                       [0.01, 0.99]   \n",
       "18O                               [0.005, 0.005, 0.99]   \n",
       "2H                                        [0.01, 0.99]   \n",
       "..                                                 ...   \n",
       "Xe   [0.000952, 0.00089, 0.019102, 0.264006, 0.0407...   \n",
       "Y                                                [1.0]   \n",
       "Yb   [0.00123, 0.02982, 0.1409, 0.2168, 0.16103, 0....   \n",
       "Zn            [0.4917, 0.2773, 0.0404, 0.1845, 0.0061]   \n",
       "Zr             [0.5145, 0.1122, 0.1715, 0.1738, 0.028]   \n",
       "\n",
       "                                                  mass  \n",
       "13C                             [12.0, 13.00335483507]  \n",
       "14N                   [14.00307400443, 15.00010889888]  \n",
       "15N                   [14.00307400443, 15.00010889888]  \n",
       "18O    [15.99491461957, 16.9991317565, 17.99915961286]  \n",
       "2H                      [1.00782503223, 2.01410177812]  \n",
       "..                                                 ...  \n",
       "Xe   [123.905892, 125.9042983, 127.903531, 128.9047...  \n",
       "Y                                         [88.9058403]  \n",
       "Yb   [167.9338896, 169.9347664, 170.9363302, 171.93...  \n",
       "Zn   [63.92914201, 65.92603381, 66.92712775, 67.924...  \n",
       "Zr   [89.9046977, 90.9056396, 91.9050347, 93.906310...  \n",
       "\n",
       "[109 rows x 2 columns]"
      ]
     },
     "execution_count": 2,
     "metadata": {},
     "output_type": "execute_result"
    }
   ],
   "source": [
    "import pandas as pd\n",
    "from alphabase.constants.element import CHEM_INFO_DICT\n",
    "pd.DataFrame().from_dict(CHEM_INFO_DICT, orient='index')"
   ]
  },
  {
   "cell_type": "markdown",
   "metadata": {},
   "source": [
    "And their mono-isotopic mass are in `CHEM_MONO_MASS` (dict):"
   ]
  },
  {
   "cell_type": "code",
   "execution_count": 3,
   "metadata": {},
   "outputs": [
    {
     "data": {
      "text/html": [
       "<div>\n",
       "<style scoped>\n",
       "    .dataframe tbody tr th:only-of-type {\n",
       "        vertical-align: middle;\n",
       "    }\n",
       "\n",
       "    .dataframe tbody tr th {\n",
       "        vertical-align: top;\n",
       "    }\n",
       "\n",
       "    .dataframe thead th {\n",
       "        text-align: right;\n",
       "    }\n",
       "</style>\n",
       "<table border=\"1\" class=\"dataframe\">\n",
       "  <thead>\n",
       "    <tr style=\"text-align: right;\">\n",
       "      <th></th>\n",
       "      <th>0</th>\n",
       "    </tr>\n",
       "  </thead>\n",
       "  <tbody>\n",
       "    <tr>\n",
       "      <th>13C</th>\n",
       "      <td>13.003355</td>\n",
       "    </tr>\n",
       "    <tr>\n",
       "      <th>14N</th>\n",
       "      <td>14.003074</td>\n",
       "    </tr>\n",
       "    <tr>\n",
       "      <th>15N</th>\n",
       "      <td>15.000109</td>\n",
       "    </tr>\n",
       "    <tr>\n",
       "      <th>18O</th>\n",
       "      <td>17.999160</td>\n",
       "    </tr>\n",
       "    <tr>\n",
       "      <th>2H</th>\n",
       "      <td>2.014102</td>\n",
       "    </tr>\n",
       "    <tr>\n",
       "      <th>...</th>\n",
       "      <td>...</td>\n",
       "    </tr>\n",
       "    <tr>\n",
       "      <th>Xe</th>\n",
       "      <td>131.904155</td>\n",
       "    </tr>\n",
       "    <tr>\n",
       "      <th>Y</th>\n",
       "      <td>88.905840</td>\n",
       "    </tr>\n",
       "    <tr>\n",
       "      <th>Yb</th>\n",
       "      <td>173.938866</td>\n",
       "    </tr>\n",
       "    <tr>\n",
       "      <th>Zn</th>\n",
       "      <td>63.929142</td>\n",
       "    </tr>\n",
       "    <tr>\n",
       "      <th>Zr</th>\n",
       "      <td>89.904698</td>\n",
       "    </tr>\n",
       "  </tbody>\n",
       "</table>\n",
       "<p>109 rows × 1 columns</p>\n",
       "</div>"
      ],
      "text/plain": [
       "              0\n",
       "13C   13.003355\n",
       "14N   14.003074\n",
       "15N   15.000109\n",
       "18O   17.999160\n",
       "2H     2.014102\n",
       "..          ...\n",
       "Xe   131.904155\n",
       "Y     88.905840\n",
       "Yb   173.938866\n",
       "Zn    63.929142\n",
       "Zr    89.904698\n",
       "\n",
       "[109 rows x 1 columns]"
      ]
     },
     "execution_count": 3,
     "metadata": {},
     "output_type": "execute_result"
    }
   ],
   "source": [
    "from alphabase.constants.element import CHEM_MONO_MASS\n",
    "pd.DataFrame().from_dict(CHEM_MONO_MASS, orient='index')"
   ]
  },
  {
   "cell_type": "markdown",
   "metadata": {},
   "source": [
    "These atom masses are used to calculate the masses of amino acids, modifications, and then subsequent masses of peptides and fragments."
   ]
  },
  {
   "cell_type": "markdown",
   "metadata": {},
   "source": [
    "#### Commonly used molecular masses"
   ]
  },
  {
   "cell_type": "code",
   "execution_count": 4,
   "metadata": {},
   "outputs": [
    {
     "data": {
      "text/plain": [
       "(1.007276467, 1.0033, 17.02654910112, 18.01056468403)"
      ]
     },
     "execution_count": 4,
     "metadata": {},
     "output_type": "execute_result"
    }
   ],
   "source": [
    "from alphabase.constants.element import (\n",
    "    MASS_PROTON, MASS_ISOTOPE, MASS_NH3, MASS_H2O\n",
    ")\n",
    "MASS_PROTON, MASS_ISOTOPE, MASS_NH3, MASS_H2O"
   ]
  },
  {
   "cell_type": "markdown",
   "metadata": {},
   "source": [
    "### Amino Acids"
   ]
  },
  {
   "cell_type": "code",
   "execution_count": 5,
   "metadata": {},
   "outputs": [
    {
     "data": {
      "text/html": [
       "<div>\n",
       "<style scoped>\n",
       "    .dataframe tbody tr th:only-of-type {\n",
       "        vertical-align: middle;\n",
       "    }\n",
       "\n",
       "    .dataframe tbody tr th {\n",
       "        vertical-align: top;\n",
       "    }\n",
       "\n",
       "    .dataframe thead th {\n",
       "        text-align: right;\n",
       "    }\n",
       "</style>\n",
       "<table border=\"1\" class=\"dataframe\">\n",
       "  <thead>\n",
       "    <tr style=\"text-align: right;\">\n",
       "      <th></th>\n",
       "      <th>aa</th>\n",
       "      <th>formula</th>\n",
       "      <th>mass</th>\n",
       "    </tr>\n",
       "  </thead>\n",
       "  <tbody>\n",
       "    <tr>\n",
       "      <th>65</th>\n",
       "      <td>A</td>\n",
       "      <td>C(3)H(5)N(1)O(1)S(0)</td>\n",
       "      <td>7.103711e+01</td>\n",
       "    </tr>\n",
       "    <tr>\n",
       "      <th>66</th>\n",
       "      <td>B</td>\n",
       "      <td>C(1000000)</td>\n",
       "      <td>1.200000e+07</td>\n",
       "    </tr>\n",
       "    <tr>\n",
       "      <th>67</th>\n",
       "      <td>C</td>\n",
       "      <td>C(3)H(5)N(1)O(1)S(1)</td>\n",
       "      <td>1.030092e+02</td>\n",
       "    </tr>\n",
       "    <tr>\n",
       "      <th>68</th>\n",
       "      <td>D</td>\n",
       "      <td>C(4)H(5)N(1)O(3)S(0)</td>\n",
       "      <td>1.150269e+02</td>\n",
       "    </tr>\n",
       "    <tr>\n",
       "      <th>69</th>\n",
       "      <td>E</td>\n",
       "      <td>C(5)H(7)N(1)O(3)S(0)</td>\n",
       "      <td>1.290426e+02</td>\n",
       "    </tr>\n",
       "    <tr>\n",
       "      <th>70</th>\n",
       "      <td>F</td>\n",
       "      <td>C(9)H(9)N(1)O(1)S(0)</td>\n",
       "      <td>1.470684e+02</td>\n",
       "    </tr>\n",
       "    <tr>\n",
       "      <th>71</th>\n",
       "      <td>G</td>\n",
       "      <td>C(2)H(3)N(1)O(1)S(0)</td>\n",
       "      <td>5.702146e+01</td>\n",
       "    </tr>\n",
       "    <tr>\n",
       "      <th>72</th>\n",
       "      <td>H</td>\n",
       "      <td>C(6)H(7)N(3)O(1)S(0)</td>\n",
       "      <td>1.370589e+02</td>\n",
       "    </tr>\n",
       "    <tr>\n",
       "      <th>73</th>\n",
       "      <td>I</td>\n",
       "      <td>C(6)H(11)N(1)O(1)S(0)</td>\n",
       "      <td>1.130841e+02</td>\n",
       "    </tr>\n",
       "    <tr>\n",
       "      <th>74</th>\n",
       "      <td>J</td>\n",
       "      <td>C(6)H(11)N(1)O(1)S(0)</td>\n",
       "      <td>1.130841e+02</td>\n",
       "    </tr>\n",
       "    <tr>\n",
       "      <th>75</th>\n",
       "      <td>K</td>\n",
       "      <td>C(6)H(12)N(2)O(1)S(0)</td>\n",
       "      <td>1.280950e+02</td>\n",
       "    </tr>\n",
       "    <tr>\n",
       "      <th>76</th>\n",
       "      <td>L</td>\n",
       "      <td>C(6)H(11)N(1)O(1)S(0)</td>\n",
       "      <td>1.130841e+02</td>\n",
       "    </tr>\n",
       "    <tr>\n",
       "      <th>77</th>\n",
       "      <td>M</td>\n",
       "      <td>C(5)H(9)N(1)O(1)S(1)</td>\n",
       "      <td>1.310405e+02</td>\n",
       "    </tr>\n",
       "    <tr>\n",
       "      <th>78</th>\n",
       "      <td>N</td>\n",
       "      <td>C(4)H(6)N(2)O(2)S(0)</td>\n",
       "      <td>1.140429e+02</td>\n",
       "    </tr>\n",
       "    <tr>\n",
       "      <th>79</th>\n",
       "      <td>O</td>\n",
       "      <td>C(12)H(19)N(3)O(2)</td>\n",
       "      <td>2.371477e+02</td>\n",
       "    </tr>\n",
       "    <tr>\n",
       "      <th>80</th>\n",
       "      <td>P</td>\n",
       "      <td>C(5)H(7)N(1)O(1)S(0)</td>\n",
       "      <td>9.705276e+01</td>\n",
       "    </tr>\n",
       "    <tr>\n",
       "      <th>81</th>\n",
       "      <td>Q</td>\n",
       "      <td>C(5)H(8)N(2)O(2)S(0)</td>\n",
       "      <td>1.280586e+02</td>\n",
       "    </tr>\n",
       "    <tr>\n",
       "      <th>82</th>\n",
       "      <td>R</td>\n",
       "      <td>C(6)H(12)N(4)O(1)S(0)</td>\n",
       "      <td>1.561011e+02</td>\n",
       "    </tr>\n",
       "    <tr>\n",
       "      <th>83</th>\n",
       "      <td>S</td>\n",
       "      <td>C(3)H(5)N(1)O(2)S(0)</td>\n",
       "      <td>8.703203e+01</td>\n",
       "    </tr>\n",
       "    <tr>\n",
       "      <th>84</th>\n",
       "      <td>T</td>\n",
       "      <td>C(4)H(7)N(1)O(2)S(0)</td>\n",
       "      <td>1.010477e+02</td>\n",
       "    </tr>\n",
       "    <tr>\n",
       "      <th>85</th>\n",
       "      <td>U</td>\n",
       "      <td>C(3)H(5)N(1)O(1)Se(1)</td>\n",
       "      <td>1.509536e+02</td>\n",
       "    </tr>\n",
       "    <tr>\n",
       "      <th>86</th>\n",
       "      <td>V</td>\n",
       "      <td>C(5)H(9)N(1)O(1)S(0)</td>\n",
       "      <td>9.906841e+01</td>\n",
       "    </tr>\n",
       "    <tr>\n",
       "      <th>87</th>\n",
       "      <td>W</td>\n",
       "      <td>C(11)H(10)N(2)O(1)S(0)</td>\n",
       "      <td>1.860793e+02</td>\n",
       "    </tr>\n",
       "    <tr>\n",
       "      <th>88</th>\n",
       "      <td>X</td>\n",
       "      <td>C(1000000)</td>\n",
       "      <td>1.200000e+07</td>\n",
       "    </tr>\n",
       "    <tr>\n",
       "      <th>89</th>\n",
       "      <td>Y</td>\n",
       "      <td>C(9)H(9)N(1)O(2)S(0)</td>\n",
       "      <td>1.630633e+02</td>\n",
       "    </tr>\n",
       "    <tr>\n",
       "      <th>90</th>\n",
       "      <td>Z</td>\n",
       "      <td>C(1000000)</td>\n",
       "      <td>1.200000e+07</td>\n",
       "    </tr>\n",
       "  </tbody>\n",
       "</table>\n",
       "</div>"
      ],
      "text/plain": [
       "   aa                 formula          mass\n",
       "65  A    C(3)H(5)N(1)O(1)S(0)  7.103711e+01\n",
       "66  B              C(1000000)  1.200000e+07\n",
       "67  C    C(3)H(5)N(1)O(1)S(1)  1.030092e+02\n",
       "68  D    C(4)H(5)N(1)O(3)S(0)  1.150269e+02\n",
       "69  E    C(5)H(7)N(1)O(3)S(0)  1.290426e+02\n",
       "70  F    C(9)H(9)N(1)O(1)S(0)  1.470684e+02\n",
       "71  G    C(2)H(3)N(1)O(1)S(0)  5.702146e+01\n",
       "72  H    C(6)H(7)N(3)O(1)S(0)  1.370589e+02\n",
       "73  I   C(6)H(11)N(1)O(1)S(0)  1.130841e+02\n",
       "74  J   C(6)H(11)N(1)O(1)S(0)  1.130841e+02\n",
       "75  K   C(6)H(12)N(2)O(1)S(0)  1.280950e+02\n",
       "76  L   C(6)H(11)N(1)O(1)S(0)  1.130841e+02\n",
       "77  M    C(5)H(9)N(1)O(1)S(1)  1.310405e+02\n",
       "78  N    C(4)H(6)N(2)O(2)S(0)  1.140429e+02\n",
       "79  O      C(12)H(19)N(3)O(2)  2.371477e+02\n",
       "80  P    C(5)H(7)N(1)O(1)S(0)  9.705276e+01\n",
       "81  Q    C(5)H(8)N(2)O(2)S(0)  1.280586e+02\n",
       "82  R   C(6)H(12)N(4)O(1)S(0)  1.561011e+02\n",
       "83  S    C(3)H(5)N(1)O(2)S(0)  8.703203e+01\n",
       "84  T    C(4)H(7)N(1)O(2)S(0)  1.010477e+02\n",
       "85  U   C(3)H(5)N(1)O(1)Se(1)  1.509536e+02\n",
       "86  V    C(5)H(9)N(1)O(1)S(0)  9.906841e+01\n",
       "87  W  C(11)H(10)N(2)O(1)S(0)  1.860793e+02\n",
       "88  X              C(1000000)  1.200000e+07\n",
       "89  Y    C(9)H(9)N(1)O(2)S(0)  1.630633e+02\n",
       "90  Z              C(1000000)  1.200000e+07"
      ]
     },
     "execution_count": 5,
     "metadata": {},
     "output_type": "execute_result"
    }
   ],
   "source": [
    "from alphabase.constants.aa import AA_DF\n",
    "AA_DF.loc[ord('A'):ord('Z')]"
   ]
  },
  {
   "cell_type": "markdown",
   "metadata": {},
   "source": [
    "From `AA_DF`, we can see that amino acids are encoded by ASCII (128 characters). 65==ord('A'), ..., 90==ord('Z'). Unicode strings can be fastly converted to ascii int32 values using numpy:"
   ]
  },
  {
   "cell_type": "code",
   "execution_count": 6,
   "metadata": {},
   "outputs": [
    {
     "data": {
      "text/plain": [
       "array([65, 66, 67, 88, 89, 90], dtype=int32)"
      ]
     },
     "execution_count": 6,
     "metadata": {},
     "output_type": "execute_result"
    }
   ],
   "source": [
    "import numpy as np\n",
    "\n",
    "np.array(['ABCXYZ']).view(np.int32)"
   ]
  },
  {
   "cell_type": "markdown",
   "metadata": {},
   "source": [
    "But users does not need to know this, as we provided easy to use functionalities to get residue masses from sequences."
   ]
  },
  {
   "cell_type": "markdown",
   "metadata": {},
   "source": [
    "#### Calculate AA masses in batch"
   ]
  },
  {
   "cell_type": "code",
   "execution_count": 7,
   "metadata": {},
   "outputs": [
    {
     "data": {
      "text/plain": [
       "array([[131.04048509,  71.03711379, 103.00918496, 115.02694302,\n",
       "        129.04259309, 147.06841391,  57.02146372],\n",
       "       [131.04048509,  71.03711379, 128.09496302, 115.02694302,\n",
       "        129.04259309, 147.06841391,  57.02146372],\n",
       "       [131.04048509,  71.03711379, 128.09496302, 115.02694302,\n",
       "        129.04259309, 147.06841391, 156.10111102]])"
      ]
     },
     "execution_count": 7,
     "metadata": {},
     "output_type": "execute_result"
    }
   ],
   "source": [
    "from alphabase.constants.aa import calc_AA_masses_for_same_len_seqs\n",
    "calc_AA_masses_for_same_len_seqs(\n",
    "    [\n",
    "        'MACDEFG', 'MAKDEFG', 'MAKDEFR'\n",
    "    ]\n",
    ")"
   ]
  },
  {
   "cell_type": "markdown",
   "metadata": {},
   "source": [
    "### Modifications\n",
    "\n",
    "In AlphaBase, we used `mod_name@aa` to represent a modification, the `mod_name` is from UniMod. We also used `mod_name@Protein N-term`, `mod_name@Any N-term` and `mod_name@Any C-term` for terminal modifications, which follow the UniMod terminal name schema.\n",
    "\n",
    "The default modification TSV is stored in `alphabase/constants/const_files/modification.tsv`, users can add more modifications into the tsv file (only `mod_name` and `composition` colums are required). Please https://github.com/MannLabs/alphabase/blob/main/alphabase/constants/const_files/modification.tsv."
   ]
  },
  {
   "cell_type": "code",
   "execution_count": 8,
   "metadata": {},
   "outputs": [
    {
     "data": {
      "text/html": [
       "<div>\n",
       "<style scoped>\n",
       "    .dataframe tbody tr th:only-of-type {\n",
       "        vertical-align: middle;\n",
       "    }\n",
       "\n",
       "    .dataframe tbody tr th {\n",
       "        vertical-align: top;\n",
       "    }\n",
       "\n",
       "    .dataframe thead th {\n",
       "        text-align: right;\n",
       "    }\n",
       "</style>\n",
       "<table border=\"1\" class=\"dataframe\">\n",
       "  <thead>\n",
       "    <tr style=\"text-align: right;\">\n",
       "      <th></th>\n",
       "      <th>mod_name</th>\n",
       "      <th>unimod_mass</th>\n",
       "      <th>unimod_avge_mass</th>\n",
       "      <th>composition</th>\n",
       "      <th>unimod_modloss</th>\n",
       "      <th>modloss_composition</th>\n",
       "      <th>classification</th>\n",
       "      <th>unimod_id</th>\n",
       "      <th>modloss_importance</th>\n",
       "      <th>mass</th>\n",
       "      <th>modloss_original</th>\n",
       "      <th>modloss</th>\n",
       "    </tr>\n",
       "    <tr>\n",
       "      <th>mod_name</th>\n",
       "      <th></th>\n",
       "      <th></th>\n",
       "      <th></th>\n",
       "      <th></th>\n",
       "      <th></th>\n",
       "      <th></th>\n",
       "      <th></th>\n",
       "      <th></th>\n",
       "      <th></th>\n",
       "      <th></th>\n",
       "      <th></th>\n",
       "      <th></th>\n",
       "    </tr>\n",
       "  </thead>\n",
       "  <tbody>\n",
       "    <tr>\n",
       "      <th>Acetyl@T</th>\n",
       "      <td>Acetyl@T</td>\n",
       "      <td>42.010565</td>\n",
       "      <td>42.0367</td>\n",
       "      <td>H(2)C(2)O(1)</td>\n",
       "      <td>0.0</td>\n",
       "      <td></td>\n",
       "      <td>Post-translational</td>\n",
       "      <td>1</td>\n",
       "      <td>0.0</td>\n",
       "      <td>42.010565</td>\n",
       "      <td>0.0</td>\n",
       "      <td>0.0</td>\n",
       "    </tr>\n",
       "    <tr>\n",
       "      <th>Acetyl@Protein N-term</th>\n",
       "      <td>Acetyl@Protein N-term</td>\n",
       "      <td>42.010565</td>\n",
       "      <td>42.0367</td>\n",
       "      <td>H(2)C(2)O(1)</td>\n",
       "      <td>0.0</td>\n",
       "      <td></td>\n",
       "      <td>Post-translational</td>\n",
       "      <td>1</td>\n",
       "      <td>0.0</td>\n",
       "      <td>42.010565</td>\n",
       "      <td>0.0</td>\n",
       "      <td>0.0</td>\n",
       "    </tr>\n",
       "    <tr>\n",
       "      <th>Acetyl@S</th>\n",
       "      <td>Acetyl@S</td>\n",
       "      <td>42.010565</td>\n",
       "      <td>42.0367</td>\n",
       "      <td>H(2)C(2)O(1)</td>\n",
       "      <td>0.0</td>\n",
       "      <td></td>\n",
       "      <td>Post-translational</td>\n",
       "      <td>1</td>\n",
       "      <td>0.0</td>\n",
       "      <td>42.010565</td>\n",
       "      <td>0.0</td>\n",
       "      <td>0.0</td>\n",
       "    </tr>\n",
       "    <tr>\n",
       "      <th>Acetyl@C</th>\n",
       "      <td>Acetyl@C</td>\n",
       "      <td>42.010565</td>\n",
       "      <td>42.0367</td>\n",
       "      <td>H(2)C(2)O(1)</td>\n",
       "      <td>0.0</td>\n",
       "      <td></td>\n",
       "      <td>Post-translational</td>\n",
       "      <td>1</td>\n",
       "      <td>0.0</td>\n",
       "      <td>42.010565</td>\n",
       "      <td>0.0</td>\n",
       "      <td>0.0</td>\n",
       "    </tr>\n",
       "    <tr>\n",
       "      <th>Acetyl@Any N-term</th>\n",
       "      <td>Acetyl@Any N-term</td>\n",
       "      <td>42.010565</td>\n",
       "      <td>42.0367</td>\n",
       "      <td>H(2)C(2)O(1)</td>\n",
       "      <td>0.0</td>\n",
       "      <td></td>\n",
       "      <td>Multiple</td>\n",
       "      <td>1</td>\n",
       "      <td>0.0</td>\n",
       "      <td>42.010565</td>\n",
       "      <td>0.0</td>\n",
       "      <td>0.0</td>\n",
       "    </tr>\n",
       "    <tr>\n",
       "      <th>...</th>\n",
       "      <td>...</td>\n",
       "      <td>...</td>\n",
       "      <td>...</td>\n",
       "      <td>...</td>\n",
       "      <td>...</td>\n",
       "      <td>...</td>\n",
       "      <td>...</td>\n",
       "      <td>...</td>\n",
       "      <td>...</td>\n",
       "      <td>...</td>\n",
       "      <td>...</td>\n",
       "      <td>...</td>\n",
       "    </tr>\n",
       "    <tr>\n",
       "      <th>TMTpro_zero@K</th>\n",
       "      <td>TMTpro_zero@K</td>\n",
       "      <td>295.189592</td>\n",
       "      <td>295.3773</td>\n",
       "      <td>H(25)C(15)N(3)O(3)</td>\n",
       "      <td>0.0</td>\n",
       "      <td></td>\n",
       "      <td>Chemical derivative</td>\n",
       "      <td>2017</td>\n",
       "      <td>0.0</td>\n",
       "      <td>295.189592</td>\n",
       "      <td>0.0</td>\n",
       "      <td>0.0</td>\n",
       "    </tr>\n",
       "    <tr>\n",
       "      <th>TMTpro_zero@T</th>\n",
       "      <td>TMTpro_zero@T</td>\n",
       "      <td>295.189592</td>\n",
       "      <td>295.3773</td>\n",
       "      <td>H(25)C(15)N(3)O(3)</td>\n",
       "      <td>0.0</td>\n",
       "      <td></td>\n",
       "      <td>Chemical derivative</td>\n",
       "      <td>2017</td>\n",
       "      <td>0.0</td>\n",
       "      <td>295.189592</td>\n",
       "      <td>0.0</td>\n",
       "      <td>0.0</td>\n",
       "    </tr>\n",
       "    <tr>\n",
       "      <th>Andro-H2O@C</th>\n",
       "      <td>Andro-H2O@C</td>\n",
       "      <td>332.198760</td>\n",
       "      <td>332.4339</td>\n",
       "      <td>H(28)C(20)O(4)</td>\n",
       "      <td>0.0</td>\n",
       "      <td></td>\n",
       "      <td>Chemical derivative</td>\n",
       "      <td>2025</td>\n",
       "      <td>0.0</td>\n",
       "      <td>332.198759</td>\n",
       "      <td>0.0</td>\n",
       "      <td>0.0</td>\n",
       "    </tr>\n",
       "    <tr>\n",
       "      <th>His+O(2)@H</th>\n",
       "      <td>His+O(2)@H</td>\n",
       "      <td>169.048741</td>\n",
       "      <td>169.1381</td>\n",
       "      <td>H(7)C(6)N(3)O(3)</td>\n",
       "      <td>0.0</td>\n",
       "      <td></td>\n",
       "      <td>Post-translational</td>\n",
       "      <td>2027</td>\n",
       "      <td>0.0</td>\n",
       "      <td>169.048741</td>\n",
       "      <td>0.0</td>\n",
       "      <td>0.0</td>\n",
       "    </tr>\n",
       "    <tr>\n",
       "      <th>GlyGly@K</th>\n",
       "      <td>GlyGly@K</td>\n",
       "      <td>114.042927</td>\n",
       "      <td>114.1026</td>\n",
       "      <td>H(6)C(4)N(2)O(2)</td>\n",
       "      <td>0.0</td>\n",
       "      <td></td>\n",
       "      <td>Post-translational</td>\n",
       "      <td>121</td>\n",
       "      <td>1000000.0</td>\n",
       "      <td>114.042927</td>\n",
       "      <td>0.0</td>\n",
       "      <td>0.0</td>\n",
       "    </tr>\n",
       "  </tbody>\n",
       "</table>\n",
       "<p>2685 rows × 12 columns</p>\n",
       "</div>"
      ],
      "text/plain": [
       "                                    mod_name  unimod_mass  unimod_avge_mass  \\\n",
       "mod_name                                                                      \n",
       "Acetyl@T                            Acetyl@T    42.010565           42.0367   \n",
       "Acetyl@Protein N-term  Acetyl@Protein N-term    42.010565           42.0367   \n",
       "Acetyl@S                            Acetyl@S    42.010565           42.0367   \n",
       "Acetyl@C                            Acetyl@C    42.010565           42.0367   \n",
       "Acetyl@Any N-term          Acetyl@Any N-term    42.010565           42.0367   \n",
       "...                                      ...          ...               ...   \n",
       "TMTpro_zero@K                  TMTpro_zero@K   295.189592          295.3773   \n",
       "TMTpro_zero@T                  TMTpro_zero@T   295.189592          295.3773   \n",
       "Andro-H2O@C                      Andro-H2O@C   332.198760          332.4339   \n",
       "His+O(2)@H                        His+O(2)@H   169.048741          169.1381   \n",
       "GlyGly@K                            GlyGly@K   114.042927          114.1026   \n",
       "\n",
       "                              composition  unimod_modloss modloss_composition  \\\n",
       "mod_name                                                                        \n",
       "Acetyl@T                     H(2)C(2)O(1)             0.0                       \n",
       "Acetyl@Protein N-term        H(2)C(2)O(1)             0.0                       \n",
       "Acetyl@S                     H(2)C(2)O(1)             0.0                       \n",
       "Acetyl@C                     H(2)C(2)O(1)             0.0                       \n",
       "Acetyl@Any N-term            H(2)C(2)O(1)             0.0                       \n",
       "...                                   ...             ...                 ...   \n",
       "TMTpro_zero@K          H(25)C(15)N(3)O(3)             0.0                       \n",
       "TMTpro_zero@T          H(25)C(15)N(3)O(3)             0.0                       \n",
       "Andro-H2O@C                H(28)C(20)O(4)             0.0                       \n",
       "His+O(2)@H               H(7)C(6)N(3)O(3)             0.0                       \n",
       "GlyGly@K                 H(6)C(4)N(2)O(2)             0.0                       \n",
       "\n",
       "                            classification  unimod_id  modloss_importance  \\\n",
       "mod_name                                                                    \n",
       "Acetyl@T                Post-translational          1                 0.0   \n",
       "Acetyl@Protein N-term   Post-translational          1                 0.0   \n",
       "Acetyl@S                Post-translational          1                 0.0   \n",
       "Acetyl@C                Post-translational          1                 0.0   \n",
       "Acetyl@Any N-term                 Multiple          1                 0.0   \n",
       "...                                    ...        ...                 ...   \n",
       "TMTpro_zero@K          Chemical derivative       2017                 0.0   \n",
       "TMTpro_zero@T          Chemical derivative       2017                 0.0   \n",
       "Andro-H2O@C            Chemical derivative       2025                 0.0   \n",
       "His+O(2)@H              Post-translational       2027                 0.0   \n",
       "GlyGly@K                Post-translational        121           1000000.0   \n",
       "\n",
       "                             mass  modloss_original  modloss  \n",
       "mod_name                                                      \n",
       "Acetyl@T                42.010565               0.0      0.0  \n",
       "Acetyl@Protein N-term   42.010565               0.0      0.0  \n",
       "Acetyl@S                42.010565               0.0      0.0  \n",
       "Acetyl@C                42.010565               0.0      0.0  \n",
       "Acetyl@Any N-term       42.010565               0.0      0.0  \n",
       "...                           ...               ...      ...  \n",
       "TMTpro_zero@K          295.189592               0.0      0.0  \n",
       "TMTpro_zero@T          295.189592               0.0      0.0  \n",
       "Andro-H2O@C            332.198759               0.0      0.0  \n",
       "His+O(2)@H             169.048741               0.0      0.0  \n",
       "GlyGly@K               114.042927               0.0      0.0  \n",
       "\n",
       "[2685 rows x 12 columns]"
      ]
     },
     "execution_count": 8,
     "metadata": {},
     "output_type": "execute_result"
    }
   ],
   "source": [
    "from alphabase.constants.modification import MOD_DF\n",
    "MOD_DF"
   ]
  },
  {
   "cell_type": "markdown",
   "metadata": {},
   "source": [
    "#### Modification sites\n",
    "\n",
    "In alphabase, we use 0 and -1 to represent modification site of N-term and C-term, respectively. For other modification sites, we use 1 to n."
   ]
  },
  {
   "cell_type": "code",
   "execution_count": 9,
   "metadata": {},
   "outputs": [
    {
     "data": {
      "text/plain": [
       "array([42.01056468,  0.        , 57.02146372,  0.        ,  0.        ,\n",
       "        0.        ,  0.        ])"
      ]
     },
     "execution_count": 9,
     "metadata": {},
     "output_type": "execute_result"
    }
   ],
   "source": [
    "from alphabase.constants.modification import calc_modification_mass\n",
    "sequence = 'MACDEFG'\n",
    "mod_names = ['Acetyl@Any N-term', 'Carbamidomethyl@C']\n",
    "mod_sites = [0,3]\n",
    "calc_modification_mass(\n",
    "    nAA=len(sequence),\n",
    "    mod_names=mod_names,\n",
    "    mod_sites=mod_sites\n",
    ")"
   ]
  },
  {
   "cell_type": "markdown",
   "metadata": {},
   "source": [
    "The modifications on the first amino acid and N-term will be added."
   ]
  },
  {
   "cell_type": "code",
   "execution_count": 10,
   "metadata": {},
   "outputs": [
    {
     "data": {
      "text/plain": [
       "array([58.0054793,  0.       ,  0.       ,  0.       ,  0.       ,\n",
       "        0.       ,  0.       ])"
      ]
     },
     "execution_count": 10,
     "metadata": {},
     "output_type": "execute_result"
    }
   ],
   "source": [
    "sequence = 'MAKDEFG'\n",
    "mod_names = ['Acetyl@Any N-term', 'Oxidation@M']\n",
    "mod_sites = [0,1]\n",
    "calc_modification_mass(\n",
    "    nAA=len(sequence),\n",
    "    mod_names=mod_names,\n",
    "    mod_sites=mod_sites\n",
    ")"
   ]
  },
  {
   "cell_type": "markdown",
   "metadata": {},
   "source": [
    "Multiple modification at a single site is supported, for example, in the following example, `K3` contains both `GlyGly@K` and `Dimethyl@K`:"
   ]
  },
  {
   "cell_type": "code",
   "execution_count": 11,
   "metadata": {},
   "outputs": [
    {
     "data": {
      "text/plain": [
       "array([  0.        ,   0.        , 142.07422757,   0.        ,\n",
       "         0.        ,   0.        ,   0.        ])"
      ]
     },
     "execution_count": 11,
     "metadata": {},
     "output_type": "execute_result"
    }
   ],
   "source": [
    "sequence = 'MAKDEFR'\n",
    "mod_names = ['GlyGly@K', 'Dimethyl@K']\n",
    "mod_sites = [3,3]\n",
    "calc_modification_mass(\n",
    "    nAA=len(sequence),\n",
    "    mod_names=mod_names,\n",
    "    mod_sites=mod_sites\n",
    ")"
   ]
  },
  {
   "cell_type": "markdown",
   "metadata": {},
   "source": [
    "#### Caculate modification masses in batch"
   ]
  },
  {
   "cell_type": "code",
   "execution_count": 12,
   "metadata": {},
   "outputs": [
    {
     "data": {
      "text/plain": [
       "array([[ 42.01056468,   0.        ,  57.02146372,   0.        ,\n",
       "          0.        ,   0.        ,   0.        ],\n",
       "       [ 58.0054793 ,   0.        ,   0.        ,   0.        ,\n",
       "          0.        ,   0.        ,   0.        ],\n",
       "       [  0.        ,   0.        , 142.07422757,   0.        ,\n",
       "          0.        ,   0.        ,   0.        ]])"
      ]
     },
     "execution_count": 12,
     "metadata": {},
     "output_type": "execute_result"
    }
   ],
   "source": [
    "from alphabase.constants.modification import calc_mod_masses_for_same_len_seqs\n",
    "calc_mod_masses_for_same_len_seqs(\n",
    "    nAA=7,\n",
    "    mod_names_list=[\n",
    "        ['Acetyl@Any N-term', 'Carbamidomethyl@C'],\n",
    "        ['Acetyl@Any N-term', 'Oxidation@M'],\n",
    "        ['GlyGly@K', 'Dimethyl@K'],\n",
    "    ],\n",
    "    mod_sites_list=[\n",
    "        [0, 3],\n",
    "        [0, 1],\n",
    "        [3, 3],\n",
    "    ]\n",
    ")"
   ]
  },
  {
   "cell_type": "markdown",
   "metadata": {},
   "source": [
    "### Mass calculation functionalities"
   ]
  },
  {
   "cell_type": "markdown",
   "metadata": {},
   "source": [
    "#### Calculate AA and modification masses in batch"
   ]
  },
  {
   "cell_type": "code",
   "execution_count": 13,
   "metadata": {},
   "outputs": [
    {
     "data": {
      "text/plain": [
       "array([[173.05104977,  71.03711379, 160.03064868, 115.02694302,\n",
       "        129.04259309, 147.06841391,  57.02146372],\n",
       "       [189.04596439,  71.03711379, 128.09496302, 115.02694302,\n",
       "        129.04259309, 147.06841391,  57.02146372],\n",
       "       [131.04048509,  71.03711379, 270.16919059, 115.02694302,\n",
       "        129.04259309, 147.06841391, 156.10111102]])"
      ]
     },
     "execution_count": 13,
     "metadata": {},
     "output_type": "execute_result"
    }
   ],
   "source": [
    "from alphabase.constants.aa import calc_AA_masses_for_same_len_seqs\n",
    "from alphabase.constants.modification import calc_mod_masses_for_same_len_seqs\n",
    "mod_masses = calc_mod_masses_for_same_len_seqs(\n",
    "    nAA=7,\n",
    "    mod_names_list=[\n",
    "        ['Acetyl@Any N-term', 'Carbamidomethyl@C'],\n",
    "        ['Acetyl@Any N-term', 'Oxidation@M'],\n",
    "        ['GlyGly@K', 'Dimethyl@K'],\n",
    "    ],\n",
    "    mod_sites_list=[\n",
    "        [0, 3],\n",
    "        [0, 1],\n",
    "        [3, 3],\n",
    "    ]\n",
    ")\n",
    "aa_masses = calc_AA_masses_for_same_len_seqs(\n",
    "    [\n",
    "        'MACDEFG', 'MAKDEFG', 'MAKDEFR'\n",
    "    ]\n",
    ")\n",
    "mod_masses+aa_masses"
   ]
  },
  {
   "cell_type": "markdown",
   "metadata": {},
   "source": [
    "#### np.cumsum to get b-ion neutral masses"
   ]
  },
  {
   "cell_type": "code",
   "execution_count": 14,
   "metadata": {},
   "outputs": [
    {
     "data": {
      "text/plain": [
       "array([[ 173.05104977,  244.08816356,  404.11881224,  519.14575526,\n",
       "         648.18834835,  795.25676227,  852.27822599],\n",
       "       [ 189.04596439,  260.08307818,  388.17804119,  503.20498422,\n",
       "         632.24757731,  779.31599122,  836.33745494],\n",
       "       [ 131.04048509,  202.07759887,  472.24678946,  587.27373248,\n",
       "         716.31632557,  863.38473949, 1019.48585051]])"
      ]
     },
     "execution_count": 14,
     "metadata": {},
     "output_type": "execute_result"
    }
   ],
   "source": [
    "import numpy as np\n",
    "np.cumsum(aa_masses+mod_masses, axis=1)"
   ]
  },
  {
   "cell_type": "markdown",
   "metadata": {},
   "source": [
    "#### Mass functionalities in 'mass_calc'\n",
    "\n",
    "The functionalities for peptide and fragment neutral masses have been implement in `alphabase.peptide.mass_calc`:"
   ]
  },
  {
   "cell_type": "code",
   "execution_count": 15,
   "metadata": {},
   "outputs": [
    {
     "data": {
      "text/plain": [
       "array([ 870.28879067,  854.34801962, 1037.49641519])"
      ]
     },
     "execution_count": 15,
     "metadata": {},
     "output_type": "execute_result"
    }
   ],
   "source": [
    "from alphabase.peptide.mass_calc import calc_peptide_masses_for_same_len_seqs\n",
    "\n",
    "peptide_masses = calc_peptide_masses_for_same_len_seqs(\n",
    "    ['MACDEFG', 'MAKDEFG', 'MAKDEFR'],\n",
    "    mod_list=[\n",
    "        'Acetyl@Any N-term;Carbamidomethyl@C',\n",
    "        'Acetyl@Any N-term;Oxidation@M',\n",
    "        'GlyGly@K;Dimethyl@K',\n",
    "    ],\n",
    ")\n",
    "peptide_masses"
   ]
  },
  {
   "cell_type": "code",
   "execution_count": 16,
   "metadata": {},
   "outputs": [
    {
     "data": {
      "text/plain": [
       "array([ 870.28879067,  854.34801962, 1037.49641519])"
      ]
     },
     "execution_count": 16,
     "metadata": {},
     "output_type": "execute_result"
    }
   ],
   "source": [
    "from alphabase.peptide.mass_calc import calc_b_y_and_peptide_masses_for_same_len_seqs\n",
    "b_masses, y_masses, peptide_masses = calc_b_y_and_peptide_masses_for_same_len_seqs(\n",
    "    ['MACDEFG', 'MAKDEFG', 'MAKDEFR'],\n",
    "    mod_list=[\n",
    "        ['Acetyl@Any N-term', 'Carbamidomethyl@C'],\n",
    "        ['Acetyl@Any N-term', 'Oxidation@M'],\n",
    "        ['GlyGly@K', 'Dimethyl@K'],\n",
    "    ],\n",
    "    site_list=[\n",
    "        [0, 3],\n",
    "        [0, 1],\n",
    "        [3, 3],\n",
    "    ],\n",
    ")\n",
    "peptide_masses"
   ]
  },
  {
   "cell_type": "code",
   "execution_count": 17,
   "metadata": {},
   "outputs": [
    {
     "data": {
      "text/plain": [
       "array([[173.05104977, 244.08816356, 404.11881224, 519.14575526,\n",
       "        648.18834835, 795.25676227],\n",
       "       [189.04596439, 260.08307818, 388.17804119, 503.20498422,\n",
       "        632.24757731, 779.31599122],\n",
       "       [131.04048509, 202.07759887, 472.24678946, 587.27373248,\n",
       "        716.31632557, 863.38473949]])"
      ]
     },
     "execution_count": 17,
     "metadata": {},
     "output_type": "execute_result"
    }
   ],
   "source": [
    "b_masses"
   ]
  },
  {
   "cell_type": "code",
   "execution_count": 18,
   "metadata": {},
   "outputs": [
    {
     "data": {
      "text/plain": [
       "array([[697.2377409 , 626.20062711, 466.16997843, 351.14303541,\n",
       "        222.10044232,  75.0320284 ],\n",
       "       [665.30205523, 594.26494145, 466.16997843, 351.14303541,\n",
       "        222.10044232,  75.0320284 ],\n",
       "       [906.45593011, 835.41881632, 565.24962574, 450.22268271,\n",
       "        321.18008962, 174.11167571]])"
      ]
     },
     "execution_count": 18,
     "metadata": {},
     "output_type": "execute_result"
    }
   ],
   "source": [
    "y_masses"
   ]
  },
  {
   "cell_type": "markdown",
   "metadata": {},
   "source": [
    "### Isotope distribution\n",
    "\n",
    "`alphabase.constants.isotope.IsotopeDistribution` will calculate the isotope distribution and the mono-isotopic idx in the distribution for a given atom composition. \n",
    "\n",
    "What is the mono-isotopic idx (mono_idx)? For an atom, the `mono_idx` points to the highest abundance isotope, so the value is `round(mass of highest isotope - mass of first isotope)`."
   ]
  },
  {
   "cell_type": "code",
   "execution_count": 19,
   "metadata": {},
   "outputs": [
    {
     "data": {
      "text/html": [
       "<div>\n",
       "<style scoped>\n",
       "    .dataframe tbody tr th:only-of-type {\n",
       "        vertical-align: middle;\n",
       "    }\n",
       "\n",
       "    .dataframe tbody tr th {\n",
       "        vertical-align: top;\n",
       "    }\n",
       "\n",
       "    .dataframe thead th {\n",
       "        text-align: right;\n",
       "    }\n",
       "</style>\n",
       "<table border=\"1\" class=\"dataframe\">\n",
       "  <thead>\n",
       "    <tr style=\"text-align: right;\">\n",
       "      <th></th>\n",
       "      <th>abundance</th>\n",
       "      <th>mass</th>\n",
       "      <th>mono_idx</th>\n",
       "    </tr>\n",
       "  </thead>\n",
       "  <tbody>\n",
       "    <tr>\n",
       "      <th>13C</th>\n",
       "      <td>[0.01, 0.99]</td>\n",
       "      <td>[12.0, 13.00335483507]</td>\n",
       "      <td>1</td>\n",
       "    </tr>\n",
       "    <tr>\n",
       "      <th>14N</th>\n",
       "      <td>[0.996337, 0.003663]</td>\n",
       "      <td>[14.00307400443, 15.00010889888]</td>\n",
       "      <td>0</td>\n",
       "    </tr>\n",
       "    <tr>\n",
       "      <th>15N</th>\n",
       "      <td>[0.01, 0.99]</td>\n",
       "      <td>[14.00307400443, 15.00010889888]</td>\n",
       "      <td>1</td>\n",
       "    </tr>\n",
       "    <tr>\n",
       "      <th>18O</th>\n",
       "      <td>[0.005, 0.005, 0.99]</td>\n",
       "      <td>[15.99491461957, 16.9991317565, 17.99915961286]</td>\n",
       "      <td>2</td>\n",
       "    </tr>\n",
       "    <tr>\n",
       "      <th>2H</th>\n",
       "      <td>[0.01, 0.99]</td>\n",
       "      <td>[1.00782503223, 2.01410177812]</td>\n",
       "      <td>1</td>\n",
       "    </tr>\n",
       "    <tr>\n",
       "      <th>...</th>\n",
       "      <td>...</td>\n",
       "      <td>...</td>\n",
       "      <td>...</td>\n",
       "    </tr>\n",
       "    <tr>\n",
       "      <th>Xe</th>\n",
       "      <td>[0.000952, 0.00089, 0.019102, 0.264006, 0.0407...</td>\n",
       "      <td>[123.905892, 125.9042983, 127.903531, 128.9047...</td>\n",
       "      <td>8</td>\n",
       "    </tr>\n",
       "    <tr>\n",
       "      <th>Y</th>\n",
       "      <td>[1.0]</td>\n",
       "      <td>[88.9058403]</td>\n",
       "      <td>0</td>\n",
       "    </tr>\n",
       "    <tr>\n",
       "      <th>Yb</th>\n",
       "      <td>[0.00123, 0.02982, 0.1409, 0.2168, 0.16103, 0....</td>\n",
       "      <td>[167.9338896, 169.9347664, 170.9363302, 171.93...</td>\n",
       "      <td>6</td>\n",
       "    </tr>\n",
       "    <tr>\n",
       "      <th>Zn</th>\n",
       "      <td>[0.4917, 0.2773, 0.0404, 0.1845, 0.0061]</td>\n",
       "      <td>[63.92914201, 65.92603381, 66.92712775, 67.924...</td>\n",
       "      <td>0</td>\n",
       "    </tr>\n",
       "    <tr>\n",
       "      <th>Zr</th>\n",
       "      <td>[0.5145, 0.1122, 0.1715, 0.1738, 0.028]</td>\n",
       "      <td>[89.9046977, 90.9056396, 91.9050347, 93.906310...</td>\n",
       "      <td>0</td>\n",
       "    </tr>\n",
       "  </tbody>\n",
       "</table>\n",
       "<p>109 rows × 3 columns</p>\n",
       "</div>"
      ],
      "text/plain": [
       "                                             abundance  \\\n",
       "13C                                       [0.01, 0.99]   \n",
       "14N                               [0.996337, 0.003663]   \n",
       "15N                                       [0.01, 0.99]   \n",
       "18O                               [0.005, 0.005, 0.99]   \n",
       "2H                                        [0.01, 0.99]   \n",
       "..                                                 ...   \n",
       "Xe   [0.000952, 0.00089, 0.019102, 0.264006, 0.0407...   \n",
       "Y                                                [1.0]   \n",
       "Yb   [0.00123, 0.02982, 0.1409, 0.2168, 0.16103, 0....   \n",
       "Zn            [0.4917, 0.2773, 0.0404, 0.1845, 0.0061]   \n",
       "Zr             [0.5145, 0.1122, 0.1715, 0.1738, 0.028]   \n",
       "\n",
       "                                                  mass  mono_idx  \n",
       "13C                             [12.0, 13.00335483507]         1  \n",
       "14N                   [14.00307400443, 15.00010889888]         0  \n",
       "15N                   [14.00307400443, 15.00010889888]         1  \n",
       "18O    [15.99491461957, 16.9991317565, 17.99915961286]         2  \n",
       "2H                      [1.00782503223, 2.01410177812]         1  \n",
       "..                                                 ...       ...  \n",
       "Xe   [123.905892, 125.9042983, 127.903531, 128.9047...         8  \n",
       "Y                                         [88.9058403]         0  \n",
       "Yb   [167.9338896, 169.9347664, 170.9363302, 171.93...         6  \n",
       "Zn   [63.92914201, 65.92603381, 66.92712775, 67.924...         0  \n",
       "Zr   [89.9046977, 90.9056396, 91.9050347, 93.906310...         0  \n",
       "\n",
       "[109 rows x 3 columns]"
      ]
     },
     "execution_count": 19,
     "metadata": {},
     "output_type": "execute_result"
    }
   ],
   "source": [
    "import pandas as pd\n",
    "from alphabase.constants.element import CHEM_INFO_DICT\n",
    "atom_df = pd.DataFrame().from_dict(CHEM_INFO_DICT, orient='index')\n",
    "def get_mono(masses_abundances):\n",
    "    masses, abundances = masses_abundances\n",
    "    return round(masses[np.argmax(abundances)]-masses[0])\n",
    "atom_df['mono_idx'] = atom_df[['mass','abundance']].apply(\n",
    "    get_mono, axis=1\n",
    ")\n",
    "atom_df"
   ]
  },
  {
   "cell_type": "markdown",
   "metadata": {},
   "source": [
    "`mono_idx` of an atom composition refers to the sum of the `mono_idx` of all atoms. In AlphaBase, `alphabase.constants.isotope.IsotopeDistribution` calculate both isotope abundance and `mono_idx`. "
   ]
  },
  {
   "cell_type": "markdown",
   "metadata": {},
   "source": [
    "For example, `Fe`'s `mono_idx` is 2,"
   ]
  },
  {
   "cell_type": "code",
   "execution_count": 20,
   "metadata": {},
   "outputs": [
    {
     "data": {
      "text/plain": [
       "abundance                 [0.05845, 0.91754, 0.02119, 0.00282]\n",
       "mass         [53.93960899, 55.93493633, 56.93539284, 57.933...\n",
       "mono_idx                                                     2\n",
       "Name: Fe, dtype: object"
      ]
     },
     "execution_count": 20,
     "metadata": {},
     "output_type": "execute_result"
    }
   ],
   "source": [
    "atom_df.loc['Fe']"
   ]
  },
  {
   "cell_type": "markdown",
   "metadata": {},
   "source": [
    "So `C(1)Fe(1)`'s `mono_idx` is also 2:"
   ]
  },
  {
   "cell_type": "code",
   "execution_count": 21,
   "metadata": {},
   "outputs": [
    {
     "data": {
      "text/plain": [
       "(array([5.78245850e-02, 6.25415000e-04, 9.07722322e-01, 3.07809450e-02,\n",
       "        3.01655900e-03, 3.01740000e-05, 0.00000000e+00, 0.00000000e+00,\n",
       "        0.00000000e+00, 0.00000000e+00]),\n",
       " 2)"
      ]
     },
     "execution_count": 21,
     "metadata": {},
     "output_type": "execute_result"
    }
   ],
   "source": [
    "from alphabase.constants.isotope import IsotopeDistribution, parse_formula\n",
    "iso = IsotopeDistribution()\n",
    "iso.calc_formula_distribution(\n",
    "    [('C',1),('Fe',1)]\n",
    ")"
   ]
  },
  {
   "cell_type": "markdown",
   "metadata": {},
   "source": [
    "But `13C(1)Fe(1)`'s `mono_idx` should be 3:"
   ]
  },
  {
   "cell_type": "code",
   "execution_count": 22,
   "metadata": {},
   "outputs": [
    {
     "data": {
      "text/plain": [
       "(array([5.845000e-04, 5.786550e-02, 9.175400e-03, 9.085765e-01,\n",
       "        2.100630e-02, 2.791800e-03, 0.000000e+00, 0.000000e+00,\n",
       "        0.000000e+00, 0.000000e+00]),\n",
       " 3)"
      ]
     },
     "execution_count": 22,
     "metadata": {},
     "output_type": "execute_result"
    }
   ],
   "source": [
    "iso.calc_formula_distribution(\n",
    "    [('13C',1),('Fe',1)]\n",
    ")"
   ]
  },
  {
   "cell_type": "markdown",
   "metadata": {},
   "source": [
    "The `mono_idx` for most of the atom compositions is 0, no matter how big the compositions are."
   ]
  },
  {
   "cell_type": "code",
   "execution_count": 23,
   "metadata": {},
   "outputs": [
    {
     "data": {
      "text/plain": [
       "[('C', 100), ('H', 100), ('O', 50), ('Na', 1)]"
      ]
     },
     "execution_count": 23,
     "metadata": {},
     "output_type": "execute_result"
    }
   ],
   "source": [
    "from alphabase.constants.isotope import IsotopeDistribution, parse_formula\n",
    "iso = IsotopeDistribution()\n",
    "\n",
    "formula = 'C(100)H(100)O(50)Na(1)'\n",
    "formula = parse_formula(formula)\n",
    "formula"
   ]
  },
  {
   "cell_type": "markdown",
   "metadata": {},
   "source": [
    "> `mono` isotope is not the `highest` isotope!!!"
   ]
  },
  {
   "cell_type": "code",
   "execution_count": 24,
   "metadata": {},
   "outputs": [
    {
     "data": {
      "text/plain": [
       "(0,\n",
       " 1,\n",
       " array([2.98521241e-01, 3.31991573e-01, 2.13532938e-01, 1.00604878e-01,\n",
       "        3.82856126e-02, 1.23872292e-02, 3.51773755e-03, 8.95830236e-04,\n",
       "        2.07763024e-04, 4.43944472e-05]))"
      ]
     },
     "execution_count": 24,
     "metadata": {},
     "output_type": "execute_result"
    }
   ],
   "source": [
    "dist, mono = iso.calc_formula_distribution(formula)\n",
    "mono, dist.argmax(), dist"
   ]
  },
  {
   "cell_type": "markdown",
   "metadata": {},
   "source": [
    "All these low-level functionalities have been integrated into DataFrame functionalities, see `tutorial_dev_dataframes.ipynb` or `Tutorial for Dev: Peptide and Fragment DataFrames`"
   ]
  }
 ],
 "metadata": {
  "kernelspec": {
   "display_name": "Python 3.8.3 ('base')",
   "language": "python",
   "name": "python3"
  },
  "language_info": {
   "codemirror_mode": {
    "name": "ipython",
    "version": 3
   },
   "file_extension": ".py",
   "mimetype": "text/x-python",
   "name": "python",
   "nbconvert_exporter": "python",
   "pygments_lexer": "ipython3",
   "version": "3.8.3"
  },
  "orig_nbformat": 4,
  "vscode": {
   "interpreter": {
    "hash": "8a3b27e141e49c996c9b863f8707e97aabd49c4a7e8445b9b783b34e4a21a9b2"
   }
  }
 },
 "nbformat": 4,
 "nbformat_minor": 2
}
