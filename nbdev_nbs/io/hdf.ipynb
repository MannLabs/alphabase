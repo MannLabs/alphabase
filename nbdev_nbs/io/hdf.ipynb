{
 "cells": [
  {
   "cell_type": "code",
   "execution_count": 1,
   "metadata": {
    "ExecuteTime": {
     "end_time": "2021-10-21T13:58:31.504572Z",
     "start_time": "2021-10-21T13:58:31.484971Z"
    }
   },
   "outputs": [],
   "source": [
    "%reload_ext autoreload\n",
    "%autoreload 2"
   ]
  },
  {
   "cell_type": "markdown",
   "metadata": {},
   "source": [
    "# HDF"
   ]
  },
  {
   "cell_type": "markdown",
   "metadata": {
    "ExecuteTime": {
     "end_time": "2021-10-15T07:13:23.383266Z",
     "start_time": "2021-10-15T07:13:23.373138Z"
    }
   },
   "source": [
    "This module provides a common interface to access HDF files. It can be imported as follows:"
   ]
  },
  {
   "cell_type": "code",
   "execution_count": 2,
   "metadata": {
    "ExecuteTime": {
     "end_time": "2021-10-21T13:58:31.808315Z",
     "start_time": "2021-10-21T13:58:31.508650Z"
    }
   },
   "outputs": [],
   "source": [
    "import alphabase.io.hdf\n",
    "\n",
    "# Other packages used to demonstrate functionality\n",
    "import numpy as np\n",
    "import pandas as pd\n",
    "import re\n",
    "import os\n",
    "import contextlib"
   ]
  },
  {
   "cell_type": "markdown",
   "metadata": {},
   "source": [
    "Instead of relying directly on the `h5py` interface, we will use an HDF wrapper file to provide consistent access to only those specific HDF features we want. Since components of an HDF file come in three shapes `datasets`, `groups` and `attributes`, we will first define a generic HDF wrapper object to handle these components. Once this is done, the HDF wrapper file can be treated as such an object with additional features to open and close the initial connection."
   ]
  },
  {
   "cell_type": "code",
   "execution_count": 21,
   "metadata": {
    "ExecuteTime": {
     "end_time": "2021-10-21T13:58:37.994354Z",
     "start_time": "2021-10-21T13:58:37.942379Z"
    }
   },
   "outputs": [],
   "source": [
    "#hide\n",
    "\n",
    "import tempfile\n",
    "\n",
    "def test_HDF_wrappers():\n",
    "#     hdf_file_name = os.path.join(tempfile.gettempdir(), \"sandbox.hdf\")\n",
    "    hdf_file_name = \"sandbox.hdf\"\n",
    "    hdf_file = alphabase.io.hdf.HDF_File(\n",
    "        hdf_file_name,\n",
    "        read_only=False,\n",
    "        truncate=True,\n",
    "        delete_existing=True\n",
    "    )\n",
    "#     np.testing.assert_equal(0, hdf_file.shape)\n",
    "    file_size = os.path.getsize(hdf_file_name)\n",
    "    hdf_file.attr1 = 1\n",
    "    np.testing.assert_equal(1, hdf_file.attr1)\n",
    "    file_size, old_file_size = os.path.getsize(hdf_file_name), file_size\n",
    "    assert file_size > old_file_size, \"Filesize not increased\"\n",
    "    array = np.random.rand(10)\n",
    "    hdf_file.array = array\n",
    "    np.testing.assert_equal(array, hdf_file.array.values)\n",
    "    np.testing.assert_equal(array[:3], hdf_file.array[:3])\n",
    "    np.testing.assert_equal((10,), hdf_file.array.shape)\n",
    "    file_size, old_file_size = os.path.getsize(hdf_file_name), file_size\n",
    "    assert file_size > old_file_size, \"Filesize not increased\"\n",
    "    hdf_file.array.array_attr = \"some attr\"\n",
    "    np.testing.assert_equal(hdf_file.array.array_attr, \"some attr\")\n",
    "    file_size, old_file_size = os.path.getsize(hdf_file_name), file_size\n",
    "    assert file_size > old_file_size, \"Filesize not increased\"\n",
    "#     assert 0 == 1, \"YAR\"\n",
    "    group = {\n",
    "        \"subgroup1\": {\n",
    "            \"subsubgroup\": {},\n",
    "            \"same_array\": array,\n",
    "            \"a_bool\": True\n",
    "        },\n",
    "        \"subgroup2\": {}\n",
    "    }\n",
    "    hdf_file.group = group\n",
    "    file_size, old_file_size = os.path.getsize(hdf_file_name), file_size\n",
    "    assert file_size > old_file_size, \"Filesize not increased\"\n",
    "    np.testing.assert_equal(hdf_file.group.subgroup1.a_bool, True)\n",
    "#     np.testing.assert_equal(hdf_file.group.subgroup1.shape, 2)\n",
    "    df = pd.DataFrame(\n",
    "        {\n",
    "            \"col2\": np.arange(3),\n",
    "            \"col_str\": [\"str\", \"i\", \"ngs\"],\n",
    "        }\n",
    "    )\n",
    "    hdf_file.df = df\n",
    "    file_size, old_file_size = os.path.getsize(hdf_file_name), file_size\n",
    "    assert file_size > old_file_size, \"Filesize not increased\"\n",
    "#     return hdf_file.df.values, df\n",
    "    assert hdf_file.df.values.equals(df)\n",
    "    \n",
    "test_HDF_wrappers()"
   ]
  },
  {
   "cell_type": "code",
   "execution_count": 4,
   "metadata": {
    "ExecuteTime": {
     "end_time": "2021-10-21T13:58:31.877660Z",
     "start_time": "2021-10-21T13:58:31.859322Z"
    }
   },
   "outputs": [],
   "source": [
    "hdf_file_name = \"sandbox.hdf\"\n",
    "hdf_file = alphabase.io.hdf.HDF_File(\n",
    "    hdf_file_name,\n",
    "    read_only=False,\n",
    "    truncate=True,\n",
    "    delete_existing=True\n",
    ")"
   ]
  },
  {
   "cell_type": "code",
   "execution_count": 5,
   "metadata": {
    "ExecuteTime": {
     "end_time": "2021-10-21T13:58:31.901492Z",
     "start_time": "2021-10-21T13:58:31.879009Z"
    }
   },
   "outputs": [],
   "source": [
    "hdf_file.attr1 = 1\n",
    "hdf_file.author = \"Mathhias\"\n",
    "hdf_file.group = {}\n",
    "hdf_file.group.array = np.arange(10)"
   ]
  },
  {
   "cell_type": "code",
   "execution_count": 6,
   "metadata": {
    "ExecuteTime": {
     "end_time": "2021-10-21T13:58:31.921237Z",
     "start_time": "2021-10-21T13:58:31.903466Z"
    }
   },
   "outputs": [],
   "source": [
    "hdf_file.group.array.append(np.arange(5))"
   ]
  },
  {
   "cell_type": "code",
   "execution_count": 7,
   "metadata": {
    "ExecuteTime": {
     "end_time": "2021-10-21T13:58:31.943386Z",
     "start_time": "2021-10-21T13:58:31.923020Z"
    }
   },
   "outputs": [
    {
     "data": {
      "text/plain": [
       "array([0, 1, 2, 3, 4, 5, 6, 7, 8, 9, 0, 0, 0, 0, 0])"
      ]
     },
     "execution_count": 7,
     "metadata": {},
     "output_type": "execute_result"
    }
   ],
   "source": [
    "hdf_file.group.array.values"
   ]
  },
  {
   "cell_type": "code",
   "execution_count": 8,
   "metadata": {
    "ExecuteTime": {
     "end_time": "2021-10-21T13:58:31.968349Z",
     "start_time": "2021-10-21T13:58:31.945034Z"
    }
   },
   "outputs": [],
   "source": [
    "df = pd.DataFrame(\n",
    "    {\n",
    "        \"feng\": np.arange(10),\n",
    "        \"sander\": \"my name\"\n",
    "    }\n",
    ")\n",
    "hdf_file.df = df"
   ]
  },
  {
   "cell_type": "code",
   "execution_count": 9,
   "metadata": {
    "ExecuteTime": {
     "end_time": "2021-10-21T13:58:31.991693Z",
     "start_time": "2021-10-21T13:58:31.972098Z"
    }
   },
   "outputs": [],
   "source": [
    "df[\"sander\"] = \"YAR\"\n",
    "hdf_file.df.append(df)"
   ]
  },
  {
   "cell_type": "code",
   "execution_count": 10,
   "metadata": {
    "ExecuteTime": {
     "end_time": "2021-10-21T13:58:32.014905Z",
     "start_time": "2021-10-21T13:58:31.993539Z"
    }
   },
   "outputs": [
    {
     "data": {
      "text/plain": [
       "20"
      ]
     },
     "execution_count": 10,
     "metadata": {},
     "output_type": "execute_result"
    }
   ],
   "source": [
    "len(hdf_file.df)"
   ]
  },
  {
   "cell_type": "code",
   "execution_count": 11,
   "metadata": {
    "ExecuteTime": {
     "end_time": "2021-10-21T13:58:32.034346Z",
     "start_time": "2021-10-21T13:58:32.016698Z"
    }
   },
   "outputs": [],
   "source": [
    "# df2 = pd.DataFrame(\n",
    "#     {\n",
    "#         \"feng\": np.arange(10),\n",
    "#         \"sander\": \"your name\"\n",
    "#     }|\n",
    "# )"
   ]
  },
  {
   "cell_type": "code",
   "execution_count": 12,
   "metadata": {
    "ExecuteTime": {
     "end_time": "2021-10-21T13:58:32.052348Z",
     "start_time": "2021-10-21T13:58:32.036512Z"
    }
   },
   "outputs": [],
   "source": [
    "# hdf_file_name = \"sandbox.hdf\"\n",
    "# hdf_file2 = HDF_File(\n",
    "#     hdf_file_name,\n",
    "# )"
   ]
  },
  {
   "cell_type": "code",
   "execution_count": 13,
   "metadata": {
    "ExecuteTime": {
     "end_time": "2021-10-21T13:58:32.070220Z",
     "start_time": "2021-10-21T13:58:32.053644Z"
    }
   },
   "outputs": [],
   "source": [
    "# hdf_file2.feng = 2"
   ]
  },
  {
   "cell_type": "code",
   "execution_count": 14,
   "metadata": {
    "ExecuteTime": {
     "end_time": "2021-10-21T13:58:32.089114Z",
     "start_time": "2021-10-21T13:58:32.071991Z"
    }
   },
   "outputs": [],
   "source": [
    "# hdf_file2.set_read_only(False)"
   ]
  },
  {
   "cell_type": "code",
   "execution_count": 15,
   "metadata": {
    "ExecuteTime": {
     "end_time": "2021-10-21T13:58:32.107877Z",
     "start_time": "2021-10-21T13:58:32.090936Z"
    }
   },
   "outputs": [],
   "source": [
    "# hdf_file2.set_truncate(True)"
   ]
  },
  {
   "cell_type": "code",
   "execution_count": 16,
   "metadata": {
    "ExecuteTime": {
     "end_time": "2021-10-21T13:58:32.126762Z",
     "start_time": "2021-10-21T13:58:32.110094Z"
    }
   },
   "outputs": [],
   "source": [
    "# hdf_file2.metadata"
   ]
  },
  {
   "cell_type": "code",
   "execution_count": 17,
   "metadata": {
    "ExecuteTime": {
     "end_time": "2021-10-21T13:58:32.143666Z",
     "start_time": "2021-10-21T13:58:32.128632Z"
    }
   },
   "outputs": [],
   "source": [
    "# %timeit hdf_file.group.array[[1,5,8]]\n",
    "# %timeit hdf_file.group.array.values[[1,5,8]]"
   ]
  },
  {
   "cell_type": "code",
   "execution_count": 18,
   "metadata": {
    "ExecuteTime": {
     "end_time": "2021-10-21T13:58:32.166011Z",
     "start_time": "2021-10-21T13:58:32.145683Z"
    }
   },
   "outputs": [],
   "source": [
    "array = np.array([\"str\", \"i\", \"ngs\"])\n",
    "array = array.astype(object)\n",
    "hdf_file.array2 = array\n",
    "hdf_file.array = np.arange(10)"
   ]
  },
  {
   "cell_type": "code",
   "execution_count": 19,
   "metadata": {
    "ExecuteTime": {
     "end_time": "2021-10-21T13:58:32.186732Z",
     "start_time": "2021-10-21T13:58:32.168058Z"
    }
   },
   "outputs": [
    {
     "data": {
      "text/plain": [
       "array(['str', 'i', 'ngs'], dtype=object)"
      ]
     },
     "execution_count": 19,
     "metadata": {},
     "output_type": "execute_result"
    }
   ],
   "source": [
    "hdf_file.array2.values"
   ]
  },
  {
   "cell_type": "code",
   "execution_count": 20,
   "metadata": {
    "ExecuteTime": {
     "end_time": "2021-10-21T13:58:32.213156Z",
     "start_time": "2021-10-21T13:58:32.188391Z"
    }
   },
   "outputs": [
    {
     "data": {
      "text/plain": [
       "array([0, 1, 2, 3, 4, 5, 6, 7, 8, 9])"
      ]
     },
     "execution_count": 20,
     "metadata": {},
     "output_type": "execute_result"
    }
   ],
   "source": [
    "import h5py\n",
    "self = hdf_file.array\n",
    "with h5py.File(self.file_name, \"r\") as hdf_file2:\n",
    "    ds = hdf_file2[self.name]\n",
    "    if h5py.check_string_dtype(ds.dtype) is not None:\n",
    "        ds = ds.asstr()\n",
    "    x = ds[...]\n",
    "        \n",
    "    \n",
    "x"
   ]
  },
  {
   "cell_type": "code",
   "execution_count": null,
   "metadata": {
    "ExecuteTime": {
     "end_time": "2021-10-21T13:47:51.080540Z",
     "start_time": "2021-10-21T13:47:51.061393Z"
    }
   },
   "outputs": [],
   "source": []
  },
  {
   "cell_type": "code",
   "execution_count": null,
   "metadata": {},
   "outputs": [],
   "source": []
  }
 ],
 "metadata": {
  "kernelspec": {
   "display_name": "Python [conda env:alphabase]",
   "language": "python",
   "name": "conda-env-alphabase-py"
  },
  "language_info": {
   "codemirror_mode": {
    "name": "ipython",
    "version": 3
   },
   "file_extension": ".py",
   "mimetype": "text/x-python",
   "name": "python",
   "nbconvert_exporter": "python",
   "pygments_lexer": "ipython3",
   "version": "3.8.8"
  },
  "toc": {
   "base_numbering": 1,
   "nav_menu": {},
   "number_sections": true,
   "sideBar": true,
   "skip_h1_title": false,
   "title_cell": "Table of Contents",
   "title_sidebar": "Contents",
   "toc_cell": false,
   "toc_position": {},
   "toc_section_display": true,
   "toc_window_display": true
  }
 },
 "nbformat": 4,
 "nbformat_minor": 4
}
