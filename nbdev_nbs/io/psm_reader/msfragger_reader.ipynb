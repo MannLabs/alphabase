{
 "cells": [
  {
   "cell_type": "code",
   "execution_count": null,
   "metadata": {},
   "outputs": [],
   "source": [
    "#default_exp io.psm_reader.msfragger_reader"
   ]
  },
  {
   "cell_type": "markdown",
   "metadata": {},
   "source": [
    "# Not implement yet"
   ]
  },
  {
   "cell_type": "code",
   "execution_count": null,
   "metadata": {},
   "outputs": [],
   "source": [
    "#export\n",
    "def get_MSFragger_mods(assigned_mods):\n",
    "    if not assigned_mods: return \"\", \"\"\n",
    "\n",
    "    items = [item[:-1].split('(') for item in assigned_mods.split(', ')]\n",
    "    items = list(zip(*items))\n",
    "    return ';'.join(items[1]), ';'.join(items[0]) #mods, sites"
   ]
  },
  {
   "cell_type": "code",
   "execution_count": null,
   "metadata": {},
   "outputs": [],
   "source": [
    "#hide\n",
    "assert ('1234;57', '10M;20C') == get_MSFragger_mods('10M(1234), 20C(57)')\n",
    "assert (\"\",\"\") == get_MSFragger_mods('')"
   ]
  },
  {
   "cell_type": "code",
   "execution_count": null,
   "metadata": {},
   "outputs": [],
   "source": []
  }
 ],
 "metadata": {
  "kernelspec": {
   "display_name": "Python 3.8.3 64-bit ('base': conda)",
   "language": "python",
   "name": "python3"
  }
 },
 "nbformat": 4,
 "nbformat_minor": 2
}
