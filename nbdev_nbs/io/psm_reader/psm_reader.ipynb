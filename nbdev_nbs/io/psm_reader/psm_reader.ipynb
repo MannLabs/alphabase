{
 "cells": [
  {
   "cell_type": "code",
   "execution_count": null,
   "metadata": {},
   "outputs": [],
   "source": [
    "#default_exp io.psm_reader.psm_reader"
   ]
  },
  {
   "cell_type": "code",
   "execution_count": null,
   "metadata": {},
   "outputs": [],
   "source": [
    "#hide\n",
    "%reload_ext autoreload\n",
    "%autoreload 2"
   ]
  },
  {
   "cell_type": "code",
   "execution_count": null,
   "metadata": {},
   "outputs": [],
   "source": [
    "#export\n",
    "import typing\n",
    "import pandas as pd"
   ]
  },
  {
   "cell_type": "code",
   "execution_count": null,
   "metadata": {},
   "outputs": [],
   "source": [
    "#export\n",
    "\n",
    "def translate_other_modification(\n",
    "    mod_str: str, \n",
    "    mod_dict: dict\n",
    ")->str:\n",
    "    '''\n",
    "    Translate modifications of `mod_str` to the AlphaBase \n",
    "    format mapped by mod_dict.\n",
    "    Args:\n",
    "        mod_str (str): mod list in str format, seperated by ';', \n",
    "            e.g. ModA;ModB\n",
    "        mod_dict (dict): translate mod dict from others to AlphaBase, \n",
    "            e.g. for pFind, key=['Phospho[S]','Oxidation[M]'], \n",
    "            value=['Phospho@S','Oxidation@M']\n",
    "    Returns:\n",
    "        str: new mods in AlphaBase format seperated by ';'. if any\n",
    "             modification is not in `mod_dict`, return pd.NA.\n",
    "    '''\n",
    "    if not mod_str: return \"\"\n",
    "    ret_mods = []\n",
    "    for mod in mod_str.split(';'):\n",
    "        if mod in mod_dict:\n",
    "            ret_mods.append(mod_dict[mod])\n",
    "        else:\n",
    "            return pd.NA\n",
    "    return \";\".join(ret_mods)\n",
    "\n",
    "def keep_modifications(\n",
    "    mod_str: str, \n",
    "    mod_set: set\n",
    ")->str:\n",
    "    '''\n",
    "    Check if modifications of `mod_str` are in `mod_set`.\n",
    "    Args:\n",
    "        mod_str (str): mod list in str format, seperated by ';', \n",
    "            e.g. Oxidation@M;Phospho@S.\n",
    "        mod_set (set): mod set to check\n",
    "    Returns:\n",
    "        str: original `mod_str` if all modifications are in mod_set \n",
    "             else pd.NA.\n",
    "    '''\n",
    "    if not mod_str: return \"\"\n",
    "    for mod in mod_str.split(';'):\n",
    "        if not mod in mod_set:\n",
    "            return pd.NA\n",
    "    return mod_str\n",
    "\n"
   ]
  },
  {
   "cell_type": "markdown",
   "metadata": {},
   "source": [
    "# PSMReaderBase \n",
    "\n",
    "`PSMReaderBase` is the base abstract class for all readers. It defines the basic procedures for loading other search engine results into AlphaBase format.\n",
    "\n",
    "The main entry method is `load(filename)`, and it will generate `self._psm_df` (or property `self.psm_df`) after `load()`.\n",
    "\n",
    "In `load()` method, we designed five steps to load result files in to AlphaBase format:\n",
    "\n",
    "1. `origin_df = self._load_file(filename)`. We load result files into a dataframe without doing any file conversion. As different search engines have different file format, **all subclass of `PSMReaderBase` need to re-implement this method**.\n",
    "\n",
    "2. `self._translate_columns(origin_df)`. We translate columns in `origin_df` into AlphaBase columns by `self.column_mapping`. `self.column_mapping` provides a flexible way for developers to extract their required columns.\n",
    "\n",
    "3. `self._load_modifications(origin_df)`. As different search engines have different representation of modifications. We use this method to extract the modifications into `self._psm_df['mods']` and `self._psm_df['mod_sites']`. Note that the modification names are still in other search engines' format.\n",
    "\n",
    "4. `self._translate_modifications()`. Convert modification names into AlphaBase names (`unimod_name@AA`). For most of the search engines, we need a dict (`self.modification_mapping`) to map search engine modification format into AlphaBase (`unimod_name@AA`, `unimod_name` is <umod:mod title=...> in the unimod xml file). **All subclass of `PSMReaderBase` need to re-implement this method**.\n",
    "\n",
    "5. `self._post_process(filename, origin_df)`. Any required post-processing steps. For example, we remove unknown modifications here."
   ]
  },
  {
   "cell_type": "code",
   "execution_count": null,
   "metadata": {},
   "outputs": [],
   "source": [
    "#export\n",
    "\n",
    "class PSMReaderBase(object):\n",
    "    def __init__(self, \n",
    "        modification_mapping:dict = None\n",
    "    ):\n",
    "        # modification_mapping=dict[str, str]: \n",
    "        #     key:   mod names of other search engines\n",
    "        #     value: mod names in AlphaBase\n",
    "        # It is used to convert mods of other engines \n",
    "        # to AlphaBase format. Different search engines\n",
    "        # have different mod names.\n",
    "\n",
    "        self.modification_mapping = modification_mapping\n",
    "\n",
    "        self.column_mapping = {\n",
    "            'sequence': 'NakedSequence',\n",
    "            # AlphaBase does not need 'modified_sequence',\n",
    "            # but it will get 'mods', 'mod_sites' from it\n",
    "            'modified_sequence': 'ModifiedSequence',\n",
    "            'charge': 'Charge',\n",
    "            # If the value is a list, check if one of the columns exist\n",
    "            # and get 'proteins' from that column\n",
    "            'proteins':['Proteins','UniprotIDs'],\n",
    "            # Similar to 'proteins'\n",
    "            'uniprot_ids':['UniprotIDs','UniprotIds'],\n",
    "            # Similar to 'proteins'\n",
    "            'genes': ['Genes','Gene Names','Gene names'],\n",
    "            'fdr': 'fdr',\n",
    "        } # Add more columns for subclasses of different tasks\n",
    "\n",
    "        self._psm_df = pd.DataFrame()\n",
    "        self.keep_all_psm = False # keep all PSMs for percolator or ...\n",
    "        \n",
    "    @property\n",
    "    def psm_df(self):\n",
    "        return self._psm_df\n",
    "\n",
    "    def load(self, filename):\n",
    "        \"\"\"\n",
    "        This is the main entry function of PSM readers.\n",
    "        Args:\n",
    "            filename (str): [description]\n",
    "        \"\"\"\n",
    "        origin_df = self._load_file(filename)\n",
    "        self._translate_columns(origin_df)\n",
    "        self._load_modifications(origin_df)\n",
    "        self._translate_modifications()\n",
    "        self._post_process(filename, origin_df)\n",
    "\n",
    "    def _load_file(self, filename:str)->pd.DataFrame:\n",
    "        \"\"\"\n",
    "        Load original dataframe from PSM filename. \n",
    "        Different search engines may store PSMs in different ways:\n",
    "        tsv, csv, HDF, XML, ...\n",
    "\n",
    "        Args:\n",
    "            filename (str): psm filename\n",
    "\n",
    "        Raises:\n",
    "            NotImplementedError: Subclasses must re-implement this method\n",
    "\n",
    "        Returns:\n",
    "            pd.DataFrame: dataframe loaded\n",
    "        \"\"\"\n",
    "        raise NotImplementedError(\n",
    "            f'\"{self.__class__}\" must re-implement \"_load_file()\"'\n",
    "        )\n",
    "\n",
    "    def _translate_columns(self, origin_df:pd.DataFrame):\n",
    "        \"\"\"\n",
    "        Translate the dataframe from other search engines \n",
    "        to AlphaBase format\n",
    "\n",
    "        Args:\n",
    "            origin_df (pd.DataFrame): df of other search engines\n",
    "\n",
    "        Returns: \n",
    "            None. Add information inplace into self._psm_df\n",
    "        \"\"\"\n",
    "        self._psm_df = pd.DataFrame()\n",
    "        for col, map_col in self.column_mapping.items():\n",
    "            if isinstance(map_col, str):\n",
    "                if map_col in origin_df.columns:\n",
    "                    self._psm_df[col] = origin_df[map_col]\n",
    "                else:\n",
    "                    self._psm_df[col] = pd.NA\n",
    "            else:\n",
    "                for other_col in map_col:\n",
    "                    if other_col in origin_df.columns:\n",
    "                        self._psm_df[col] = origin_df[other_col]\n",
    "                        break\n",
    "                if col not in self._psm_df.columns:\n",
    "                    self._psm_df[col] = pd.NA\n",
    "        origin_df['nAA'] = origin_df[self.column_mapping['sequence']].str.len()\n",
    "        self._psm_df['nAA'] = origin_df['nAA']\n",
    "    \n",
    "\n",
    "    def _load_modifications(self, origin_df:pd.DataFrame):\n",
    "        \"\"\"\n",
    "        How to read modification information from 'origin_df'. \n",
    "        Some of search engines use modified_sequence, some of them\n",
    "        use additional columns to store modifications. \n",
    "\n",
    "        Args:\n",
    "            origin_df (pd.DataFrame): dataframe of original search engine.\n",
    "\n",
    "        Returns: \n",
    "            None. Add information inplace into \n",
    "            self._psm_df['mods'], self._psm_df['mod_sites'].\n",
    "        \"\"\"\n",
    "        raise NotImplementedError(\n",
    "            f'\"{self.__class__}\" must re-implement \"_load_modifications()\"'\n",
    "        )\n",
    "\n",
    "    def _translate_modifications(self):\n",
    "        '''\n",
    "        Translate modifications to AlphaBase format.\n",
    "\n",
    "        Raises: KeyError if `mod` in `mod_names` is \n",
    "            not in `self.modification_mapping`\n",
    "        '''\n",
    "        self._psm_df.mods = self._psm_df.mods.apply(\n",
    "            translate_other_modification, \n",
    "            mod_dict=self.modification_mapping\n",
    "        )\n",
    "\n",
    "    def _post_process(self, \n",
    "        filename:str, origin_df:pd.DataFrame\n",
    "    ):\n",
    "        \"\"\"\n",
    "        Remove unknown modifications and perform other post processings, \n",
    "        e.g. loading fragments for AlphaQuant or AlphaDeep\n",
    "\n",
    "        Args:\n",
    "            filename (str): psm filename\n",
    "            origin_df (pd.DataFrame): the loaded original df\n",
    "        \"\"\"\n",
    "        origin_df = origin_df[\n",
    "            ~self._psm_df['mods'].isna()\n",
    "        ].reset_index(drop=True)\n",
    "        \n",
    "        self._psm_df = self._psm_df[\n",
    "            ~self._psm_df['mods'].isna()\n",
    "        ].reset_index(drop=True)\n",
    "\n",
    "    def filter_psm_by_modifications(self, include_mod_list = [\n",
    "        'Oxidation@M','Phospho@S','Phospho@T','Phospho@Y','Acetyl@Protein N-term'\n",
    "    ]):\n",
    "        '''\n",
    "            Only keeps peptides with modifications in `include_mod_list`.\n",
    "        '''\n",
    "        mod_set = set(include_mod_list)\n",
    "        self._psm_df.mods = self._psm_df.mods.apply(keep_modifications, mod_set=mod_set)\n",
    "        \n",
    "        self._psm_df.dropna(\n",
    "            subset=['mods'], inplace=True\n",
    "        )\n",
    "        self._psm_df.reset_index(drop=True, inplace=True)\n"
   ]
  },
  {
   "cell_type": "markdown",
   "metadata": {},
   "source": [
    "# PSMReaderProvider\n",
    "\n",
    "To make it easier to create different readers, we design a `Provider` or `Factory` called `PSMReaderProvider` to manage all reader classes. `PSMReaderProvider` is instantiated as a global object `psm_reader_provider`. \n",
    "\n",
    "After a subclass of `PSMReaderBase` is defined, for example `AlphaPeptReader`, we can then register it in to `psm_reader_provider` by using `psm_reader_provider.register_reader('alphapept', AlphaPeptReader)`. Once we are going to use it, we just need to create a `AlphaPeptReader` object with `psm_reader_provider.get_reader('alphapept')`."
   ]
  },
  {
   "cell_type": "code",
   "execution_count": null,
   "metadata": {},
   "outputs": [],
   "source": [
    "#export\n",
    "class PSMReaderProvider:\n",
    "    def __init__(self):\n",
    "        self.reader_dict = {}\n",
    "\n",
    "    def register_reader(self, reader_name, reader_class):\n",
    "        self.reader_dict[reader_name.lower()] = reader_class\n",
    "\n",
    "    def get_reader(self, reader_name, modification_mapping:dict=None\n",
    "    )->PSMReaderBase:\n",
    "        return self.reader_dict[reader_name.lower()](modification_mapping)\n",
    "\n",
    "psm_reader_provider = PSMReaderProvider()"
   ]
  },
  {
   "cell_type": "markdown",
   "metadata": {},
   "source": [
    "As we have loaded all readers in `psm_reader_provider` within alphabase.io.psm_reader.\\__init__.py, we can easily access all readers by `psm_reader_provider`."
   ]
  },
  {
   "cell_type": "code",
   "execution_count": null,
   "metadata": {},
   "outputs": [
    {
     "data": {
      "text/plain": [
       "<alphabase.io.psm_reader.alphapept_reader.AlphaPeptReader at 0x7f8ae02eb100>"
      ]
     },
     "execution_count": null,
     "metadata": {},
     "output_type": "execute_result"
    }
   ],
   "source": [
    "# we have loaded all readers in psm_reader_provider\n",
    "# alphabase.io.psm_reader.__init__.py\n",
    "from alphabase.io.psm_reader import psm_reader_provider\n",
    "\n",
    "psm_reader_provider.get_reader('alphapept')"
   ]
  },
  {
   "cell_type": "code",
   "execution_count": null,
   "metadata": {},
   "outputs": [
    {
     "data": {
      "text/plain": [
       "<alphabase.io.psm_reader.maxquant_reader.MaxQuantReader at 0x7f8ab0934040>"
      ]
     },
     "execution_count": null,
     "metadata": {},
     "output_type": "execute_result"
    }
   ],
   "source": [
    "psm_reader_provider.get_reader('maxquant')"
   ]
  },
  {
   "cell_type": "code",
   "execution_count": null,
   "metadata": {},
   "outputs": [
    {
     "data": {
      "text/plain": [
       "<alphabase.io.psm_reader.pfind_reader.pFindReader at 0x7f8ae02eb7f0>"
      ]
     },
     "execution_count": null,
     "metadata": {},
     "output_type": "execute_result"
    }
   ],
   "source": [
    "psm_reader_provider.get_reader('pfind')"
   ]
  },
  {
   "cell_type": "code",
   "execution_count": null,
   "metadata": {},
   "outputs": [
    {
     "data": {
      "text/plain": [
       "<alphabase.io.psm_reader.dia_search_reader.DiannReader at 0x7f8ae02eb6a0>"
      ]
     },
     "execution_count": null,
     "metadata": {},
     "output_type": "execute_result"
    }
   ],
   "source": [
    "psm_reader_provider.get_reader('diann')"
   ]
  },
  {
   "cell_type": "code",
   "execution_count": null,
   "metadata": {},
   "outputs": [
    {
     "data": {
      "text/plain": [
       "<alphabase.io.psm_reader.dia_search_reader.SpectronautReader at 0x7f8ae0cfe1c0>"
      ]
     },
     "execution_count": null,
     "metadata": {},
     "output_type": "execute_result"
    }
   ],
   "source": [
    "psm_reader_provider.get_reader('spectronaut')"
   ]
  },
  {
   "cell_type": "code",
   "execution_count": null,
   "metadata": {},
   "outputs": [
    {
     "data": {
      "text/plain": [
       "<alphabase.io.psm_reader.dia_search_reader.OpenSwathReader at 0x7f8ae0cfe250>"
      ]
     },
     "execution_count": null,
     "metadata": {},
     "output_type": "execute_result"
    }
   ],
   "source": [
    "psm_reader_provider.get_reader('openswath')"
   ]
  },
  {
   "cell_type": "code",
   "execution_count": null,
   "metadata": {},
   "outputs": [],
   "source": []
  }
 ],
 "metadata": {
  "kernelspec": {
   "display_name": "Python 3.8.3 64-bit ('base': conda)",
   "name": "python3"
  }
 },
 "nbformat": 4,
 "nbformat_minor": 2
}
