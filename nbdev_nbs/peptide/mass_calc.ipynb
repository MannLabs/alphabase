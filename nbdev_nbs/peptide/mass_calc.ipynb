{
 "cells": [
  {
   "cell_type": "code",
   "execution_count": null,
   "metadata": {},
   "outputs": [],
   "source": [
    "#---#| default_exp peptide.mass_calc"
   ]
  },
  {
   "cell_type": "markdown",
   "metadata": {},
   "source": [
    "# Mass Calculation"
   ]
  },
  {
   "cell_type": "markdown",
   "metadata": {},
   "source": [
    "### it should be only called by `alphabase.peptide.fragment`."
   ]
  },
  {
   "cell_type": "code",
   "execution_count": null,
   "metadata": {},
   "outputs": [],
   "source": [
    "#| hide\n",
    "%reload_ext autoreload\n",
    "%autoreload 2"
   ]
  },
  {
   "cell_type": "code",
   "execution_count": null,
   "metadata": {},
   "outputs": [],
   "source": [
    "from alphabase.peptide.mass_calc import *"
   ]
  },
  {
   "cell_type": "markdown",
   "metadata": {},
   "source": [
    "### `calc_peptide_masses_for_same_len_seqs` and `calc_b_y_and_peptide_masses_for_same_len_seqs` are key functions for mass calculation in this module.\n",
    "\n",
    "`calc_peptide_masses_for_same_len_seqs` calculates the peptide masses for the given sequence array and modification lists.\n",
    "\n",
    "`calc_b_y_and_peptide_masses_for_same_len_seqs` calculates b/y neutral masses and peptide masses for the given sequence array and modification lists. Note that all a/b/c neutral masses can be calculated from b fragment masses, and x/y/z from y masses. So the key are b/y masses."
   ]
  },
  {
   "cell_type": "markdown",
   "metadata": {},
   "source": [
    "### Testing"
   ]
  },
  {
   "cell_type": "code",
   "execution_count": null,
   "metadata": {},
   "outputs": [],
   "source": [
    "seq, mods, mod_sites = 'AGHCEWQMK', ['Carbamidomethyl@C', 'Oxidation@M'], [4, 8]\n",
    "b,y,pepmass = calc_b_y_and_peptide_mass(seq, mods, mod_sites)\n",
    "assert np.allclose(b, [  71.03711379,  128.05857751,  265.11748936,  425.14813804,\n",
    "         554.19073113,  740.27004408,  868.32862159, 1015.3640213 ]\n",
    ")\n",
    "assert np.allclose(y, [  [1090.43243521, 1033.41097149,  896.35205963,  736.32141095,\n",
    "         607.27881786,  421.19950491,  293.14092741,  146.1055277 ] ]\n",
    ")\n",
    "assert np.allclose(pepmass, 1161.46954899713)"
   ]
  },
  {
   "cell_type": "code",
   "execution_count": null,
   "metadata": {},
   "outputs": [],
   "source": [
    "b_frags,y_frags,pepmasses=calc_b_y_and_peptide_masses_for_same_len_seqs([seq]*2, [mods,[]], [mod_sites,[]])\n",
    "assert np.allclose(b_frags[0], [  71.03711379,  128.05857751,  265.11748936,  425.14813804,\n",
    "         554.19073113,  740.27004408,  868.32862159, 1015.3640213 ]\n",
    ")\n",
    "assert np.allclose(y_frags[0], [  [1090.43243521, 1033.41097149,  896.35205963,  736.32141095,\n",
    "         607.27881786,  421.19950491,  293.14092741,  146.1055277 ] ]\n",
    ")\n",
    "assert np.allclose(pepmasses[0], 1161.46954899713)"
   ]
  },
  {
   "cell_type": "code",
   "execution_count": null,
   "metadata": {},
   "outputs": [],
   "source": [
    "assert np.allclose(calc_peptide_masses_for_same_len_seqs([seq]*2, [';'.join(mods),\"\"]), [1161.469549  , 1088.45317066])"
   ]
  },
  {
   "cell_type": "code",
   "execution_count": null,
   "metadata": {},
   "outputs": [],
   "source": []
  }
 ],
 "metadata": {
  "kernelspec": {
   "display_name": "Python 3.8.3 ('base')",
   "language": "python",
   "name": "python3"
  },
  "language_info": {
   "name": "python",
   "version": "3.8.3"
  },
  "vscode": {
   "interpreter": {
    "hash": "8a3b27e141e49c996c9b863f8707e97aabd49c4a7e8445b9b783b34e4a21a9b2"
   }
  }
 },
 "nbformat": 4,
 "nbformat_minor": 2
}
