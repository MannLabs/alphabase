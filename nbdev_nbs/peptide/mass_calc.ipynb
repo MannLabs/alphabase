{
 "cells": [
  {
   "cell_type": "code",
   "execution_count": null,
   "metadata": {},
   "outputs": [],
   "source": [
    "#default_exp peptide.mass_calc"
   ]
  },
  {
   "cell_type": "markdown",
   "metadata": {},
   "source": [
    "## Mass calculation functions for fragments, it should be only called by peptide.fragment.py."
   ]
  },
  {
   "cell_type": "code",
   "execution_count": null,
   "metadata": {},
   "outputs": [],
   "source": [
    "#hide\n",
    "%reload_ext autoreload\n",
    "%autoreload 2"
   ]
  },
  {
   "cell_type": "code",
   "execution_count": null,
   "metadata": {},
   "outputs": [],
   "source": [
    "#export\n",
    "import numpy as np\n",
    "from typing import List, Tuple, Iterable\n",
    "\n",
    "from alphabase.constants.aa import (\n",
    "    calc_sequence_mass, \n",
    "    calc_AA_masses_for_same_len_seqs,\n",
    "    calc_sequence_masses_for_same_len_seqs\n",
    ")\n",
    "from alphabase.constants.modification import (\n",
    "    calc_modification_mass,\n",
    "    calc_modification_mass_sum\n",
    ")\n",
    "from alphabase.constants.element import MASS_H2O\n",
    "\n",
    "def calc_delta_modification_mass(\n",
    "    pep_len:int,\n",
    "    mass_deltas:List[float],\n",
    "    mass_delta_sites:List[int]\n",
    ")->np.array:\n",
    "    '''\n",
    "    For open-search, we may also get modification \n",
    "    mass deltas other than mod names. This function calculate\n",
    "    modification masses from these delta masses.\n",
    "    Args:\n",
    "        pep_len (int): nAA\n",
    "        mass_deltas (list of floats): mass deltas on the peptide\n",
    "        mass_delta_sites (list of int): localized sites of corresponding mass deltas\n",
    "    Returns:\n",
    "        np.array: 1-D array with length=`peplen`.\n",
    "            Masses of modifications (mass deltas) through the peptide,\n",
    "            `0` if sites has no modifications\n",
    "    '''\n",
    "    masses = np.zeros(pep_len)\n",
    "    for site, mass in zip(mass_delta_sites, mass_deltas):\n",
    "        if site == 0:\n",
    "            masses[site] += mass\n",
    "        elif site == -1:\n",
    "            masses[site] += mass\n",
    "        else:\n",
    "            masses[site-1] += mass\n",
    "    return masses\n",
    "\n",
    "def calc_b_y_and_peptide_mass(\n",
    "    sequence: str,\n",
    "    mod_names: List[str],\n",
    "    mod_sites: List[int],\n",
    "    mass_deltas: List[float] = None,\n",
    "    mass_delta_sites: List[int] = None,\n",
    ")->Tuple[np.array,np.array,float]:\n",
    "    '''\n",
    "    It is highly recommend to use \n",
    "    `calc_b_y_and_peptide_mass_for_same_len_seqs()`\n",
    "    as it is much faster\n",
    "    '''\n",
    "    residue_masses = calc_sequence_mass(sequence)\n",
    "    mod_masses = calc_modification_mass(\n",
    "        len(sequence), mod_names, mod_sites\n",
    "    )\n",
    "    residue_masses += mod_masses\n",
    "    if mass_deltas is not None:\n",
    "        mod_masses = calc_delta_modification_mass(\n",
    "            len(sequence), mass_deltas, mass_delta_sites\n",
    "        )\n",
    "        residue_masses += mod_masses\n",
    "    #residue_masses = residue_masses[np.newaxis, ...]\n",
    "    b_masses = np.cumsum(residue_masses)\n",
    "    b_masses, pepmass = b_masses[:-1], b_masses[-1]\n",
    "        \n",
    "    pepmass += MASS_H2O\n",
    "    y_masses = pepmass - b_masses\n",
    "    return b_masses, y_masses, pepmass\n",
    "\n",
    "def calc_peptide_mass_for_same_len_seqs(\n",
    "    sequences: np.array,\n",
    "    mod_list: List[str],\n",
    "    mass_delta_list: List[str]=None\n",
    ")->np.array:\n",
    "    '''\n",
    "    Calculate peptide masses for peptide sequences with same lengths.\n",
    "    We need 'same_len' here because numpy can process AA sequences \n",
    "    with same length very fast. \n",
    "    See `alphabase.aa.calc_sequence_masses_for_same_len_seqs()`\n",
    "\n",
    "    Args:\n",
    "        mod_list (List[str]): list of modifications, \n",
    "            e.g. `['Oxidation@M;Phospho@S','Phospho@S;Deamidated@N']`\n",
    "        mass_delta_list (List[str]): List of modifications as mass deltas,\n",
    "            e.g. `['15.9xx;79.9xxx','79.9xx;0.98xx']`\n",
    "    Returns:\n",
    "        np.array: peptide masses (1-D array, H2O already added)\n",
    "    '''\n",
    "    seq_masses = calc_sequence_masses_for_same_len_seqs(\n",
    "        sequences\n",
    "    )\n",
    "    mod_masses = np.zeros_like(seq_masses)\n",
    "    for i, mods in enumerate(mod_list):\n",
    "        if len(mods) != 0:\n",
    "            mod_masses[i] = calc_modification_mass_sum(\n",
    "                mods.split(';')\n",
    "            )\n",
    "    if mass_delta_list is not None:\n",
    "        for i, mass_deltas in enumerate(mass_delta_list):\n",
    "            if len(mass_deltas) != 0:\n",
    "                mod_masses[i] += np.sum([\n",
    "                    float(mass) for mass in mass_deltas.split(';')\n",
    "                ])\n",
    "    return seq_masses+mod_masses\n",
    "    \n",
    "\n",
    "def calc_b_y_and_peptide_mass_for_same_len_seqs(\n",
    "    sequences: np.array,\n",
    "    mod_list: Iterable[List[str]],\n",
    "    site_list: Iterable[List[int]],\n",
    "    mass_delta_list: Iterable[List[float]]=None,\n",
    "    mass_delta_site_list: Iterable[List[int]]=None,\n",
    ")->Tuple[np.array,np.array,np.array]:\n",
    "    '''\n",
    "    Calculate b/y fragment masses and peptide masses \n",
    "    for peptide sequences with same lengths.\n",
    "    We need 'same_len' here because numpy can process AA sequences \n",
    "    with same length very fast.\n",
    "\n",
    "    Args:\n",
    "        sequence (np.array of str): np.array of peptie sequences with same length.\n",
    "        mod_list (Iterable[List[str]]): Iterable (list, array, ...) of modifications , \n",
    "            e.g. `[['Oxidation@M','Phospho@S'],['Phospho@S','Deamidated@N']]` \n",
    "        site_list (Iterable[List[int]]): Iterable of modification sites\n",
    "            corresponding to `mod_list`, e.g. `[[3,6],[4,17]]`\n",
    "        mass_delta_list (Iterable[List[float]]): Iterable of modifications, \n",
    "            e.g. `[[15.994915,79.966331],[79.966331,0.984016]]` \n",
    "        mass_delta_site_list (Iterable[List[int]]): Iterable of modification mass delta sites\n",
    "            corresponding to `mod_list`, e.g. `[[3,6],[4,17]]`\n",
    "    Returns:\n",
    "        np.array: neutral b fragment masses (2-D array)\n",
    "        np.array: neutral y fragmnet masses (2-D array)\n",
    "        np.array: neutral peptide masses (1-D array)\n",
    "    '''\n",
    "    residue_masses = calc_AA_masses_for_same_len_seqs(sequences)\n",
    "    mod_masses = np.zeros_like(residue_masses)\n",
    "    seq_len = len(sequences[0])\n",
    "    for i, (mods, sites) in enumerate(zip(mod_list, site_list)):\n",
    "        if len(mods) != 0:\n",
    "            mod_masses[i,:] = calc_modification_mass(\n",
    "                seq_len, \n",
    "                mods, \n",
    "                sites,\n",
    "            )\n",
    "    if mass_delta_list is not None:\n",
    "        for i, (mass_deltas, sites) in enumerate(zip(\n",
    "            mass_delta_list, mass_delta_site_list\n",
    "        )):\n",
    "            if len(mass_deltas) != 0:\n",
    "                mod_masses[i,:] += calc_delta_modification_mass(\n",
    "                    seq_len, \n",
    "                    mass_deltas, \n",
    "                    sites,\n",
    "                )\n",
    "    residue_masses += mod_masses\n",
    "\n",
    "    b_masses = np.cumsum(residue_masses, axis=1)\n",
    "    b_masses, pepmass = b_masses[:,:-1], b_masses[:,-1:]\n",
    "        \n",
    "    pepmass += MASS_H2O\n",
    "    y_masses = pepmass - b_masses\n",
    "    return b_masses, y_masses, pepmass.reshape(-1)"
   ]
  },
  {
   "cell_type": "code",
   "execution_count": null,
   "metadata": {},
   "outputs": [
    {
     "data": {
      "text/plain": [
       "(array([  71.03711379,  128.05857751,  265.11748936,  425.14813804,\n",
       "         554.19073113,  740.27004408,  868.32862159, 1015.3640213 ]),\n",
       " array([1090.43243521, 1033.41097149,  896.35205963,  736.32141095,\n",
       "         607.27881786,  421.19950491,  293.14092741,  146.1055277 ]),\n",
       " 1161.46954899713)"
      ]
     },
     "execution_count": null,
     "metadata": {},
     "output_type": "execute_result"
    }
   ],
   "source": [
    "seq, mods, mod_sites = 'AGHCEWQMK', ['Carbamidomethyl@C', 'Oxidation@M'], [4, 8]\n",
    "calc_b_y_and_peptide_mass(seq, mods, mod_sites)"
   ]
  },
  {
   "cell_type": "code",
   "execution_count": null,
   "metadata": {},
   "outputs": [
    {
     "data": {
      "text/plain": [
       "(array([[  71.03711379,  128.05857751,  265.11748936,  425.14813804,\n",
       "          554.19073113,  740.27004408,  868.32862159, 1015.3640213 ],\n",
       "        [  71.03711379,  128.05857751,  265.11748936,  368.12667432,\n",
       "          497.16926741,  683.24858036,  811.30715787,  942.34764296]]),\n",
       " array([[1090.43243521, 1033.41097149,  896.35205963,  736.32141095,\n",
       "          607.27881786,  421.19950491,  293.14092741,  146.1055277 ],\n",
       "        [1017.41605687,  960.39459315,  823.33568129,  720.32649633,\n",
       "          591.28390324,  405.20459029,  277.14601279,  146.1055277 ]]),\n",
       " array([1161.469549  , 1088.45317066]))"
      ]
     },
     "execution_count": null,
     "metadata": {},
     "output_type": "execute_result"
    }
   ],
   "source": [
    "calc_b_y_and_peptide_mass_for_same_len_seqs([seq]*2, [mods,[]], [mod_sites,[]])"
   ]
  },
  {
   "cell_type": "code",
   "execution_count": null,
   "metadata": {},
   "outputs": [
    {
     "data": {
      "text/plain": [
       "array([1161.469549  , 1088.45317066])"
      ]
     },
     "execution_count": null,
     "metadata": {},
     "output_type": "execute_result"
    }
   ],
   "source": [
    "calc_peptide_mass_for_same_len_seqs([seq]*2, [';'.join(mods),\"\"])"
   ]
  },
  {
   "cell_type": "code",
   "execution_count": null,
   "metadata": {},
   "outputs": [],
   "source": []
  }
 ],
 "metadata": {
  "kernelspec": {
   "display_name": "Python 3.8.3 64-bit ('base': conda)",
   "language": "python",
   "name": "python3"
  }
 },
 "nbformat": 4,
 "nbformat_minor": 2
}
