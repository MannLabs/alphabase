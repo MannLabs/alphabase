{
 "cells": [
  {
   "cell_type": "code",
   "execution_count": null,
   "metadata": {},
   "outputs": [],
   "source": [
    "#default_exp peptide.mobility"
   ]
  },
  {
   "cell_type": "code",
   "execution_count": null,
   "metadata": {},
   "outputs": [],
   "source": [
    "#export\n",
    "import numpy as np\n",
    "import pandas as pd\n",
    "\n",
    "from alphabase.peptide.fragment import update_precursor_mz\n",
    "from alphabase.constants.element import common_const_dict\n",
    "\n",
    "CCS_IM_COEF = common_const_dict['MOBILITY']['CCS_IM_COEF']\n",
    "IM_GAS_MASS = common_const_dict['MOBILITY']['IM_GAS_MASS']\n",
    "\n",
    "def get_reduced_mass(precursor_mzs, charges):\n",
    "    reduced_masses = precursor_mzs*charges\n",
    "    return reduced_masses*IM_GAS_MASS/(reduced_masses+IM_GAS_MASS)\n",
    "\n",
    "def ccs_to_mobility_bruker(ccs_values, charges, precursor_mzs):\n",
    "    reduced_masses = get_reduced_mass(precursor_mzs, charges)\n",
    "    return ccs_values*np.sqrt(reduced_masses)/charges/CCS_IM_COEF\n",
    "\n",
    "def mobility_to_ccs_bruker(im_values, charges, precursor_mzs):\n",
    "    reduced_masses = get_reduced_mass(precursor_mzs, charges)\n",
    "    return im_values*charges*CCS_IM_COEF/np.sqrt(reduced_masses)\n",
    "\n",
    "def ccs_to_mobility_bruker_for_df(\n",
    "    precursor_df:pd.DataFrame,\n",
    "    ccs_column:str,\n",
    ")->pd.DataFrame:\n",
    "        if 'precursor_mz' not in precursor_df.columns:\n",
    "            precursor_df = update_precursor_mz(precursor_df)\n",
    "        return ccs_to_mobility_bruker(\n",
    "            precursor_df[ccs_column].values, \n",
    "            precursor_df.charge.values,\n",
    "            precursor_df.precursor_mz.values\n",
    "        )\n",
    "\n",
    "def mobility_to_ccs_bruker_for_df(\n",
    "    precursor_df:pd.DataFrame,\n",
    "    mobility_column:str,\n",
    ")->pd.DataFrame:\n",
    "    if 'precursor_mz' not in precursor_df.columns:\n",
    "        precursor_df = update_precursor_mz(precursor_df)\n",
    "    return mobility_to_ccs_bruker(\n",
    "        precursor_df[mobility_column].values,\n",
    "        precursor_df.charge.values,\n",
    "        precursor_df.precursor_mz.values\n",
    "    )"
   ]
  },
  {
   "cell_type": "code",
   "execution_count": null,
   "metadata": {},
   "outputs": [],
   "source": []
  }
 ],
 "metadata": {
  "kernelspec": {
   "display_name": "Python 3.8.2 64-bit",
   "language": "python",
   "name": "python3"
  }
 },
 "nbformat": 4,
 "nbformat_minor": 2
}
