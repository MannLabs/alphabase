{
 "cells": [
  {
   "cell_type": "code",
   "execution_count": null,
   "metadata": {},
   "outputs": [],
   "source": [
    "#---#| default_exp psm_reader.maxquant_reader"
   ]
  },
  {
   "cell_type": "markdown",
   "metadata": {},
   "source": [
    "# MaxQuant PSM reader"
   ]
  },
  {
   "cell_type": "code",
   "execution_count": null,
   "metadata": {},
   "outputs": [],
   "source": [
    "from alphabase.psm_reader.maxquant_reader import *"
   ]
  },
  {
   "cell_type": "markdown",
   "metadata": {},
   "source": [
    "### Column and modification mapping from alphabase to MaxQuant"
   ]
  },
  {
   "cell_type": "code",
   "execution_count": null,
   "metadata": {},
   "outputs": [
    {
     "data": {
      "text/plain": [
       "{'sequence': 'Sequence',\n",
       " 'charge': 'Charge',\n",
       " 'rt': 'Retention time',\n",
       " 'ccs': 'CCS',\n",
       " 'mobility': ['Mobility', 'IonMobility', 'K0', '1/K0'],\n",
       " 'scan_num': ['Scan number', 'MS/MS scan number', 'Scan index'],\n",
       " 'raw_name': 'Raw file',\n",
       " 'precursor_mz': 'm/z',\n",
       " 'score': 'Score',\n",
       " 'proteins': 'Proteins',\n",
       " 'genes': ['Gene Names', 'Gene names'],\n",
       " 'decoy': 'Reverse'}"
      ]
     },
     "execution_count": null,
     "metadata": {},
     "output_type": "execute_result"
    }
   ],
   "source": [
    "psm_reader_yaml['maxquant']['column_mapping']"
   ]
  },
  {
   "cell_type": "code",
   "execution_count": null,
   "metadata": {},
   "outputs": [
    {
     "data": {
      "text/plain": [
       "{'Acetyl@Protein N-term': ['_(Acetyl (Protein N-term))',\n",
       "  '_(ac)',\n",
       "  '_(UniMod:1)'],\n",
       " 'Carbamidomethyl@C': ['C(Carbamidomethyl (C))', 'C(UniMod:4)'],\n",
       " 'Oxidation@M': ['M(Oxidation (M))', 'M(ox)', 'M(UniMod:35)'],\n",
       " 'Phospho@S': ['S(Phospho (S))',\n",
       "  'S(Phospho (ST))',\n",
       "  'S(Phospho (STY))',\n",
       "  'S(ph)',\n",
       "  'S(UniMod:21)',\n",
       "  'pS'],\n",
       " 'Phospho@T': ['T(Phospho (T))',\n",
       "  'T(Phospho (ST))',\n",
       "  'T(Phospho (STY))',\n",
       "  'T(ph)',\n",
       "  'T(UniMod:21)',\n",
       "  'pT'],\n",
       " 'Phospho@Y': ['Y(Phospho (Y))',\n",
       "  'Y(Phospho (STY))',\n",
       "  'Y(ph)',\n",
       "  'Y(UniMod:21)',\n",
       "  'pY'],\n",
       " 'Deamidated@N': ['N(Deamidation (NQ))', 'N(de)'],\n",
       " 'Deamidated@Q': ['Q(Deamidation (NQ))', 'Q(de)'],\n",
       " 'GlyGly@K': ['K(GlyGly (K))', 'K(gl)']}"
      ]
     },
     "execution_count": null,
     "metadata": {},
     "output_type": "execute_result"
    }
   ],
   "source": [
    "psm_reader_yaml['maxquant']['modification_mapping']"
   ]
  },
  {
   "cell_type": "code",
   "execution_count": null,
   "metadata": {},
   "outputs": [],
   "source": [
    "#| hide\n",
    "assert ('HAESVMTMGLK','M(ox);M(ox);_(x@Cterm)', '6;8;-1') == parse_mod_seq(\"_HAESVM(ox)TM(ox)GLK_(x@Cterm)\")\n",
    "assert ('HAESVMTMGLK','M(ox);M(ox);pS;pT', '6;8;4;7') == parse_mod_seq(\"_HAEpSVM(ox)pTM(ox)GLK_\")\n",
    "assert ('HAESVHTGLK','pS;pT', '4;7') == parse_mod_seq(\"_HAEpSVHpTGLK_\")\n",
    "assert ('HAESVHTGLK','pS;pT', '4;7') == parse_mod_seq(\"HAEpSVHpTGLK\", underscore_for_ncterm=False)\n",
    "assert ('HAEMVHTGLK','M(Oxidation (M))', '4') == parse_mod_seq(\"_HAEM(Oxidation (M))VHTGLK_\")\n",
    "assert ('ACLDYPVTSVLPPASLMK','C(Cys-Cys);M(Oxidation (M));C(Carbamidomethyl (C))', '2;17;2') == parse_mod_seq(\"_AC(Cys-Cys)LDYPVTSVLPPASLM(Oxidation (M))K_\")\n",
    "assert ('VSHGSSPSLLEALSSDFLACK','_(Acetyl (N-term));C(Carbamidomethyl (C))', '0;20') == parse_mod_seq(\"_(Acetyl (N-term))VSHGSSPSLLEALSSDFLAC(Carbamidomethyl (C))K_\", fixed_C57=False)\n",
    "assert ('VSHGSSPSLLEALSSDFLACK','_(Acetyl (N-term));C(Carbamidomethyl (C));C(Carbamidomethyl (C))', '0;20;20') == parse_mod_seq(\"_(Acetyl (N-term))VSHGSSPSLLEALSSDFLAC(Carbamidomethyl (C))K_\", fixed_C57=True)\n",
    "assert ('EKPLLEKSHCIC','E(Glu->pyro-Glu);C(Carbamidomethyl (C));C(Carbamidomethyl (C))', '1;10;12') == parse_mod_seq(\"_E(Glu->pyro-Glu)KPLLEKSHCIC_\", fixed_C57=True)\n",
    "assert ('HAEMVHTGLK','M[Oxidation (M)]', '4') == parse_mod_seq(\"_HAEM[Oxidation (M)]VHTGLK_\", mod_sep='[]')\n",
    "assert ('ACLDYPVTSVLPPASLMK','C[Cys-Cys];M[Oxidation (M)];C[Carbamidomethyl (C)]', '2;17;2') == parse_mod_seq(\"_AC[Cys-Cys]LDYPVTSVLPPASLM[Oxidation (M)]K_\", mod_sep='[]')\n",
    "assert ('VSHGSSPSLLEALSSDFLACK','_[Acetyl (N-term)];C[Carbamidomethyl (C)]', '0;20') == parse_mod_seq(\"_[Acetyl (N-term)]VSHGSSPSLLEALSSDFLAC[Carbamidomethyl (C)]K_\", fixed_C57=False, mod_sep='[]')\n",
    "assert ('VSHGSSPSLLEALSSDFLACK','_[Acetyl (N-term)];C[Carbamidomethyl (C)];C[Carbamidomethyl (C)]', '0;20;20') == parse_mod_seq(\"_[Acetyl (N-term)]VSHGSSPSLLEALSSDFLAC[Carbamidomethyl (C)]K_\", fixed_C57=True, mod_sep='[]')\n",
    "assert ('EKPLLEKSHCIC','E[Glu->pyro-Glu];C[Carbamidomethyl (C)];C[Carbamidomethyl (C)]', '1;10;12') == parse_mod_seq(\"_E[Glu->pyro-Glu]KPLLEKSHCIC_\", fixed_C57=True, mod_sep='[]')\n",
    "assert ('HAEMVHTGLK','M(UniMod:35)', '4') == parse_mod_seq(\"HAEM(UniMod:35)VHTGLK\",underscore_for_ncterm=False)\n",
    "assert ('VSHGSSPSLLEALSSDFLACK','C(UniMod:4);C(Carbamidomethyl (C))', '20;20') == parse_mod_seq(\"VSHGSSPSLLEALSSDFLAC(UniMod:4)K\",fixed_C57=True, underscore_for_ncterm=False)\n",
    "assert ('VSHGSSPSLLEALSSDFLACK','C(UniMod:4)', '20') == parse_mod_seq(\"VSHGSSPSLLEALSSDFLAC(UniMod:4)K\",fixed_C57=False, underscore_for_ncterm=False)\n",
    "assert ('AAAAAAGAGPEMVR','(UniMod:1);M(UniMod:35)','0;12') == parse_mod_seq('(UniMod:1)AAAAAAGAGPEM(UniMod:35)VR', underscore_for_ncterm=False)"
   ]
  },
  {
   "cell_type": "markdown",
   "metadata": {},
   "source": [
    "### Testing"
   ]
  },
  {
   "cell_type": "code",
   "execution_count": null,
   "metadata": {},
   "outputs": [],
   "source": [
    "import io\n",
    "import numpy as np"
   ]
  },
  {
   "cell_type": "code",
   "execution_count": null,
   "metadata": {},
   "outputs": [
    {
     "data": {
      "text/html": [
       "<div>\n",
       "<style scoped>\n",
       "    .dataframe tbody tr th:only-of-type {\n",
       "        vertical-align: middle;\n",
       "    }\n",
       "\n",
       "    .dataframe tbody tr th {\n",
       "        vertical-align: top;\n",
       "    }\n",
       "\n",
       "    .dataframe thead th {\n",
       "        text-align: right;\n",
       "    }\n",
       "</style>\n",
       "<table border=\"1\" class=\"dataframe\">\n",
       "  <thead>\n",
       "    <tr style=\"text-align: right;\">\n",
       "      <th></th>\n",
       "      <th>sequence</th>\n",
       "      <th>charge</th>\n",
       "      <th>rt</th>\n",
       "      <th>scan_num</th>\n",
       "      <th>raw_name</th>\n",
       "      <th>precursor_mz</th>\n",
       "      <th>score</th>\n",
       "      <th>proteins</th>\n",
       "      <th>decoy</th>\n",
       "      <th>spec_idx</th>\n",
       "      <th>mods</th>\n",
       "      <th>mod_sites</th>\n",
       "      <th>nAA</th>\n",
       "      <th>rt_norm</th>\n",
       "    </tr>\n",
       "  </thead>\n",
       "  <tbody>\n",
       "    <tr>\n",
       "      <th>0</th>\n",
       "      <td>AAAAAAAGDSDSWDADAFSVEDPVRK</td>\n",
       "      <td>3</td>\n",
       "      <td>90.978</td>\n",
       "      <td>107307</td>\n",
       "      <td>20190402_QX1_SeVW_MA_HeLa_500ng_LC11</td>\n",
       "      <td>879.06841</td>\n",
       "      <td>148.950</td>\n",
       "      <td>sp|O75822|EIF3J_HUMAN</td>\n",
       "      <td>0</td>\n",
       "      <td>107306</td>\n",
       "      <td>Acetyl@Protein N-term</td>\n",
       "      <td>0</td>\n",
       "      <td>26</td>\n",
       "      <td>1.000000</td>\n",
       "    </tr>\n",
       "    <tr>\n",
       "      <th>1</th>\n",
       "      <td>AAAAAAAAAPAAAATAPTTAATTAATAAQ</td>\n",
       "      <td>3</td>\n",
       "      <td>70.261</td>\n",
       "      <td>81358</td>\n",
       "      <td>20190402_QX1_SeVW_MA_HeLa_500ng_LC11</td>\n",
       "      <td>790.07495</td>\n",
       "      <td>41.423</td>\n",
       "      <td>sp|P37108|SRP14_HUMAN</td>\n",
       "      <td>0</td>\n",
       "      <td>81357</td>\n",
       "      <td>Acetyl@Protein N-term;Oxidation@M</td>\n",
       "      <td>0;9</td>\n",
       "      <td>29</td>\n",
       "      <td>0.772286</td>\n",
       "    </tr>\n",
       "    <tr>\n",
       "      <th>2</th>\n",
       "      <td>AAAAAAAAAAPAAAATAPTTAATTAATAAQ</td>\n",
       "      <td>2</td>\n",
       "      <td>70.287</td>\n",
       "      <td>81391</td>\n",
       "      <td>20190402_QX1_SeVW_MA_HeLa_500ng_LC11</td>\n",
       "      <td>1184.60880</td>\n",
       "      <td>118.210</td>\n",
       "      <td>sp|P37108|SRP14_HUMAN</td>\n",
       "      <td>0</td>\n",
       "      <td>81390</td>\n",
       "      <td></td>\n",
       "      <td></td>\n",
       "      <td>30</td>\n",
       "      <td>0.772571</td>\n",
       "    </tr>\n",
       "  </tbody>\n",
       "</table>\n",
       "</div>"
      ],
      "text/plain": [
       "                         sequence  charge      rt  scan_num  \\\n",
       "0      AAAAAAAGDSDSWDADAFSVEDPVRK       3  90.978    107307   \n",
       "1   AAAAAAAAAPAAAATAPTTAATTAATAAQ       3  70.261     81358   \n",
       "2  AAAAAAAAAAPAAAATAPTTAATTAATAAQ       2  70.287     81391   \n",
       "\n",
       "                               raw_name  precursor_mz    score  \\\n",
       "0  20190402_QX1_SeVW_MA_HeLa_500ng_LC11     879.06841  148.950   \n",
       "1  20190402_QX1_SeVW_MA_HeLa_500ng_LC11     790.07495   41.423   \n",
       "2  20190402_QX1_SeVW_MA_HeLa_500ng_LC11    1184.60880  118.210   \n",
       "\n",
       "                proteins  decoy  spec_idx                               mods  \\\n",
       "0  sp|O75822|EIF3J_HUMAN      0    107306              Acetyl@Protein N-term   \n",
       "1  sp|P37108|SRP14_HUMAN      0     81357  Acetyl@Protein N-term;Oxidation@M   \n",
       "2  sp|P37108|SRP14_HUMAN      0     81390                                      \n",
       "\n",
       "  mod_sites  nAA   rt_norm  \n",
       "0         0   26  1.000000  \n",
       "1       0;9   29  0.772286  \n",
       "2             30  0.772571  "
      ]
     },
     "execution_count": null,
     "metadata": {},
     "output_type": "execute_result"
    }
   ],
   "source": [
    "mq_tsv = io.StringIO('''Raw file\tScan number\tScan index\tSequence\tLength\tMissed cleavages\tModifications\tModified sequence\tOxidation (M) Probabilities\tOxidation (M) Score diffs\tAcetyl (Protein N-term)\tOxidation (M)\tProteins\tCharge\tFragmentation\tMass analyzer\tType\tScan event number\tIsotope index\tm/z\tMass\tMass error [ppm]\tMass error [Da]\tSimple mass error [ppm]\tRetention time\tPEP\tScore\tDelta score\tScore diff\tLocalization prob\tCombinatorics\tPIF\tFraction of total spectrum\tBase peak fraction\tPrecursor full scan number\tPrecursor Intensity\tPrecursor apex fraction\tPrecursor apex offset\tPrecursor apex offset time\tMatches\tIntensities\tMass deviations [Da]\tMass deviations [ppm]\tMasses\tNumber of matches\tIntensity coverage\tPeak coverage\tNeutral loss level\tETD identification type\tReverse\tAll scores\tAll sequences\tAll modified sequences\tReporter PIF\tReporter fraction\tid\tProtein group IDs\tPeptide ID\tMod. peptide ID\tEvidence ID\tOxidation (M) site IDs\n",
    "20190402_QX1_SeVW_MA_HeLa_500ng_LC11\t81358\t73979\tAAAAAAAAAPAAAATAPTTAATTAATAAQ\t29\t0\tUnmodified\t_(Acetyl (Protein N-term))AAAAAAAAM(Oxidation (M))PAAAATAPTTAATTAATAAQ_\t\t\t0\t0\tsp|P37108|SRP14_HUMAN\t3\tHCD\tFTMS\tMULTI-MSMS\t13\t1\t790.07495\t2367.203\t0.35311\t0.00027898\t-0.061634807\t70.261\t0.012774\t41.423\t36.666\tNaN\tNaN\t1\t0\t0\t0\t81345\t10653955\t0.0338597821787898\t-11\t0.139877319335938\ty1;y2;y3;y4;y11;y1-NH3;y2-NH3;a2;b2;b3;b4;b5;b6;b7;b8;b9;b11;b12;b6(2+);b8(2+);b13(2+);b18(2+)\t2000000;2000000;300000;400000;200000;1000000;400000;300000;600000;1000000;2000000;3000000;3000000;3000000;3000000;2000000;600000;500000;1000000;2000000;300000;200000\t5.2861228709844E-06;-6.86980268369553E-05;-0.00238178789771837;0.000624715964988809;-0.0145624692099773;-0.000143471782706683;-0.000609501446461991;-0.000524972720768346;0.00010190530804266;5.8620815195809E-05;0.000229901232955854;-0.000108750048696038;-0.000229593152369034;0.00183148682538103;0.00276641182404092;0.000193118923334623;0.00200988580445483;0.000102216846016745;5.86208151389656E-05;0.000229901232955854;-0.00104559184393338;0.00525030008475369\t0.0359413365445091;-0.314964433555295;-8.23711898839045;1.60102421155213;-14.8975999917227;-1.10320467763838;-3.03102462870716;-4.56152475051625;0.712219104095465;0.273777366204575;0.806231096969562;-0.305312183824154;-0.537399178230218;3.67572664689217;4.85930954169285;0.301587577451224;2.48616190909398;0.116225745519871;0.273777365939099;0.806231096969562;-2.19774169175011;7.53961026980589\t147.076413378177;218.113601150127;289.153028027798;390.197699998035;977.50437775671;130.050013034583;201.087592852046;115.087114392821;143.081402136892;214.118559209185;285.155501716567;356.192954155649;427.230188786552;498.265241494374;569.301420357176;640.341107437877;808.429168310795;879.468189767554;214.118559209185;285.155501716567;475.757386711244;696.362265007215\t22\t0.262893575628735\t0.0826446280991736\tNone\tUnknown\t\t41.4230894199432;4.75668724862449;3.9515580701967\tAAAAAAAAAPAAAATAPTTAATTAATAAQ;FHRGPPDKDDMVSVTQILQGK;PVTLWITVTHMQADEVSVWR\t_AAAAAAAAAPAAAATAPTTAATTAATAAQ_;_FHRGPPDKDDMVSVTQILQGK_;_PVTLWITVTHMQADEVSVWR_\t\t\t0\t1443\t0\t0\t0\t\n",
    "20190402_QX1_SeVW_MA_HeLa_500ng_LC11\t81391\t74010\tAAAAAAAAAAPAAAATAPTTAATTAATAAQ\t29\t0\tUnmodified\t_AAAAAAAAAPAAAATAPTTAATTAATAAQ_\t\t\t0\t0\tsp|P37108|SRP14_HUMAN\t2\tHCD\tFTMS\tMULTI-MSMS\t14\t0\t1184.6088\t2367.203\t0.037108\t4.3959E-05\t1.7026696\t70.287\t7.1474E-09\t118.21\t100.52\tNaN\tNaN\t1\t0\t0\t0\t81377\t9347701\t0.166790347889974\t-10\t0.12664794921875\ty1;y2;y3;y4;y5;y9;y12;y13;y14;y20;y13-H2O;y20-H2O;y1-NH3;y20-NH3;b3;b4;b5;b6;b7;b8;b9;b11;b12;b13;b14;b15;b16;b19;b15-H2O;b16-H2O\t500000;600000;200000;400000;200000;100000;200000;1000000;200000;300000;200000;100000;100000;70000;300000;900000;2000000;3000000;5000000;8000000;6000000;600000;800000;600000;200000;300000;200000;300000;300000;1000000\t-0.000194444760495571;0.000149986878682284;0.000774202587820128;-0.0002445094036716;0.000374520568641401;-0.00694293246522193;-0.0109837291331587;-0.0037745820627606;-0.000945546471939451;0.00152326440706929;0.00506054832726477;0.00996886361417637;6.25847393393997E-05;-0.024881067836759;-3.11821549132674E-05;-0.000183099230639527;0.000161332473453513;0.000265434980121881;0.000747070697229901;0.000975534518261156;0.00101513939785036;0.00651913000274362;0.0058584595163893;0.00579536744021425;0.00131097834105276;-0.0131378531671089;0.00472955218901916;-0.00161006322559842;-0.00201443239325272;0.0227149399370319\t-1.32206444236914;0.687655553213019;2.6775131607882;-0.626628140021726;0.811995006209331;-8.6203492854282;-10.1838066275079;-3.21078702288986;-0.758483069159249;0.881072738747222;4.37168212373889;5.82682888353564;0.481236695337485;-14.5343986203644;-0.145630261806375;-0.642102166533079;0.452935954800214;0.621293379181583;1.49934012872483;1.71355878380837;1.58531240493271;8.06399202403175;6.6614096214532;6.09718023739784;1.28333378040908;-11.7030234519348;3.96235146626144;-1.07856912288932;-1.82370619437775;19.3220953109188\t147.07661310906;218.113382465221;289.149872037312;390.198569223404;461.235063981231;805.411965958065;1078.54847749073;1175.59403219566;1246.62831694787;1728.87474561429;1157.57463237897;1710.85573532879;130.049806978061;1711.87460084504;214.118649012155;285.155914717031;356.192684073126;427.22969375842;498.266325910503;569.303211234482;640.340285417402;808.424659066597;879.462433524883;950.49961040476;1021.54120858166;1122.60333588727;1193.62258226971;1492.77704268533;1104.58164778019;1175.59403219566\t30\t0.474003002083763\t0.167630057803468\tNone\tUnknown\t\t118.209976573419;17.6937689289157;17.2534171481793\tAAAAAAAAAPAAAATAPTTAATTAATAAQ;SELKQEAMQSEQLQSVLYLK;VGSSVPSKASELVVMGDHDAARR\t_AAAAAAAAAPAAAATAPTTAATTAATAAQ_;_SELKQEAM(Oxidation (M))QSEQLQSVLYLK_;_VGSSVPSKASELVVMGDHDAARR_\t\t\t1\t1443\t0\t0\t1\t\n",
    "20190402_QX1_SeVW_MA_HeLa_500ng_LC11\t107307\t98306\tAAAAAAAGDSDSWDADAFSVEDPVRK\t26\t1\tAcetyl (Protein N-term)\t_(Acetyl (Protein N-term))AAAAAAAGDSDSWDADAFSVEDPVRK_\t\t\t1\t0\tsp|O75822|EIF3J_HUMAN\t3\tHCD\tFTMS\tMULTI-MSMS\t10\t2\t879.06841\t2634.1834\t-0.93926\t-0.00082567\t-3.2012471\t90.978\t2.1945E-12\t148.95\t141.24\tNaN\tNaN\t1\t0\t0\t0\t107297\t10193939\t0.267970762043589\t-8\t0.10211181640625\ty1;y2;y4;y5;y6;y7;y8;y9;y10;y11;y12;y13;y14;y15;y17;y18;y19;y20;y21;y23;y21-H2O;y1-NH3;y19-NH3;y14(2+);y16(2+);y22(2+);a2;b2;b3;b4;b5;b6;b7\t300000;200000;3000000;600000;1000000;500000;2000000;1000000;1000000;1000000;90000;1000000;400000;900000;1000000;400000;3000000;2000000;1000000;400000;100000;200000;200000;80000;100000;200000;200000;2000000;5000000;5000000;5000000;2000000;300000\t1.34859050149316E-07;-6.05140996867704E-06;2.27812602133781E-05;0.00128986659160546;-0.00934536073077652;0.000941953783126337;-0.00160424237344614;-0.00239257341399934;-0.00111053968612396;-0.00331340710044969;0.00330702864630439;0.000963683996815234;0.00596290290945944;-0.00662057038289277;-0.0117122701335575;0.00777853472800416;0.0021841542961738;0.000144322111736983;-0.00087403893667215;0.0197121595674616;-0.021204007680808;-0.000308954599830713;-0.026636719419912;-0.0137790992353075;0.00596067266928912;-0.0077053835773313;9.11402199221811E-06;-0.000142539300128419;-0.000251999832926231;1.90791054137662E-05;-0.00236430185879044;-9.54583337602344E-05;-0.000556959493223985\t0.000916705048437201;-0.0199575598103408;0.0456231928690862;2.09952637717462;-12.5708704058425;1.11808305811426;-1.72590731777249;-2.22239181008062;-0.967696370445928;-2.62418809422166;2.47964286628144;0.665205752892023;3.64753748704453;-3.84510115530963;-6.08782672045773;3.81508105974837;1.04209904973991;0.0666012719936656;-0.390545453668809;8.28224925531311;-9.55133250134922;-2.37499239179248;-12.8127653858411;-16.846761946123;6.48662354975264;-6.67117082062383;0.0580151981289049;-0.770098855873447;-0.983876895688683;0.0583162347158579;-5.93738717724506;-0.203431522818505;-1.03087538746314\t147.112804035741;303.21392125011;499.33507018564;614.360746132308;743.413974455831;842.472101057517;929.506675663573;1076.57587791081;1147.61170966489;1262.6408555643;1333.67134891635;1448.700635293;1634.77494902759;1721.81956091078;1923.88362405243;2038.89107627957;2095.9181343836;2166.95728800359;2237.99542015244;2380.04906152953;2220.00518543488;130.0865640237;2078.92040615582;817.907873297785;918.917619246831;1155.02717356753;157.097144992378;185.0922112678;256.129434516133;327.166277224995;398.205774393759;469.240619338034;540.278194626993\t33\t0.574496146107112\t0.14410480349345\tNone\tUnknown\t\t148.951235201399;7.71201258444522;7.36039532447559\tAAAAAAAGDSDSWDADAFSVEDPVRK;PSRQESELMWQWVDQRSDGER;HTLTSFWNFKAGCEEKCYSNR\t_(Acetyl (Protein N-term))AAAAAAAGDSDSWDADAFSVEDPVRK_;_PSRQESELM(Oxidation (M))WQWVDQRSDGER_;_HTLTSFWNFKAGCEEKCYSNR_\t\t\t2\t625\t1\t1\t2\t'''\n",
    ")\n",
    "\n",
    "mq_reader = psm_reader_provider.get_reader('maxquant')\n",
    "mq_reader.import_file(mq_tsv)\n",
    "assert len(mq_reader.psm_df) == 3\n",
    "assert mq_reader.psm_df.mods.values[1] == 'Acetyl@Protein N-term;Oxidation@M'\n",
    "assert mq_reader.psm_df.mod_sites.values[1] == '0;9'\n",
    "assert mq_reader.psm_df.mods.values[2] == ''\n",
    "assert mq_reader.psm_df.mod_sites.values[2] == ''\n",
    "assert np.all(np.array(mq_reader.modification_mapping['Phospho@S'])==np.array([\n",
    "    'S(Phospho (S))',\n",
    "    'S(Phospho (ST))',\n",
    "    'S(Phospho (STY))',\n",
    "    'S(ph)',\n",
    "    'S(UniMod:21)',\n",
    "    'pS',\n",
    "    'S[Phospho (S)]',\n",
    "    'S[Phospho (ST)]',\n",
    "    'S[Phospho (STY)]',\n",
    "    'S[ph]',\n",
    "    'S[UniMod:21]'])\n",
    ")\n",
    "mq_reader.psm_df"
   ]
  },
  {
   "cell_type": "code",
   "execution_count": null,
   "metadata": {},
   "outputs": [],
   "source": []
  }
 ],
 "metadata": {
  "kernelspec": {
   "display_name": "Python 3.8.3 ('base')",
   "language": "python",
   "name": "python3"
  }
 },
 "nbformat": 4,
 "nbformat_minor": 2
}
