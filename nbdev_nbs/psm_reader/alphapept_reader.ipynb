{
 "cells": [
  {
   "cell_type": "code",
   "execution_count": null,
   "metadata": {},
   "outputs": [],
   "source": [
    "#---#| default_exp psm_reader.alphapept_reader"
   ]
  },
  {
   "cell_type": "markdown",
   "metadata": {},
   "source": [
    "# AlphaPept PSM Reader"
   ]
  },
  {
   "cell_type": "markdown",
   "metadata": {},
   "source": [
    "### Column and modification mapping from alphabase to MaxQuant"
   ]
  },
  {
   "cell_type": "code",
   "execution_count": null,
   "metadata": {},
   "outputs": [],
   "source": [
    "from alphabase.psm_reader.alphapept_reader import *"
   ]
  },
  {
   "cell_type": "code",
   "execution_count": null,
   "metadata": {},
   "outputs": [
    {
     "data": {
      "text/plain": [
       "{'rt': 'rt',\n",
       " 'scan_num': 'scan_no',\n",
       " 'spec_idx': 'raw_idx',\n",
       " 'query_id': 'query_idx',\n",
       " 'mobility': 'mobility',\n",
       " 'score': 'score',\n",
       " 'precursor_mz': 'mz',\n",
       " 'charge': 'charge',\n",
       " 'raw_name': 'raw_name',\n",
       " 'fdr': 'q_value',\n",
       " 'decoy': 'decoy'}"
      ]
     },
     "execution_count": null,
     "metadata": {},
     "output_type": "execute_result"
    }
   ],
   "source": [
    "psm_reader_yaml['alphapept']['column_mapping']"
   ]
  },
  {
   "cell_type": "code",
   "execution_count": null,
   "metadata": {},
   "outputs": [
    {
     "data": {
      "text/plain": [
       "{'Carbamidomethyl@C': 'cC',\n",
       " 'Oxidation@M': 'oxM',\n",
       " 'Phospho@S': 'pS',\n",
       " 'Phospho@T': 'pT',\n",
       " 'Phospho@Y': 'pY',\n",
       " 'Acetyl@Protein N-term': 'a'}"
      ]
     },
     "execution_count": null,
     "metadata": {},
     "output_type": "execute_result"
    }
   ],
   "source": [
    "psm_reader_yaml['alphapept']['modification_mapping']"
   ]
  },
  {
   "cell_type": "markdown",
   "metadata": {},
   "source": [
    "The modified sequence column is `precursor` column"
   ]
  },
  {
   "cell_type": "code",
   "execution_count": null,
   "metadata": {},
   "outputs": [],
   "source": [
    "#| hide\n",
    "ap_reader = psm_reader_provider.get_reader('alphapept')\n",
    "assert 'Oxidation@M' in ap_reader.modification_mapping\n",
    "assert 'oxM' in ap_reader.modification_mapping['Oxidation@M']\n",
    "assert 'oxM' in ap_reader.rev_mod_mapping\n",
    "assert 'Oxidation@M' in ap_reader.rev_mod_mapping.values()"
   ]
  },
  {
   "cell_type": "code",
   "execution_count": null,
   "metadata": {},
   "outputs": [
    {
     "data": {
      "text/html": [
       "<div>\n",
       "<style scoped>\n",
       "    .dataframe tbody tr th:only-of-type {\n",
       "        vertical-align: middle;\n",
       "    }\n",
       "\n",
       "    .dataframe tbody tr th {\n",
       "        vertical-align: top;\n",
       "    }\n",
       "\n",
       "    .dataframe thead th {\n",
       "        text-align: right;\n",
       "    }\n",
       "</style>\n",
       "<table border=\"1\" class=\"dataframe\">\n",
       "  <thead>\n",
       "    <tr style=\"text-align: right;\">\n",
       "      <th></th>\n",
       "    </tr>\n",
       "  </thead>\n",
       "  <tbody>\n",
       "  </tbody>\n",
       "</table>\n",
       "</div>"
      ],
      "text/plain": [
       "Empty DataFrame\n",
       "Columns: []\n",
       "Index: []"
      ]
     },
     "execution_count": null,
     "metadata": {},
     "output_type": "execute_result"
    }
   ],
   "source": [
    "#| hide\n",
    "ap_reader = psm_reader_provider.get_reader('alphapept')\n",
    "test_path = '~/Workspace/Data/Thermo_iRT/iRT.ms_data.hdf'\n",
    "if os.path.isfile(test_path):\n",
    "    hdf = os.path.expanduser(test_path)\n",
    "    if os.path.exists(hdf):\n",
    "        ap_reader.import_file(hdf)\n",
    "        assert len(ap_reader.psm_df) == 14\n",
    "        assert (ap_reader.psm_df.raw_name == 'iRT').all()\n"
   ]
  },
  {
   "cell_type": "code",
   "execution_count": null,
   "metadata": {},
   "outputs": [],
   "source": []
  }
 ],
 "metadata": {
  "kernelspec": {
   "display_name": "python3",
   "language": "python",
   "name": "python3"
  }
 },
 "nbformat": 4,
 "nbformat_minor": 2
}
