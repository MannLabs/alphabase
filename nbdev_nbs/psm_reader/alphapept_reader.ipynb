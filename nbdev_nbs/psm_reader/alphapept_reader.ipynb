{
 "cells": [
  {
   "cell_type": "code",
   "execution_count": null,
   "metadata": {},
   "outputs": [],
   "source": [
    "#| default_exp psm_reader.alphapept_reader"
   ]
  },
  {
   "cell_type": "markdown",
   "metadata": {},
   "source": [
    "# AlphaPept PSM Reader"
   ]
  },
  {
   "cell_type": "code",
   "execution_count": null,
   "metadata": {},
   "outputs": [],
   "source": [
    "#| export\n",
    "import numba\n",
    "import os\n",
    "import pandas as pd\n",
    "import numpy as np\n",
    "import h5py\n",
    "\n",
    "from alphabase.psm_reader.psm_reader import (\n",
    "    PSMReaderBase, psm_reader_provider,\n",
    "    psm_reader_yaml\n",
    ")"
   ]
  },
  {
   "cell_type": "code",
   "execution_count": null,
   "metadata": {},
   "outputs": [],
   "source": [
    "#| export\n",
    "\n",
    "@numba.njit\n",
    "def parse_ap(precursor):\n",
    "    \"\"\"\n",
    "    Parser to parse peptide strings\n",
    "    \"\"\"\n",
    "    items = precursor.split('_')\n",
    "    if len(items) == 3:\n",
    "        decoy = 1\n",
    "    else:\n",
    "        decoy = 0\n",
    "    modseq = items[0]\n",
    "    charge = items[-1]\n",
    "\n",
    "    parsed = []\n",
    "    mods = []\n",
    "    sites = []\n",
    "    string = \"\"\n",
    "\n",
    "    if modseq[0] == 'a':\n",
    "        sites.append('0')\n",
    "        mods.append('a')\n",
    "        modseq = modseq[1:]\n",
    "    elif modseq.startswith('tmt'):\n",
    "        for l in range(3, len(modseq)):\n",
    "            if modseq[l].isupper():\n",
    "                break\n",
    "        sites.append('0')\n",
    "        mods.append(modseq[:l])\n",
    "        modseq = modseq[l:]\n",
    "\n",
    "    for i in modseq:\n",
    "        string += i\n",
    "        if i.isupper():\n",
    "            parsed.append(i)\n",
    "            if len(string) > 1:\n",
    "                sites.append(str(len(parsed)))\n",
    "                mods.append(string)\n",
    "            string = \"\"\n",
    "\n",
    "    return ''.join(parsed), ';'.join(mods), ';'.join(sites), charge, decoy\n",
    "\n",
    "def get_x_tandem_score(df: pd.DataFrame) -> np.ndarray:\n",
    "    b = df['hits_b'].astype('int').apply(lambda x: np.math.factorial(x)).values\n",
    "    y = df['hits_y'].astype('int').apply(lambda x: np.math.factorial(x)).values\n",
    "    x_tandem = np.log(b.astype('float')*y.astype('float')*df['fragments_matched_int_sum'].values)\n",
    "\n",
    "    x_tandem[x_tandem==-np.inf] = 0\n",
    "\n",
    "    return x_tandem\n",
    "\n",
    "class AlphaPeptReader(PSMReaderBase):\n",
    "    def __init__(self,\n",
    "        *,\n",
    "        column_mapping:dict = None,\n",
    "        modification_mapping:dict = None,\n",
    "        fdr = 0.01,\n",
    "        keep_decoy = False,\n",
    "        **kwargs,\n",
    "    ):\n",
    "        \"\"\"\n",
    "        Reading PSMs from alphapept's *.ms_data.hdf\n",
    "        \"\"\"\n",
    "        super().__init__(\n",
    "            column_mapping=column_mapping,\n",
    "            modification_mapping=modification_mapping,\n",
    "            fdr = fdr,\n",
    "            keep_decoy = keep_decoy,\n",
    "        )\n",
    "        if fdr <= 0.1:\n",
    "            self.hdf_dataset = 'peptide_fdr'\n",
    "        else:\n",
    "            self.hdf_dataset = 'second_search'\n",
    "\n",
    "    def _init_column_mapping(self):\n",
    "        self.column_mapping = psm_reader_yaml[\n",
    "            'alphapept'\n",
    "        ]['column_mapping']\n",
    "\n",
    "    def _init_modification_mapping(self):\n",
    "        self.modification_mapping = psm_reader_yaml[\n",
    "            'alphapept'\n",
    "        ]['modification_mapping']\n",
    "\n",
    "    def _load_file(self, filename):\n",
    "        with h5py.File(filename, 'r') as _hdf:\n",
    "            dataset = _hdf[self.hdf_dataset]\n",
    "            df = pd.DataFrame({col:dataset[col] for col in dataset.keys()})\n",
    "            df['raw_name'] = os.path.basename(filename)[:-len('.ms_data.hdf')]\n",
    "            df['precursor'] = df['precursor'].str.decode('utf-8')\n",
    "            #df['naked_sequence'] = df['naked_sequence'].str.decode('utf-8')\n",
    "            if 'scan_no' in df.columns:\n",
    "                df['scan_no'] = df['scan_no'].astype('int')\n",
    "                df['raw_idx'] = df['scan_no']-1 # if thermo, use scan-1 as spec_idx\n",
    "            df['charge'] = df['charge'].astype(int)\n",
    "\n",
    "            if 'score' not in df.columns:\n",
    "                df['score'] = get_x_tandem_score(df)\n",
    "        return df\n",
    "    \n",
    "    def _load_modifications(self, df: pd.DataFrame):\n",
    "        (\n",
    "            self._psm_df['sequence'], self._psm_df['mods'],\n",
    "            self._psm_df['mod_sites'], _charges,\n",
    "            self._psm_df['decoy']\n",
    "        ) = zip(*df['precursor'].apply(parse_ap))\n",
    "        self._psm_df.decoy = self._psm_df.decoy.astype(np.int8)\n",
    "    \n",
    "psm_reader_provider.register_reader('alphapept', AlphaPeptReader)"
   ]
  },
  {
   "cell_type": "markdown",
   "metadata": {},
   "source": [
    "### Column and modification mapping from alphabase to MaxQuant"
   ]
  },
  {
   "cell_type": "code",
   "execution_count": null,
   "metadata": {},
   "outputs": [
    {
     "data": {
      "text/plain": [
       "{'rt': 'rt',\n",
       " 'scan_num': 'scan_no',\n",
       " 'spec_idx': 'raw_idx',\n",
       " 'query_id': 'query_idx',\n",
       " 'mobility': 'mobility',\n",
       " 'score': 'score',\n",
       " 'precursor_mz': 'mz',\n",
       " 'charge': 'charge',\n",
       " 'raw_name': 'raw_name',\n",
       " 'fdr': 'q_value',\n",
       " 'decoy': 'decoy'}"
      ]
     },
     "execution_count": null,
     "metadata": {},
     "output_type": "execute_result"
    }
   ],
   "source": [
    "psm_reader_yaml['alphapept']['column_mapping']"
   ]
  },
  {
   "cell_type": "code",
   "execution_count": null,
   "metadata": {},
   "outputs": [
    {
     "data": {
      "text/plain": [
       "{'Carbamidomethyl@C': 'cC',\n",
       " 'Oxidation@M': 'oxM',\n",
       " 'Phospho@S': 'pS',\n",
       " 'Phospho@T': 'pT',\n",
       " 'Phospho@Y': 'pY',\n",
       " 'Acetyl@Protein N-term': 'a'}"
      ]
     },
     "execution_count": null,
     "metadata": {},
     "output_type": "execute_result"
    }
   ],
   "source": [
    "psm_reader_yaml['alphapept']['modification_mapping']"
   ]
  },
  {
   "cell_type": "markdown",
   "metadata": {},
   "source": [
    "The modified sequence column is `precursor` column"
   ]
  },
  {
   "cell_type": "code",
   "execution_count": null,
   "metadata": {},
   "outputs": [],
   "source": [
    "#| hide\n",
    "ap_reader = psm_reader_provider.get_reader('alphapept')\n",
    "assert 'Oxidation@M' in ap_reader.modification_mapping\n",
    "assert 'oxM' in ap_reader.modification_mapping.values()\n",
    "assert 'oxM' in ap_reader.rev_mod_mapping\n",
    "assert 'Oxidation@M' in ap_reader.rev_mod_mapping.values()"
   ]
  },
  {
   "cell_type": "code",
   "execution_count": null,
   "metadata": {},
   "outputs": [
    {
     "data": {
      "text/html": [
       "<div>\n",
       "<style scoped>\n",
       "    .dataframe tbody tr th:only-of-type {\n",
       "        vertical-align: middle;\n",
       "    }\n",
       "\n",
       "    .dataframe tbody tr th {\n",
       "        vertical-align: top;\n",
       "    }\n",
       "\n",
       "    .dataframe thead th {\n",
       "        text-align: right;\n",
       "    }\n",
       "</style>\n",
       "<table border=\"1\" class=\"dataframe\">\n",
       "  <thead>\n",
       "    <tr style=\"text-align: right;\">\n",
       "      <th></th>\n",
       "    </tr>\n",
       "  </thead>\n",
       "  <tbody>\n",
       "  </tbody>\n",
       "</table>\n",
       "</div>"
      ],
      "text/plain": [
       "Empty DataFrame\n",
       "Columns: []\n",
       "Index: []"
      ]
     },
     "execution_count": null,
     "metadata": {},
     "output_type": "execute_result"
    }
   ],
   "source": [
    "#| hide\n",
    "ap_reader = psm_reader_provider.get_reader('alphapept')\n",
    "test_path = '~/Workspace/Data/Thermo_iRT/iRT.ms_data.hdf'\n",
    "if os.path.isfile(test_path):\n",
    "    hdf = os.path.expanduser(test_path)\n",
    "    if os.path.exists(hdf):\n",
    "        ap_reader.import_file(hdf)\n",
    "        assert len(ap_reader.psm_df) == 14\n",
    "        assert (ap_reader.psm_df.raw_name == 'iRT').all()\n",
    "ap_reader.psm_df\n"
   ]
  },
  {
   "cell_type": "code",
   "execution_count": null,
   "metadata": {},
   "outputs": [],
   "source": []
  }
 ],
 "metadata": {
  "kernelspec": {
   "display_name": "Python 3.8.3 ('base')",
   "language": "python",
   "name": "python3"
  }
 },
 "nbformat": 4,
 "nbformat_minor": 2
}
