{
 "cells": [
  {
   "cell_type": "code",
   "execution_count": null,
   "metadata": {},
   "outputs": [],
   "source": [
    "#---#| default_exp scoring.fdr"
   ]
  },
  {
   "cell_type": "markdown",
   "metadata": {},
   "source": [
    "# FDR functionalities"
   ]
  },
  {
   "cell_type": "markdown",
   "metadata": {},
   "source": [
    "Functionalities to calculate FDR.\n",
    "\n",
    "> In alphabase dataframes, we refer fdr values as q_values without loss of generacity."
   ]
  },
  {
   "cell_type": "code",
   "execution_count": null,
   "metadata": {},
   "outputs": [],
   "source": [
    "from alphabase.scoring.fdr import *"
   ]
  },
  {
   "cell_type": "code",
   "execution_count": null,
   "metadata": {},
   "outputs": [],
   "source": [
    "\n",
    "f_score = np.random.random(500)*9.9\n",
    "\n",
    "df = pd.concat([\n",
    "    pd.DataFrame(\n",
    "        {\n",
    "            'score': np.random.random(500)*10+11,\n",
    "            'decoy': 0,\n",
    "            'kind': True,\n",
    "        }\n",
    "    ),\n",
    "    pd.DataFrame(\n",
    "        {\n",
    "            'score': f_score+0.01,\n",
    "            'decoy': 1,\n",
    "            'kind': False\n",
    "        }\n",
    "    ),\n",
    "    pd.DataFrame(\n",
    "        {\n",
    "            'score': f_score,\n",
    "            'decoy': 0,\n",
    "            'kind': False\n",
    "        }\n",
    "    ),\n",
    "    pd.DataFrame(\n",
    "        {\n",
    "            'score': np.random.random(5)+10,\n",
    "            'decoy': 1,\n",
    "            'kind': False\n",
    "        }\n",
    "    )\n",
    "])\n",
    "\n",
    "df = calculate_fdr(df, 'score', 'decoy')\n",
    "df"
   ]
  },
  {
   "cell_type": "code",
   "execution_count": null,
   "metadata": {},
   "outputs": [],
   "source": [
    "df[(df.fdr < 0.01)&(df.decoy==0)]"
   ]
  },
  {
   "cell_type": "code",
   "execution_count": null,
   "metadata": {},
   "outputs": [],
   "source": [
    "#| hide\n",
    "assert len(df[(df.fdr < 0.01)&(df.decoy==0)]) == 500"
   ]
  },
  {
   "cell_type": "code",
   "execution_count": null,
   "metadata": {},
   "outputs": [],
   "source": [
    "#| hide\n",
    "\n",
    "f_score = np.random.random(500)*9.9\n",
    "\n",
    "dff = pd.concat([\n",
    "    pd.DataFrame(\n",
    "        {\n",
    "            'score': np.random.random(500)*10+11,\n",
    "            'decoy': 0\n",
    "        }\n",
    "    ),\n",
    "    pd.DataFrame(\n",
    "        {\n",
    "            'score': f_score+0.01,\n",
    "            'decoy': 1\n",
    "        }\n",
    "    ),\n",
    "    pd.DataFrame(\n",
    "        {\n",
    "            'score': f_score,\n",
    "            'decoy': 0\n",
    "        }\n",
    "    ),\n",
    "    pd.DataFrame(\n",
    "        {\n",
    "            'score': np.random.random(5)+10,\n",
    "            'decoy': 1\n",
    "        }\n",
    "    )\n",
    "\n",
    "])\n",
    "\n",
    "dff['fdr'] = fdr_from_ref(dff.score.values, df.score.values, df.fdr.values)\n",
    "\n",
    "assert len(dff[(dff.fdr < 0.01)&(dff.decoy==0)]) == 500"
   ]
  },
  {
   "cell_type": "code",
   "execution_count": null,
   "metadata": {},
   "outputs": [],
   "source": [
    "#| hide\n",
    "dff = calculate_fdr_from_ref(dff, df.score.values, df.fdr.values, 'score')\n",
    "assert len(dff[(dff.fdr < 0.01)&(dff.decoy==0)]) == 500"
   ]
  }
 ],
 "metadata": {
  "kernelspec": {
   "display_name": "Python 3.8.3 ('base')",
   "language": "python",
   "name": "python3"
  }
 },
 "nbformat": 4,
 "nbformat_minor": 2
}
