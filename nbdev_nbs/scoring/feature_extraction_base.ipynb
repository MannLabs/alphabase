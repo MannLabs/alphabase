{
 "cells": [
  {
   "cell_type": "code",
   "execution_count": null,
   "metadata": {},
   "outputs": [],
   "source": [
    "#| default_exp scoring.feature_extraction_base"
   ]
  },
  {
   "cell_type": "markdown",
   "metadata": {},
   "source": [
    "# Base Class of Feature Extractors"
   ]
  },
  {
   "cell_type": "code",
   "execution_count": null,
   "metadata": {},
   "outputs": [],
   "source": [
    "#| export\n",
    "import pandas as pd"
   ]
  },
  {
   "cell_type": "code",
   "execution_count": null,
   "metadata": {},
   "outputs": [],
   "source": [
    "#| export\n",
    "\n",
    "class BaseFeatureExtractor:\n",
    "    def __init__(self):\n",
    "        self._feature_list = ['score','nAA','charge']\n",
    "\n",
    "    @property\n",
    "    def feature_list(self)->list:\n",
    "        \"\"\"\n",
    "        This is a property. It tells ML scoring modules \n",
    "        what features (columns) are extracted by \n",
    "        this FeatureExtractor for scoring.\n",
    "\n",
    "        Returns\n",
    "        -------\n",
    "        list\n",
    "            feature names (columns) in the PSM dataframe\n",
    "        \"\"\"\n",
    "\n",
    "        self._feature_list = list(set(self._feature_list))\n",
    "        return self._feature_list\n",
    "\n",
    "    def extract_features(self, \n",
    "        psm_df:pd.DataFrame, \n",
    "        *args, **kwargs\n",
    "    )->pd.DataFrame:\n",
    "        \"\"\"\n",
    "        Extract the scoring features (self._feature_list) \n",
    "        and append them inplace into candidate PSMs (psm_df).\n",
    "\n",
    "        Parameters\n",
    "        ----------\n",
    "        psm_df : pd.DataFrame\n",
    "            PSMs to be rescore.\n",
    "\n",
    "        Returns\n",
    "        -------\n",
    "        pd.DataFrame\n",
    "            psm_df with appended the feature list extracted by this extractor.\n",
    "        \"\"\"\n",
    "        return psm_df\n"
   ]
  }
 ],
 "metadata": {
  "kernelspec": {
   "display_name": "Python 3.8.3 ('base')",
   "language": "python",
   "name": "python3"
  },
  "language_info": {
   "name": "python",
   "version": "3.8.3"
  },
  "orig_nbformat": 4,
  "vscode": {
   "interpreter": {
    "hash": "8a3b27e141e49c996c9b863f8707e97aabd49c4a7e8445b9b783b34e4a21a9b2"
   }
  }
 },
 "nbformat": 4,
 "nbformat_minor": 2
}
