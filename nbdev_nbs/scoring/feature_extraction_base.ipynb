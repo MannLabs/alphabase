{
 "cells": [
  {
   "cell_type": "code",
   "execution_count": null,
   "metadata": {},
   "outputs": [],
   "source": [
    "#---#| default_exp scoring.feature_extraction_base"
   ]
  },
  {
   "cell_type": "markdown",
   "metadata": {},
   "source": [
    "# Base Class of Feature Extractors"
   ]
  },
  {
   "cell_type": "code",
   "execution_count": null,
   "metadata": {},
   "outputs": [],
   "source": [
    "from alphabase.scoring.feature_extraction_base import *"
   ]
  },
  {
   "cell_type": "code",
   "execution_count": null,
   "metadata": {},
   "outputs": [],
   "source": [
    "#| hide\n",
    "from nbdev.showdoc import show_doc"
   ]
  },
  {
   "cell_type": "code",
   "execution_count": null,
   "metadata": {},
   "outputs": [
    {
     "data": {
      "text/markdown": [
       "---\n",
       "\n",
       "[source](https://github.com/MannLabs/alphabase/blob/main/alphabase/scoring/feature_extraction_base.py#L30){target=\"_blank\" style=\"float:right; font-size:smaller\"}\n",
       "\n",
       "### BaseFeatureExtractor.extract_features\n",
       "\n",
       ">      BaseFeatureExtractor.extract_features\n",
       ">                                             (psm_df:pandas.core.frame.DataFram\n",
       ">                                             e, *args, **kwargs)\n",
       "\n",
       "Extract the scoring features (self._feature_list) \n",
       "and append them inplace into candidate PSMs (psm_df).\n",
       "\n",
       "**All sub-classes must re-implement this method.**\n",
       "\n",
       "|    | **Type** | **Details** |\n",
       "| -- | -------- | ----------- |\n",
       "| psm_df | DataFrame | PSMs to be rescored |\n",
       "| args |  |  |\n",
       "| kwargs |  |  |\n",
       "| **Returns** | **DataFrame** | **psm_df with appended feature columns extracted by this extractor** |"
      ],
      "text/plain": [
       "---\n",
       "\n",
       "[source](https://github.com/MannLabs/alphabase/blob/main/alphabase/scoring/feature_extraction_base.py#L30){target=\"_blank\" style=\"float:right; font-size:smaller\"}\n",
       "\n",
       "### BaseFeatureExtractor.extract_features\n",
       "\n",
       ">      BaseFeatureExtractor.extract_features\n",
       ">                                             (psm_df:pandas.core.frame.DataFram\n",
       ">                                             e, *args, **kwargs)\n",
       "\n",
       "Extract the scoring features (self._feature_list) \n",
       "and append them inplace into candidate PSMs (psm_df).\n",
       "\n",
       "**All sub-classes must re-implement this method.**\n",
       "\n",
       "|    | **Type** | **Details** |\n",
       "| -- | -------- | ----------- |\n",
       "| psm_df | DataFrame | PSMs to be rescored |\n",
       "| args |  |  |\n",
       "| kwargs |  |  |\n",
       "| **Returns** | **DataFrame** | **psm_df with appended feature columns extracted by this extractor** |"
      ]
     },
     "execution_count": null,
     "metadata": {},
     "output_type": "execute_result"
    }
   ],
   "source": [
    "show_doc(BaseFeatureExtractor.extract_features)"
   ]
  },
  {
   "cell_type": "code",
   "execution_count": null,
   "metadata": {},
   "outputs": [
    {
     "data": {
      "text/markdown": [
       "---\n",
       "\n",
       "[source](https://github.com/MannLabs/alphabase/blob/main/alphabase/scoring/feature_extraction_base.py#L52){target=\"_blank\" style=\"float:right; font-size:smaller\"}\n",
       "\n",
       "### BaseFeatureExtractor.update_features\n",
       "\n",
       ">      BaseFeatureExtractor.update_features (psm_df:pandas.core.frame.DataFrame)\n",
       "\n",
       "This method allow us to update adaptive features\n",
       "during the iteration of Percolator algorithm\n",
       "\n",
       "|    | **Type** | **Details** |\n",
       "| -- | -------- | ----------- |\n",
       "| psm_df | DataFrame | psm_df |\n",
       "| **Returns** | **DataFrame** | **psm_df with updated feature values** |"
      ],
      "text/plain": [
       "---\n",
       "\n",
       "[source](https://github.com/MannLabs/alphabase/blob/main/alphabase/scoring/feature_extraction_base.py#L52){target=\"_blank\" style=\"float:right; font-size:smaller\"}\n",
       "\n",
       "### BaseFeatureExtractor.update_features\n",
       "\n",
       ">      BaseFeatureExtractor.update_features (psm_df:pandas.core.frame.DataFrame)\n",
       "\n",
       "This method allow us to update adaptive features\n",
       "during the iteration of Percolator algorithm\n",
       "\n",
       "|    | **Type** | **Details** |\n",
       "| -- | -------- | ----------- |\n",
       "| psm_df | DataFrame | psm_df |\n",
       "| **Returns** | **DataFrame** | **psm_df with updated feature values** |"
      ]
     },
     "execution_count": null,
     "metadata": {},
     "output_type": "execute_result"
    }
   ],
   "source": [
    "show_doc(BaseFeatureExtractor.update_features)"
   ]
  }
 ],
 "metadata": {
  "kernelspec": {
   "display_name": "Python 3.8.3 ('base')",
   "language": "python",
   "name": "python3"
  }
 },
 "nbformat": 4,
 "nbformat_minor": 2
}
