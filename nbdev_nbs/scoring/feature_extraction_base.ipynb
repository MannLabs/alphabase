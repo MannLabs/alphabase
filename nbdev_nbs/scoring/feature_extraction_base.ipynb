{
 "cells": [
  {
   "cell_type": "code",
   "execution_count": null,
   "metadata": {},
   "outputs": [],
   "source": [
    "#| default_exp scoring.feature_extraction_base"
   ]
  },
  {
   "cell_type": "markdown",
   "metadata": {},
   "source": [
    "# Base Class of Feature Extractors"
   ]
  },
  {
   "cell_type": "code",
   "execution_count": null,
   "metadata": {},
   "outputs": [],
   "source": [
    "#| export\n",
    "import pandas as pd"
   ]
  },
  {
   "cell_type": "code",
   "execution_count": null,
   "metadata": {},
   "outputs": [],
   "source": [
    "#| export\n",
    "\n",
    "class BaseFeatureExtractor:\n",
    "    def __init__(self):\n",
    "        self._feature_list = ['score','nAA','charge']\n",
    "\n",
    "    @property\n",
    "    def feature_list(self)->list:\n",
    "        \"\"\"\n",
    "        This is a property. It tells ML scoring modules \n",
    "        what features (columns) are extracted by \n",
    "        this FeatureExtractor for scoring.\n",
    "\n",
    "        Returns\n",
    "        -------\n",
    "        list\n",
    "            feature names (columns) in the PSM dataframe\n",
    "        \"\"\"\n",
    "\n",
    "        self._feature_list = list(set(self._feature_list))\n",
    "        return self._feature_list\n",
    "\n",
    "    def extract_features(self, \n",
    "        psm_df:pd.DataFrame, \n",
    "        *args, **kwargs\n",
    "    )->pd.DataFrame:\n",
    "        \"\"\"\n",
    "        Extract the scoring features (self._feature_list) \n",
    "        and append them inplace into candidate PSMs (psm_df).\n",
    "\n",
    "        **All sub-classes must re-implement this method.**\n",
    "\n",
    "        Parameters\n",
    "        ----------\n",
    "        psm_df : pd.DataFrame\n",
    "            PSMs to be rescored\n",
    "\n",
    "        Returns\n",
    "        -------\n",
    "        pd.DataFrame\n",
    "            psm_df with appended feature columns extracted by this extractor\n",
    "        \"\"\"\n",
    "        return psm_df\n"
   ]
  },
  {
   "cell_type": "code",
   "execution_count": null,
   "metadata": {},
   "outputs": [],
   "source": [
    "#| hide\n",
    "from nbdev.showdoc import show_doc"
   ]
  },
  {
   "cell_type": "code",
   "execution_count": null,
   "metadata": {},
   "outputs": [
    {
     "data": {
      "text/markdown": [
       "---\n",
       "\n",
       "[source](https://github.com/MannLabs/alphabase/blob/main/alphabase/scoring/feature_extraction_base.py#L30){target=\"_blank\" style=\"float:right; font-size:smaller\"}\n",
       "\n",
       "### BaseFeatureExtractor.extract_features\n",
       "\n",
       ">      BaseFeatureExtractor.extract_features\n",
       ">                                             (psm_df:pandas.core.frame.DataFram\n",
       ">                                             e, *args, **kwargs)\n",
       "\n",
       "Extract the scoring features (self._feature_list) \n",
       "and append them inplace into candidate PSMs (psm_df).\n",
       "\n",
       "**All sub-classes must re-implement this method.**\n",
       "\n",
       "|    | **Type** | **Details** |\n",
       "| -- | -------- | ----------- |\n",
       "| psm_df | DataFrame | PSMs to be rescored |\n",
       "| args |  |  |\n",
       "| kwargs |  |  |\n",
       "| **Returns** | **DataFrame** | **psm_df with appended feature columns extracted by this extractor** |"
      ],
      "text/plain": [
       "---\n",
       "\n",
       "[source](https://github.com/MannLabs/alphabase/blob/main/alphabase/scoring/feature_extraction_base.py#L30){target=\"_blank\" style=\"float:right; font-size:smaller\"}\n",
       "\n",
       "### BaseFeatureExtractor.extract_features\n",
       "\n",
       ">      BaseFeatureExtractor.extract_features\n",
       ">                                             (psm_df:pandas.core.frame.DataFram\n",
       ">                                             e, *args, **kwargs)\n",
       "\n",
       "Extract the scoring features (self._feature_list) \n",
       "and append them inplace into candidate PSMs (psm_df).\n",
       "\n",
       "**All sub-classes must re-implement this method.**\n",
       "\n",
       "|    | **Type** | **Details** |\n",
       "| -- | -------- | ----------- |\n",
       "| psm_df | DataFrame | PSMs to be rescored |\n",
       "| args |  |  |\n",
       "| kwargs |  |  |\n",
       "| **Returns** | **DataFrame** | **psm_df with appended feature columns extracted by this extractor** |"
      ]
     },
     "execution_count": null,
     "metadata": {},
     "output_type": "execute_result"
    }
   ],
   "source": [
    "show_doc(BaseFeatureExtractor.extract_features)"
   ]
  }
 ],
 "metadata": {
  "kernelspec": {
   "display_name": "Python 3.8.3 ('base')",
   "language": "python",
   "name": "python3"
  }
 },
 "nbformat": 4,
 "nbformat_minor": 2
}
