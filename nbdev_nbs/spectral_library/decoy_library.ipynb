{
 "cells": [
  {
   "cell_type": "code",
   "execution_count": null,
   "metadata": {},
   "outputs": [],
   "source": [
    "#| default_exp spectral_library.decoy_library"
   ]
  },
  {
   "cell_type": "markdown",
   "metadata": {},
   "source": [
    "# Decoy Libraries"
   ]
  },
  {
   "cell_type": "code",
   "execution_count": null,
   "metadata": {},
   "outputs": [],
   "source": [
    "#| export\n",
    "\n",
    "import copy\n",
    "from alphabase.spectral_library.library_base import SpecLibBase\n",
    "from alphabase.io.hdf import HDF_File"
   ]
  },
  {
   "cell_type": "code",
   "execution_count": null,
   "metadata": {},
   "outputs": [],
   "source": [
    "#| export\n",
    "\n",
    "class DecoyLib(SpecLibBase):\n",
    "    def __init__(self, \n",
    "        target_lib:SpecLibBase,\n",
    "        fix_C_term = True,\n",
    "        **kwargs,\n",
    "    ):\n",
    "        \"\"\"Pseudo-reverse peptide decoy generator\n",
    "        Currently, only sequence-level decoy is implemented,\n",
    "        but AlphaPeptDeep will add modifications onto both target and decoy sequences,\n",
    "        so it is enough for practical uses.\n",
    "\n",
    "        Parameters\n",
    "        ----------\n",
    "        target_lib : SpecLibBase\n",
    "            Target library to decoy.\n",
    "\n",
    "        fix_C_term : bool, optional\n",
    "            If fix C-term AA when decoy. \n",
    "            Defaults to True.\n",
    "        \n",
    "        Attributes\n",
    "        ----------\n",
    "        target_lib : SpecLibBase\n",
    "            same as 'target_lib' in Args.\n",
    "        \"\"\"\n",
    "        self.__dict__ = copy.deepcopy(target_lib.__dict__)\n",
    "        self.target_lib = target_lib\n",
    "        self.fix_C_term = fix_C_term\n",
    "\n",
    "    def translate_to_decoy(self):\n",
    "        \"\"\"Main entry of this class, it calls follows methods:\n",
    "            self.decoy_sequence()\n",
    "            self._decoy_mods()\n",
    "            self._decoy_meta()\n",
    "            self._decoy_frags()\n",
    "        \"\"\"\n",
    "        self.decoy_sequence()\n",
    "        self._decoy_mods()\n",
    "        self._decoy_meta()\n",
    "        self._decoy_frags()\n",
    "\n",
    "    def decoy_sequence(self):\n",
    "        \"\"\"Generate decoy sequences from `self.target_lib`\"\"\"\n",
    "        self._decoy_seq()\n",
    "        self._remove_target_seqs()\n",
    "\n",
    "    def append_decoy_sequence(self):\n",
    "        pass\n",
    "\n",
    "    def _decoy_seq(self):\n",
    "        (\n",
    "            self._precursor_df.sequence\n",
    "        ) = self._precursor_df.sequence.apply(\n",
    "            lambda x: (x[:-1][::-1]+x[-1])\n",
    "             if self.fix_C_term else x[::-1]\n",
    "        )\n",
    "\n",
    "    def _remove_target_seqs(self):\n",
    "        target_seqs = set(\n",
    "            self.target_lib._precursor_df.sequence.values\n",
    "        )\n",
    "        self._precursor_df.drop(\n",
    "            self._precursor_df.loc[\n",
    "                self._precursor_df.sequence.isin(target_seqs)\n",
    "            ].index, inplace=True\n",
    "        )\n",
    "\n",
    "    def _decoy_meta(self):\n",
    "        \"\"\"\n",
    "        Decoy for CCS/RT or other meta data\n",
    "        \"\"\"\n",
    "        pass\n",
    "\n",
    "    def _decoy_mods(self):\n",
    "        \"\"\"\n",
    "        Decoy for modifications and modification sites\n",
    "        \"\"\"\n",
    "        pass\n",
    "\n",
    "    def _decoy_frags(self):\n",
    "        \"\"\"\n",
    "        Decoy for fragment masses and intensities\n",
    "        \"\"\"\n",
    "        self._decoy_fragment_mz()\n",
    "        self._decoy_fragment_intensity()\n",
    "    \n",
    "    def _decoy_fragment_mz(self):\n",
    "        pass\n",
    "        \n",
    "    def _decoy_fragment_intensity(self):\n",
    "        pass\n",
    "\n",
    "    def _get_hdf_to_save(self, \n",
    "        hdf_file, \n",
    "        delete_existing=False\n",
    "    ):\n",
    "        _hdf = HDF_File(\n",
    "            hdf_file, \n",
    "            read_only=False, \n",
    "            truncate=True,\n",
    "            delete_existing=delete_existing\n",
    "        )\n",
    "        return _hdf.library.decoy\n",
    "\n",
    "    def _get_hdf_to_load(self,\n",
    "        hdf_file, \n",
    "    ):\n",
    "        _hdf = HDF_File(\n",
    "            hdf_file,\n",
    "        )\n",
    "        return _hdf.library.decoy\n",
    "\n",
    "    def save_hdf(self, hdf_file):\n",
    "        _hdf = HDF_File(\n",
    "            hdf_file, \n",
    "            read_only=False, \n",
    "            truncate=True,\n",
    "            delete_existing=False\n",
    "        )\n",
    "        _hdf.library.decoy = {\n",
    "            'precursor_df': self._precursor_df,\n",
    "            'fragment_mz_df': self._fragment_mz_df,\n",
    "            'fragment_intensity_df': self._fragment_intensity_df,\n",
    "        }\n",
    "\n",
    "    def load_hdf(self, hdf_file):\n",
    "        _hdf = HDF_File(\n",
    "            hdf_file,\n",
    "        )\n",
    "        _hdf_lib = _hdf.library\n",
    "        self._precursor_df = _hdf_lib.decoy.precursor_df.values\n",
    "        self._fragment_mz_df = _hdf_lib.decoy.fragment_mz_df.values\n",
    "        self._fragment_intensity_df = _hdf_lib.decoy.fragment_intensity_df.values\n",
    "\n",
    "class DiaNNDecoyLib(DecoyLib):\n",
    "    def __init__(self, \n",
    "        target_lib:SpecLibBase,\n",
    "        raw_AAs:str = 'GAVLIFMPWSCTYHKRQENDU',\n",
    "        mutated_AAs:str = 'LLLVVLLLLTSSSSLLNDQEL', #DiaNN\n",
    "        **kwargs,\n",
    "    ):  \n",
    "        \"\"\"DiaNN-like decoy peptide generator\n",
    "\n",
    "        Parameters\n",
    "        ----------\n",
    "        target_lib : SpecLibBase\n",
    "            Target library object\n",
    "\n",
    "        raw_AAs : str, optional\n",
    "            AAs those DiaNN decoy from. \n",
    "            Defaults to 'GAVLIFMPWSCTYHKRQENDU'.\n",
    "\n",
    "        mutated_AAs : str, optional\n",
    "            AAs those DiaNN decoy to. \n",
    "            Defaults to 'LLLVVLLLLTSSSSLLNDQEL'.\n",
    "            \n",
    "        \"\"\"\n",
    "        super().__init__(target_lib)\n",
    "        self.raw_AAs = raw_AAs\n",
    "        self.mutated_AAs = mutated_AAs\n",
    "\n",
    "    def _decoy_seq(self):\n",
    "        (\n",
    "            self._precursor_df.sequence\n",
    "        ) = self._precursor_df.sequence.apply(\n",
    "            lambda x:\n",
    "                x[0]+self.mutated_AAs[self.raw_AAs.index(x[1])]+\n",
    "                x[2:-2]+self.mutated_AAs[self.raw_AAs.index(x[-2])]+x[-1]\n",
    "        )"
   ]
  },
  {
   "cell_type": "code",
   "execution_count": null,
   "metadata": {},
   "outputs": [],
   "source": [
    "#|hide\n",
    "from nbdev.showdoc import show_doc"
   ]
  },
  {
   "cell_type": "code",
   "execution_count": null,
   "metadata": {},
   "outputs": [],
   "source": [
    "show_doc(DecoyLib.decoy_sequence)"
   ]
  },
  {
   "cell_type": "code",
   "execution_count": null,
   "metadata": {},
   "outputs": [],
   "source": [
    "#| export\n",
    "class DecoyLibProvider(object):\n",
    "    def __init__(self):\n",
    "        self.decoy_dict = {}\n",
    "\n",
    "    def register(self, name:str, decoy_class:DecoyLib):\n",
    "        \"\"\"Register a new decoy class\"\"\"\n",
    "        self.decoy_dict[name.lower()] = decoy_class\n",
    "\n",
    "    def get_decoy_lib(self, name:str, \n",
    "        target_lib:SpecLibBase, **kwargs\n",
    "    )->DecoyLib:\n",
    "        \"\"\"Get an object of a subclass of `DecoyLib` based on \n",
    "        registered name.\n",
    "\n",
    "        Parameters\n",
    "        ----------\n",
    "        name : str\n",
    "            Registered decoy class name\n",
    "        target_lib : SpecLibBase\n",
    "            Target library for decoy generation\n",
    "\n",
    "        Returns\n",
    "        -------\n",
    "        DecoyLib\n",
    "            Decoy library object\n",
    "        \"\"\"\n",
    "        if name is None: return None\n",
    "        name = name.lower()\n",
    "        if name in self.decoy_dict:\n",
    "            return self.decoy_dict[name](\n",
    "                target_lib, **kwargs\n",
    "            )\n",
    "        else:\n",
    "            return None\n",
    "\n",
    "decoy_lib_provider = DecoyLibProvider()\n",
    "decoy_lib_provider.register('pseudo_reverse', DecoyLib)\n",
    "decoy_lib_provider.register('diann', DiaNNDecoyLib)"
   ]
  },
  {
   "cell_type": "code",
   "execution_count": null,
   "metadata": {},
   "outputs": [],
   "source": [
    "#| hide\n",
    "\n",
    "from nbdev.showdoc import show_doc"
   ]
  },
  {
   "cell_type": "code",
   "execution_count": null,
   "metadata": {},
   "outputs": [],
   "source": [
    "show_doc(DecoyLibProvider.get_decoy_lib)"
   ]
  },
  {
   "cell_type": "markdown",
   "metadata": {},
   "source": [
    "### Registered decoy methods"
   ]
  },
  {
   "cell_type": "code",
   "execution_count": null,
   "metadata": {},
   "outputs": [],
   "source": [
    "decoy_lib_provider.decoy_dict"
   ]
  },
  {
   "cell_type": "code",
   "execution_count": null,
   "metadata": {},
   "outputs": [],
   "source": [
    "#| hide\n",
    "import os\n",
    "import numpy as np\n",
    "import pandas as pd"
   ]
  },
  {
   "cell_type": "code",
   "execution_count": null,
   "metadata": {},
   "outputs": [],
   "source": [
    "#| hide\n",
    "repeat = 3\n",
    "peptides = ['AGHCEWQMK']*repeat\n",
    "mods = ['Acetyl@Protein N-term;Carbamidomethyl@C;Oxidation@M']*repeat\n",
    "sites = ['0;4;8']*repeat\n",
    "peptides += ['AGHCEWQMKAADER']*repeat\n",
    "mods += ['']*repeat\n",
    "sites += ['']*repeat\n",
    "\n",
    "precursor_df = pd.DataFrame({\n",
    "    'sequence': peptides,\n",
    "    'mods': mods,\n",
    "    'mod_sites': sites\n",
    "})\n",
    "precursor_df['nAA'] = precursor_df['sequence'].str.len()\n",
    "precursor_df['charge'] = 2\n",
    "precursor_df"
   ]
  },
  {
   "cell_type": "code",
   "execution_count": null,
   "metadata": {},
   "outputs": [],
   "source": [
    "#| hide\n",
    "target_lib = SpecLibBase(['b_z1','b_z2','y_z1','y_z2'])\n",
    "target_lib._precursor_df = precursor_df\n",
    "target_lib.calc_precursor_mz()\n",
    "target_lib._fragment_mz_df = pd.DataFrame()\n",
    "target_lib._fragment_intensity_df = pd.DataFrame()\n",
    "if not os.path.isdir('sandbox'):\n",
    "    os.makedirs('sandbox')\n",
    "target_lib.save_hdf('sandbox/decoy_lib.hdf')\n",
    "target_lib.precursor_df"
   ]
  },
  {
   "cell_type": "code",
   "execution_count": null,
   "metadata": {},
   "outputs": [],
   "source": [
    "#| hide\n",
    "decoy_lib = decoy_lib_provider.get_decoy_lib('pseudo_reverse', target_lib)\n",
    "decoy_lib.translate_to_decoy()\n",
    "decoy_lib.calc_precursor_mz()\n",
    "assert np.allclose(decoy_lib.precursor_df.precursor_mz, target_lib.precursor_df.precursor_mz)"
   ]
  },
  {
   "cell_type": "code",
   "execution_count": null,
   "metadata": {},
   "outputs": [],
   "source": [
    "#| hide\n",
    "decoy_lib = decoy_lib_provider.get_decoy_lib('diann', target_lib, fix_C_term=False)\n",
    "decoy_lib.translate_to_decoy()\n",
    "if not os.path.isdir('sandbox'):\n",
    "    os.makedirs('sandbox')\n",
    "decoy_lib.save_hdf('sandbox/decoy_lib.hdf')\n",
    "assert len(decoy_lib.precursor_df) > 0"
   ]
  },
  {
   "cell_type": "code",
   "execution_count": null,
   "metadata": {},
   "outputs": [],
   "source": [
    "#| hide\n",
    "_hdf = HDF_File('sandbox/decoy_lib.hdf')\n",
    "assert len(_hdf.library.precursor_df.values) > 0\n",
    "assert len(_hdf.library.fragment_mz_df.values) == 0"
   ]
  },
  {
   "cell_type": "code",
   "execution_count": null,
   "metadata": {},
   "outputs": [],
   "source": [
    "#| hide\n",
    "assert len(_hdf.library.decoy.precursor_df.values) > 0\n",
    "assert len(_hdf.library.decoy.fragment_mz_df.values) == 0"
   ]
  },
  {
   "cell_type": "code",
   "execution_count": null,
   "metadata": {},
   "outputs": [],
   "source": [
    "#| hide\n",
    "test_lib = DecoyLib(target_lib)\n",
    "test_lib.load_hdf('sandbox/decoy_lib.hdf')\n",
    "assert len(test_lib._precursor_df) > 0"
   ]
  },
  {
   "cell_type": "code",
   "execution_count": null,
   "metadata": {},
   "outputs": [],
   "source": [
    "#| hide\n",
    "os.remove('sandbox/decoy_lib.hdf')"
   ]
  },
  {
   "cell_type": "code",
   "execution_count": null,
   "metadata": {},
   "outputs": [],
   "source": [
    "#| hide\n",
    "assert decoy_lib_provider.get_decoy_lib(None, target_lib) is None"
   ]
  }
 ],
 "metadata": {
  "kernelspec": {
   "display_name": "alpha",
   "language": "python",
   "name": "python3"
  }
 },
 "nbformat": 4,
 "nbformat_minor": 2
}
