{
 "cells": [
  {
   "cell_type": "code",
   "execution_count": null,
   "metadata": {},
   "outputs": [],
   "source": [
    "#---#| default_exp spectral_library.decoy"
   ]
  },
  {
   "cell_type": "markdown",
   "metadata": {},
   "source": [
    "# Decoy Libraries"
   ]
  },
  {
   "cell_type": "code",
   "execution_count": null,
   "metadata": {},
   "outputs": [],
   "source": [
    "from alphabase.spectral_library.decoy import *"
   ]
  },
  {
   "cell_type": "markdown",
   "metadata": {},
   "source": [
    "### Registered decoy methods"
   ]
  },
  {
   "cell_type": "code",
   "execution_count": null,
   "metadata": {},
   "outputs": [
    {
     "data": {
      "text/plain": [
       "{'pseudo_reverse': alphabase.spectral_library.decoy.SpecLibDecoy,\n",
       " 'diann': alphabase.spectral_library.decoy.SpecLibDecoyDiaNN}"
      ]
     },
     "execution_count": null,
     "metadata": {},
     "output_type": "execute_result"
    }
   ],
   "source": [
    "decoy_lib_provider.decoy_dict"
   ]
  },
  {
   "cell_type": "code",
   "execution_count": null,
   "metadata": {},
   "outputs": [],
   "source": [
    "#| hide\n",
    "import os\n",
    "import numpy as np\n",
    "import pandas as pd"
   ]
  },
  {
   "cell_type": "code",
   "execution_count": null,
   "metadata": {},
   "outputs": [
    {
     "data": {
      "text/html": [
       "<div>\n",
       "<style scoped>\n",
       "    .dataframe tbody tr th:only-of-type {\n",
       "        vertical-align: middle;\n",
       "    }\n",
       "\n",
       "    .dataframe tbody tr th {\n",
       "        vertical-align: top;\n",
       "    }\n",
       "\n",
       "    .dataframe thead th {\n",
       "        text-align: right;\n",
       "    }\n",
       "</style>\n",
       "<table border=\"1\" class=\"dataframe\">\n",
       "  <thead>\n",
       "    <tr style=\"text-align: right;\">\n",
       "      <th></th>\n",
       "      <th>sequence</th>\n",
       "      <th>mods</th>\n",
       "      <th>mod_sites</th>\n",
       "      <th>nAA</th>\n",
       "      <th>charge</th>\n",
       "    </tr>\n",
       "  </thead>\n",
       "  <tbody>\n",
       "    <tr>\n",
       "      <th>0</th>\n",
       "      <td>AGHCEWQMK</td>\n",
       "      <td>Acetyl@Protein N-term;Carbamidomethyl@C;Oxidat...</td>\n",
       "      <td>0;4;8</td>\n",
       "      <td>9</td>\n",
       "      <td>2</td>\n",
       "    </tr>\n",
       "    <tr>\n",
       "      <th>1</th>\n",
       "      <td>AGHCEWQMK</td>\n",
       "      <td>Acetyl@Protein N-term;Carbamidomethyl@C;Oxidat...</td>\n",
       "      <td>0;4;8</td>\n",
       "      <td>9</td>\n",
       "      <td>2</td>\n",
       "    </tr>\n",
       "    <tr>\n",
       "      <th>2</th>\n",
       "      <td>AGHCEWQMK</td>\n",
       "      <td>Acetyl@Protein N-term;Carbamidomethyl@C;Oxidat...</td>\n",
       "      <td>0;4;8</td>\n",
       "      <td>9</td>\n",
       "      <td>2</td>\n",
       "    </tr>\n",
       "    <tr>\n",
       "      <th>3</th>\n",
       "      <td>AGHCEWQMKAADER</td>\n",
       "      <td></td>\n",
       "      <td></td>\n",
       "      <td>14</td>\n",
       "      <td>2</td>\n",
       "    </tr>\n",
       "    <tr>\n",
       "      <th>4</th>\n",
       "      <td>AGHCEWQMKAADER</td>\n",
       "      <td></td>\n",
       "      <td></td>\n",
       "      <td>14</td>\n",
       "      <td>2</td>\n",
       "    </tr>\n",
       "    <tr>\n",
       "      <th>5</th>\n",
       "      <td>AGHCEWQMKAADER</td>\n",
       "      <td></td>\n",
       "      <td></td>\n",
       "      <td>14</td>\n",
       "      <td>2</td>\n",
       "    </tr>\n",
       "  </tbody>\n",
       "</table>\n",
       "</div>"
      ],
      "text/plain": [
       "         sequence                                               mods  \\\n",
       "0       AGHCEWQMK  Acetyl@Protein N-term;Carbamidomethyl@C;Oxidat...   \n",
       "1       AGHCEWQMK  Acetyl@Protein N-term;Carbamidomethyl@C;Oxidat...   \n",
       "2       AGHCEWQMK  Acetyl@Protein N-term;Carbamidomethyl@C;Oxidat...   \n",
       "3  AGHCEWQMKAADER                                                      \n",
       "4  AGHCEWQMKAADER                                                      \n",
       "5  AGHCEWQMKAADER                                                      \n",
       "\n",
       "  mod_sites  nAA  charge  \n",
       "0     0;4;8    9       2  \n",
       "1     0;4;8    9       2  \n",
       "2     0;4;8    9       2  \n",
       "3             14       2  \n",
       "4             14       2  \n",
       "5             14       2  "
      ]
     },
     "execution_count": null,
     "metadata": {},
     "output_type": "execute_result"
    }
   ],
   "source": [
    "#| hide\n",
    "repeat = 3\n",
    "peptides = ['AGHCEWQMK']*repeat\n",
    "mods = ['Acetyl@Protein N-term;Carbamidomethyl@C;Oxidation@M']*repeat\n",
    "sites = ['0;4;8']*repeat\n",
    "peptides += ['AGHCEWQMKAADER']*repeat\n",
    "mods += ['']*repeat\n",
    "sites += ['']*repeat\n",
    "\n",
    "precursor_df = pd.DataFrame({\n",
    "    'sequence': peptides,\n",
    "    'mods': mods,\n",
    "    'mod_sites': sites\n",
    "})\n",
    "precursor_df['nAA'] = precursor_df['sequence'].str.len()\n",
    "precursor_df['charge'] = 2\n",
    "precursor_df"
   ]
  },
  {
   "cell_type": "code",
   "execution_count": null,
   "metadata": {},
   "outputs": [
    {
     "data": {
      "text/html": [
       "<div>\n",
       "<style scoped>\n",
       "    .dataframe tbody tr th:only-of-type {\n",
       "        vertical-align: middle;\n",
       "    }\n",
       "\n",
       "    .dataframe tbody tr th {\n",
       "        vertical-align: top;\n",
       "    }\n",
       "\n",
       "    .dataframe thead th {\n",
       "        text-align: right;\n",
       "    }\n",
       "</style>\n",
       "<table border=\"1\" class=\"dataframe\">\n",
       "  <thead>\n",
       "    <tr style=\"text-align: right;\">\n",
       "      <th></th>\n",
       "      <th>sequence</th>\n",
       "      <th>mods</th>\n",
       "      <th>mod_sites</th>\n",
       "      <th>nAA</th>\n",
       "      <th>charge</th>\n",
       "      <th>precursor_mz</th>\n",
       "      <th>mod_seq_hash</th>\n",
       "      <th>mod_seq_charge_hash</th>\n",
       "    </tr>\n",
       "  </thead>\n",
       "  <tbody>\n",
       "    <tr>\n",
       "      <th>0</th>\n",
       "      <td>AGHCEWQMK</td>\n",
       "      <td>Acetyl@Protein N-term;Carbamidomethyl@C;Oxidat...</td>\n",
       "      <td>0;4;8</td>\n",
       "      <td>9</td>\n",
       "      <td>2</td>\n",
       "      <td>602.747333</td>\n",
       "      <td>-5783464648586361190</td>\n",
       "      <td>-5783464648586361188</td>\n",
       "    </tr>\n",
       "    <tr>\n",
       "      <th>1</th>\n",
       "      <td>AGHCEWQMK</td>\n",
       "      <td>Acetyl@Protein N-term;Carbamidomethyl@C;Oxidat...</td>\n",
       "      <td>0;4;8</td>\n",
       "      <td>9</td>\n",
       "      <td>2</td>\n",
       "      <td>602.747333</td>\n",
       "      <td>-5783464648586361190</td>\n",
       "      <td>-5783464648586361188</td>\n",
       "    </tr>\n",
       "    <tr>\n",
       "      <th>2</th>\n",
       "      <td>AGHCEWQMK</td>\n",
       "      <td>Acetyl@Protein N-term;Carbamidomethyl@C;Oxidat...</td>\n",
       "      <td>0;4;8</td>\n",
       "      <td>9</td>\n",
       "      <td>2</td>\n",
       "      <td>602.747333</td>\n",
       "      <td>-5783464648586361190</td>\n",
       "      <td>-5783464648586361188</td>\n",
       "    </tr>\n",
       "    <tr>\n",
       "      <th>3</th>\n",
       "      <td>AGHCEWQMKAADER</td>\n",
       "      <td></td>\n",
       "      <td></td>\n",
       "      <td>14</td>\n",
       "      <td>2</td>\n",
       "      <td>816.356299</td>\n",
       "      <td>-1606275412423975023</td>\n",
       "      <td>-1606275412423975021</td>\n",
       "    </tr>\n",
       "    <tr>\n",
       "      <th>4</th>\n",
       "      <td>AGHCEWQMKAADER</td>\n",
       "      <td></td>\n",
       "      <td></td>\n",
       "      <td>14</td>\n",
       "      <td>2</td>\n",
       "      <td>816.356299</td>\n",
       "      <td>-1606275412423975023</td>\n",
       "      <td>-1606275412423975021</td>\n",
       "    </tr>\n",
       "    <tr>\n",
       "      <th>5</th>\n",
       "      <td>AGHCEWQMKAADER</td>\n",
       "      <td></td>\n",
       "      <td></td>\n",
       "      <td>14</td>\n",
       "      <td>2</td>\n",
       "      <td>816.356299</td>\n",
       "      <td>-1606275412423975023</td>\n",
       "      <td>-1606275412423975021</td>\n",
       "    </tr>\n",
       "  </tbody>\n",
       "</table>\n",
       "</div>"
      ],
      "text/plain": [
       "         sequence                                               mods  \\\n",
       "0       AGHCEWQMK  Acetyl@Protein N-term;Carbamidomethyl@C;Oxidat...   \n",
       "1       AGHCEWQMK  Acetyl@Protein N-term;Carbamidomethyl@C;Oxidat...   \n",
       "2       AGHCEWQMK  Acetyl@Protein N-term;Carbamidomethyl@C;Oxidat...   \n",
       "3  AGHCEWQMKAADER                                                      \n",
       "4  AGHCEWQMKAADER                                                      \n",
       "5  AGHCEWQMKAADER                                                      \n",
       "\n",
       "  mod_sites  nAA  charge  precursor_mz         mod_seq_hash  \\\n",
       "0     0;4;8    9       2    602.747333 -5783464648586361190   \n",
       "1     0;4;8    9       2    602.747333 -5783464648586361190   \n",
       "2     0;4;8    9       2    602.747333 -5783464648586361190   \n",
       "3             14       2    816.356299 -1606275412423975023   \n",
       "4             14       2    816.356299 -1606275412423975023   \n",
       "5             14       2    816.356299 -1606275412423975023   \n",
       "\n",
       "   mod_seq_charge_hash  \n",
       "0 -5783464648586361188  \n",
       "1 -5783464648586361188  \n",
       "2 -5783464648586361188  \n",
       "3 -1606275412423975021  \n",
       "4 -1606275412423975021  \n",
       "5 -1606275412423975021  "
      ]
     },
     "execution_count": null,
     "metadata": {},
     "output_type": "execute_result"
    }
   ],
   "source": [
    "#| hide\n",
    "target_lib = SpecLibBase(['b_z1','b_z2','y_z1','y_z2'])\n",
    "target_lib._precursor_df = precursor_df\n",
    "target_lib.calc_precursor_mz()\n",
    "target_lib._fragment_mz_df = pd.DataFrame()\n",
    "target_lib._fragment_intensity_df = pd.DataFrame()\n",
    "if not os.path.isdir('sandbox'):\n",
    "    os.makedirs('sandbox')\n",
    "target_lib.save_hdf('sandbox/decoy_lib.hdf')\n",
    "target_lib.precursor_df"
   ]
  },
  {
   "cell_type": "code",
   "execution_count": null,
   "metadata": {},
   "outputs": [],
   "source": [
    "#| hide\n",
    "decoy_lib = decoy_lib_provider.get_decoy_lib('pseudo_reverse', target_lib)\n",
    "decoy_lib.translate_to_decoy()\n",
    "decoy_lib.calc_precursor_mz()\n",
    "assert np.allclose(decoy_lib.precursor_df.precursor_mz, target_lib.precursor_df.precursor_mz)"
   ]
  },
  {
   "cell_type": "code",
   "execution_count": null,
   "metadata": {},
   "outputs": [],
   "source": [
    "#| hide\n",
    "decoy_lib = decoy_lib_provider.get_decoy_lib('diann', target_lib, fix_C_term=False)\n",
    "decoy_lib.translate_to_decoy()\n",
    "if not os.path.isdir('sandbox'):\n",
    "    os.makedirs('sandbox')\n",
    "decoy_lib.save_hdf('sandbox/decoy_lib.hdf')\n",
    "assert len(decoy_lib.precursor_df) > 0"
   ]
  },
  {
   "cell_type": "code",
   "execution_count": null,
   "metadata": {},
   "outputs": [],
   "source": [
    "#| hide\n",
    "_hdf = HDF_File('sandbox/decoy_lib.hdf')\n",
    "assert len(_hdf.library.precursor_df.values) > 0\n",
    "assert len(_hdf.library.fragment_mz_df.values) == 0"
   ]
  },
  {
   "cell_type": "code",
   "execution_count": null,
   "metadata": {},
   "outputs": [],
   "source": [
    "#| hide\n",
    "assert len(_hdf.library.decoy.precursor_df.values) > 0\n",
    "assert len(_hdf.library.decoy.fragment_mz_df.values) == 0"
   ]
  },
  {
   "cell_type": "code",
   "execution_count": null,
   "metadata": {},
   "outputs": [],
   "source": [
    "#| hide\n",
    "test_lib = SpecLibDecoy(target_lib)\n",
    "test_lib.load_hdf('sandbox/decoy_lib.hdf')\n",
    "assert len(test_lib._precursor_df) > 0"
   ]
  },
  {
   "cell_type": "code",
   "execution_count": null,
   "metadata": {},
   "outputs": [],
   "source": [
    "#| hide\n",
    "os.remove('sandbox/decoy_lib.hdf')"
   ]
  },
  {
   "cell_type": "code",
   "execution_count": null,
   "metadata": {},
   "outputs": [],
   "source": [
    "#| hide\n",
    "assert decoy_lib_provider.get_decoy_lib(None, target_lib) is None"
   ]
  }
 ],
 "metadata": {
  "kernelspec": {
   "display_name": "python3",
   "language": "python",
   "name": "python3"
  }
 },
 "nbformat": 4,
 "nbformat_minor": 2
}
