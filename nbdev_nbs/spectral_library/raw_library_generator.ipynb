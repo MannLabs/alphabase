{
 "cells": [
  {
   "cell_type": "code",
   "execution_count": null,
   "metadata": {},
   "outputs": [],
   "source": [
    "#---#| default_exp spectral_library.raw_library_generator"
   ]
  },
  {
   "cell_type": "markdown",
   "metadata": {},
   "source": [
    "# Generating Library from PSMs+RAW Files"
   ]
  },
  {
   "cell_type": "markdown",
   "metadata": {},
   "source": [
    "Load PSMs and extract fragment intensities from RAW files."
   ]
  },
  {
   "cell_type": "code",
   "execution_count": null,
   "metadata": {},
   "outputs": [],
   "source": [
    "#| export\n",
    "import typing\n",
    "import pandas as pd\n",
    "\n",
    "from alphabase.psm_reader import psm_reader_provider\n",
    "from alphabase.spectral_library.reader import SpecLibBase"
   ]
  },
  {
   "cell_type": "code",
   "execution_count": null,
   "metadata": {},
   "outputs": [],
   "source": [
    "#| export\n",
    "\n",
    "class RAWLibraryGenerator(SpecLibBase):\n",
    "    def __init__(self, \n",
    "        charged_frag_types:typing.List[str] = [\n",
    "            'b_z1','b_z2','y_z1', 'y_z2', \n",
    "            'b_modloss_z1','b_modloss_z2',\n",
    "            'y_modloss_z1', 'y_modloss_z2'\n",
    "        ],\n",
    "        precursor_mz_min:float = 400,\n",
    "        precursor_mz_max:float = 2000,\n",
    "        decoy:str = None,\n",
    "        **kwargs\n",
    "    ):\n",
    "        super().__init__(\n",
    "            charged_frag_types=charged_frag_types,\n",
    "            precursor_mz_min=precursor_mz_min,\n",
    "            precursor_mz_max=precursor_mz_max,\n",
    "            decoy=decoy,\n",
    "        )\n",
    "    \n",
    "    def import_psms(self, psm_files:list, psm_type:str):\n",
    "        psm_reader = psm_reader_provider.get_reader(psm_type)\n",
    "        if isinstance(psm_files, str):\n",
    "            self._precursor_df = psm_reader.import_file(psm_files)\n",
    "            self._psm_df = self._precursor_df\n",
    "        else:\n",
    "            psm_df_list = []\n",
    "            for psm_file in psm_files:\n",
    "                psm_df_list.append(psm_reader.import_file(psm_file))\n",
    "            self._precursor_df = pd.concat(psm_df_list, ignore_index=True)\n",
    "            self._psm_df = self._precursor_df\n",
    "\n",
    "    def extract_fragments(self, raw_files:list):\n",
    "        \"\"\" Include two steps:\n",
    "            1. self.calc_fragment_mz_df() to generate self.fragment_mz_df\n",
    "            2. Extract self.fragment_intensity_df from RAW files using AlphaRAW\n",
    "\n",
    "        Parameters\n",
    "        ----------\n",
    "        raw_files : list\n",
    "            RAW file paths\n",
    "        \"\"\"\n",
    "        self.calc_fragment_mz_df()\n",
    "        # TODO Use AlphaRAW to extract fragment intensities\n",
    "        "
   ]
  }
 ],
 "metadata": {
  "kernelspec": {
   "display_name": "Python 3.8.3 ('base')",
   "language": "python",
   "name": "python3"
  }
 },
 "nbformat": 4,
 "nbformat_minor": 2
}
