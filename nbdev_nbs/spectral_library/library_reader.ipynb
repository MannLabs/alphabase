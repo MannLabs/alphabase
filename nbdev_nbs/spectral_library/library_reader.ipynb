{
 "cells": [
  {
   "cell_type": "code",
   "execution_count": null,
   "metadata": {},
   "outputs": [],
   "source": [
    "#---#| default_exp spectral_library.reader"
   ]
  },
  {
   "cell_type": "markdown",
   "metadata": {},
   "source": [
    "# Library Reader"
   ]
  },
  {
   "attachments": {},
   "cell_type": "markdown",
   "metadata": {},
   "source": [
    "SWATH/Spectronaut TSV library reader (`LibraryReaderBase`)."
   ]
  },
  {
   "cell_type": "code",
   "execution_count": null,
   "metadata": {},
   "outputs": [],
   "source": [
    "from alphabase.spectral_library.reader import *"
   ]
  },
  {
   "cell_type": "code",
   "execution_count": null,
   "metadata": {},
   "outputs": [],
   "source": [
    "#|hide\n",
    "from io import StringIO"
   ]
  },
  {
   "cell_type": "code",
   "execution_count": null,
   "metadata": {},
   "outputs": [],
   "source": [
    "#| hide\n",
    "tsv_str = \"\"\"PrecursorCharge\tModifiedPeptide\tStrippedPeptide\tiRT\tLabeledPeptide\tPrecursorMz\tFragmentLossType\tFragmentNumber\tFragmentType\tFragmentCharge\tFragmentMz\tRelativeIntensity\tIonMobility\n",
    "2\t_DPLAVDK_\tDPLAVDK\t-15.0871\t_DPLAVDK_\t379.2081611\tnoloss\t3\tb\t1\t326.1710473\t14.37029\t0.9\n",
    "2\t_DPLAVDK_\tDPLAVDK\t-15.0871\t_DPLAVDK_\t379.2081611\tnoloss\t3\ty\t1\t361.2081611\t37.7585\t0.9\n",
    "2\t_DPLAVDK_\tDPLAVDK\t-15.0871\t_DPLAVDK_\t379.2081611\tnoloss\t4\tb\t1\t397.2081611\t9.488808\t0.9\n",
    "2\t_DPLAVDK_\tDPLAVDK\t-15.0871\t_DPLAVDK_\t379.2081611\tnoloss\t4\ty\t1\t432.2452749\t100\t0.9\n",
    "2\t_DPLAVDK_\tDPLAVDK\t-15.0871\t_DPLAVDK_\t379.2081611\tnoloss\t5\tb\t1\t496.276575\t5.498003\t0.9\n",
    "2\t_DPLAVDK_\tDPLAVDK\t-15.0871\t_DPLAVDK_\t379.2081611\tnoloss\t5\ty\t1\t545.3293389\t74.56643\t0.9\n",
    "2\t_DPLAVDK_\tDPLAVDK\t-15.0871\t_DPLAVDK_\t379.2081611\tnoloss\t6\ty\t2\t321.6946896\t51.50719\t0.9\n",
    "2\t_AVVVS[Phospho (STY)]PK_\tAVVVSPK\t-22.84974\t_AVVVS[Phospho (STY)]PK_\t390.2067795\tnoloss\t3\ty\t1\t411.1639269\t6.911595\t0.9\n",
    "2\t_AVVVS[Phospho (STY)]PK_\tAVVVSPK\t-22.84974\t_AVVVS[Phospho (STY)]PK_\t390.2067795\tH3PO4\t3\ty\t1\t313.1870287\t17.38582\t0.9\n",
    "2\t_AVVVS[Phospho (STY)]PK_\tAVVVSPK\t-22.84974\t_AVVVS[Phospho (STY)]PK_\t390.2067795\tnoloss\t4\ty\t1\t510.2323409\t10.65426\t0.9\n",
    "2\t_AVVVS[Phospho (STY)]PK_\tAVVVSPK\t-22.84974\t_AVVVS[Phospho (STY)]PK_\t390.2067795\tH3PO4\t4\ty\t1\t412.2554427\t37.41231\t0.9\n",
    "2\t_AVVVS[Phospho (STY)]PK_\tAVVVSPK\t-22.84974\t_AVVVS[Phospho (STY)]PK_\t390.2067795\tnoloss\t5\ty\t1\t609.3007548\t45.03617\t0.9\n",
    "2\t_AVVVS[Phospho (STY)]PK_\tAVVVSPK\t-22.84974\t_AVVVS[Phospho (STY)]PK_\t390.2067795\tH3PO4\t5\ty\t1\t511.3238566\t100\t0.9\n",
    "2\t_MGS[Phospho (STY)]LDSK_\tMGSLDSK\t-27.5635\t_MGS[Phospho (STY)]LDSK_\t409.1617118\tnoloss\t3\ty\t1\t349.1717756\t9.20575\t0.9\n",
    "2\t_MGS[Phospho (STY)]LDSK_\tMGSLDSK\t-27.5635\t_MGS[Phospho (STY)]LDSK_\t409.1617118\tnoloss\t6\ty\t1\t686.2756622\t10.37339\t0.9\n",
    "2\t_MGS[Phospho (STY)]LDSK_\tMGSLDSK\t-27.5635\t_MGS[Phospho (STY)]LDSK_\t409.1617118\tH3PO4\t6\ty\t1\t588.298764\t100\t0.9\n",
    "1\t_SVS[Phospho (STY)]FSLK_\tSVSFSLK\t35.01411\t_SVS[Phospho (STY)]FSLK_\t847.3961117\tnoloss\t3\ty\t1\t347.2288965\t88.27327\t0.9\n",
    "1\t_SVS[Phospho (STY)]FSLK_\tSVSFSLK\t35.01411\t_SVS[Phospho (STY)]FSLK_\t847.3961117\tH3PO4\t3\tb\t1\t256.1291795\t64.97146\t0.9\n",
    "1\t_SVS[Phospho (STY)]FSLK_\tSVSFSLK\t35.01411\t_SVS[Phospho (STY)]FSLK_\t847.3961117\tnoloss\t4\ty\t1\t494.2973105\t100\t0.9\n",
    "1\t_SVS[Phospho (STY)]FSLK_\tSVSFSLK\t35.01411\t_SVS[Phospho (STY)]FSLK_\t847.3961117\tH3PO4\t4\tb\t1\t403.1975934\t35.17805\t0.9\n",
    "1\t_SVS[Phospho (STY)]FSLK_\tSVSFSLK\t35.01411\t_SVS[Phospho (STY)]FSLK_\t847.3961117\tnoloss\t5\ty\t1\t661.2956694\t19.89741\t0.9\n",
    "1\t_SVS[Phospho (STY)]FSLK_\tSVSFSLK\t35.01411\t_SVS[Phospho (STY)]FSLK_\t847.3961117\tH3PO4\t5\tb\t1\t490.2296218\t40.04738\t0.9\n",
    "1\t_SVS[Phospho (STY)]FSLK_\tSVSFSLK\t35.01411\t_SVS[Phospho (STY)]FSLK_\t847.3961117\tH3PO4\t5\ty\t1\t563.3187712\t77.43164\t0.9\n",
    "1\t_SVS[Phospho (STY)]FSLK_\tSVSFSLK\t35.01411\t_SVS[Phospho (STY)]FSLK_\t847.3961117\tnoloss\t6\tb\t1\t701.290584\t24.43497\t0.9\n",
    "1\t_SVS[Phospho (STY)]FSLK_\tSVSFSLK\t35.01411\t_SVS[Phospho (STY)]FSLK_\t847.3961117\tH3PO4\t6\tb\t1\t603.3136858\t63.09999\t0.9\n",
    "1\t_SVS[Phospho (STY)]FSLK_\tSVSFSLK\t35.01411\t_SVS[Phospho (STY)]FSLK_\t847.3961117\t1(+H2+O)1(+H3+O4+P)\t3\tb\t1\t238.1186147\t62.60851\t0.9\n",
    "1\t_SVS[Phospho (STY)]FSLK_\tSVSFSLK\t35.01411\t_SVS[Phospho (STY)]FSLK_\t847.3961117\t1(+H2+O)1(+H3+O4+P)\t5\tb\t1\t472.219057\t22.99903\t0.9\n",
    "1\t_SVS[Phospho (STY)]FSLK_\tSVSFSLK\t35.01411\t_SVS[Phospho (STY)]FSLK_\t847.3961117\t1(+H2+O)1(+H3+O4+P)\t6\tb\t1\t585.303121\t66.30389\t0.9\n",
    "2\t_VS[Phospho (STY)]VS[Phospho (STY)]PGR_\tVSVSPGR\t-23.93085\t_VS[Phospho (STY)]VS[Phospho (STY)]PGR_\t431.1670009\tnoloss\t3\ty\t1\t329.1931797\t100\t0.9\n",
    "2\t_VS[Phospho (STY)]VS[Phospho (STY)]PGR_\tVSVSPGR\t-23.93085\t_VS[Phospho (STY)]VS[Phospho (STY)]PGR_\t431.1670009\tH3PO4\t3\tb\t1\t268.165565\t5.755442\t0.9\n",
    "2\t_VS[Phospho (STY)]VS[Phospho (STY)]PGR_\tVSVSPGR\t-23.93085\t_VS[Phospho (STY)]VS[Phospho (STY)]PGR_\t431.1670009\tnoloss\t4\tb\t2\t267.0740493\t8.743931\t0.9\n",
    "2\t_VS[Phospho (STY)]VS[Phospho (STY)]PGR_\tVSVSPGR\t-23.93085\t_VS[Phospho (STY)]VS[Phospho (STY)]PGR_\t431.1670009\tnoloss\t4\ty\t1\t496.1915387\t27.69686\t0.9\n",
    "2\t_VS[Phospho (STY)]VS[Phospho (STY)]PGR_\tVSVSPGR\t-23.93085\t_VS[Phospho (STY)]VS[Phospho (STY)]PGR_\t431.1670009\tH3PO4\t4\tb\t1\t435.1639239\t6.162673\t0.9\n",
    "2\t_VS[Phospho (STY)]VS[Phospho (STY)]PGR_\tVSVSPGR\t-23.93085\t_VS[Phospho (STY)]VS[Phospho (STY)]PGR_\t431.1670009\t2(+H3+O4+P)\t4\tb\t1\t337.1870258\t10.84257\t0.9\n",
    "2\t_VS[Phospho (STY)]VS[Phospho (STY)]PGR_\tVSVSPGR\t-23.93085\t_VS[Phospho (STY)]VS[Phospho (STY)]PGR_\t431.1670009\tH3PO4\t4\ty\t1\t398.2146405\t26.28527\t0.9\n",
    "2\t_VS[Phospho (STY)]VS[Phospho (STY)]PGR_\tVSVSPGR\t-23.93085\t_VS[Phospho (STY)]VS[Phospho (STY)]PGR_\t431.1670009\tH3PO4\t5\ty\t1\t497.2830544\t28.41294\t0.9\n",
    "2\t_VS[Phospho (STY)]VS[Phospho (STY)]PGR_\tVSVSPGR\t-23.93085\t_VS[Phospho (STY)]VS[Phospho (STY)]PGR_\t431.1670009\tnoloss\t6\ty\t1\t762.2583115\t8.490795\t0.9\n",
    "2\t_VS[Phospho (STY)]VS[Phospho (STY)]PGR_\tVSVSPGR\t-23.93085\t_VS[Phospho (STY)]VS[Phospho (STY)]PGR_\t431.1670009\tH3PO4\t6\ty\t1\t664.2814133\t32.87384\t0.9\n",
    "2\t_VS[Phospho (STY)]VS[Phospho (STY)]PGR_\tVSVSPGR\t-23.93085\t_VS[Phospho (STY)]VS[Phospho (STY)]PGR_\t431.1670009\t2(+H3+O4+P)\t6\ty\t1\t566.3045151\t35.87218\t0.9\n",
    "2\t_YSLS[Phospho (STY)]PSK_\tYSLSPSK\t-6.428198\t_YSLS[Phospho (STY)]PSK_\t431.1913264\tnoloss\t3\ty\t1\t331.1975964\t49.20179\t0.9\n",
    "2\t_YSLS[Phospho (STY)]PSK_\tYSLSPSK\t-6.428198\t_YSLS[Phospho (STY)]PSK_\t431.1913264\tnoloss\t4\ty\t1\t498.1959553\t10.89141\t0.9\n",
    "2\t_YSLS[Phospho (STY)]PSK_\tYSLSPSK\t-6.428198\t_YSLS[Phospho (STY)]PSK_\t431.1913264\tH3PO4\t4\ty\t1\t400.2190571\t27.99594\t0.9\n",
    "2\t_YSLS[Phospho (STY)]PSK_\tYSLSPSK\t-6.428198\t_YSLS[Phospho (STY)]PSK_\t431.1913264\tnoloss\t5\ty\t1\t611.2800193\t14.11057\t0.9\n",
    "2\t_YSLS[Phospho (STY)]PSK_\tYSLSPSK\t-6.428198\t_YSLS[Phospho (STY)]PSK_\t431.1913264\tH3PO4\t5\ty\t1\t513.3031211\t70.5295\t0.9\n",
    "2\t_YSLS[Phospho (STY)]PSK_\tYSLSPSK\t-6.428198\t_YSLS[Phospho (STY)]PSK_\t431.1913264\tnoloss\t6\ty\t1\t698.3120477\t60.23455\t0.9\n",
    "2\t_YSLS[Phospho (STY)]PSK_\tYSLSPSK\t-6.428198\t_YSLS[Phospho (STY)]PSK_\t431.1913264\tH3PO4\t6\ty\t1\t600.3351495\t100\t0.9\n",
    "2\t_YSLS[Phospho (STY)]PSK_\tYSLSPSK\t-6.428198\t_YSLS[Phospho (STY)]PSK_\t431.1913264\t1(+H2+O)1(+H3+O4+P)\t6\ty\t1\t582.3245847\t5.233977\t0.9\n",
    "\"\"\"\n",
    "\n",
    "reader = LibraryReaderBase()\n",
    "psm_df = reader.import_file(StringIO(tsv_str))\n",
    "for col in ['sequence','charge','rt','rt_norm','mods','mod_sites','nAA','frag_start_idx','frag_stop_idx']:\n",
    "    assert col in psm_df.columns\n",
    "reader.psm_df"
   ]
  },
  {
   "cell_type": "code",
   "execution_count": null,
   "metadata": {},
   "outputs": [],
   "source": [
    "#| hide\n",
    "reader.fragment_intensity_df"
   ]
  },
  {
   "cell_type": "code",
   "execution_count": null,
   "metadata": {},
   "outputs": [],
   "source": [
    "#| hide\n",
    "reader.fragment_mz_df"
   ]
  },
  {
   "cell_type": "code",
   "execution_count": null,
   "metadata": {},
   "outputs": [],
   "source": [
    "#| hide\n",
    "df = pd.read_csv(StringIO(tsv_str), sep='\\t')\n",
    "seq = 'YSLSPSK'\n",
    "seq,start,end = psm_df.loc[psm_df.sequence==seq,['sequence','frag_start_idx','frag_stop_idx']].values[0]\n",
    "print(seq,start,end)\n",
    "y_df = df[(df['StrippedPeptide']==seq)&(df['FragmentLossType']=='noloss')&(df['FragmentType']=='y')]\n",
    "print(y_df)\n",
    "y_ions = np.zeros(len(seq)-1)\n",
    "y_ions[len(seq)-y_df.FragmentNumber-1] = y_df.RelativeIntensity.values / 100\n",
    "assert np.allclose(\n",
    "    reader.fragment_intensity_df.loc[start:end-1,'y_z1'].values,\n",
    "    y_ions\n",
    ")\n",
    "\n",
    "y_df = df[(df['StrippedPeptide']==seq)&(df['FragmentLossType']=='H3PO4')&(df['FragmentType']=='y')]\n",
    "y_ions = np.zeros(len(seq)-1)\n",
    "y_ions[len(seq)-y_df.FragmentNumber-1] = y_df.RelativeIntensity.values / 100\n",
    "\n",
    "assert np.allclose(\n",
    "    reader.fragment_intensity_df.loc[start:end-1,'y_modloss_z1'].values,\n",
    "    y_ions\n",
    ")"
   ]
  },
  {
   "cell_type": "code",
   "execution_count": null,
   "metadata": {},
   "outputs": [],
   "source": [
    "#| hide\n",
    "tsv_str = \"\"\"ReferenceRun\tPrecursorCharge\tWorkflow\tIntModifiedPeptide\tCV\tAllowForNormalization\tModifiedPeptide\tStrippedPeptide\tiRT\tIonMobility\tiRTSourceSpecific\tBGSInferenceId\tIsProteotypic\tIntLabeledPeptide\tLabeledPeptide\tPrecursorMz\tReferenceRunQvalue\tReferenceRunMS1Response\tFragmentLossType\tFragmentNumber\tFragmentType\tFragmentCharge\tFragmentMz\tRelativeIntensity\tExcludeFromAssay\tDatabase\tProteinGroups\tUniProtIds\tProtein Name\tProteinDescription\tOrganisms\tOrganismId\tGenes\tProtein Existence\tSequence Version\tFASTAName\n",
    "202106018_TIMS03_EVO03_PaSk_SA_HeLa_EGF_Phospho_100ug_test_S4-A1_1_25843\t2\t\t_ALVAT[+80]PGK_\t\tTrue\t_ALVAT[Phospho (STY)]PGK_\tALVATPGK\t-5.032703\t0.758\t-5.032703\tP19338\tFalse\t_ALVAT[+80]PGK_\t_ALVAT[Phospho (STY)]PGK_\t418.717511324722\t0\t10352\tnoloss\t3\ty\t1\t301.187031733932\t53.1991\tFalse\tsp\tP19338\tP19338\tNUCL_HUMAN\tNucleolin\tHomo sapiens\t\tNCL\t1\t3\tMCT_human_UP000005640_9606\n",
    "202106018_TIMS03_EVO03_PaSk_SA_HeLa_EGF_Phospho_100ug_test_S4-A1_1_25843\t2\t\t_ALVAT[+80]PGK_\t\tTrue\t_ALVAT[Phospho (STY)]PGK_\tALVATPGK\t-5.032703\t0.758\t-5.032703\tP19338\tFalse\t_ALVAT[+80]PGK_\t_ALVAT[Phospho (STY)]PGK_\t418.717511324722\t0\t10352\tH3PO4\t4\ty\t1\t384.224142529733\t26.31595\tFalse\tsp\tP19338\tP19338\tNUCL_HUMAN\tNucleolin\tHomo sapiens\t\tNCL\t1\t3\tMCT_human_UP000005640_9606\n",
    "202106018_TIMS03_EVO03_PaSk_SA_HeLa_EGF_Phospho_100ug_test_S4-A1_1_25843\t2\t\t_ALVAT[+80]PGK_\t\tTrue\t_ALVAT[Phospho (STY)]PGK_\tALVATPGK\t-5.032703\t0.758\t-5.032703\tP19338\tFalse\t_ALVAT[+80]PGK_\t_ALVAT[Phospho (STY)]PGK_\t418.717511324722\t0\t10352\tnoloss\t5\ty\t1\t553.238154507802\t54.60104\tFalse\tsp\tP19338\tP19338\tNUCL_HUMAN\tNucleolin\tHomo sapiens\t\tNCL\t1\t3\tMCT_human_UP000005640_9606\n",
    "202106018_TIMS03_EVO03_PaSk_SA_HeLa_EGF_Phospho_100ug_test_S4-A1_1_25843\t2\t\t_ALVAT[+80]PGK_\t\tTrue\t_ALVAT[Phospho (STY)]PGK_\tALVATPGK\t-5.032703\t0.758\t-5.032703\tP19338\tFalse\t_ALVAT[+80]PGK_\t_ALVAT[Phospho (STY)]PGK_\t418.717511324722\t0\t10352\tH3PO4\t5\ty\t1\t455.261256314443\t46.09977\tFalse\tsp\tP19338\tP19338\tNUCL_HUMAN\tNucleolin\tHomo sapiens\t\tNCL\t1\t3\tMCT_human_UP000005640_9606\n",
    "202106018_TIMS03_EVO03_PaSk_SA_HeLa_EGF_Phospho_100ug_test_S4-A1_1_25843\t2\t\t_ALVAT[+80]PGK_\t\tTrue\t_ALVAT[Phospho (STY)]PGK_\tALVATPGK\t-5.032703\t0.758\t-5.032703\tP19338\tFalse\t_ALVAT[+80]PGK_\t_ALVAT[Phospho (STY)]PGK_\t418.717511324722\t0\t10352\tnoloss\t6\ty\t1\t652.306568420792\t100\tFalse\tsp\tP19338\tP19338\tNUCL_HUMAN\tNucleolin\tHomo sapiens\t\tNCL\t1\t3\tMCT_human_UP000005640_9606\n",
    "202106018_TIMS03_EVO03_PaSk_SA_HeLa_EGF_Phospho_100ug_test_S4-A1_1_25843\t2\t\t_ALVAT[+80]PGK_\t\tTrue\t_ALVAT[Phospho (STY)]PGK_\tALVATPGK\t-5.032703\t0.758\t-5.032703\tP19338\tFalse\t_ALVAT[+80]PGK_\t_ALVAT[Phospho (STY)]PGK_\t418.717511324722\t0\t10352\tH3PO4\t6\ty\t1\t554.329670227433\t50.4698\tFalse\tsp\tP19338\tP19338\tNUCL_HUMAN\tNucleolin\tHomo sapiens\t\tNCL\t1\t3\tMCT_human_UP000005640_9606\n",
    "202106018_TIMS03_EVO03_PaSk_SA_HeLa_EGF_Phospho_100ug_test_S4-A1_1_25843\t2\t\t_TLT[+80]PPLR_\t\tTrue\t_TLT[Phospho (STY)]PPLR_\tTLTPPLR\t27.71659\t0.818\t27.71659\tQ5T200\tFalse\t_TLT[+80]PPLR_\t_TLT[Phospho (STY)]PPLR_\t439.230785875227\t0.000138389150379226\t23117\tnoloss\t3\tb\t1\t396.153027901512\t6.3264\tFalse\tsp\tQ5T200\tQ5T200\tZC3HD_HUMAN\tZinc finger CCCH domain-containing protein 13\tHomo sapiens\t\tZC3H13\t1\t1\tMCT_human_UP000005640_9606\n",
    "202106018_TIMS03_EVO03_PaSk_SA_HeLa_EGF_Phospho_100ug_test_S4-A1_1_25843\t2\t\t_TLT[+80]PPLR_\t\tTrue\t_TLT[Phospho (STY)]PPLR_\tTLTPPLR\t27.71659\t0.818\t27.71659\tQ5T200\tFalse\t_TLT[+80]PPLR_\t_TLT[Phospho (STY)]PPLR_\t439.230785875227\t0.000138389150379226\t23117\tnoloss\t3\ty\t1\t385.255780000092\t29.70625\tFalse\tsp\tQ5T200\tQ5T200\tZC3HD_HUMAN\tZinc finger CCCH domain-containing protein 13\tHomo sapiens\t\tZC3H13\t1\t1\tMCT_human_UP000005640_9606\n",
    "202106018_TIMS03_EVO03_PaSk_SA_HeLa_EGF_Phospho_100ug_test_S4-A1_1_25843\t2\t\t_TLT[+80]PPLR_\t\tTrue\t_TLT[Phospho (STY)]PPLR_\tTLTPPLR\t27.71659\t0.818\t27.71659\tQ5T200\tFalse\t_TLT[+80]PPLR_\t_TLT[Phospho (STY)]PPLR_\t439.230785875227\t0.000138389150379226\t23117\tnoloss\t4\ty\t1\t482.308543848942\t100\tFalse\tsp\tQ5T200\tQ5T200\tZC3HD_HUMAN\tZinc finger CCCH domain-containing protein 13\tHomo sapiens\t\tZC3H13\t1\t1\tMCT_human_UP000005640_9606\n",
    "202106018_TIMS03_EVO03_PaSk_SA_HeLa_EGF_Phospho_100ug_test_S4-A1_1_25843\t2\t\t_TLT[+80]PPLR_\t\tTrue\t_TLT[Phospho (STY)]PPLR_\tTLTPPLR\t27.71659\t0.818\t27.71659\tQ5T200\tFalse\t_TLT[+80]PPLR_\t_TLT[Phospho (STY)]PPLR_\t439.230785875227\t0.000138389150379226\t23117\tnoloss\t5\ty\t1\t663.322552838102\t15.22549\tFalse\tsp\tQ5T200\tQ5T200\tZC3HD_HUMAN\tZinc finger CCCH domain-containing protein 13\tHomo sapiens\t\tZC3H13\t1\t1\tMCT_human_UP000005640_9606\n",
    "202106018_TIMS03_EVO03_PaSk_SA_HeLa_EGF_Phospho_100ug_test_S4-A1_1_25843\t2\t\t_TLT[+80]PPLR_\t\tTrue\t_TLT[Phospho (STY)]PPLR_\tTLTPPLR\t27.71659\t0.818\t27.71659\tQ5T200\tFalse\t_TLT[+80]PPLR_\t_TLT[Phospho (STY)]PPLR_\t439.230785875227\t0.000138389150379226\t23117\tH3PO4\t5\ty\t1\t565.345654644743\t78.98973\tFalse\tsp\tQ5T200\tQ5T200\tZC3HD_HUMAN\tZinc finger CCCH domain-containing protein 13\tHomo sapiens\t\tZC3H13\t1\t1\tMCT_human_UP000005640_9606\n",
    "202106018_TIMS03_EVO03_PaSk_SA_HeLa_EGF_Phospho_100ug_test_S4-A1_1_25843\t2\t\t_TLT[+80]PPLR_\t\tTrue\t_TLT[Phospho (STY)]PPLR_\tTLTPPLR\t27.71659\t0.818\t27.71659\tQ5T200\tFalse\t_TLT[+80]PPLR_\t_TLT[Phospho (STY)]PPLR_\t439.230785875227\t0.000138389150379226\t23117\tH3PO4\t6\ty\t1\t678.429718621873\t7.326889\tFalse\tsp\tQ5T200\tQ5T200\tZC3HD_HUMAN\tZinc finger CCCH domain-containing protein 13\tHomo sapiens\t\tZC3H13\t1\t1\tMCT_human_UP000005640_9606\n",
    "202106018_TIMS03_EVO03_PaSk_SA_HeLa_EGF_Phospho_100ug_test_S4-A1_1_25843\t2\t\t_TLT[+80]PPLR_\t\tTrue\t_TLT[Phospho (STY)]PPLR_\tTLTPPLR\t27.71659\t0.818\t27.71659\tQ5T200\tFalse\t_TLT[+80]PPLR_\t_TLT[Phospho (STY)]PPLR_\t439.230785875227\t0.000138389150379226\t23117\tNH3\t3\ty\t1\t368.229231614472\t5.478241\tFalse\tsp\tQ5T200\tQ5T200\tZC3HD_HUMAN\tZinc finger CCCH domain-containing protein 13\tHomo sapiens\t\tZC3H13\t1\t1\tMCT_human_UP000005640_9606\n",
    "202106018_TIMS03_EVO03_PaSk_SA_HeLa_EGF_Phospho_100ug_test_S4-A1_1_25843\t2\t\t_TLT[+80]PPLR_\t\tTrue\t_TLT[Phospho (STY)]PPLR_\tTLTPPLR\t27.71659\t0.818\t27.71659\tQ5T200\tFalse\t_TLT[+80]PPLR_\t_TLT[Phospho (STY)]PPLR_\t439.230785875227\t0.000138389150379226\t23117\tnoloss\t6\ty\t2\t388.706946641022\t5.111521\tFalse\tsp\tQ5T200\tQ5T200\tZC3HD_HUMAN\tZinc finger CCCH domain-containing protein 13\tHomo sapiens\t\tZC3H13\t1\t1\tMCT_human_UP000005640_9606\n",
    "202106018_TIMS03_EVO03_PaSk_SA_HeLa_EGF_Phospho_100ug_test_S4-A1_1_25843\t2\t\t_AGS[+80]PDVLR_\t\tTrue\t_AGS[Phospho (STY)]PDVLR_\tAGSPDVLR\t-0.7970191\t0.78\t-0.7970191\tQ8NDX6\tTrue\t_AGS[+80]PDVLR_\t_AGS[Phospho (STY)]PDVLR_\t447.707674917012\t0\t20561\tnoloss\t3\ty\t1\t387.271430064232\t52.42308\tFalse\tsp\tQ8NDX6\tQ8NDX6\tZN740_HUMAN\tZinc finger protein 740\tHomo sapiens\t\tZNF740\t1\t1\tMCT_human_UP000005640_9606\n",
    "202106018_TIMS03_EVO03_PaSk_SA_HeLa_EGF_Phospho_100ug_test_S4-A1_1_25843\t2\t\t_AGS[+80]PDVLR_\t\tTrue\t_AGS[Phospho (STY)]PDVLR_\tAGSPDVLR\t-0.7970191\t0.78\t-0.7970191\tQ8NDX6\tTrue\t_AGS[+80]PDVLR_\t_AGS[Phospho (STY)]PDVLR_\t447.707674917012\t0\t20561\tnoloss\t4\ty\t1\t502.298373088062\t9.560875\tFalse\tsp\tQ8NDX6\tQ8NDX6\tZN740_HUMAN\tZinc finger protein 740\tHomo sapiens\t\tZNF740\t1\t1\tMCT_human_UP000005640_9606\n",
    "202106018_TIMS03_EVO03_PaSk_SA_HeLa_EGF_Phospho_100ug_test_S4-A1_1_25843\t2\t\t_AGS[+80]PDVLR_\t\tTrue\t_AGS[Phospho (STY)]PDVLR_\tAGSPDVLR\t-0.7970191\t0.78\t-0.7970191\tQ8NDX6\tTrue\t_AGS[+80]PDVLR_\t_AGS[Phospho (STY)]PDVLR_\t447.707674917012\t0\t20561\tnoloss\t5\ty\t1\t599.351136936912\t100\tFalse\tsp\tQ8NDX6\tQ8NDX6\tZN740_HUMAN\tZinc finger protein 740\tHomo sapiens\t\tZNF740\t1\t1\tMCT_human_UP000005640_9606\n",
    "202106018_TIMS03_EVO03_PaSk_SA_HeLa_EGF_Phospho_100ug_test_S4-A1_1_25843\t2\t\t_AGS[+80]PDVLR_\t\tTrue\t_AGS[Phospho (STY)]PDVLR_\tAGSPDVLR\t-0.7970191\t0.78\t-0.7970191\tQ8NDX6\tTrue\t_AGS[+80]PDVLR_\t_AGS[Phospho (STY)]PDVLR_\t447.707674917012\t0\t20561\tH3PO4\t6\ty\t2\t334.689937067692\t68.40089\tFalse\tsp\tQ8NDX6\tQ8NDX6\tZN740_HUMAN\tZinc finger protein 740\tHomo sapiens\t\tZNF740\t1\t1\tMCT_human_UP000005640_9606\n",
    "202106018_TIMS03_EVO03_PaSk_SA_HeLa_EGF_Phospho_100ug_test_S4-A1_1_25843\t2\t\t_AGS[+80]PDVLR_\t\tTrue\t_AGS[Phospho (STY)]PDVLR_\tAGSPDVLR\t-0.7970191\t0.78\t-0.7970191\tQ8NDX6\tTrue\t_AGS[+80]PDVLR_\t_AGS[Phospho (STY)]PDVLR_\t447.707674917012\t0\t20561\tH3PO4\t7\ty\t2\t363.200668927977\t27.03024\tFalse\tsp\tQ8NDX6\tQ8NDX6\tZN740_HUMAN\tZinc finger protein 740\tHomo sapiens\t\tZNF740\t1\t1\tMCT_human_UP000005640_9606\n",
    "202106018_TIMS03_EVO03_PaSk_SA_HeLa_EGF_Phospho_100ug_test_S4-A1_1_25843\t2\t\t_TRLS[+80]PPR_\t\tTrue\t_TRLS[Phospho (STY)]PPR_\tTRLSPPR\t-18.51872\t0.785\t-18.51872\tQ96PK6\tTrue\t_TRLS[+80]PPR_\t_TRLS[Phospho (STY)]PPR_\t453.731484366392\t0.000731277163140476\t55003\tnoloss\t3\ty\t1\t369.224479871812\t97.64322\tFalse\tsp\tQ96PK6\tQ96PK6\tRBM14_HUMAN\tRNA-binding protein 14\tHomo sapiens\t\tRBM14\t1\t2\tMCT_human_UP000005640_9606\n",
    "202106018_TIMS03_EVO03_PaSk_SA_HeLa_EGF_Phospho_100ug_test_S4-A1_1_25843\t2\t\t_TRLS[+80]PPR_\t\tTrue\t_TRLS[Phospho (STY)]PPR_\tTRLSPPR\t-18.51872\t0.785\t-18.51872\tQ96PK6\tTrue\t_TRLS[+80]PPR_\t_TRLS[Phospho (STY)]PPR_\t453.731484366392\t0.000731277163140476\t55003\tnoloss\t4\tb\t1\t538.238488860972\t17.74173\tFalse\tsp\tQ96PK6\tQ96PK6\tRBM14_HUMAN\tRNA-binding protein 14\tHomo sapiens\t\tRBM14\t1\t2\tMCT_human_UP000005640_9606\n",
    "202106018_TIMS03_EVO03_PaSk_SA_HeLa_EGF_Phospho_100ug_test_S4-A1_1_25843\t2\t\t_TRLS[+80]PPR_\t\tTrue\t_TRLS[Phospho (STY)]PPR_\tTRLSPPR\t-18.51872\t0.785\t-18.51872\tQ96PK6\tTrue\t_TRLS[+80]PPR_\t_TRLS[Phospho (STY)]PPR_\t453.731484366392\t0.000731277163140476\t55003\tH3PO4\t4\tb\t1\t440.261590667613\t100\tFalse\tsp\tQ96PK6\tQ96PK6\tRBM14_HUMAN\tRNA-binding protein 14\tHomo sapiens\t\tRBM14\t1\t2\tMCT_human_UP000005640_9606\n",
    "202106018_TIMS03_EVO03_PaSk_SA_HeLa_EGF_Phospho_100ug_test_S4-A1_1_25843\t2\t\t_TRLS[+80]PPR_\t\tTrue\t_TRLS[Phospho (STY)]PPR_\tTRLSPPR\t-18.51872\t0.785\t-18.51872\tQ96PK6\tTrue\t_TRLS[+80]PPR_\t_TRLS[Phospho (STY)]PPR_\t453.731484366392\t0.000731277163140476\t55003\tH3PO4\t4\ty\t1\t438.245940603473\t7.038487\tFalse\tsp\tQ96PK6\tQ96PK6\tRBM14_HUMAN\tRNA-binding protein 14\tHomo sapiens\t\tRBM14\t1\t2\tMCT_human_UP000005640_9606\n",
    "202106018_TIMS03_EVO03_PaSk_SA_HeLa_EGF_Phospho_100ug_test_S4-A1_1_25843\t2\t\t_TRLS[+80]PPR_\t\tTrue\t_TRLS[Phospho (STY)]PPR_\tTRLSPPR\t-18.51872\t0.785\t-18.51872\tQ96PK6\tTrue\t_TRLS[+80]PPR_\t_TRLS[Phospho (STY)]PPR_\t453.731484366392\t0.000731277163140476\t55003\tnoloss\t5\ty\t1\t649.306902773962\t6.46876\tFalse\tsp\tQ96PK6\tQ96PK6\tRBM14_HUMAN\tRNA-binding protein 14\tHomo sapiens\t\tRBM14\t1\t2\tMCT_human_UP000005640_9606\n",
    "202106018_TIMS03_EVO03_PaSk_SA_HeLa_EGF_Phospho_100ug_test_S4-A1_1_25843\t2\t\t_TRLS[+80]PPR_\t\tTrue\t_TRLS[Phospho (STY)]PPR_\tTRLSPPR\t-18.51872\t0.785\t-18.51872\tQ96PK6\tTrue\t_TRLS[+80]PPR_\t_TRLS[Phospho (STY)]PPR_\t453.731484366392\t0.000731277163140476\t55003\tH3PO4\t5\tb\t1\t537.314354516463\t10.4885\tFalse\tsp\tQ96PK6\tQ96PK6\tRBM14_HUMAN\tRNA-binding protein 14\tHomo sapiens\t\tRBM14\t1\t2\tMCT_human_UP000005640_9606\n",
    "202106018_TIMS03_EVO03_PaSk_SA_HeLa_EGF_Phospho_100ug_test_S4-A1_1_25843\t2\t\t_TRLS[+80]PPR_\t\tTrue\t_TRLS[Phospho (STY)]PPR_\tTRLSPPR\t-18.51872\t0.785\t-18.51872\tQ96PK6\tTrue\t_TRLS[+80]PPR_\t_TRLS[Phospho (STY)]PPR_\t453.731484366392\t0.000731277163140476\t55003\tH3PO4\t5\ty\t1\t551.330004580603\t20.62304\tFalse\tsp\tQ96PK6\tQ96PK6\tRBM14_HUMAN\tRNA-binding protein 14\tHomo sapiens\t\tRBM14\t1\t2\tMCT_human_UP000005640_9606\n",
    "202106018_TIMS03_EVO03_PaSk_SA_HeLa_EGF_Phospho_100ug_test_S4-A1_1_25843\t2\t\t_TRLS[+80]PPR_\t\tTrue\t_TRLS[Phospho (STY)]PPR_\tTRLSPPR\t-18.51872\t0.785\t-18.51872\tQ96PK6\tTrue\t_TRLS[+80]PPR_\t_TRLS[Phospho (STY)]PPR_\t453.731484366392\t0.000731277163140476\t55003\t1(+H3+N)1(+H3+O4+P)\t4\tb\t1\t423.235042281993\t8.850685\tFalse\tsp\tQ96PK6\tQ96PK6\tRBM14_HUMAN\tRNA-binding protein 14\tHomo sapiens\t\tRBM14\t1\t2\tMCT_human_UP000005640_9606\n",
    "202106018_TIMS03_EVO03_PaSk_SA_HeLa_EGF_Phospho_100ug_test_S4-A1_1_25843\t2\t\t_S[+80]SPLSWR_\t\tTrue\t_S[Phospho (STY)]SPLSWR_\tSSPLSWR\t32.96021\t0.806\t32.96021\tQ8NEY1;Q8NEY1-3\tFalse\t_S[+80]SPLSWR_\t_S[Phospho (STY)]SPLSWR_\t456.702392575162\t0.00218558823689818\t6996\tnoloss\t3\ty\t1\t448.230293528242\t74.2921\tFalse\tsp\tQ8NEY1;Q8NEY1-3\tQ8NEY1;Q8NEY1-3\tNAV1_HUMAN\tNeuron navigator 1;Isoform of Q8NEY1, Isoform 3 of Neuron navigator 1\tHomo sapiens\t\tNAV1\t1;\t2;\tMCT_human_UP000005640_9606;MCT_human2_UP000005640_9606_additional\n",
    "202106018_TIMS03_EVO03_PaSk_SA_HeLa_EGF_Phospho_100ug_test_S4-A1_1_25843\t2\t\t_S[+80]SPLSWR_\t\tTrue\t_S[Phospho (STY)]SPLSWR_\tSSPLSWR\t32.96021\t0.806\t32.96021\tQ8NEY1;Q8NEY1-3\tFalse\t_S[+80]SPLSWR_\t_S[Phospho (STY)]SPLSWR_\t456.702392575162\t0.00218558823689818\t6996\tnoloss\t4\ty\t1\t561.314357505372\t100\tFalse\tsp\tQ8NEY1;Q8NEY1-3\tQ8NEY1;Q8NEY1-3\tNAV1_HUMAN\tNeuron navigator 1;Isoform of Q8NEY1, Isoform 3 of Neuron navigator 1\tHomo sapiens\t\tNAV1\t1;\t2;\tMCT_human_UP000005640_9606;MCT_human2_UP000005640_9606_additional\n",
    "202106018_TIMS03_EVO03_PaSk_SA_HeLa_EGF_Phospho_100ug_test_S4-A1_1_25843\t2\t\t_S[+80]SPLSWR_\t\tTrue\t_S[Phospho (STY)]SPLSWR_\tSSPLSWR\t32.96021\t0.806\t32.96021\tQ8NEY1;Q8NEY1-3\tFalse\t_S[+80]SPLSWR_\t_S[Phospho (STY)]SPLSWR_\t456.702392575162\t0.00218558823689818\t6996\tnoloss\t5\ty\t1\t658.367121354222\t53.05514\tFalse\tsp\tQ8NEY1;Q8NEY1-3\tQ8NEY1;Q8NEY1-3\tNAV1_HUMAN\tNeuron navigator 1;Isoform of Q8NEY1, Isoform 3 of Neuron navigator 1\tHomo sapiens\t\tNAV1\t1;\t2;\tMCT_human_UP000005640_9606;MCT_human2_UP000005640_9606_additional\n",
    "202106018_TIMS03_EVO03_PaSk_SA_HeLa_EGF_Phospho_100ug_test_S4-A1_1_25843\t2\t\t_S[+80]SPLSWR_\t\tTrue\t_S[Phospho (STY)]SPLSWR_\tSSPLSWR\t32.96021\t0.806\t32.96021\tQ8NEY1;Q8NEY1-3\tFalse\t_S[+80]SPLSWR_\t_S[Phospho (STY)]SPLSWR_\t456.702392575162\t0.00218558823689818\t6996\tH2O\t4\ty\t1\t543.303792701295\t8.122206\tFalse\tsp\tQ8NEY1;Q8NEY1-3\tQ8NEY1;Q8NEY1-3\tNAV1_HUMAN\tNeuron navigator 1;Isoform of Q8NEY1, Isoform 3 of Neuron navigator 1\tHomo sapiens\t\tNAV1\t1;\t2;\tMCT_human_UP000005640_9606;MCT_human2_UP000005640_9606_additional\n",
    "202106018_TIMS03_EVO03_PaSk_SA_HeLa_EGF_Phospho_100ug_test_S4-A1_1_25843\t2\t\t_S[+80]SPLSWR_\t\tTrue\t_S[Phospho (STY)]SPLSWR_\tSSPLSWR\t32.96021\t0.806\t32.96021\tQ8NEY1;Q8NEY1-3\tFalse\t_S[+80]SPLSWR_\t_S[Phospho (STY)]SPLSWR_\t456.702392575162\t0.00218558823689818\t6996\tNH3\t4\ty\t1\t544.287809119752\t11.54993\tFalse\tsp\tQ8NEY1;Q8NEY1-3\tQ8NEY1;Q8NEY1-3\tNAV1_HUMAN\tNeuron navigator 1;Isoform of Q8NEY1, Isoform 3 of Neuron navigator 1\tHomo sapiens\t\tNAV1\t1;\t2;\tMCT_human_UP000005640_9606;MCT_human2_UP000005640_9606_additional\n",
    "202106018_TIMS03_EVO03_PaSk_SA_HeLa_EGF_Phospho_100ug_test_S4-A1_1_25843\t2\t\t_GGS[+80]PDLWK_\t\tTrue\t_GGS[Phospho (STY)]PDLWK_\tGGSPDLWK\t30.20072\t0.775\t30.20072\tQ96JM3\tTrue\t_GGS[+80]PDLWK_\t_GGS[Phospho (STY)]PDLWK_\t470.202225398577\t0\t14524\tnoloss\t3\ty\t1\t446.276181091502\t14.71406\tFalse\tsp\tQ96JM3\tQ96JM3\tCHAP1_HUMAN\tChromosome alignment-maintaining phosphoprotein 1\tHomo sapiens\t\tCHAMP1\t1\t2\tMCT_human_UP000005640_9606\n",
    "202106018_TIMS03_EVO03_PaSk_SA_HeLa_EGF_Phospho_100ug_test_S4-A1_1_25843\t2\t\t_GGS[+80]PDLWK_\t\tTrue\t_GGS[Phospho (STY)]PDLWK_\tGGSPDLWK\t30.20072\t0.775\t30.20072\tQ96JM3\tTrue\t_GGS[+80]PDLWK_\t_GGS[Phospho (STY)]PDLWK_\t470.202225398577\t0\t14524\tnoloss\t4\ty\t1\t561.303124115332\t33.08263\tFalse\tsp\tQ96JM3\tQ96JM3\tCHAP1_HUMAN\tChromosome alignment-maintaining phosphoprotein 1\tHomo sapiens\t\tCHAMP1\t1\t2\tMCT_human_UP000005640_9606\n",
    "202106018_TIMS03_EVO03_PaSk_SA_HeLa_EGF_Phospho_100ug_test_S4-A1_1_25843\t2\t\t_GGS[+80]PDLWK_\t\tTrue\t_GGS[Phospho (STY)]PDLWK_\tGGSPDLWK\t30.20072\t0.775\t30.20072\tQ96JM3\tTrue\t_GGS[+80]PDLWK_\t_GGS[Phospho (STY)]PDLWK_\t470.202225398577\t0\t14524\tnoloss\t5\tb\t1\t494.128269705652\t6.559356\tFalse\tsp\tQ96JM3\tQ96JM3\tCHAP1_HUMAN\tChromosome alignment-maintaining phosphoprotein 1\tHomo sapiens\t\tCHAMP1\t1\t2\tMCT_human_UP000005640_9606\n",
    "202106018_TIMS03_EVO03_PaSk_SA_HeLa_EGF_Phospho_100ug_test_S4-A1_1_25843\t2\t\t_GGS[+80]PDLWK_\t\tTrue\t_GGS[Phospho (STY)]PDLWK_\tGGSPDLWK\t30.20072\t0.775\t30.20072\tQ96JM3\tTrue\t_GGS[+80]PDLWK_\t_GGS[Phospho (STY)]PDLWK_\t470.202225398577\t0\t14524\tnoloss\t5\ty\t1\t658.355887964182\t100\tFalse\tsp\tQ96JM3\tQ96JM3\tCHAP1_HUMAN\tChromosome alignment-maintaining phosphoprotein 1\tHomo sapiens\t\tCHAMP1\t1\t2\tMCT_human_UP000005640_9606\n",
    "202106018_TIMS03_EVO03_PaSk_SA_HeLa_EGF_Phospho_100ug_test_S4-A1_1_25843\t2\t\t_GGS[+80]PDLWK_\t\tTrue\t_GGS[Phospho (STY)]PDLWK_\tGGSPDLWK\t30.20072\t0.775\t30.20072\tQ96JM3\tTrue\t_GGS[+80]PDLWK_\t_GGS[Phospho (STY)]PDLWK_\t470.202225398577\t0\t14524\tH3PO4\t5\tb\t1\t396.151371512293\t6.920845\tFalse\tsp\tQ96JM3\tQ96JM3\tCHAP1_HUMAN\tChromosome alignment-maintaining phosphoprotein 1\tHomo sapiens\t\tCHAMP1\t1\t2\tMCT_human_UP000005640_9606\n",
    "202106018_TIMS03_EVO03_PaSk_SA_HeLa_EGF_Phospho_100ug_test_S4-A1_1_25843\t2\t\t_GGS[+80]PDLWK_\t\tTrue\t_GGS[Phospho (STY)]PDLWK_\tGGSPDLWK\t30.20072\t0.775\t30.20072\tQ96JM3\tTrue\t_GGS[+80]PDLWK_\t_GGS[Phospho (STY)]PDLWK_\t470.202225398577\t0\t14524\tnoloss\t6\tb\t1\t607.212333682782\t6.388004\tFalse\tsp\tQ96JM3\tQ96JM3\tCHAP1_HUMAN\tChromosome alignment-maintaining phosphoprotein 1\tHomo sapiens\t\tCHAMP1\t1\t2\tMCT_human_UP000005640_9606\n",
    "202106018_TIMS03_EVO03_PaSk_SA_HeLa_EGF_Phospho_100ug_test_S4-A1_1_25843\t2\t\t_GGS[+80]PDLWK_\t\tTrue\t_GGS[Phospho (STY)]PDLWK_\tGGSPDLWK\t30.20072\t0.775\t30.20072\tQ96JM3\tTrue\t_GGS[+80]PDLWK_\t_GGS[Phospho (STY)]PDLWK_\t470.202225398577\t0\t14524\tH3PO4\t6\tb\t1\t509.235435489423\t19.9082\tFalse\tsp\tQ96JM3\tQ96JM3\tCHAP1_HUMAN\tChromosome alignment-maintaining phosphoprotein 1\tHomo sapiens\t\tCHAMP1\t1\t2\tMCT_human_UP000005640_9606\n",
    "202106018_TIMS03_EVO03_PaSk_SA_HeLa_EGF_Phospho_100ug_test_S4-A1_1_25843\t2\t\t_GGS[+80]PDLWK_\t\tTrue\t_GGS[Phospho (STY)]PDLWK_\tGGSPDLWK\t30.20072\t0.775\t30.20072\tQ96JM3\tTrue\t_GGS[+80]PDLWK_\t_GGS[Phospho (STY)]PDLWK_\t470.202225398577\t0\t14524\tH3PO4\t6\ty\t2\t364.192312581327\t80.62402\tFalse\tsp\tQ96JM3\tQ96JM3\tCHAP1_HUMAN\tChromosome alignment-maintaining phosphoprotein 1\tHomo sapiens\t\tCHAMP1\t1\t2\tMCT_human_UP000005640_9606\n",
    "202106018_TIMS03_EVO03_PaSk_SA_HeLa_EGF_Phospho_100ug_test_S4-A1_1_25843\t2\t\t_GGS[+80]PDLWK_\t\tTrue\t_GGS[Phospho (STY)]PDLWK_\tGGSPDLWK\t30.20072\t0.775\t30.20072\tQ96JM3\tTrue\t_GGS[+80]PDLWK_\t_GGS[Phospho (STY)]PDLWK_\t470.202225398577\t0\t14524\tH3PO4\t7\tb\t1\t695.314748439283\t16.95742\tFalse\tsp\tQ96JM3\tQ96JM3\tCHAP1_HUMAN\tChromosome alignment-maintaining phosphoprotein 1\tHomo sapiens\t\tCHAMP1\t1\t2\tMCT_human_UP000005640_9606\n",
    "202106018_TIMS03_EVO03_PaSk_SA_HeLa_EGF_Phospho_100ug_test_S4-A1_1_25843\t2\t\t_GGS[+80]PDLWK_\t\tTrue\t_GGS[Phospho (STY)]PDLWK_\tGGSPDLWK\t30.20072\t0.775\t30.20072\tQ96JM3\tTrue\t_GGS[+80]PDLWK_\t_GGS[Phospho (STY)]PDLWK_\t470.202225398577\t0\t14524\tH3PO4\t7\ty\t2\t392.703044441612\t23.94268\tFalse\tsp\tQ96JM3\tQ96JM3\tCHAP1_HUMAN\tChromosome alignment-maintaining phosphoprotein 1\tHomo sapiens\t\tCHAMP1\t1\t2\tMCT_human_UP000005640_9606\n",
    "202106018_TIMS03_EVO03_PaSk_SA_HeLa_EGF_Phospho_100ug_test_S4-A1_1_25843\t2\t\t_GGS[+80]PDLWK_\t\tTrue\t_GGS[Phospho (STY)]PDLWK_\tGGSPDLWK\t30.20072\t0.775\t30.20072\tQ96JM3\tTrue\t_GGS[+80]PDLWK_\t_GGS[Phospho (STY)]PDLWK_\t470.202225398577\t0\t14524\t1(+H2+O)1(+H3+O4+P)\t6\tb\t1\t491.224876407391\t7.7026\tFalse\tsp\tQ96JM3\tQ96JM3\tCHAP1_HUMAN\tChromosome alignment-maintaining phosphoprotein 1\tHomo sapiens\t\tCHAMP1\t1\t2\tMCT_human_UP000005640_9606\n",
    "202106018_TIMS03_EVO03_PaSk_SA_HeLa_EGF_Phospho_library15_S4-B3_1_25857\t2\t\t_ELIQEYGAQS[+80]GGLEK_\t\tTrue\t_ELIQEYGAQS[Phospho (STY)]GGLEK_\tELIQEYGAQSGGLEK\t39.08461\t1.081\t39.08461\tA0A075B730\tFalse\t_ELIQEYGAQS[+80]GGLEK_\t_ELIQEYGAQS[Phospho (STY)]GGLEK_\t851.390199620587\t0\t11732\tnoloss\t8\tb\t1\t904.441074140122\t13.24587\tFalse\ttr\tA0A075B730\tA0A075B730\tA0A075B730_HUMAN\tIsoform of P58107, Epiplakin\tHomo sapiens\t\tEPPK1\t1\t2\tMCT_human2_UP000005640_9606_additional\n",
    "202106018_TIMS03_EVO03_PaSk_SA_HeLa_EGF_Phospho_library15_S4-B3_1_25857\t2\t\t_ELIQEYGAQS[+80]GGLEK_\t\tTrue\t_ELIQEYGAQS[Phospho (STY)]GGLEK_\tELIQEYGAQSGGLEK\t39.08461\t1.081\t39.08461\tA0A075B730\tFalse\t_ELIQEYGAQS[+80]GGLEK_\t_ELIQEYGAQS[Phospho (STY)]GGLEK_\t851.390199620587\t0\t11732\tnoloss\t8\ty\t1\t869.376438885762\t9.73339\tFalse\ttr\tA0A075B730\tA0A075B730\tA0A075B730_HUMAN\tIsoform of P58107, Epiplakin\tHomo sapiens\t\tEPPK1\t1\t2\tMCT_human2_UP000005640_9606_additional\n",
    "202106018_TIMS03_EVO03_PaSk_SA_HeLa_EGF_Phospho_library15_S4-B3_1_25857\t2\t\t_ELIQEYGAQS[+80]GGLEK_\t\tTrue\t_ELIQEYGAQS[Phospho (STY)]GGLEK_\tELIQEYGAQSGGLEK\t39.08461\t1.081\t39.08461\tA0A075B730\tFalse\t_ELIQEYGAQS[+80]GGLEK_\t_ELIQEYGAQS[Phospho (STY)]GGLEK_\t851.390199620587\t0\t11732\tH3PO4\t8\ty\t1\t771.399540692403\t15.5311\tFalse\ttr\tA0A075B730\tA0A075B730\tA0A075B730_HUMAN\tIsoform of P58107, Epiplakin\tHomo sapiens\t\tEPPK1\t1\t2\tMCT_human2_UP000005640_9606_additional\n",
    "202106018_TIMS03_EVO03_PaSk_SA_HeLa_EGF_Phospho_library15_S4-B3_1_25857\t2\t\t_ELIQEYGAQS[+80]GGLEK_\t\tTrue\t_ELIQEYGAQS[Phospho (STY)]GGLEK_\tELIQEYGAQSGGLEK\t39.08461\t1.081\t39.08461\tA0A075B730\tFalse\t_ELIQEYGAQS[+80]GGLEK_\t_ELIQEYGAQS[Phospho (STY)]GGLEK_\t851.390199620587\t0\t11732\tnoloss\t9\ty\t1\t926.397902606332\t62.03978\tFalse\ttr\tA0A075B730\tA0A075B730\tA0A075B730_HUMAN\tIsoform of P58107, Epiplakin\tHomo sapiens\t\tEPPK1\t1\t2\tMCT_human2_UP000005640_9606_additional\n",
    "202106018_TIMS03_EVO03_PaSk_SA_HeLa_EGF_Phospho_library15_S4-B3_1_25857\t2\t\t_ELIQEYGAQS[+80]GGLEK_\t\tTrue\t_ELIQEYGAQS[Phospho (STY)]GGLEK_\tELIQEYGAQSGGLEK\t39.08461\t1.081\t39.08461\tA0A075B730\tFalse\t_ELIQEYGAQS[+80]GGLEK_\t_ELIQEYGAQS[Phospho (STY)]GGLEK_\t851.390199620587\t0\t11732\tH3PO4\t9\ty\t1\t828.421004412973\t100\tFalse\ttr\tA0A075B730\tA0A075B730\tA0A075B730_HUMAN\tIsoform of P58107, Epiplakin\tHomo sapiens\t\tEPPK1\t1\t2\tMCT_human2_UP000005640_9606_additional\n",
    "202106018_TIMS03_EVO03_PaSk_SA_HeLa_EGF_Phospho_library15_S4-B3_1_25857\t2\t\t_ELIQEYGAQS[+80]GGLEK_\t\tTrue\t_ELIQEYGAQS[Phospho (STY)]GGLEK_\tELIQEYGAQSGGLEK\t39.08461\t1.081\t39.08461\tA0A075B730\tFalse\t_ELIQEYGAQS[+80]GGLEK_\t_ELIQEYGAQS[Phospho (STY)]GGLEK_\t851.390199620587\t0\t11732\tnoloss\t10\ty\t1\t1089.46123113888\t27.16885\tFalse\ttr\tA0A075B730\tA0A075B730\tA0A075B730_HUMAN\tIsoform of P58107, Epiplakin\tHomo sapiens\t\tEPPK1\t1\t2\tMCT_human2_UP000005640_9606_additional\n",
    "202106018_TIMS03_EVO03_PaSk_SA_HeLa_EGF_Phospho_library15_S4-B3_1_25857\t2\t\t_ELIQEYGAQS[+80]GGLEK_\t\tTrue\t_ELIQEYGAQS[Phospho (STY)]GGLEK_\tELIQEYGAQSGGLEK\t39.08461\t1.081\t39.08461\tA0A075B730\tFalse\t_ELIQEYGAQS[+80]GGLEK_\t_ELIQEYGAQS[Phospho (STY)]GGLEK_\t851.390199620587\t0\t11732\tH3PO4\t10\ty\t1\t991.484332945523\t37.66399\tFalse\ttr\tA0A075B730\tA0A075B730\tA0A075B730_HUMAN\tIsoform of P58107, Epiplakin\tHomo sapiens\t\tEPPK1\t1\t2\tMCT_human2_UP000005640_9606_additional\n",
    "202106018_TIMS03_EVO03_PaSk_SA_HeLa_EGF_Phospho_library15_S4-B3_1_25857\t2\t\t_ELIQEYGAQS[+80]GGLEK_\t\tTrue\t_ELIQEYGAQS[Phospho (STY)]GGLEK_\tELIQEYGAQSGGLEK\t39.08461\t1.081\t39.08461\tA0A075B730\tFalse\t_ELIQEYGAQS[+80]GGLEK_\t_ELIQEYGAQS[Phospho (STY)]GGLEK_\t851.390199620587\t0\t11732\tnoloss\t11\ty\t1\t1218.50382422685\t11.55311\tFalse\ttr\tA0A075B730\tA0A075B730\tA0A075B730_HUMAN\tIsoform of P58107, Epiplakin\tHomo sapiens\t\tEPPK1\t1\t2\tMCT_human2_UP000005640_9606_additional\n",
    "202106018_TIMS03_EVO03_PaSk_SA_HeLa_EGF_Phospho_library15_S4-B3_1_25857\t2\t\t_ELIQEYGAQS[+80]GGLEK_\t\tTrue\t_ELIQEYGAQS[Phospho (STY)]GGLEK_\tELIQEYGAQSGGLEK\t39.08461\t1.081\t39.08461\tA0A075B730\tFalse\t_ELIQEYGAQS[+80]GGLEK_\t_ELIQEYGAQS[Phospho (STY)]GGLEK_\t851.390199620587\t0\t11732\tH3PO4\t11\ty\t1\t1120.52692603349\t14.68472\tFalse\ttr\tA0A075B730\tA0A075B730\tA0A075B730_HUMAN\tIsoform of P58107, Epiplakin\tHomo sapiens\t\tEPPK1\t1\t2\tMCT_human2_UP000005640_9606_additional\n",
    "202106018_TIMS03_EVO03_PaSk_SA_HeLa_EGF_Phospho_library15_S4-B3_1_25857\t2\t\t_ELIQEYGAQS[+80]GGLEK_\t\tTrue\t_ELIQEYGAQS[Phospho (STY)]GGLEK_\tELIQEYGAQSGGLEK\t39.08461\t1.081\t39.08461\tA0A075B730\tFalse\t_ELIQEYGAQS[+80]GGLEK_\t_ELIQEYGAQS[Phospho (STY)]GGLEK_\t851.390199620587\t0\t11732\tnoloss\t12\ty\t2\t673.784839099472\t19.2975\tFalse\ttr\tA0A075B730\tA0A075B730\tA0A075B730_HUMAN\tIsoform of P58107, Epiplakin\tHomo sapiens\t\tEPPK1\t1\t2\tMCT_human2_UP000005640_9606_additional\n",
    "202106018_TIMS03_EVO03_PaSk_SA_HeLa_EGF_Phospho_library15_S4-B3_1_25857\t2\t\t_ELIQEYGAQS[+80]GGLEK_\t\tTrue\t_ELIQEYGAQS[Phospho (STY)]GGLEK_\tELIQEYGAQSGGLEK\t39.08461\t1.081\t39.08461\tA0A075B730\tFalse\t_ELIQEYGAQS[+80]GGLEK_\t_ELIQEYGAQS[Phospho (STY)]GGLEK_\t851.390199620587\t0\t11732\tH3PO4\t13\ty\t2\t681.338421991357\t5.416843\tTrue\ttr\tA0A075B730\tA0A075B730\tA0A075B730_HUMAN\tIsoform of P58107, Epiplakin\tHomo sapiens\t\tEPPK1\t1\t2\tMCT_human2_UP000005640_9606_additional\n",
    "202106018_TIMS03_EVO03_PaSk_SA_HeLa_EGF_Phospho_library15_S4-B3_1_25857\t2\t\t_ELIQEYGAQS[+80]GGLEK_\t\tTrue\t_ELIQEYGAQS[Phospho (STY)]GGLEK_\tELIQEYGAQSGGLEK\t39.08461\t1.081\t39.08461\tA0A075B730\tFalse\t_ELIQEYGAQS[+80]GGLEK_\t_ELIQEYGAQS[Phospho (STY)]GGLEK_\t851.390199620587\t0\t11732\tH2O\t3\tb\t1\t338.207432704965\t52.51799\tFalse\ttr\tA0A075B730\tA0A075B730\tA0A075B730_HUMAN\tIsoform of P58107, Epiplakin\tHomo sapiens\t\tEPPK1\t1\t2\tMCT_human2_UP000005640_9606_additional\n",
    "202106018_TIMS03_EVO03_PaSk_SA_HeLa_EGF_Phospho_library15_S4-B3_1_25857\t2\t\t_ELIQEYGAQS[+80]GGLEK_\t\tTrue\t_ELIQEYGAQS[Phospho (STY)]GGLEK_\tELIQEYGAQSGGLEK\t39.08461\t1.081\t39.08461\tA0A075B730\tFalse\t_ELIQEYGAQS[+80]GGLEK_\t_ELIQEYGAQS[Phospho (STY)]GGLEK_\t851.390199620587\t0\t11732\tH2O\t4\tb\t1\t466.266010210245\t11.00296\tFalse\ttr\tA0A075B730\tA0A075B730\tA0A075B730_HUMAN\tIsoform of P58107, Epiplakin\tHomo sapiens\t\tEPPK1\t1\t2\tMCT_human2_UP000005640_9606_additional\n",
    "202106018_TIMS03_EVO03_PaSk_SA_HeLa_EGF_Phospho_library15_S4-B3_1_25857\t2\t\t_ELIQEYGAQS[+80]GGLEK_\t\tTrue\t_ELIQEYGAQS[Phospho (STY)]GGLEK_\tELIQEYGAQSGGLEK\t39.08461\t1.081\t39.08461\tA0A075B730\tFalse\t_ELIQEYGAQS[+80]GGLEK_\t_ELIQEYGAQS[Phospho (STY)]GGLEK_\t851.390199620587\t0\t11732\tH2O\t5\tb\t1\t595.308603298215\t40.71096\tFalse\ttr\tA0A075B730\tA0A075B730\tA0A075B730_HUMAN\tIsoform of P58107, Epiplakin\tHomo sapiens\t\tEPPK1\t1\t2\tMCT_human2_UP000005640_9606_additional\n",
    "202106018_TIMS03_EVO03_PaSk_SA_HeLa_EGF_Phospho_library15_S4-B3_1_25857\t2\t\t_ELIQEYGAQS[+80]GGLEK_\t\tTrue\t_ELIQEYGAQS[Phospho (STY)]GGLEK_\tELIQEYGAQSGGLEK\t39.08461\t1.081\t39.08461\tA0A075B730\tFalse\t_ELIQEYGAQS[+80]GGLEK_\t_ELIQEYGAQS[Phospho (STY)]GGLEK_\t851.390199620587\t0\t11732\t1(+H2+O)1(+H3+O4+P)\t7\ty\t2\t341.679569285214\t6.94033\tTrue\ttr\tA0A075B730\tA0A075B730\tA0A075B730_HUMAN\tIsoform of P58107, Epiplakin\tHomo sapiens\t\tEPPK1\t1\t2\tMCT_human2_UP000005640_9606_additional\n",
    "202106018_TIMS03_EVO03_PaSk_SA_HeLa_EGF_Phospho_library15_S4-B3_1_25857\t2\t\t_ELIQEYGAQS[+80]GGLEK_\t\tTrue\t_ELIQEYGAQS[Phospho (STY)]GGLEK_\tELIQEYGAQSGGLEK\t39.08461\t1.081\t39.08461\tA0A075B730\tFalse\t_ELIQEYGAQS[+80]GGLEK_\t_ELIQEYGAQS[Phospho (STY)]GGLEK_\t851.390199620587\t0\t11732\t1(+H3+N)1(+H3+O4+P)\t7\ty\t1\t683.335878522073\t9.944985\tFalse\ttr\tA0A075B730\tA0A075B730\tA0A075B730_HUMAN\tIsoform of P58107, Epiplakin\tHomo sapiens\t\tEPPK1\t1\t2\tMCT_human2_UP000005640_9606_additional\n",
    "202106018_TIMS03_EVO03_PaSk_SA_HeLa_EGF_Phospho_library15_S4-B3_1_25857\t2\t\t_ELIQEYGAQS[+80]GGLEK_\t\tTrue\t_ELIQEYGAQS[Phospho (STY)]GGLEK_\tELIQEYGAQSGGLEK\t39.08461\t1.081\t39.08461\tA0A075B730\tFalse\t_ELIQEYGAQS[+80]GGLEK_\t_ELIQEYGAQS[Phospho (STY)]GGLEK_\t851.390199620587\t0\t11732\t1(+H3+N)1(+H3+O4+P)\t8\ty\t2\t377.690134386797\t6.051629\tTrue\ttr\tA0A075B730\tA0A075B730\tA0A075B730_HUMAN\tIsoform of P58107, Epiplakin\tHomo sapiens\t\tEPPK1\t1\t2\tMCT_human2_UP000005640_9606_additional\n",
    "202106018_TIMS03_EVO03_PaSk_SA_HeLa_EGF_Phospho_library15_S4-B3_1_25857\t2\t\t_ELIQEYGAQS[+80]GGLEK_\t\tTrue\t_ELIQEYGAQS[Phospho (STY)]GGLEK_\tELIQEYGAQSGGLEK\t39.08461\t1.081\t39.08461\tA0A075B730\tFalse\t_ELIQEYGAQS[+80]GGLEK_\t_ELIQEYGAQS[Phospho (STY)]GGLEK_\t851.390199620587\t0\t11732\t1(+H2+O)1(+H3+O4+P)\t11\ty\t1\t1102.51636122942\t10.49513\tFalse\ttr\tA0A075B730\tA0A075B730\tA0A075B730_HUMAN\tIsoform of P58107, Epiplakin\tHomo sapiens\t\tEPPK1\t1\t2\tMCT_human2_UP000005640_9606_additional\n",
    "202106018_TIMS03_EVO03_PaSk_SA_HeLa_EGF_Phospho_library15_S4-B3_1_25857\t2\t\t_ELIQEYGAQS[+80]GGLEK_\t\tTrue\t_ELIQEYGAQS[Phospho (STY)]GGLEK_\tELIQEYGAQSGGLEK\t39.08461\t1.081\t39.08461\tA0A075B730\tFalse\t_ELIQEYGAQS[+80]GGLEK_\t_ELIQEYGAQS[Phospho (STY)]GGLEK_\t851.390199620587\t0\t11732\t1(+H3+N)1(+H3+O4+P)\t11\ty\t1\t1103.50037764787\t5.966991\tTrue\ttr\tA0A075B730\tA0A075B730\tA0A075B730_HUMAN\tIsoform of P58107, Epiplakin\tHomo sapiens\t\tEPPK1\t1\t2\tMCT_human2_UP000005640_9606_additional\n",
    "202106018_TIMS03_EVO03_PaSk_SA_HeLa_EGF_Phospho_library15_S4-B3_1_25857\t2\t\t_ELIQEYGAQS[+80]GGLEK_\t\tTrue\t_ELIQEYGAQS[Phospho (STY)]GGLEK_\tELIQEYGAQSGGLEK\t39.08461\t1.081\t39.08461\tA0A075B730\tFalse\t_ELIQEYGAQS[+80]GGLEK_\t_ELIQEYGAQS[Phospho (STY)]GGLEK_\t851.390199620587\t0\t11732\tH2O\t12\ty\t2\t664.779556697433\t18.91663\tFalse\ttr\tA0A075B730\tA0A075B730\tA0A075B730_HUMAN\tIsoform of P58107, Epiplakin\tHomo sapiens\t\tEPPK1\t1\t2\tMCT_human2_UP000005640_9606_additional\n",
    "202106018_TIMS03_EVO03_PaSk_SA_HeLa_EGF_Phospho_library15_S4-B3_1_25857\t2\t\t_ELIQEYGAQS[+80]GGLEK_\t\tTrue\t_ELIQEYGAQS[Phospho (STY)]GGLEK_\tELIQEYGAQSGGLEK\t39.08461\t1.081\t39.08461\tA0A075B730\tFalse\t_ELIQEYGAQS[+80]GGLEK_\t_ELIQEYGAQS[Phospho (STY)]GGLEK_\t851.390199620587\t0\t11732\tNH3\t12\ty\t2\t665.271564906662\t5.459162\tTrue\ttr\tA0A075B730\tA0A075B730\tA0A075B730_HUMAN\tIsoform of P58107, Epiplakin\tHomo sapiens\t\tEPPK1\t1\t2\tMCT_human2_UP000005640_9606_additional\n",
    "202106018_TIMS03_EVO03_PaSk_SA_HeLa_EGF_Phospho_library15_S4-B3_1_25857\t2\t\t_ELIQEYGAQS[+80]GGLEK_\t\tTrue\t_ELIQEYGAQS[Phospho (STY)]GGLEK_\tELIQEYGAQSGGLEK\t39.08461\t1.081\t39.08461\tA0A075B730\tFalse\t_ELIQEYGAQS[+80]GGLEK_\t_ELIQEYGAQS[Phospho (STY)]GGLEK_\t851.390199620587\t0\t11732\t1(+H2+O)1(+H3+O4+P)\t12\ty\t2\t615.791107600754\t16.20821\tFalse\ttr\tA0A075B730\tA0A075B730\tA0A075B730_HUMAN\tIsoform of P58107, Epiplakin\tHomo sapiens\t\tEPPK1\t1\t2\tMCT_human2_UP000005640_9606_additional\n",
    "202106018_TIMS03_EVO03_PaSk_SA_HeLa_EGF_Phospho_library15_S4-B3_1_25857\t2\t\t_NLTEDNSQNQDLIAK_\t\tTrue\t_NLTEDNSQNQDLIAK_\tNLTEDNSQNQDLIAK\t12.65\t1.092\t12.65\tQ9UBB4\tFalse\t_NLTEDNSQNQDLIAK_\t_NLTEDNSQNQDLIAK_\t851.915754844857\t0.000129324282170273\t6592\tnoloss\t3\tb\t1\t329.181946353492\t19.79472\tFalse\tsp\tQ9UBB4\tQ9UBB4\tATX10_HUMAN\tAtaxin-10\tHomo sapiens\t\tATXN10\t1\t1\tMCT_human_UP000005640_9606\n",
    "202106018_TIMS03_EVO03_PaSk_SA_HeLa_EGF_Phospho_library15_S4-B3_1_25857\t2\t\t_NLTEDNSQNQDLIAK_\t\tTrue\t_NLTEDNSQNQDLIAK_\tNLTEDNSQNQDLIAK\t12.65\t1.092\t12.65\tQ9UBB4\tFalse\t_NLTEDNSQNQDLIAK_\t_NLTEDNSQNQDLIAK_\t851.915754844857\t0.000129324282170273\t6592\tnoloss\t3\ty\t1\t331.233981926352\t34.45748\tFalse\tsp\tQ9UBB4\tQ9UBB4\tATX10_HUMAN\tAtaxin-10\tHomo sapiens\t\tATXN10\t1\t1\tMCT_human_UP000005640_9606\n",
    "202106018_TIMS03_EVO03_PaSk_SA_HeLa_EGF_Phospho_library15_S4-B3_1_25857\t2\t\t_NLTEDNSQNQDLIAK_\t\tTrue\t_NLTEDNSQNQDLIAK_\tNLTEDNSQNQDLIAK\t12.65\t1.092\t12.65\tQ9UBB4\tFalse\t_NLTEDNSQNQDLIAK_\t_NLTEDNSQNQDLIAK_\t851.915754844857\t0.000129324282170273\t6592\tnoloss\t4\ty\t1\t444.318045903482\t41.93548\tFalse\tsp\tQ9UBB4\tQ9UBB4\tATX10_HUMAN\tAtaxin-10\tHomo sapiens\t\tATXN10\t1\t1\tMCT_human_UP000005640_9606\n",
    "202106018_TIMS03_EVO03_PaSk_SA_HeLa_EGF_Phospho_library15_S4-B3_1_25857\t2\t\t_NLTEDNSQNQDLIAK_\t\tTrue\t_NLTEDNSQNQDLIAK_\tNLTEDNSQNQDLIAK\t12.65\t1.092\t12.65\tQ9UBB4\tFalse\t_NLTEDNSQNQDLIAK_\t_NLTEDNSQNQDLIAK_\t851.915754844857\t0.000129324282170273\t6592\tnoloss\t5\tb\t1\t573.251482465292\t56.89149\tFalse\tsp\tQ9UBB4\tQ9UBB4\tATX10_HUMAN\tAtaxin-10\tHomo sapiens\t\tATXN10\t1\t1\tMCT_human_UP000005640_9606\n",
    "202106018_TIMS03_EVO03_PaSk_SA_HeLa_EGF_Phospho_library15_S4-B3_1_25857\t2\t\t_NLTEDNSQNQDLIAK_\t\tTrue\t_NLTEDNSQNQDLIAK_\tNLTEDNSQNQDLIAK\t12.65\t1.092\t12.65\tQ9UBB4\tFalse\t_NLTEDNSQNQDLIAK_\t_NLTEDNSQNQDLIAK_\t851.915754844857\t0.000129324282170273\t6592\tnoloss\t5\ty\t1\t559.344988927312\t31.81818\tFalse\tsp\tQ9UBB4\tQ9UBB4\tATX10_HUMAN\tAtaxin-10\tHomo sapiens\t\tATXN10\t1\t1\tMCT_human_UP000005640_9606\n",
    "202106018_TIMS03_EVO03_PaSk_SA_HeLa_EGF_Phospho_library15_S4-B3_1_25857\t2\t\t_NLTEDNSQNQDLIAK_\t\tTrue\t_NLTEDNSQNQDLIAK_\tNLTEDNSQNQDLIAK\t12.65\t1.092\t12.65\tQ9UBB4\tFalse\t_NLTEDNSQNQDLIAK_\t_NLTEDNSQNQDLIAK_\t851.915754844857\t0.000129324282170273\t6592\tnoloss\t6\ty\t1\t687.403566432592\t6.744868\tFalse\tsp\tQ9UBB4\tQ9UBB4\tATX10_HUMAN\tAtaxin-10\tHomo sapiens\t\tATXN10\t1\t1\tMCT_human_UP000005640_9606\n",
    "202106018_TIMS03_EVO03_PaSk_SA_HeLa_EGF_Phospho_library15_S4-B3_1_25857\t2\t\t_NLTEDNSQNQDLIAK_\t\tTrue\t_NLTEDNSQNQDLIAK_\tNLTEDNSQNQDLIAK\t12.65\t1.092\t12.65\tQ9UBB4\tFalse\t_NLTEDNSQNQDLIAK_\t_NLTEDNSQNQDLIAK_\t851.915754844857\t0.000129324282170273\t6592\tnoloss\t7\ty\t1\t801.446493873732\t100\tFalse\tsp\tQ9UBB4\tQ9UBB4\tATX10_HUMAN\tAtaxin-10\tHomo sapiens\t\tATXN10\t1\t1\tMCT_human_UP000005640_9606\n",
    "202106018_TIMS03_EVO03_PaSk_SA_HeLa_EGF_Phospho_library15_S4-B3_1_25857\t2\t\t_NLTEDNSQNQDLIAK_\t\tTrue\t_NLTEDNSQNQDLIAK_\tNLTEDNSQNQDLIAK\t12.65\t1.092\t12.65\tQ9UBB4\tFalse\t_NLTEDNSQNQDLIAK_\t_NLTEDNSQNQDLIAK_\t851.915754844857\t0.000129324282170273\t6592\tnoloss\t8\ty\t1\t929.505071379012\t6.158358\tFalse\tsp\tQ9UBB4\tQ9UBB4\tATX10_HUMAN\tAtaxin-10\tHomo sapiens\t\tATXN10\t1\t1\tMCT_human_UP000005640_9606\n",
    "202106018_TIMS03_EVO03_PaSk_SA_HeLa_EGF_Phospho_library15_S4-B3_1_25857\t2\t\t_NLTEDNSQNQDLIAK_\t\tTrue\t_NLTEDNSQNQDLIAK_\tNLTEDNSQNQDLIAK\t12.65\t1.092\t12.65\tQ9UBB4\tFalse\t_NLTEDNSQNQDLIAK_\t_NLTEDNSQNQDLIAK_\t851.915754844857\t0.000129324282170273\t6592\tnoloss\t9\ty\t1\t1016.53709978328\t16.27566\tFalse\tsp\tQ9UBB4\tQ9UBB4\tATX10_HUMAN\tAtaxin-10\tHomo sapiens\t\tATXN10\t1\t1\tMCT_human_UP000005640_9606\n",
    "202106018_TIMS03_EVO03_PaSk_SA_HeLa_EGF_Phospho_library15_S4-B3_1_25857\t2\t\t_NLTEDNSQNQDLIAK_\t\tTrue\t_NLTEDNSQNQDLIAK_\tNLTEDNSQNQDLIAK\t12.65\t1.092\t12.65\tQ9UBB4\tFalse\t_NLTEDNSQNQDLIAK_\t_NLTEDNSQNQDLIAK_\t851.915754844857\t0.000129324282170273\t6592\tnoloss\t10\ty\t1\t1130.58002722442\t14.07625\tFalse\tsp\tQ9UBB4\tQ9UBB4\tATX10_HUMAN\tAtaxin-10\tHomo sapiens\t\tATXN10\t1\t1\tMCT_human_UP000005640_9606\n",
    "202106018_TIMS03_EVO03_PaSk_SA_HeLa_EGF_Phospho_library15_S4-B3_1_25857\t2\t\t_NLTEDNSQNQDLIAK_\t\tTrue\t_NLTEDNSQNQDLIAK_\tNLTEDNSQNQDLIAK\t12.65\t1.092\t12.65\tQ9UBB4\tFalse\t_NLTEDNSQNQDLIAK_\t_NLTEDNSQNQDLIAK_\t851.915754844857\t0.000129324282170273\t6592\tnoloss\t12\ty\t1\t1374.64956333622\t23.60704\tFalse\tsp\tQ9UBB4\tQ9UBB4\tATX10_HUMAN\tAtaxin-10\tHomo sapiens\t\tATXN10\t1\t1\tMCT_human_UP000005640_9606\n",
    "202106018_TIMS03_EVO03_PaSk_SA_HeLa_EGF_Phospho_library15_S4-B3_1_25857\t2\t\t_NLTEDNSQNQDLIAK_\t\tTrue\t_NLTEDNSQNQDLIAK_\tNLTEDNSQNQDLIAK\t12.65\t1.092\t12.65\tQ9UBB4\tFalse\t_NLTEDNSQNQDLIAK_\t_NLTEDNSQNQDLIAK_\t851.915754844857\t0.000129324282170273\t6592\tH2O\t3\tb\t1\t311.171381549415\t27.56598\tFalse\tsp\tQ9UBB4\tQ9UBB4\tATX10_HUMAN\tAtaxin-10\tHomo sapiens\t\tATXN10\t1\t1\tMCT_human_UP000005640_9606\n",
    "202106018_TIMS03_EVO03_PaSk_SA_HeLa_EGF_Phospho_library15_S4-B3_1_25857\t2\t\t_NLTEDNSQNQDLIAK_\t\tTrue\t_NLTEDNSQNQDLIAK_\tNLTEDNSQNQDLIAK\t12.65\t1.092\t12.65\tQ9UBB4\tFalse\t_NLTEDNSQNQDLIAK_\t_NLTEDNSQNQDLIAK_\t851.915754844857\t0.000129324282170273\t6592\tNH3\t8\ty\t1\t912.478522993392\t5.718475\tFalse\tsp\tQ9UBB4\tQ9UBB4\tATX10_HUMAN\tAtaxin-10\tHomo sapiens\t\tATXN10\t1\t1\tMCT_human_UP000005640_9606\n",
    "202106018_TIMS03_EVO03_PaSk_SA_HeLa_EGF_Phospho_library15_S4-B3_1_25857\t2\t\t_NLTEDNSQNQDLIAK_\t\tTrue\t_NLTEDNSQNQDLIAK_\tNLTEDNSQNQDLIAK\t12.65\t1.092\t12.65\tQ9UBB4\tFalse\t_NLTEDNSQNQDLIAK_\t_NLTEDNSQNQDLIAK_\t851.915754844857\t0.000129324282170273\t6592\tNH3\t9\ty\t1\t999.510551397662\t6.744868\tFalse\tsp\tQ9UBB4\tQ9UBB4\tATX10_HUMAN\tAtaxin-10\tHomo sapiens\t\tATXN10\t1\t1\tMCT_human_UP000005640_9606\n",
    "202106018_TIMS03_EVO03_PaSk_SA_HeLa_EGF_Phospho_library15_S4-B3_1_25857\t2\t\t_NLTEDNSQNQDLIAK_\t\tTrue\t_NLTEDNSQNQDLIAK_\tNLTEDNSQNQDLIAK\t12.65\t1.092\t12.65\tQ9UBB4\tFalse\t_NLTEDNSQNQDLIAK_\t_NLTEDNSQNQDLIAK_\t851.915754844857\t0.000129324282170273\t6592\tNH3\t12\ty\t1\t1357.6230149506\t10.41056\tFalse\tsp\tQ9UBB4\tQ9UBB4\tATX10_HUMAN\tAtaxin-10\tHomo sapiens\t\tATXN10\t1\t1\tMCT_human_UP000005640_9606\n",
    "\"\"\"\n",
    "\n",
    "reader = LibraryReaderBase()\n",
    "psm_df = reader.import_file(StringIO(tsv_str))\n",
    "for col in ['sequence','charge','rt','rt_norm','mods','mod_sites','nAA','frag_start_idx','frag_stop_idx']:\n",
    "    assert col in psm_df.columns\n",
    "assert 'raw_name' in psm_df.columns\n",
    "psm_df"
   ]
  },
  {
   "cell_type": "code",
   "execution_count": null,
   "metadata": {},
   "outputs": [],
   "source": [
    "reader.fragment_intensity_df"
   ]
  },
  {
   "cell_type": "code",
   "execution_count": null,
   "metadata": {},
   "outputs": [],
   "source": [
    "#| hide\n",
    "reader.fragment_mz_df"
   ]
  },
  {
   "cell_type": "code",
   "execution_count": null,
   "metadata": {},
   "outputs": [],
   "source": [
    "#| hide\n",
    "# noloss = '' library\n",
    "tsv_str = \"\"\"PrecursorMz\tProductMz\tAnnotation\tProteinId\tGeneName\tPeptideSequence\tModifiedPeptideSequence\tPrecursorCharge\tLibraryIntensity\tNormalizedRetentionTime\tPrecursorIonMobility\tFragmentType\tFragmentCharge\tFragmentSeriesNumber\tFragmentLossType\tAverageExperimentalRetentionTime\n",
    "300.150371\t144.605147\ty2^2\tP09651\tHNRNPA1\tEDTEEHHLR\t(UniMod:199)EDTEEHHLR\t4\t293.82037\t2.957367634819564\t\ty\t2\t2\t\t256.87189917542054\n",
    "300.150371\t175.118953\ty1^1\tP09651\tHNRNPA1\tEDTEEHHLR\t(UniMod:199)EDTEEHHLR\t4\t6975.805942\t2.957367634819564\t\ty\t1\t1\t\t256.87189917542054\n",
    "300.150371\t188.111798\ty4^3\tP09651\tHNRNPA1\tEDTEEHHLR\t(UniMod:199)EDTEEHHLR\t4\t699.9488765\t2.957367634819564\t\ty\t3\t4\t\t256.87189917542054\n",
    "300.150371\t213.13460299999997\ty3^2\tP09651\tHNRNPA1\tEDTEEHHLR\t(UniMod:199)EDTEEHHLR\t4\t3899.8066759999997\t2.957367634819564\t\ty\t2\t3\t\t256.87189917542054\n",
    "300.150371\t231.125996\ty5^3\tP09651\tHNRNPA1\tEDTEEHHLR\t(UniMod:199)EDTEEHHLR\t4\t557.755905\t2.957367634819564\t\ty\t3\t5\t\t256.87189917542054\n",
    "300.150371\t277.13322200000005\tb2^1\tP09651\tHNRNPA1\tEDTEEHHLR\t(UniMod:199)EDTEEHHLR\t4\t5213.9476395\t2.957367634819564\t\tb\t1\t2\t\t256.87189917542054\n",
    "300.150371\t281.664059\ty4^2\tP09651\tHNRNPA1\tEDTEEHHLR\t(UniMod:199)EDTEEHHLR\t4\t8268.719133999999\t2.957367634819564\t\ty\t2\t4\t\t256.87189917542054\n",
    "300.150371\t288.203017\ty2^1\tP09651\tHNRNPA1\tEDTEEHHLR\t(UniMod:199)EDTEEHHLR\t4\t7783.7707125\t2.957367634819564\t\ty\t1\t2\t\t256.87189917542054\n",
    "300.150371\t346.185356\ty5^2\tP09651\tHNRNPA1\tEDTEEHHLR\t(UniMod:199)EDTEEHHLR\t4\t892.8047019999998\t2.957367634819564\t\ty\t2\t5\t\t256.87189917542054\n",
    "300.150371\t378.180901\tb3^1\tP09651\tHNRNPA1\tEDTEEHHLR\t(UniMod:199)EDTEEHHLR\t4\t2861.0433905\t2.957367634819564\t\tb\t1\t3\t\t256.87189917542054\n",
    "300.150371\t410.70665299999996\ty6^2\tP09651\tHNRNPA1\tEDTEEHHLR\t(UniMod:199)EDTEEHHLR\t4\t1104.4970805\t2.957367634819564\t\ty\t2\t6\t\t256.87189917542054\n",
    "300.150371\t425.261929\ty3^1\tP09651\tHNRNPA1\tEDTEEHHLR\t(UniMod:199)EDTEEHHLR\t4\t10000.0\t2.957367634819564\t\ty\t1\t3\t\t256.87189917542054\n",
    "300.150371\t461.23049299999997\ty7^2\tP09651\tHNRNPA1\tEDTEEHHLR\t(UniMod:199)EDTEEHHLR\t4\t658.40723\t2.957367634819564\t\ty\t2\t7\t\t256.87189917542054\n",
    "300.150371\t507.223495\tb4^1\tP09651\tHNRNPA1\tEDTEEHHLR\t(UniMod:199)EDTEEHHLR\t4\t544.8236215\t2.957367634819564\t\tb\t1\t4\t\t256.87189917542054\n",
    "300.150371\t562.320842\ty4^1\tP09651\tHNRNPA1\tEDTEEHHLR\t(UniMod:199)EDTEEHHLR\t4\t758.6205095\t2.957367634819564\t\ty\t1\t4\t\t256.87189917542054\n",
    "300.150371\t691.363436\ty5^1\tP09651\tHNRNPA1\tEDTEEHHLR\t(UniMod:199)EDTEEHHLR\t4\t386.09158199999996\t2.957367634819564\t\ty\t1\t5\t\t256.87189917542054\n",
    "300.851044\t175.118953\ty1^1\tP14618\tPKM\tMQHLIAR\t(UniMod:199)MQHLIAR\t3\t6232.253602000001\t10.90490543435342\t\ty\t1\t1\t\t396.233918513634\n",
    "300.851044\t180.123704\ty3^2\tP14618\tPKM\tMQHLIAR\t(UniMod:199)MQHLIAR\t3\t187.126964\t10.90490543435342\t\ty\t2\t3\t\t396.233918513634\n",
    "300.851044\t215.11446800000002\tb3^2\tP14618\tPKM\tMQHLIAR\t(UniMod:199)MQHLIAR\t3\t1356.0843869999999\t10.90490543435342\t\tb\t2\t3\t\t396.233918513634\n",
    "300.851044\t236.66573599999998\ty4^2\tP14618\tPKM\tMQHLIAR\t(UniMod:199)MQHLIAR\t3\t310.81490499999995\t10.90490543435342\t\ty\t2\t4\t\t396.233918513634\n",
    "300.851044\t246.15606699999998\ty2^1\tP14618\tPKM\tMQHLIAR\t(UniMod:199)MQHLIAR\t3\t8887.643795\t10.90490543435342\t\ty\t1\t2\t\t396.233918513634\n",
    "\"\"\""
   ]
  },
  {
   "cell_type": "code",
   "execution_count": null,
   "metadata": {},
   "outputs": [],
   "source": [
    "df = pd.read_csv(StringIO(tsv_str), sep='\\t')"
   ]
  },
  {
   "cell_type": "code",
   "execution_count": null,
   "metadata": {},
   "outputs": [],
   "source": [
    "#| hide\n",
    "reader = LibraryReaderBase()\n",
    "reader.import_file(StringIO(tsv_str))\n",
    "#reader.fragment_intensity_df"
   ]
  },
  {
   "cell_type": "code",
   "execution_count": null,
   "metadata": {},
   "outputs": [],
   "source": []
  }
 ],
 "metadata": {
  "kernelspec": {
   "display_name": "Python 3 (ipykernel)",
   "language": "python",
   "name": "pythonjvsc74a57bd0bfa83213b3107409f6f749b3f3e6e3a0c51921f6998a582a53d8fef6c3fba7c5"
  },
  "language_info": {
   "codemirror_mode": {
    "name": "ipython",
    "version": 3
   },
   "file_extension": ".py",
   "mimetype": "text/x-python",
   "name": "python",
   "nbconvert_exporter": "python",
   "pygments_lexer": "ipython3",
   "version": "3.9.13"
  },
  "vscode": {
   "interpreter": {
    "hash": "bfa83213b3107409f6f749b3f3e6e3a0c51921f6998a582a53d8fef6c3fba7c5"
   }
  }
 },
 "nbformat": 4,
 "nbformat_minor": 2
}
