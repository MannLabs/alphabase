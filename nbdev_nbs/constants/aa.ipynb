{
 "cells": [
  {
   "cell_type": "code",
   "execution_count": null,
   "metadata": {},
   "outputs": [],
   "source": [
    "#default_exp constants.aa"
   ]
  },
  {
   "cell_type": "code",
   "execution_count": null,
   "metadata": {},
   "outputs": [],
   "source": [
    "#hide\n",
    "__file__ = '../../alphabase/constants/aa.py'"
   ]
  },
  {
   "cell_type": "code",
   "execution_count": null,
   "metadata": {},
   "outputs": [],
   "source": [
    "#export\n",
    " \n",
    "import os\n",
    "import pandas as pd\n",
    "import numpy as np\n",
    "from typing import Union, Tuple\n",
    "from alphabase.yaml_utils import load_yaml\n",
    "\n",
    "from alphabase.constants.element import calc_formula_mass\n",
    "from alphabase.constants.element import MASS_H2O\n",
    "\n",
    "AA_CHEM = load_yaml(\n",
    "    os.path.join(os.path.dirname(__file__),\n",
    "    'amino_acid.yaml')\n",
    ")\n",
    "\n",
    "def reset_AA_mass():\n",
    "    AA_ASCII_MASS = np.zeros(128)\n",
    "    for aa, chem in AA_CHEM.items():\n",
    "        AA_ASCII_MASS[ord(aa)] = calc_formula_mass(chem)\n",
    "    return AA_ASCII_MASS\n",
    "    \n",
    "AA_ASCII_MASS = reset_AA_mass()\n",
    "\n",
    "def ret_set_AA_df():\n",
    "    AA_DF = pd.DataFrame()\n",
    "    AA_DF['aa'] = [chr(aa) for aa in range(len(AA_ASCII_MASS))]\n",
    "    AA_DF['formula'] = ['']*len(AA_ASCII_MASS)\n",
    "    aa_idxes = []\n",
    "    formulas = []\n",
    "    for aa, formula in AA_CHEM.items():\n",
    "        aa_idxes.append(ord(aa))\n",
    "        formulas.append(formula)\n",
    "    AA_DF.loc[aa_idxes, 'formula'] = formulas\n",
    "    AA_DF['mass'] = AA_ASCII_MASS\n",
    "    return AA_DF\n",
    "AA_DF = ret_set_AA_df()\n"
   ]
  },
  {
   "cell_type": "code",
   "execution_count": null,
   "metadata": {},
   "outputs": [
    {
     "data": {
      "text/html": [
       "<div>\n",
       "<style scoped>\n",
       "    .dataframe tbody tr th:only-of-type {\n",
       "        vertical-align: middle;\n",
       "    }\n",
       "\n",
       "    .dataframe tbody tr th {\n",
       "        vertical-align: top;\n",
       "    }\n",
       "\n",
       "    .dataframe thead th {\n",
       "        text-align: right;\n",
       "    }\n",
       "</style>\n",
       "<table border=\"1\" class=\"dataframe\">\n",
       "  <thead>\n",
       "    <tr style=\"text-align: right;\">\n",
       "      <th></th>\n",
       "      <th>aa</th>\n",
       "      <th>formula</th>\n",
       "      <th>mass</th>\n",
       "    </tr>\n",
       "  </thead>\n",
       "  <tbody>\n",
       "    <tr>\n",
       "      <th>65</th>\n",
       "      <td>A</td>\n",
       "      <td>C(3)H(5)N(1)O(1)S(0)</td>\n",
       "      <td>71.037110</td>\n",
       "    </tr>\n",
       "    <tr>\n",
       "      <th>66</th>\n",
       "      <td>B</td>\n",
       "      <td>C(0)</td>\n",
       "      <td>0.000000</td>\n",
       "    </tr>\n",
       "    <tr>\n",
       "      <th>67</th>\n",
       "      <td>C</td>\n",
       "      <td>C(3)H(5)N(1)O(1)S(1)</td>\n",
       "      <td>103.009180</td>\n",
       "    </tr>\n",
       "    <tr>\n",
       "      <th>68</th>\n",
       "      <td>D</td>\n",
       "      <td>C(4)H(5)N(1)O(3)S(0)</td>\n",
       "      <td>115.026938</td>\n",
       "    </tr>\n",
       "    <tr>\n",
       "      <th>69</th>\n",
       "      <td>E</td>\n",
       "      <td>C(5)H(7)N(1)O(3)S(0)</td>\n",
       "      <td>129.042588</td>\n",
       "    </tr>\n",
       "    <tr>\n",
       "      <th>70</th>\n",
       "      <td>F</td>\n",
       "      <td>C(9)H(9)N(1)O(1)S(0)</td>\n",
       "      <td>147.068409</td>\n",
       "    </tr>\n",
       "    <tr>\n",
       "      <th>71</th>\n",
       "      <td>G</td>\n",
       "      <td>C(2)H(3)N(1)O(1)S(0)</td>\n",
       "      <td>57.021461</td>\n",
       "    </tr>\n",
       "    <tr>\n",
       "      <th>72</th>\n",
       "      <td>H</td>\n",
       "      <td>C(6)H(7)N(3)O(1)S(0)</td>\n",
       "      <td>137.058906</td>\n",
       "    </tr>\n",
       "    <tr>\n",
       "      <th>73</th>\n",
       "      <td>I</td>\n",
       "      <td>C(6)H(11)N(1)O(1)S(0)</td>\n",
       "      <td>113.084058</td>\n",
       "    </tr>\n",
       "    <tr>\n",
       "      <th>74</th>\n",
       "      <td>J</td>\n",
       "      <td>C(4)H(6)N(2)O(2)S(0)</td>\n",
       "      <td>114.042922</td>\n",
       "    </tr>\n",
       "    <tr>\n",
       "      <th>75</th>\n",
       "      <td>K</td>\n",
       "      <td>C(6)H(12)N(2)O(1)S(0)</td>\n",
       "      <td>128.094956</td>\n",
       "    </tr>\n",
       "    <tr>\n",
       "      <th>76</th>\n",
       "      <td>L</td>\n",
       "      <td>C(6)H(11)N(1)O(1)S(0)</td>\n",
       "      <td>113.084058</td>\n",
       "    </tr>\n",
       "    <tr>\n",
       "      <th>77</th>\n",
       "      <td>M</td>\n",
       "      <td>C(5)H(9)N(1)O(1)S(1)</td>\n",
       "      <td>131.040479</td>\n",
       "    </tr>\n",
       "    <tr>\n",
       "      <th>78</th>\n",
       "      <td>N</td>\n",
       "      <td>C(4)H(6)N(2)O(2)S(0)</td>\n",
       "      <td>114.042922</td>\n",
       "    </tr>\n",
       "    <tr>\n",
       "      <th>79</th>\n",
       "      <td>O</td>\n",
       "      <td>C(0)</td>\n",
       "      <td>0.000000</td>\n",
       "    </tr>\n",
       "    <tr>\n",
       "      <th>80</th>\n",
       "      <td>P</td>\n",
       "      <td>C(5)H(7)N(1)O(1)S(0)</td>\n",
       "      <td>97.052760</td>\n",
       "    </tr>\n",
       "    <tr>\n",
       "      <th>81</th>\n",
       "      <td>Q</td>\n",
       "      <td>C(5)H(8)N(2)O(2)S(0)</td>\n",
       "      <td>128.058571</td>\n",
       "    </tr>\n",
       "    <tr>\n",
       "      <th>82</th>\n",
       "      <td>R</td>\n",
       "      <td>C(6)H(12)N(4)O(1)S(0)</td>\n",
       "      <td>156.101102</td>\n",
       "    </tr>\n",
       "    <tr>\n",
       "      <th>83</th>\n",
       "      <td>S</td>\n",
       "      <td>C(3)H(5)N(1)O(2)S(0)</td>\n",
       "      <td>87.032024</td>\n",
       "    </tr>\n",
       "    <tr>\n",
       "      <th>84</th>\n",
       "      <td>T</td>\n",
       "      <td>C(4)H(7)N(1)O(2)S(0)</td>\n",
       "      <td>101.047674</td>\n",
       "    </tr>\n",
       "    <tr>\n",
       "      <th>85</th>\n",
       "      <td>U</td>\n",
       "      <td>C(0)</td>\n",
       "      <td>0.000000</td>\n",
       "    </tr>\n",
       "    <tr>\n",
       "      <th>86</th>\n",
       "      <td>V</td>\n",
       "      <td>C(5)H(9)N(1)O(1)S(0)</td>\n",
       "      <td>99.068409</td>\n",
       "    </tr>\n",
       "    <tr>\n",
       "      <th>87</th>\n",
       "      <td>W</td>\n",
       "      <td>C(11)H(10)N(2)O(1)S(0)</td>\n",
       "      <td>186.079307</td>\n",
       "    </tr>\n",
       "    <tr>\n",
       "      <th>88</th>\n",
       "      <td>X</td>\n",
       "      <td>C(6)H(11)N(1)O(1)S(0)</td>\n",
       "      <td>113.084058</td>\n",
       "    </tr>\n",
       "    <tr>\n",
       "      <th>89</th>\n",
       "      <td>Y</td>\n",
       "      <td>C(9)H(9)N(1)O(2)S(0)</td>\n",
       "      <td>163.063323</td>\n",
       "    </tr>\n",
       "    <tr>\n",
       "      <th>90</th>\n",
       "      <td>Z</td>\n",
       "      <td>C(0)</td>\n",
       "      <td>0.000000</td>\n",
       "    </tr>\n",
       "  </tbody>\n",
       "</table>\n",
       "</div>"
      ],
      "text/plain": [
       "   aa                 formula        mass\n",
       "65  A    C(3)H(5)N(1)O(1)S(0)   71.037110\n",
       "66  B                    C(0)    0.000000\n",
       "67  C    C(3)H(5)N(1)O(1)S(1)  103.009180\n",
       "68  D    C(4)H(5)N(1)O(3)S(0)  115.026938\n",
       "69  E    C(5)H(7)N(1)O(3)S(0)  129.042588\n",
       "70  F    C(9)H(9)N(1)O(1)S(0)  147.068409\n",
       "71  G    C(2)H(3)N(1)O(1)S(0)   57.021461\n",
       "72  H    C(6)H(7)N(3)O(1)S(0)  137.058906\n",
       "73  I   C(6)H(11)N(1)O(1)S(0)  113.084058\n",
       "74  J    C(4)H(6)N(2)O(2)S(0)  114.042922\n",
       "75  K   C(6)H(12)N(2)O(1)S(0)  128.094956\n",
       "76  L   C(6)H(11)N(1)O(1)S(0)  113.084058\n",
       "77  M    C(5)H(9)N(1)O(1)S(1)  131.040479\n",
       "78  N    C(4)H(6)N(2)O(2)S(0)  114.042922\n",
       "79  O                    C(0)    0.000000\n",
       "80  P    C(5)H(7)N(1)O(1)S(0)   97.052760\n",
       "81  Q    C(5)H(8)N(2)O(2)S(0)  128.058571\n",
       "82  R   C(6)H(12)N(4)O(1)S(0)  156.101102\n",
       "83  S    C(3)H(5)N(1)O(2)S(0)   87.032024\n",
       "84  T    C(4)H(7)N(1)O(2)S(0)  101.047674\n",
       "85  U                    C(0)    0.000000\n",
       "86  V    C(5)H(9)N(1)O(1)S(0)   99.068409\n",
       "87  W  C(11)H(10)N(2)O(1)S(0)  186.079307\n",
       "88  X   C(6)H(11)N(1)O(1)S(0)  113.084058\n",
       "89  Y    C(9)H(9)N(1)O(2)S(0)  163.063323\n",
       "90  Z                    C(0)    0.000000"
      ]
     },
     "execution_count": null,
     "metadata": {},
     "output_type": "execute_result"
    }
   ],
   "source": [
    "AA_DF.loc[ord('A'):ord('Z'),:]"
   ]
  },
  {
   "cell_type": "markdown",
   "metadata": {},
   "source": [
    "### `get_sequence_mass` can easily get the mass list of each amino acid. \n",
    "The key is: `np.array(sequence, 'c').view(np.int8)` converts a string into an ASCII code array"
   ]
  },
  {
   "cell_type": "code",
   "execution_count": null,
   "metadata": {},
   "outputs": [],
   "source": [
    "#export\n",
    "def get_sequence_mass(\n",
    "    sequence: str\n",
    ")->np.array:\n",
    "    '''\n",
    "    Args:\n",
    "        sequence (str): unmodified peptide sequence\n",
    "    Returns:\n",
    "        np.array: masses of each amino acid.\n",
    "    '''\n",
    "    return AA_ASCII_MASS[np.array(sequence,'c').view(np.int8)]"
   ]
  },
  {
   "cell_type": "code",
   "execution_count": null,
   "metadata": {},
   "outputs": [],
   "source": [
    "#export\n",
    "def get_same_len_sequences_mass(\n",
    "    sequence_array: np.array\n",
    ")->np.array:\n",
    "    '''\n",
    "    Args:\n",
    "        sequence_array (np.array): unmodified sequences with the same length.\n",
    "    Returns:\n",
    "        np.array: 2-D (array_size, sequence_len) array of masses.\n",
    "    Raise:\n",
    "        ValueError: if sequences are not with the same length.\n",
    "    '''\n",
    "    return AA_ASCII_MASS[\n",
    "        np.array(sequence_array).view(np.int32)\n",
    "    ].reshape(-1, len(sequence_array[0]))"
   ]
  },
  {
   "cell_type": "markdown",
   "metadata": {},
   "source": [
    "### For a single sequence"
   ]
  },
  {
   "cell_type": "code",
   "execution_count": null,
   "metadata": {},
   "outputs": [
    {
     "data": {
      "text/plain": [
       "array([ 71.0371103, 103.0091803, 115.0269385, 129.0425877, 147.0684087,\n",
       "        57.0214611, 114.0429222, 163.0633228, 128.0949557])"
      ]
     },
     "execution_count": null,
     "metadata": {},
     "output_type": "execute_result"
    }
   ],
   "source": [
    "get_sequence_mass('ACDEFGNYK')"
   ]
  },
  {
   "cell_type": "markdown",
   "metadata": {},
   "source": [
    "### For sequences with the same length"
   ]
  },
  {
   "cell_type": "code",
   "execution_count": null,
   "metadata": {},
   "outputs": [
    {
     "data": {
      "text/plain": [
       "array([[ 71.0371103, 103.0091803, 115.0269385, 129.0425877, 147.0684087,\n",
       "         57.0214611, 137.0589059, 113.0840579, 128.0949557],\n",
       "       [  0.       , 103.0091803, 115.0269385, 129.0425877, 147.0684087,\n",
       "         57.0214611, 137.0589059, 113.0840579, 128.0949557],\n",
       "       [103.0091803, 103.0091803, 115.0269385, 129.0425877, 147.0684087,\n",
       "         57.0214611, 137.0589059, 113.0840579, 128.0949557]])"
      ]
     },
     "execution_count": null,
     "metadata": {},
     "output_type": "execute_result"
    }
   ],
   "source": [
    "get_same_len_sequences_mass(np.array(['ACDEFGHIK','BCDEFGHIK','CCDEFGHIK']))"
   ]
  },
  {
   "cell_type": "markdown",
   "metadata": {},
   "source": [
    "### It is very easy to generate b/y ions from a sequence or a list of sequences with same length"
   ]
  },
  {
   "cell_type": "code",
   "execution_count": null,
   "metadata": {},
   "outputs": [
    {
     "data": {
      "text/plain": [
       "{'pepmass': array([[1018.4541694],\n",
       "        [ 947.4170591],\n",
       "        [1050.4262394]]),\n",
       " 'b masses': array([[ 71.0371103, 174.0462906, 289.0732291, 418.1158168, 565.1842255,\n",
       "         622.2056866, 759.2645925, 872.3486504],\n",
       "        [  0.       , 103.0091803, 218.0361188, 347.0787065, 494.1471152,\n",
       "         551.1685763, 688.2274822, 801.3115401],\n",
       "        [103.0091803, 206.0183606, 321.0452991, 450.0878868, 597.1562955,\n",
       "         654.1777566, 791.2366625, 904.3207204]]),\n",
       " 'y masses': array([[947.4170591, 844.4078788, 729.3809403, 600.3383526, 453.2699439,\n",
       "         396.2484828, 259.1895769, 146.105519 ],\n",
       "        [947.4170591, 844.4078788, 729.3809403, 600.3383526, 453.2699439,\n",
       "         396.2484828, 259.1895769, 146.105519 ],\n",
       "        [947.4170591, 844.4078788, 729.3809403, 600.3383526, 453.2699439,\n",
       "         396.2484828, 259.1895769, 146.105519 ]])}"
      ]
     },
     "execution_count": null,
     "metadata": {},
     "output_type": "execute_result"
    }
   ],
   "source": [
    "aa_masses = get_same_len_sequences_mass(['ACDEFGHIK','BCDEFGHIK','CCDEFGHIK'])\n",
    "b_masses = np.cumsum(aa_masses, axis=1)\n",
    "b_masses, pepmass = b_masses[:,:-1], b_masses[:,-1:]\n",
    "pepmass += MASS_H2O\n",
    "{'pepmass':pepmass, 'b masses':b_masses, 'y masses':pepmass-b_masses}"
   ]
  },
  {
   "cell_type": "code",
   "execution_count": null,
   "metadata": {},
   "outputs": [],
   "source": [
    "#export\n",
    "def get_sequence_array_mass(\n",
    "    sequence_array: np.array\n",
    ")->Tuple[np.array, np.array]:\n",
    "    '''\n",
    "    We recommend to use `get_same_len_sequences_mass` as it is much faster.\n",
    "    Args:\n",
    "        sequence_array (np.array): sequences with arbitrary lengths.\n",
    "    Returns:\n",
    "        np.array: 1D array of masses.\n",
    "        np.array: 1D array of offsets. \n",
    "          Owning to arbitrary lengths, we need an offsets array for slicing\n",
    "    '''\n",
    "    masses = AA_ASCII_MASS[\n",
    "        np.array(sequence_array).view(np.int32)\n",
    "    ].reshape(-1)\n",
    "    masses = masses[masses!=0]\n",
    "    offsets = np.zeros(len(sequence_array)+1)\n",
    "    offsets[1:] = [len(seq) for seq in sequence_array]\n",
    "    return masses, np.cumsum(offsets)"
   ]
  },
  {
   "cell_type": "code",
   "execution_count": null,
   "metadata": {},
   "outputs": [
    {
     "data": {
      "text/plain": [
       "(array([103.0091803, 103.0091803,  71.0371103, 103.0091803, 115.0269385,\n",
       "        129.0425877, 147.0684087,  57.0214611, 137.0589059, 113.0840579,\n",
       "        128.0949557,  71.0371103,  71.0371103,  71.0371103,  57.0214611,\n",
       "        103.0091803, 115.0269385, 129.0425877, 147.0684087,  57.0214611,\n",
       "        137.0589059, 113.0840579, 128.0949557, 115.0269385, 115.0269385,\n",
       "        115.0269385, 115.0269385, 103.0091803, 103.0091803, 115.0269385,\n",
       "        129.0425877, 147.0684087,  57.0214611, 137.0589059, 113.0840579,\n",
       "        128.0949557]),\n",
       " array([ 0., 11., 23., 36.]))"
      ]
     },
     "execution_count": null,
     "metadata": {},
     "output_type": "execute_result"
    }
   ],
   "source": [
    "masses, offsets = get_sequence_array_mass(['CCACDEFGHIK','AAAGCDEFGHIK','DDDDCCDEFGHIK'])\n",
    "masses, offsets"
   ]
  }
 ],
 "metadata": {
  "kernelspec": {
   "display_name": "Python 3.8.3 64-bit ('base': conda)",
   "name": "python3"
  }
 },
 "nbformat": 4,
 "nbformat_minor": 2
}
