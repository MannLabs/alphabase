{
 "cells": [
  {
   "cell_type": "code",
   "execution_count": null,
   "metadata": {},
   "outputs": [],
   "source": [
    "#default_exp constants.aa"
   ]
  },
  {
   "cell_type": "code",
   "execution_count": null,
   "metadata": {},
   "outputs": [],
   "source": [
    "#hide\n",
    "import alphabase.constants.aa\n",
    "__file__ = alphabase.constants.aa.__file__"
   ]
  },
  {
   "cell_type": "markdown",
   "metadata": {},
   "source": [
    "# Amino Acid in the AlphaX Ecosystem\n",
    "\n",
    "All amino acids are stored as the chemical formulas in `alphabase/constants/amino_acid.yaml`. We load the yaml file into `AA_CHEM` dict."
   ]
  },
  {
   "cell_type": "code",
   "execution_count": null,
   "metadata": {},
   "outputs": [],
   "source": [
    "#export\n",
    " \n",
    "import os\n",
    "import pandas as pd\n",
    "import numpy as np\n",
    "from typing import Union, Tuple\n",
    "from alphabase.yaml_utils import load_yaml\n",
    "\n",
    "from alphabase.constants.element import calc_mass_from_formula\n",
    "from alphabase.constants.element import MASS_H2O\n",
    "\n",
    "AA_CHEM = load_yaml(\n",
    "    os.path.join(os.path.dirname(__file__),\n",
    "    'amino_acid.yaml')\n",
    ")"
   ]
  },
  {
   "cell_type": "markdown",
   "metadata": {},
   "source": [
    "We use all 128 ASCII code to represent amino acids for flexible extensions in the future.\n",
    "\n",
    "The amino acid masses are stored in 128-lengh array `AA_ASCII_MASS`. If an ASCII code is not in `AA_CHEM`, the mass will be `1e8` to disable it for MS search.\n",
    "\n",
    "We also provide a AA table (`AA_DF` dataframe) for users."
   ]
  },
  {
   "cell_type": "code",
   "execution_count": null,
   "metadata": {},
   "outputs": [],
   "source": [
    "#export\n",
    "\n",
    "def reset_AA_mass():\n",
    "    AA_ASCII_MASS = np.ones(128)*1e8\n",
    "    for aa, chem in AA_CHEM.items():\n",
    "        AA_ASCII_MASS[ord(aa)] = calc_mass_from_formula(chem)\n",
    "    return AA_ASCII_MASS\n",
    "    \n",
    "AA_ASCII_MASS = reset_AA_mass()\n",
    "\n",
    "def ret_set_AA_df():\n",
    "    AA_DF = pd.DataFrame()\n",
    "    AA_DF['aa'] = [chr(aa) for aa in range(len(AA_ASCII_MASS))]\n",
    "    AA_DF['formula'] = ['']*len(AA_ASCII_MASS)\n",
    "    aa_idxes = []\n",
    "    formulas = []\n",
    "    for aa, formula in AA_CHEM.items():\n",
    "        aa_idxes.append(ord(aa))\n",
    "        formulas.append(formula)\n",
    "    AA_DF.loc[aa_idxes, 'formula'] = formulas\n",
    "    AA_DF['mass'] = AA_ASCII_MASS\n",
    "    return AA_DF\n",
    "AA_DF = ret_set_AA_df()\n"
   ]
  },
  {
   "cell_type": "code",
   "execution_count": null,
   "metadata": {},
   "outputs": [
    {
     "data": {
      "text/html": [
       "<div>\n",
       "<style scoped>\n",
       "    .dataframe tbody tr th:only-of-type {\n",
       "        vertical-align: middle;\n",
       "    }\n",
       "\n",
       "    .dataframe tbody tr th {\n",
       "        vertical-align: top;\n",
       "    }\n",
       "\n",
       "    .dataframe thead th {\n",
       "        text-align: right;\n",
       "    }\n",
       "</style>\n",
       "<table border=\"1\" class=\"dataframe\">\n",
       "  <thead>\n",
       "    <tr style=\"text-align: right;\">\n",
       "      <th></th>\n",
       "      <th>aa</th>\n",
       "      <th>formula</th>\n",
       "      <th>mass</th>\n",
       "    </tr>\n",
       "  </thead>\n",
       "  <tbody>\n",
       "    <tr>\n",
       "      <th>65</th>\n",
       "      <td>A</td>\n",
       "      <td>C(3)H(5)N(1)O(1)S(0)</td>\n",
       "      <td>71.037114</td>\n",
       "    </tr>\n",
       "    <tr>\n",
       "      <th>66</th>\n",
       "      <td>B</td>\n",
       "      <td>C(10000)</td>\n",
       "      <td>120000.000000</td>\n",
       "    </tr>\n",
       "    <tr>\n",
       "      <th>67</th>\n",
       "      <td>C</td>\n",
       "      <td>C(3)H(5)N(1)O(1)S(1)</td>\n",
       "      <td>103.009185</td>\n",
       "    </tr>\n",
       "    <tr>\n",
       "      <th>68</th>\n",
       "      <td>D</td>\n",
       "      <td>C(4)H(5)N(1)O(3)S(0)</td>\n",
       "      <td>115.026943</td>\n",
       "    </tr>\n",
       "    <tr>\n",
       "      <th>69</th>\n",
       "      <td>E</td>\n",
       "      <td>C(5)H(7)N(1)O(3)S(0)</td>\n",
       "      <td>129.042593</td>\n",
       "    </tr>\n",
       "    <tr>\n",
       "      <th>70</th>\n",
       "      <td>F</td>\n",
       "      <td>C(9)H(9)N(1)O(1)S(0)</td>\n",
       "      <td>147.068414</td>\n",
       "    </tr>\n",
       "    <tr>\n",
       "      <th>71</th>\n",
       "      <td>G</td>\n",
       "      <td>C(2)H(3)N(1)O(1)S(0)</td>\n",
       "      <td>57.021464</td>\n",
       "    </tr>\n",
       "    <tr>\n",
       "      <th>72</th>\n",
       "      <td>H</td>\n",
       "      <td>C(6)H(7)N(3)O(1)S(0)</td>\n",
       "      <td>137.058912</td>\n",
       "    </tr>\n",
       "    <tr>\n",
       "      <th>73</th>\n",
       "      <td>I</td>\n",
       "      <td>C(6)H(11)N(1)O(1)S(0)</td>\n",
       "      <td>113.084064</td>\n",
       "    </tr>\n",
       "    <tr>\n",
       "      <th>74</th>\n",
       "      <td>J</td>\n",
       "      <td>C(6)H(11)N(1)O(1)S(0)</td>\n",
       "      <td>113.084064</td>\n",
       "    </tr>\n",
       "    <tr>\n",
       "      <th>75</th>\n",
       "      <td>K</td>\n",
       "      <td>C(6)H(12)N(2)O(1)S(0)</td>\n",
       "      <td>128.094963</td>\n",
       "    </tr>\n",
       "    <tr>\n",
       "      <th>76</th>\n",
       "      <td>L</td>\n",
       "      <td>C(6)H(11)N(1)O(1)S(0)</td>\n",
       "      <td>113.084064</td>\n",
       "    </tr>\n",
       "    <tr>\n",
       "      <th>77</th>\n",
       "      <td>M</td>\n",
       "      <td>C(5)H(9)N(1)O(1)S(1)</td>\n",
       "      <td>131.040485</td>\n",
       "    </tr>\n",
       "    <tr>\n",
       "      <th>78</th>\n",
       "      <td>N</td>\n",
       "      <td>C(4)H(6)N(2)O(2)S(0)</td>\n",
       "      <td>114.042927</td>\n",
       "    </tr>\n",
       "    <tr>\n",
       "      <th>79</th>\n",
       "      <td>O</td>\n",
       "      <td>C(12)H(19)N(3)O(2)</td>\n",
       "      <td>237.147727</td>\n",
       "    </tr>\n",
       "    <tr>\n",
       "      <th>80</th>\n",
       "      <td>P</td>\n",
       "      <td>C(5)H(7)N(1)O(1)S(0)</td>\n",
       "      <td>97.052764</td>\n",
       "    </tr>\n",
       "    <tr>\n",
       "      <th>81</th>\n",
       "      <td>Q</td>\n",
       "      <td>C(5)H(8)N(2)O(2)S(0)</td>\n",
       "      <td>128.058578</td>\n",
       "    </tr>\n",
       "    <tr>\n",
       "      <th>82</th>\n",
       "      <td>R</td>\n",
       "      <td>C(6)H(12)N(4)O(1)S(0)</td>\n",
       "      <td>156.101111</td>\n",
       "    </tr>\n",
       "    <tr>\n",
       "      <th>83</th>\n",
       "      <td>S</td>\n",
       "      <td>C(3)H(5)N(1)O(2)S(0)</td>\n",
       "      <td>87.032028</td>\n",
       "    </tr>\n",
       "    <tr>\n",
       "      <th>84</th>\n",
       "      <td>T</td>\n",
       "      <td>C(4)H(7)N(1)O(2)S(0)</td>\n",
       "      <td>101.047678</td>\n",
       "    </tr>\n",
       "    <tr>\n",
       "      <th>85</th>\n",
       "      <td>U</td>\n",
       "      <td>C(3)H(5)N(1)O(1)Se(1)</td>\n",
       "      <td>150.953636</td>\n",
       "    </tr>\n",
       "    <tr>\n",
       "      <th>86</th>\n",
       "      <td>V</td>\n",
       "      <td>C(5)H(9)N(1)O(1)S(0)</td>\n",
       "      <td>99.068414</td>\n",
       "    </tr>\n",
       "    <tr>\n",
       "      <th>87</th>\n",
       "      <td>W</td>\n",
       "      <td>C(11)H(10)N(2)O(1)S(0)</td>\n",
       "      <td>186.079313</td>\n",
       "    </tr>\n",
       "    <tr>\n",
       "      <th>88</th>\n",
       "      <td>X</td>\n",
       "      <td>C(10000)</td>\n",
       "      <td>120000.000000</td>\n",
       "    </tr>\n",
       "    <tr>\n",
       "      <th>89</th>\n",
       "      <td>Y</td>\n",
       "      <td>C(9)H(9)N(1)O(2)S(0)</td>\n",
       "      <td>163.063329</td>\n",
       "    </tr>\n",
       "    <tr>\n",
       "      <th>90</th>\n",
       "      <td>Z</td>\n",
       "      <td>C(10000)</td>\n",
       "      <td>120000.000000</td>\n",
       "    </tr>\n",
       "  </tbody>\n",
       "</table>\n",
       "</div>"
      ],
      "text/plain": [
       "   aa                 formula           mass\n",
       "65  A    C(3)H(5)N(1)O(1)S(0)      71.037114\n",
       "66  B                C(10000)  120000.000000\n",
       "67  C    C(3)H(5)N(1)O(1)S(1)     103.009185\n",
       "68  D    C(4)H(5)N(1)O(3)S(0)     115.026943\n",
       "69  E    C(5)H(7)N(1)O(3)S(0)     129.042593\n",
       "70  F    C(9)H(9)N(1)O(1)S(0)     147.068414\n",
       "71  G    C(2)H(3)N(1)O(1)S(0)      57.021464\n",
       "72  H    C(6)H(7)N(3)O(1)S(0)     137.058912\n",
       "73  I   C(6)H(11)N(1)O(1)S(0)     113.084064\n",
       "74  J   C(6)H(11)N(1)O(1)S(0)     113.084064\n",
       "75  K   C(6)H(12)N(2)O(1)S(0)     128.094963\n",
       "76  L   C(6)H(11)N(1)O(1)S(0)     113.084064\n",
       "77  M    C(5)H(9)N(1)O(1)S(1)     131.040485\n",
       "78  N    C(4)H(6)N(2)O(2)S(0)     114.042927\n",
       "79  O      C(12)H(19)N(3)O(2)     237.147727\n",
       "80  P    C(5)H(7)N(1)O(1)S(0)      97.052764\n",
       "81  Q    C(5)H(8)N(2)O(2)S(0)     128.058578\n",
       "82  R   C(6)H(12)N(4)O(1)S(0)     156.101111\n",
       "83  S    C(3)H(5)N(1)O(2)S(0)      87.032028\n",
       "84  T    C(4)H(7)N(1)O(2)S(0)     101.047678\n",
       "85  U   C(3)H(5)N(1)O(1)Se(1)     150.953636\n",
       "86  V    C(5)H(9)N(1)O(1)S(0)      99.068414\n",
       "87  W  C(11)H(10)N(2)O(1)S(0)     186.079313\n",
       "88  X                C(10000)  120000.000000\n",
       "89  Y    C(9)H(9)N(1)O(2)S(0)     163.063329\n",
       "90  Z                C(10000)  120000.000000"
      ]
     },
     "execution_count": null,
     "metadata": {},
     "output_type": "execute_result"
    }
   ],
   "source": [
    "AA_DF.loc[ord('A'):ord('Z'),:]"
   ]
  },
  {
   "cell_type": "markdown",
   "metadata": {},
   "source": [
    "### `calc_sequence_mass` can easily get the mass list of each amino acid. \n",
    "The key is: `np.array(sequence, 'c').view(np.int8)` converts a string into an ASCII code array\n",
    "\n",
    "Note that this function is rarely used in alphabase as it is not fast for a set of peptides."
   ]
  },
  {
   "cell_type": "code",
   "execution_count": null,
   "metadata": {},
   "outputs": [],
   "source": [
    "#export\n",
    "def calc_sequence_mass(\n",
    "    sequence: str\n",
    ")->np.array:\n",
    "    '''\n",
    "    Args:\n",
    "        sequence (str): unmodified peptide sequence\n",
    "    Returns:\n",
    "        np.array: masses of each amino acid.\n",
    "    '''\n",
    "    return AA_ASCII_MASS[np.array(sequence,'c').view(np.int8)]"
   ]
  },
  {
   "cell_type": "markdown",
   "metadata": {},
   "source": [
    "We provide `calc_AA_masses_for_same_len_seqs()` and `calc_sequence_masses_for_same_len_seqs()` functions to fast calculate masses for a given array of AA sequences with same length. They are fast because they both use `slicing` and `reshape` operation based on `AA_ASCII_MASS` array."
   ]
  },
  {
   "cell_type": "code",
   "execution_count": null,
   "metadata": {},
   "outputs": [],
   "source": [
    "#export\n",
    "def calc_AA_masses_for_same_len_seqs(\n",
    "    sequence_array: np.array\n",
    ")->np.array:\n",
    "    '''\n",
    "    Calculate AA masses for the array of same-len AA sequences.\n",
    "    Args:\n",
    "        sequence_array (np.array): unmodified sequences with the same length.\n",
    "    Returns:\n",
    "        np.array: 2-D (array_size, sequence_len) array of masses.\n",
    "    Raise:\n",
    "        ValueError: if sequences are not with the same length.\n",
    "    '''\n",
    "    return AA_ASCII_MASS[\n",
    "        # we use np.int32 here because unicode str \n",
    "        # uses 4 bytes for a char.\n",
    "        np.array(sequence_array).view(np.int32) \n",
    "    ].reshape(len(sequence_array), -1)\n",
    "\n",
    "def calc_sequence_masses_for_same_len_seqs(\n",
    "    sequence_array: np.array\n",
    ")->np.array:\n",
    "    '''\n",
    "    Calculate sequence masses for the array of same-len AA sequences.\n",
    "    Args:\n",
    "        sequence_array (np.array): unmodified sequences with the same length.\n",
    "    Returns:\n",
    "        np.array: 1-D (array_size, sequence_len) array of masses.\n",
    "    Raise:\n",
    "        ValueError: if sequences are not with the same length.\n",
    "    '''\n",
    "    return np.sum(\n",
    "        calc_AA_masses_for_same_len_seqs(sequence_array),\n",
    "        axis=1\n",
    "    )+MASS_H2O\n"
   ]
  },
  {
   "cell_type": "markdown",
   "metadata": {},
   "source": [
    "### For a single sequence"
   ]
  },
  {
   "cell_type": "code",
   "execution_count": null,
   "metadata": {},
   "outputs": [],
   "source": [
    "assert np.allclose(\n",
    "    calc_sequence_mass('ACDEFGNYK'),\n",
    "    [ 71.03711379, 103.00918496, 115.02694302, 129.04259309,\n",
    "       147.06841391,  57.02146372, 114.04292744, 163.06332853,\n",
    "       128.09496302 ]\n",
    ")"
   ]
  },
  {
   "cell_type": "markdown",
   "metadata": {},
   "source": [
    "### For sequences with the same length"
   ]
  },
  {
   "cell_type": "code",
   "execution_count": null,
   "metadata": {},
   "outputs": [],
   "source": [
    "assert np.allclose(\n",
    "    calc_AA_masses_for_same_len_seqs(\n",
    "        np.array(['ACDEFGHIK','BCDEFGHIK','CCDEFGHIK'])\n",
    "    ),\n",
    "    np.array([\n",
    "        [ 71.03711379, 103.00918496, 115.02694302, 129.04259309,\n",
    "            147.06841391,  57.02146372, 137.05891186, 113.08406398,\n",
    "            128.09496302],\n",
    "        [ 120000, 103.00918496, 115.02694302, 129.04259309,\n",
    "            147.06841391,  57.02146372, 137.05891186, 113.08406398,\n",
    "            128.09496302 ],\n",
    "        [ 103.00918496, 103.00918496, 115.02694302, 129.04259309,\n",
    "            147.06841391,  57.02146372, 137.05891186, 113.08406398,\n",
    "            128.09496302 ]\n",
    "    ])\n",
    ")"
   ]
  },
  {
   "cell_type": "code",
   "execution_count": null,
   "metadata": {},
   "outputs": [],
   "source": [
    "assert np.allclose(\n",
    "    calc_sequence_masses_for_same_len_seqs(np.array(['ACDEFGHIK','BCDEFGHIK','CCDEFGHIK'])),\n",
    "    [  1018.45421603, 120947.41710224,   1050.4262872 ]\n",
    ")"
   ]
  },
  {
   "cell_type": "markdown",
   "metadata": {},
   "source": [
    "### It is very easy to generate b/y ions from a sequence or a list of sequences with same length"
   ]
  },
  {
   "cell_type": "code",
   "execution_count": null,
   "metadata": {},
   "outputs": [
    {
     "data": {
      "text/plain": [
       "{'pepmass': array([[  1018.45421603],\n",
       "        [120947.41710224],\n",
       "        [  1050.4262872 ]]),\n",
       " 'b masses': array([[7.10371138e+01, 1.74046299e+02, 2.89073242e+02, 4.18115835e+02,\n",
       "         5.65184249e+02, 6.22205712e+02, 7.59264624e+02, 8.72348688e+02],\n",
       "        [1.20000000e+05, 1.20103009e+05, 1.20218036e+05, 1.20347079e+05,\n",
       "         1.20494147e+05, 1.20551169e+05, 1.20688228e+05, 1.20801312e+05],\n",
       "        [1.03009185e+02, 2.06018370e+02, 3.21045313e+02, 4.50087906e+02,\n",
       "         5.97156320e+02, 6.54177784e+02, 7.91236696e+02, 9.04320760e+02]]),\n",
       " 'y masses': array([[947.41710224, 844.40791728, 729.38097426, 600.33838117,\n",
       "         453.26996726, 396.24850354, 259.18959168, 146.1055277 ],\n",
       "        [947.41710224, 844.40791728, 729.38097426, 600.33838117,\n",
       "         453.26996726, 396.24850354, 259.18959168, 146.1055277 ],\n",
       "        [947.41710224, 844.40791728, 729.38097426, 600.33838117,\n",
       "         453.26996726, 396.24850354, 259.18959168, 146.1055277 ]])}"
      ]
     },
     "execution_count": null,
     "metadata": {},
     "output_type": "execute_result"
    }
   ],
   "source": [
    "aa_masses = calc_AA_masses_for_same_len_seqs(['ACDEFGHIK','BCDEFGHIK','CCDEFGHIK'])\n",
    "b_masses = np.cumsum(aa_masses, axis=1)\n",
    "b_masses, pepmass = b_masses[:,:-1], b_masses[:,-1:]\n",
    "pepmass += MASS_H2O\n",
    "{'pepmass':pepmass, 'b masses':b_masses, 'y masses':pepmass-b_masses}"
   ]
  },
  {
   "cell_type": "markdown",
   "metadata": {},
   "source": [
    "`calc_AA_masses_for_var_len_seqs` is rarely used in alphabase."
   ]
  },
  {
   "cell_type": "code",
   "execution_count": null,
   "metadata": {},
   "outputs": [],
   "source": [
    "#export\n",
    "def calc_AA_masses_for_var_len_seqs(\n",
    "    sequence_array: np.array\n",
    ")->np.array:\n",
    "    '''\n",
    "    We recommend to use `calc_AA_masses_for_same_len_seqs` as it is much faster.\n",
    "    Args:\n",
    "        sequence_array (np.array): sequences with variable lengths.\n",
    "    Returns:\n",
    "        np.array: 1D array of masses, zero values are padded to fill the max length.\n",
    "    '''\n",
    "    return AA_ASCII_MASS[\n",
    "        np.array(sequence_array).view(np.int32)\n",
    "    ].reshape(len(sequence_array), -1)"
   ]
  },
  {
   "cell_type": "code",
   "execution_count": null,
   "metadata": {},
   "outputs": [
    {
     "data": {
      "text/plain": [
       "array([[1.29042593e+02, 1.47068414e+02, 5.70214637e+01, 1.37058912e+02,\n",
       "        1.13084064e+02, 1.28094963e+02, 1.00000000e+08, 1.00000000e+08,\n",
       "        1.00000000e+08, 1.00000000e+08, 1.00000000e+08, 1.00000000e+08,\n",
       "        1.00000000e+08],\n",
       "       [7.10371138e+01, 7.10371138e+01, 7.10371138e+01, 5.70214637e+01,\n",
       "        1.03009185e+02, 1.15026943e+02, 1.29042593e+02, 1.47068414e+02,\n",
       "        5.70214637e+01, 1.37058912e+02, 1.13084064e+02, 1.28094963e+02,\n",
       "        1.00000000e+08],\n",
       "       [1.15026943e+02, 1.15026943e+02, 1.15026943e+02, 1.15026943e+02,\n",
       "        1.03009185e+02, 1.03009185e+02, 1.15026943e+02, 1.29042593e+02,\n",
       "        1.47068414e+02, 5.70214637e+01, 1.37058912e+02, 1.13084064e+02,\n",
       "        1.28094963e+02]])"
      ]
     },
     "execution_count": null,
     "metadata": {},
     "output_type": "execute_result"
    }
   ],
   "source": [
    "masses = calc_AA_masses_for_var_len_seqs(['EFGHIK','AAAGCDEFGHIK','DDDDCCDEFGHIK'])\n",
    "masses"
   ]
  },
  {
   "cell_type": "code",
   "execution_count": null,
   "metadata": {},
   "outputs": [],
   "source": []
  }
 ],
 "metadata": {
  "kernelspec": {
   "display_name": "Python 3.8.3 64-bit ('base': conda)",
   "name": "python3"
  }
 },
 "nbformat": 4,
 "nbformat_minor": 2
}
