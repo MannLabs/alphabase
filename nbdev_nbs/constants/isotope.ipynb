{
 "cells": [
  {
   "cell_type": "code",
   "execution_count": null,
   "metadata": {},
   "outputs": [],
   "source": [
    "#default_exp constants.isotope"
   ]
  },
  {
   "cell_type": "code",
   "execution_count": null,
   "metadata": {},
   "outputs": [],
   "source": [
    "#export\n",
    "import numba\n",
    "import numpy as np\n",
    "import typing\n",
    "\n",
    "from alphabase.constants.element import (\n",
    "    MAX_ISOTOPE_LEN, EMPTY_DIST,\n",
    "    CHEM_ISOTOPE_DIST, CHEM_MONO_IDX, CHEM_MONO_MASS,\n",
    "    truncate_isotope, parse_formula\n",
    ")"
   ]
  },
  {
   "cell_type": "markdown",
   "metadata": {},
   "source": [
    "# Isotope distribution (in centroid mode)\n",
    "\n",
    "\n",
    "If we have two isotope distributions, we can use convolute them into one distribution by using `abundance_convolution`."
   ]
  },
  {
   "cell_type": "code",
   "execution_count": null,
   "metadata": {},
   "outputs": [],
   "source": [
    "#export\n",
    "@numba.njit\n",
    "def abundance_convolution(\n",
    "    d1:np.array,\n",
    "    mono1:int,\n",
    "    d2:np.array,\n",
    "    mono2:int,\n",
    ")->typing.Tuple[np.array, int]:\n",
    "    '''\n",
    "    If we have two isotope distributions, \n",
    "    we can convolute them into one distribution. \n",
    "    \n",
    "    Args:\n",
    "        d1 (np.array): isotope distribution to convolute.\n",
    "        mono1 (int): mono position of d1.\n",
    "        d2 (np.array): isotope distribution to convolute.\n",
    "        mono2 (int): mono position of d2\n",
    "    Returns:\n",
    "        np.array: convoluted isotope distribution.\n",
    "        int: new mono position.\n",
    "    '''\n",
    "    mono_idx = mono1 + mono2\n",
    "    ret = np.zeros(MAX_ISOTOPE_LEN*2-1)\n",
    "    for i in range(len(d1)):\n",
    "        for j in range(len(d2)):\n",
    "            ret[i+j] += d1[i]*d2[j]\n",
    "\n",
    "    mono_idx, start, end = truncate_isotope(ret, mono_idx)\n",
    "    return ret[start:end], mono_idx"
   ]
  },
  {
   "cell_type": "markdown",
   "metadata": {},
   "source": [
    "For a given chemical formula, e.g. `H(100)O(50)N(20)`, we first calculate the isotope distribution using \"binary search\"-like method for each type of element (here are `H(100)`, `O(50)` and `N(20)`) (see `one_element_dist()`). And then we convolute these distributions of all types into one distribution (see `formula_dist()`)."
   ]
  },
  {
   "cell_type": "code",
   "execution_count": null,
   "metadata": {},
   "outputs": [],
   "source": [
    "#export\n",
    "@numba.njit\n",
    "def one_element_dist(\n",
    "    elem: str,\n",
    "    n: int,\n",
    "    chem_isotope_dist: numba.typed.Dict,\n",
    "    chem_mono_idx: numba.typed.Dict,\n",
    ")->typing.Tuple[np.array, int]:\n",
    "    '''\n",
    "    Calculate the isotope distribution for \n",
    "    an element and its numbers.\n",
    "    \n",
    "    Args:\n",
    "        elem (str): element.\n",
    "        n (int): element number.\n",
    "        chem_isotope_dist (numba.typed.Dict): use `CHEM_ISOTOPE_DIST` as parameter.\n",
    "        chem_mono_idx (numba.typed.Dict): use `CHEM_MONO_IDX` as parameter.\n",
    "    Returns:\n",
    "        np.array: isotope distribution of the element.\n",
    "        int: mono position in the distribution\n",
    "    '''\n",
    "    if n == 0: return EMPTY_DIST.copy(), 0\n",
    "    elif n == 1: return chem_isotope_dist[elem], chem_mono_idx[elem]\n",
    "    tmp_dist, mono_idx = one_element_dist(elem, n//2, chem_isotope_dist, chem_mono_idx)\n",
    "    tmp_dist, mono_idx = abundance_convolution(tmp_dist, mono_idx, tmp_dist, mono_idx)\n",
    "    if n%2 == 0:\n",
    "        return tmp_dist, mono_idx\n",
    "    else:\n",
    "        return abundance_convolution(tmp_dist, mono_idx, chem_isotope_dist[elem], chem_mono_idx[elem])\n",
    "\n",
    "def formula_dist(\n",
    "    formula: typing.Union[list, str]\n",
    ")->typing.Tuple[np.array, int]:\n",
    "    '''\n",
    "    Generate the isotope distribution and the mono index for \n",
    "    a given formula (as a list, e.g. `[('H', 2), ('C', 2), ('O', 1)]`),\n",
    "    Args:\n",
    "        formula (typing.Union[list, str]): chemical formula, could be str or list.\n",
    "            If str: \"H(1)N(2)O(3)\".\n",
    "            If list: \"[('H',1),('H',2),('H',3)]\".\n",
    "    Returns:\n",
    "        np.array: isotope distribution\n",
    "        int: mono position\n",
    "    '''\n",
    "    if isinstance(formula, str):\n",
    "        formula = parse_formula(formula)\n",
    "    calc_dist = EMPTY_DIST.copy()\n",
    "    mono_idx = 0\n",
    "    for elem, n in formula:\n",
    "        _dist, _mono = one_element_dist(elem, n, CHEM_ISOTOPE_DIST, CHEM_MONO_IDX)\n",
    "        calc_dist, mono_idx = abundance_convolution(calc_dist, mono_idx, _dist, _mono)\n",
    "    return calc_dist, mono_idx"
   ]
  },
  {
   "cell_type": "markdown",
   "metadata": {},
   "source": [
    "Compare calculated isotope distributions with sisweb.com/mstools/isotope.htm\n",
    "\n",
    "Desired distribution for H10: (100, 0.16, 0.0001) calculated from sisweb.com/mstools/isotope.htm in low resolution mode (centroid mode)"
   ]
  },
  {
   "cell_type": "code",
   "execution_count": null,
   "metadata": {},
   "outputs": [
    {
     "data": {
      "text/plain": [
       "['100.0000',\n",
       " '0.1150',\n",
       " '0.0001',\n",
       " '0.0000',\n",
       " '0.0000',\n",
       " '0.0000',\n",
       " '0.0000',\n",
       " '0.0000',\n",
       " '0.0000',\n",
       " '0.0000']"
      ]
     },
     "execution_count": null,
     "metadata": {},
     "output_type": "execute_result"
    }
   ],
   "source": [
    "#hide\n",
    "dist, mono_idx = one_element_dist('H', 10, CHEM_ISOTOPE_DIST, CHEM_MONO_IDX)\n",
    "assert mono_idx == 0\n",
    "[f'{d*100:.4f}' for d in dist/max(dist)]\n"
   ]
  },
  {
   "cell_type": "code",
   "execution_count": null,
   "metadata": {},
   "outputs": [],
   "source": [
    "#hide\n",
    "formula = 'C(100)H(100)O(10)'\n",
    "formula = parse_formula(formula)\n",
    "expected = [('C', 100), ('H', 100), ('O', 10)]\n",
    "for exp_val, val in zip(expected, formula):\n",
    "    assert exp_val == val"
   ]
  },
  {
   "cell_type": "code",
   "execution_count": null,
   "metadata": {},
   "outputs": [],
   "source": [
    "#hide\n",
    "mass = np.sum([CHEM_MONO_MASS[elem]*n for elem,n in formula])\n",
    "assert abs(mass-1460.73164942)<1e-6"
   ]
  },
  {
   "cell_type": "code",
   "execution_count": null,
   "metadata": {},
   "outputs": [
    {
     "data": {
      "text/plain": [
       "['91.1674',\n",
       " '100.0000',\n",
       " '56.1843',\n",
       " '21.5256',\n",
       " '6.3163',\n",
       " '1.5117',\n",
       " '0.3069',\n",
       " '0.0543',\n",
       " '0.0085',\n",
       " '0.0012']"
      ]
     },
     "execution_count": null,
     "metadata": {},
     "output_type": "execute_result"
    },
    {
     "data": {
      "image/png": "[encoded data removed]",
      "text/plain": [
       "<Figure size 432x288 with 1 Axes>"
      ]
     },
     "metadata": {
      "needs_background": "light"
     },
     "output_type": "display_data"
    }
   ],
   "source": [
    "#hide\n",
    "try:\n",
    "    import matplotlib.pyplot as plt\n",
    "except:\n",
    "    plt = None\n",
    "calc_dist, mono_idx = formula_dist(formula)\n",
    "assert mono_idx==0\n",
    "\n",
    "if plt: plt.vlines(np.arange(len(calc_dist)), ymin=np.zeros_like(calc_dist), ymax=calc_dist)\n",
    "[f'{d*100:.4f}' for d in calc_dist/max(calc_dist)]\n"
   ]
  },
  {
   "cell_type": "markdown",
   "metadata": {},
   "source": [
    "Desired distribution for `C(100)H(100)O(10)`: `(90.7784, 100, 56.368, 21.6475, 6.3624, 1.524, 0.3093)` calculated from sisweb.com/mstools/isotope.htm in low resolution mode (centroid mode)"
   ]
  },
  {
   "cell_type": "code",
   "execution_count": null,
   "metadata": {},
   "outputs": [
    {
     "data": {
      "image/png": "[encoded data removed]",
      "text/plain": [
       "<Figure size 432x288 with 1 Axes>"
      ]
     },
     "metadata": {
      "needs_background": "light"
     },
     "output_type": "display_data"
    }
   ],
   "source": [
    "#hide\n",
    "target_dist = np.zeros(MAX_ISOTOPE_LEN)\n",
    "\n",
    "target_dist[:7] = [90.7784, 100, 56.368, 21.6475, 6.3624, 1.524, 0.3093]\n",
    "if plt: plt.vlines(np.arange(len(target_dist)), ymin=np.zeros_like(target_dist), ymax=target_dist)"
   ]
  },
  {
   "cell_type": "markdown",
   "metadata": {},
   "source": [
    "### The target and calculated distributions are very similar"
   ]
  },
  {
   "cell_type": "code",
   "execution_count": null,
   "metadata": {},
   "outputs": [
    {
     "data": {
      "text/plain": [
       "1.0000000000000004"
      ]
     },
     "execution_count": null,
     "metadata": {},
     "output_type": "execute_result"
    }
   ],
   "source": [
    "#hide\n",
    "cosine = np.sum(calc_dist*target_dist)/np.sum(np.sqrt(calc_dist**2 * target_dist**2))\n",
    "cosine"
   ]
  },
  {
   "cell_type": "markdown",
   "metadata": {},
   "source": [
    "### Compare with Averagine"
   ]
  },
  {
   "cell_type": "code",
   "execution_count": null,
   "metadata": {},
   "outputs": [
    {
     "data": {
      "text/plain": [
       "(13, 16)"
      ]
     },
     "execution_count": null,
     "metadata": {},
     "output_type": "execute_result"
    }
   ],
   "source": [
    "#hide\n",
    "averagine_aa = {}\n",
    "averagine_aa[\"C\"] = 4.9384\n",
    "averagine_aa[\"H\"] = 7.7583\n",
    "averagine_aa[\"N\"] = 1.3577\n",
    "averagine_aa[\"O\"] = 1.4773\n",
    "averagine_aa[\"S\"] = 0.0417\n",
    "averagine_avg = 111.1254\n",
    "\n",
    "nAA = int(mass/averagine_avg)\n",
    "nH = int(mass - nAA*averagine_avg)\n",
    "nAA, nH"
   ]
  },
  {
   "cell_type": "code",
   "execution_count": null,
   "metadata": {},
   "outputs": [
    {
     "data": {
      "text/plain": [
       "['100.0000',\n",
       " '77.4892',\n",
       " '33.5415',\n",
       " '10.4826',\n",
       " '2.6175',\n",
       " '0.5509',\n",
       " '0.1010',\n",
       " '0.0165',\n",
       " '0.0024',\n",
       " '0.0003']"
      ]
     },
     "execution_count": null,
     "metadata": {},
     "output_type": "execute_result"
    },
    {
     "data": {
      "image/png": "[encoded data removed]",
      "text/plain": [
       "<Figure size 432x288 with 1 Axes>"
      ]
     },
     "metadata": {
      "needs_background": "light"
     },
     "output_type": "display_data"
    }
   ],
   "source": [
    "#hide\n",
    "if nH:\n",
    "    calc_dist, mono_idx = one_element_dist('H', nH, CHEM_ISOTOPE_DIST, CHEM_MONO_IDX)\n",
    "else:\n",
    "    calc_dist = EMPTY_DIST.copy()\n",
    "    mono_idx = 0\n",
    "for elem, num in averagine_aa.items():\n",
    "    n = int(nAA*num)\n",
    "    _dist, _mono = one_element_dist(elem, n, CHEM_ISOTOPE_DIST, CHEM_MONO_IDX)\n",
    "    calc_dist, mono_idx = abundance_convolution(calc_dist, mono_idx, _dist, _mono)\n",
    "if plt: plt.vlines(np.arange(len(calc_dist)), ymin=np.zeros_like(calc_dist), ymax=calc_dist)\n",
    "[f'{d*100:.4f}' for d in calc_dist/max(calc_dist)]"
   ]
  },
  {
   "cell_type": "markdown",
   "metadata": {},
   "source": [
    "Test for heavy labeled formula"
   ]
  },
  {
   "cell_type": "code",
   "execution_count": null,
   "metadata": {},
   "outputs": [
    {
     "data": {
      "text/plain": [
       "['0.9157',\n",
       " '91.6573',\n",
       " '100.0000',\n",
       " '56.0834',\n",
       " '21.4676',\n",
       " '6.2959',\n",
       " '1.5062',\n",
       " '0.3057',\n",
       " '0.0540',\n",
       " '0.0085']"
      ]
     },
     "execution_count": null,
     "metadata": {},
     "output_type": "execute_result"
    },
    {
     "data": {
      "image/png": "[encoded data removed]",
      "text/plain": [
       "<Figure size 432x288 with 1 Axes>"
      ]
     },
     "metadata": {
      "needs_background": "light"
     },
     "output_type": "display_data"
    }
   ],
   "source": [
    "#hide\n",
    "formula = 'C(100)H(100)O(10)13C(1)'\n",
    "\n",
    "calc_dist, mono_idx = formula_dist(formula)\n",
    "assert mono_idx == 1\n",
    "assert np.argmax(calc_dist)==2\n",
    "\n",
    "if plt: plt.vlines(np.arange(len(calc_dist)), ymin=np.zeros_like(calc_dist), ymax=calc_dist)\n",
    "[f'{d*100:.4f}' for d in calc_dist/max(calc_dist)]"
   ]
  },
  {
   "cell_type": "markdown",
   "metadata": {},
   "source": [
    "# IsotopeDistribution\n",
    "`formula_dist()` always calculates the distribution of each element based on the element number (using binary-search-like operation) and convolute distributions of different elements. If we have many peptides to calculate, each element's distribution will be calculated repeatly. In `IsotopeDistribution`, instead of generating on-the-fly, we pre-built the isotope distribution table for each of the most common elements (C,H,N,O,S,P) with the element number from 0 to N, and N is large enough to cover all composition in shotgun proteomics. Thus, for a given chemical formula, we just need to check the distribution table for each element and convolute distributions among different elements."
   ]
  },
  {
   "cell_type": "code",
   "execution_count": null,
   "metadata": {},
   "outputs": [],
   "source": [
    "#export\n",
    "\n",
    "def _calc_one_elem_cum_dist(\n",
    "    element_cum_dist:np.array, \n",
    "    element_cum_mono:np.array\n",
    "):\n",
    "    \"\"\"Pre-build isotope abundance distribution for an element for fast calculation.\n",
    "    Internel function.\n",
    "\n",
    "    Args:\n",
    "        element_cum_dist (np.array): cumulated element abundance distribution\n",
    "        element_cum_mono (np.array): cumulated element mono position in the distribution\n",
    "    Returns:\n",
    "        None. Added information inplace into element_cum_dist and element_cum_mono\n",
    "    \"\"\"\n",
    "    for n in range(2, len(element_cum_dist)):\n",
    "        (\n",
    "            element_cum_dist[n], \n",
    "            element_cum_mono[n]\n",
    "        ) = abundance_convolution(\n",
    "            element_cum_dist[n-1],\n",
    "            element_cum_mono[n-1],\n",
    "            element_cum_dist[1],\n",
    "            element_cum_mono[1]\n",
    "        )\n",
    "\n",
    "class IsotopeDistribution:\n",
    "    def __init__(self, \n",
    "        max_elem_num_dict:dict = {\n",
    "            'C': 2000,\n",
    "            'H': 5000,\n",
    "            'N': 1000,\n",
    "            'O': 1000,\n",
    "            'S': 200,\n",
    "            'P': 200,\n",
    "        }\n",
    "    ):\n",
    "        \"\"\"Faster calculation of isotope abundance distribution by pre-building\n",
    "        isotope distribution tables for most common elements.\n",
    "\n",
    "        Args:\n",
    "            max_elem_num_dict (dict, optional): \n",
    "                Define the maximal number of the elements. \n",
    "                Defaults to { 'C': 2000, 'H': 5000, 'N': 1000, 'O': 1000, 'S': 200, 'P': 200, } \n",
    "            \n",
    "                We have considered large enough number of elements for shotgun proteomics.\n",
    "                We can increase `max_elem_num_dict` to support larger peptide or top-down \n",
    "                in the future. However, current `MAX_ISOTOPE_LEN` is not suitable for top-down,\n",
    "                it must be extended to a larger number (100?).\n",
    "                Note that non-standard amino acids have 1000000 C elements in AlphaBase,\n",
    "                We clip 1000000 C to the maximal number of C in `max_elem_num_dict`.\n",
    "                As they have very large masses thus impossible to identify,\n",
    "                their isotope distributions do not matter.\n",
    "        Attributes:\n",
    "            element_to_cum_dist_dict (dict): \n",
    "                {element: cumulated isotope distribution array},\n",
    "                and the cumulated isotope distribution array is a 2-D float np.array with \n",
    "                shape (element_max_number, MAX_ISOTOPE_LEN).\n",
    "            element_to_cum_mono_idx (dict): \n",
    "                {element: mono position array of cumulated isotope distribution},\n",
    "                and mono position array is a 1-D int np.array.\n",
    "        \"\"\"\n",
    "        self.element_to_cum_dist_dict = {}\n",
    "        self.element_to_cum_mono_idx = {}\n",
    "        for elem, n in max_elem_num_dict.items():\n",
    "            if n < 2: n = 2\n",
    "            self.element_to_cum_dist_dict[elem] = np.zeros((n, MAX_ISOTOPE_LEN))\n",
    "            self.element_to_cum_mono_idx[elem] = -np.ones(n,dtype=np.int64)\n",
    "            self.element_to_cum_dist_dict[elem][0,:] = EMPTY_DIST\n",
    "            self.element_to_cum_mono_idx[elem][0] = 0\n",
    "            self.element_to_cum_dist_dict[elem][1,:] = CHEM_ISOTOPE_DIST[elem]\n",
    "            self.element_to_cum_mono_idx[elem][1] = CHEM_MONO_IDX[elem]\n",
    "            _calc_one_elem_cum_dist(\n",
    "                self.element_to_cum_dist_dict[elem],\n",
    "                self.element_to_cum_mono_idx[elem]\n",
    "            )\n",
    "\n",
    "    def calc_formula_distribution(self,\n",
    "        formula: typing.List[typing.Tuple[str,int]],\n",
    "    )->typing.Tuple[np.array, int]:\n",
    "        \"\"\"Calculate isotope abundance distribution for a given formula\n",
    "\n",
    "        Args:\n",
    "            formula (list of tuple(str,int)): \n",
    "                chemical formula: \"[('H',1),('C',2),('O',3)]\".\n",
    "\n",
    "        Returns:\n",
    "            np.array: \n",
    "                isotope abundance distribution\n",
    "            int: mono \n",
    "                isotope position in the distribution array\n",
    "        \n",
    "        Examples::\n",
    "        \n",
    "            >>> from alphabase.constants import IsotopeDistribution, parse_formula\n",
    "            >>> iso = IsotopeDistribution()\n",
    "            >>> formula = 'C(100)H(100)O(10)Na(1)Fe(1)'\n",
    "            >>> formula = parse_formula(formula)\n",
    "            >>> dist, mono = iso.calc_formula_distribution(formula)\n",
    "            >>> dist\n",
    "            array([1.92320044e-02, 2.10952666e-02, 3.13753566e-01, 3.42663681e-01,\n",
    "                   1.95962632e-01, 7.69157517e-02, 2.31993814e-02, 5.71948249e-03,\n",
    "                   1.19790438e-03, 2.18815385e-04])\n",
    "            >>> # Fe's mono position is 2 Da larger than its smallest mass, \n",
    "            >>> # so the mono position of this formula shifts by +2 (Da).\n",
    "            >>> mono \n",
    "            2\n",
    "\n",
    "            >>> formula = 'C(100)H(100)O(10)13C(1)Na(1)' \n",
    "            >>> formula = parse_formula(formula)\n",
    "            >>> dist, mono = iso.calc_formula_distribution(formula)\n",
    "            >>> dist\n",
    "            array([3.29033438e-03, 3.29352217e-01, 3.59329960e-01, 2.01524592e-01,\n",
    "                   7.71395498e-02, 2.26229845e-02, 5.41229894e-03, 1.09842389e-03,\n",
    "                   1.94206388e-04, 3.04911585e-05])\n",
    "            >>> # 13C's mono position is +1 Da shifted\n",
    "            >>> mono\n",
    "            1\n",
    "\n",
    "            >>> formula = 'C(100)H(100)O(10)Na(1)' \n",
    "            >>> formula = parse_formula(formula)\n",
    "            >>> dist, mono = iso.calc_formula_distribution(formula)\n",
    "            >>> dist\n",
    "            array([3.29033438e-01, 3.60911319e-01, 2.02775462e-01, 7.76884706e-02,\n",
    "                   2.27963906e-02, 5.45578135e-03, 1.10754072e-03, 1.95857410e-04,\n",
    "                   3.07552058e-05, 4.35047710e-06])\n",
    "            >>> # mono position is normal (=0) for regular formulas\n",
    "            >>> mono\n",
    "            0\n",
    "            \n",
    "        \"\"\"\n",
    "        first_elem = 'H'\n",
    "        for elem, n in formula:\n",
    "            if elem == first_elem:\n",
    "                if n >= len(self.element_to_cum_mono_idx[elem]):\n",
    "                    n = len(self.element_to_cum_mono_idx[elem])-1\n",
    "                mono = self.element_to_cum_mono_idx[elem][n]\n",
    "                dist = self.element_to_cum_dist_dict[elem][n]\n",
    "                break\n",
    "        for elem, n in formula:\n",
    "            if elem in self.element_to_cum_dist_dict:\n",
    "                if elem == first_elem: continue\n",
    "                if n >= len(self.element_to_cum_mono_idx[elem]):\n",
    "                    n = len(self.element_to_cum_mono_idx[elem])-1\n",
    "                dist, mono = abundance_convolution(\n",
    "                    dist, mono,\n",
    "                    self.element_to_cum_dist_dict[elem][n],\n",
    "                    self.element_to_cum_mono_idx[elem][n],\n",
    "                )\n",
    "            else:\n",
    "                dist, mono = abundance_convolution(\n",
    "                    dist, mono, *one_element_dist(\n",
    "                        elem,n,CHEM_ISOTOPE_DIST, CHEM_MONO_IDX\n",
    "                    )\n",
    "                )\n",
    "        return dist, mono\n",
    "        \n"
   ]
  },
  {
   "cell_type": "code",
   "execution_count": null,
   "metadata": {},
   "outputs": [],
   "source": [
    "#hide\n",
    "iso = IsotopeDistribution()\n",
    "formula = 'C(100)H(100)O(10)Na(1)Fe(1)'\n",
    "formula = parse_formula(formula)\n",
    "dist, mono = iso.calc_formula_distribution(formula)\n",
    "dist1, mono1 = formula_dist(formula)\n",
    "assert np.allclose(dist, dist1)\n",
    "assert mono==mono1\n",
    "assert mono==2"
   ]
  },
  {
   "cell_type": "code",
   "execution_count": null,
   "metadata": {},
   "outputs": [
    {
     "data": {
      "text/plain": [
       "array([1.92320044e-02, 2.10952666e-02, 3.13753566e-01, 3.42663681e-01,\n",
       "       1.95962632e-01, 7.69157517e-02, 2.31993814e-02, 5.71948249e-03,\n",
       "       1.19790438e-03, 2.18815385e-04])"
      ]
     },
     "execution_count": null,
     "metadata": {},
     "output_type": "execute_result"
    }
   ],
   "source": [
    "dist"
   ]
  },
  {
   "cell_type": "code",
   "execution_count": null,
   "metadata": {},
   "outputs": [],
   "source": [
    "#hide\n",
    "iso = IsotopeDistribution()\n",
    "formula = 'C(100)H(100)O(10)13C(1)Na(1)'\n",
    "formula = parse_formula(formula)\n",
    "dist, mono = iso.calc_formula_distribution(formula)\n",
    "dist1, mono1 = formula_dist(formula)\n",
    "assert np.allclose(dist, dist1)\n",
    "assert mono==mono1\n",
    "assert mono==1"
   ]
  },
  {
   "cell_type": "code",
   "execution_count": null,
   "metadata": {},
   "outputs": [],
   "source": [
    "iso = IsotopeDistribution()\n",
    "formula = 'C(100)H(100)O(10)Na(1)'\n",
    "formula = parse_formula(formula)\n",
    "dist, mono = iso.calc_formula_distribution(formula)\n",
    "dist1, mono1 = formula_dist(formula)\n",
    "assert np.allclose(dist, dist1)\n",
    "assert mono==mono1\n",
    "assert mono==0"
   ]
  },
  {
   "cell_type": "code",
   "execution_count": null,
   "metadata": {},
   "outputs": [],
   "source": []
  }
 ],
 "metadata": {
  "kernelspec": {
   "display_name": "Python 3.8.3 ('base')",
   "language": "python",
   "name": "python3"
  }
 },
 "nbformat": 4,
 "nbformat_minor": 2
}
