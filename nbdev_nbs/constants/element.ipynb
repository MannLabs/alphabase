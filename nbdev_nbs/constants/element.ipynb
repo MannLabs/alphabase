{
 "cells": [
  {
   "cell_type": "code",
   "execution_count": null,
   "metadata": {},
   "outputs": [],
   "source": [
    "#default_exp constants.element"
   ]
  },
  {
   "cell_type": "code",
   "execution_count": null,
   "metadata": {},
   "outputs": [],
   "source": [
    "# hide\n",
    "__file__ = '../../alphabase/constants/element.py'"
   ]
  },
  {
   "cell_type": "markdown",
   "metadata": {},
   "source": [
    "### `element.yaml` stores chemical element information."
   ]
  },
  {
   "cell_type": "code",
   "execution_count": null,
   "metadata": {},
   "outputs": [],
   "source": [
    "#export\n",
    " \n",
    "import os\n",
    "import numpy as np\n",
    "import numba\n",
    "import typing\n",
    "\n",
    "from alphabase.yaml_utils import load_yaml\n",
    "\n",
    "_base_dir = os.path.dirname(__file__)\n",
    "\n",
    "MAX_ISOTOPE_LEN = 10\n",
    "EMPTY_DIST = np.zeros(MAX_ISOTOPE_LEN)\n",
    "EMPTY_DIST[0] = 1\n",
    "MASS_PROTON = 1.007276\n",
    "MASS_ISOTOPE = 1.0033\n",
    "\n",
    "@numba.njit\n",
    "def truncate_isotope(\n",
    "    isotopes: np.array, mono_idx: int\n",
    ")->typing.Tuple[int, int, int]:\n",
    "    '''\n",
    "    For a given isotope distribution (intensity patterns), \n",
    "    this function truncates the distribution by top \n",
    "    `MAX_ISOTOPE_LEN` neighbors those contain the monoisotopic \n",
    "    peak pointed by `mono_idx`.\n",
    "    Args:\n",
    "        isotopes (np.array): isotope patterns with size > `MAX_ISOTOPE_LEN`.\n",
    "        mono_idx (int): where is the monoisotopic peak in the isotope patterns\n",
    "    Returns:\n",
    "        int: the new position of `mono_idx`\n",
    "        int: the start position of the truncated isotopes\n",
    "        int: the end position of the truncated isotopes\n",
    "    '''\n",
    "    trunc_start = mono_idx - 1\n",
    "    trunc_end = mono_idx + 1\n",
    "    while trunc_start >= 0 and trunc_end < len(isotopes) and (trunc_end-trunc_start-1)<MAX_ISOTOPE_LEN:\n",
    "        if isotopes[trunc_end] >= isotopes[trunc_start]:\n",
    "            trunc_end += 1\n",
    "        else:\n",
    "            trunc_start -= 1\n",
    "    if trunc_end-trunc_start-1 < MAX_ISOTOPE_LEN:\n",
    "        if trunc_start == -1:\n",
    "            trunc_end = MAX_ISOTOPE_LEN\n",
    "        elif trunc_end == len(isotopes):\n",
    "            trunc_start = len(isotopes)-MAX_ISOTOPE_LEN-1\n",
    "    return mono_idx-trunc_start-1, trunc_start+1, trunc_end\n",
    "\n",
    "def reset_elements():\n",
    "    for elem, items in CHEM_INFO_DICT.items():\n",
    "        isotopes = np.array(items['abundance'])\n",
    "        masses = np.array(items['mass'])\n",
    "        _sort_idx = np.argsort(masses)\n",
    "        masses = masses[_sort_idx]\n",
    "        isotopes = isotopes[_sort_idx]\n",
    "        _mass_pos = np.round(masses).astype(int)\n",
    "        _mass_pos = _mass_pos - _mass_pos[0]\n",
    "        if _mass_pos[-1] - _mass_pos[0] + 1 <= MAX_ISOTOPE_LEN:\n",
    "            _isos = np.zeros(MAX_ISOTOPE_LEN)\n",
    "            _isos[_mass_pos] = isotopes\n",
    "            _masses = np.zeros(MAX_ISOTOPE_LEN)\n",
    "            _masses[_mass_pos] = masses\n",
    "            mono_idx = np.argmax(_isos)\n",
    "\n",
    "            CHEM_MONO_MASS[elem] = _masses[mono_idx]\n",
    "            CHEM_ISOTOPE_DIST[elem] = _isos\n",
    "            CHEM_MONO_IDX[elem] = mono_idx\n",
    "        else:\n",
    "            _isos = np.zeros(_mass_pos[-1] - _mass_pos[0] + 1)\n",
    "            _isos[_mass_pos] = isotopes\n",
    "            _masses = np.zeros(_mass_pos[-1] - _mass_pos[0] + 1)\n",
    "            _masses[_mass_pos] = masses\n",
    "            mono_idx = np.argmax(_isos)\n",
    "            CHEM_MONO_MASS[elem] = _masses[mono_idx]\n",
    "\n",
    "            _mono_idx, start, end = truncate_isotope(_isos, mono_idx)\n",
    "\n",
    "            CHEM_ISOTOPE_DIST[elem] = _isos[start:end]\n",
    "            CHEM_MONO_IDX[elem] = _mono_idx\n",
    "\n",
    "def load_elem_yaml(yaml_file:str):\n",
    "    '''\n",
    "    This function can be use to load user-defined `element.yaml` file\n",
    "    '''\n",
    "    global CHEM_INFO_DICT\n",
    "    global CHEM_MONO_MASS\n",
    "    global CHEM_ISOTOPE_DIST\n",
    "    global CHEM_MONO_IDX\n",
    "    global MASS_H2O\n",
    "    global MASS_NH3\n",
    "\n",
    "    CHEM_INFO_DICT = load_yaml(yaml_file)\n",
    "\n",
    "    CHEM_MONO_MASS = {}\n",
    "    CHEM_ISOTOPE_DIST = numba.typed.Dict.empty(\n",
    "        key_type=numba.types.unicode_type,\n",
    "        value_type=numba.types.float64[:]\n",
    "    )\n",
    "    \n",
    "    CHEM_MONO_IDX = numba.typed.Dict.empty(\n",
    "        key_type=numba.types.unicode_type,\n",
    "        value_type=numba.types.int64\n",
    "    )\n",
    "\n",
    "    reset_elements()\n",
    "        \n",
    "    MASS_H2O = CHEM_MONO_MASS['H']*2 + CHEM_MONO_MASS['O']\n",
    "    MASS_NH3 = CHEM_MONO_MASS['H']*3 + CHEM_MONO_MASS['N']\n",
    "\n",
    "load_elem_yaml(\n",
    "    os.path.join(_base_dir,\n",
    "        'element.yaml'\n",
    "    )\n",
    ")"
   ]
  },
  {
   "cell_type": "markdown",
   "metadata": {},
   "source": [
    "### Calculate mass from a formula\n",
    "Formula format: `H(1)C(2)O(3)...`"
   ]
  },
  {
   "cell_type": "code",
   "execution_count": null,
   "metadata": {},
   "outputs": [],
   "source": [
    "#export\n",
    "def parse_formula(formula:str)->typing.List[typing.Tuple[str,float]]:\n",
    "    '''\n",
    "    Given a formula (str, e.g. `H(1)C(2)O(3)`), \n",
    "    it generates `[('H', 2), ('C', 2), ('O', 1)]`\n",
    "    '''\n",
    "    if not formula: return []\n",
    "    items = [item.split('(') for item in formula.strip(')').split(')')]\n",
    "    return [(elem, int(n)) for elem, n in items]\n",
    "\n",
    "def calc_formula_mass(formula:str):\n",
    "    '''\n",
    "    Calculates the mass of the formula`\n",
    "    Args:\n",
    "        formula (str): e.g. `H(1)C(2)O(3)`\n",
    "    Returns:\n",
    "        float: mass of the formula\n",
    "    '''\n",
    "    return np.sum([CHEM_MONO_MASS[elem]*n for elem, n in parse_formula(formula)])"
   ]
  },
  {
   "cell_type": "markdown",
   "metadata": {},
   "source": [
    "Example"
   ]
  },
  {
   "cell_type": "code",
   "execution_count": null,
   "metadata": {},
   "outputs": [
    {
     "data": {
      "text/plain": [
       "[('H', 2), ('C', 2), ('O', 1)]"
      ]
     },
     "execution_count": null,
     "metadata": {},
     "output_type": "execute_result"
    }
   ],
   "source": [
    "parse_formula('H(2)C(2)O(1)')"
   ]
  },
  {
   "cell_type": "code",
   "execution_count": null,
   "metadata": {},
   "outputs": [
    {
     "data": {
      "text/plain": [
       "42.0105633"
      ]
     },
     "execution_count": null,
     "metadata": {},
     "output_type": "execute_result"
    }
   ],
   "source": [
    "calc_formula_mass('H(2)C(2)O(1)')"
   ]
  },
  {
   "cell_type": "code",
   "execution_count": null,
   "metadata": {},
   "outputs": [
    {
     "data": {
      "text/plain": [
       "0.0"
      ]
     },
     "execution_count": null,
     "metadata": {},
     "output_type": "execute_result"
    }
   ],
   "source": [
    "calc_formula_mass('')"
   ]
  },
  {
   "cell_type": "markdown",
   "metadata": {},
   "source": [
    "### Isotope distribution (in centroid mode)"
   ]
  },
  {
   "cell_type": "code",
   "execution_count": null,
   "metadata": {},
   "outputs": [],
   "source": [
    "#export\n",
    "\n",
    "@numba.njit\n",
    "def abundance_convolution(\n",
    "    d1:np.array,\n",
    "    mono1:int,\n",
    "    d2:np.array,\n",
    "    mono2:int,\n",
    ")->typing.Tuple[np.array, int]:\n",
    "    '''\n",
    "    Args:\n",
    "        d1 (np.array): isotope distribution to convolute.\n",
    "        mono1 (int): mono position of d1.\n",
    "        d2 (np.array): isotope distribution to convolute.\n",
    "        mono2 (int): mono position of d2\n",
    "    Returns:\n",
    "        np.array: convoluted isotope distribution.\n",
    "        int: new mono position.\n",
    "    '''\n",
    "    mono_idx = mono1 + mono2\n",
    "    ret = np.zeros(MAX_ISOTOPE_LEN*2-1)\n",
    "    for i in range(len(d1)):\n",
    "        for j in range(len(d2)):\n",
    "            ret[i+j] += d1[i]*d2[j]\n",
    "\n",
    "    mono_idx, start, end = truncate_isotope(ret, mono_idx)\n",
    "    return ret[start:end], mono_idx\n",
    "\n",
    "@numba.njit\n",
    "def one_element_dist(\n",
    "    elem: str,\n",
    "    n: int,\n",
    "    chem_isotope_dist: numba.typed.Dict,\n",
    "    chem_mono_idx: numba.typed.Dict,\n",
    ")->typing.Tuple[np.array, int]:\n",
    "    '''\n",
    "    Calculate the isotope distribution for an element and its numbers.\n",
    "    Args:\n",
    "        elem (str): element.\n",
    "        n (int): element number.\n",
    "        chem_isotope_dist (numba.typed.Dict): use `CHEM_ISOTOPE_DIST` as parameter.\n",
    "        chem_mono_idx (numba.typed.Dict): use `CHEM_MONO_IDX` as parameter.\n",
    "    Returns:\n",
    "        np.array: isotope distribution of the element.\n",
    "        int: mono position in the distribution\n",
    "    '''\n",
    "    if n == 0: return EMPTY_DIST.copy(), 0\n",
    "    elif n == 1: return chem_isotope_dist[elem], chem_mono_idx[elem]\n",
    "    tmp_dist, mono_idx = one_element_dist(elem, n//2, chem_isotope_dist, chem_mono_idx)\n",
    "    tmp_dist, mono_idx = abundance_convolution(tmp_dist, mono_idx, tmp_dist, mono_idx)\n",
    "    if n%2 == 0:\n",
    "        return tmp_dist, mono_idx\n",
    "    else:\n",
    "        return abundance_convolution(tmp_dist, mono_idx, chem_isotope_dist[elem], chem_mono_idx[elem])"
   ]
  },
  {
   "cell_type": "code",
   "execution_count": null,
   "metadata": {},
   "outputs": [],
   "source": [
    "#export\n",
    "def formula_dist(\n",
    "    formula_list:typing.List[typing.Tuple[str,int]]\n",
    ")->typing.Tuple[np.array, int]:\n",
    "    '''\n",
    "    Generate the isotope distribution and the mono index for \n",
    "    a given formula (as a list, e.g. `[('H', 2), ('C', 2), ('O', 1)]`),\n",
    "    Args:\n",
    "        formula_list (list of tuples[str,int]): \n",
    "            formula list, e.g. `[('H', 2), ('C', 2), ('O', 1)]`\n",
    "    Returns:\n",
    "        np.array: isotope distribution\n",
    "        int: mono position\n",
    "    '''\n",
    "    calc_dist = EMPTY_DIST.copy()\n",
    "    mono_idx = 0\n",
    "    for elem, n in formula_list:\n",
    "        _dist, _mono = one_element_dist(elem, n, CHEM_ISOTOPE_DIST, CHEM_MONO_IDX)\n",
    "        calc_dist, mono_idx = abundance_convolution(calc_dist, mono_idx, _dist, _mono)\n",
    "    return calc_dist, mono_idx"
   ]
  },
  {
   "cell_type": "markdown",
   "metadata": {},
   "source": [
    "## Compare calculated isotope distribution with sisweb.com/mstools/isotope.htm"
   ]
  },
  {
   "cell_type": "code",
   "execution_count": null,
   "metadata": {},
   "outputs": [
    {
     "name": "stdout",
     "output_type": "stream",
     "text": [
      "0\n"
     ]
    },
    {
     "data": {
      "text/plain": [
       "['100.0000',\n",
       " '0.1500',\n",
       " '0.0001',\n",
       " '0.0000',\n",
       " '0.0000',\n",
       " '0.0000',\n",
       " '0.0000',\n",
       " '0.0000',\n",
       " '0.0000',\n",
       " '0.0000']"
      ]
     },
     "execution_count": null,
     "metadata": {},
     "output_type": "execute_result"
    }
   ],
   "source": [
    "dist, mono_idx = one_element_dist('H', 10, CHEM_ISOTOPE_DIST, CHEM_MONO_IDX)\n",
    "print(mono_idx)\n",
    "[f'{d*100:.4f}' for d in dist/max(dist)]\n"
   ]
  },
  {
   "cell_type": "markdown",
   "metadata": {},
   "source": [
    "### Desired distribution for H10: (100, 0.16, 0.0001) calculated from sisweb.com/mstools/isotope.htm in low resolution mode (centroid mode)"
   ]
  },
  {
   "cell_type": "code",
   "execution_count": null,
   "metadata": {},
   "outputs": [
    {
     "data": {
      "text/plain": [
       "['100.0000',\n",
       " '0.1600',\n",
       " '0.0001',\n",
       " '0.0000',\n",
       " '0.0000',\n",
       " '0.0000',\n",
       " '0.0000',\n",
       " '0.0000',\n",
       " '0.0000',\n",
       " '0.0000']"
      ]
     },
     "execution_count": null,
     "metadata": {},
     "output_type": "execute_result"
    }
   ],
   "source": [
    "dist = np.zeros(MAX_ISOTOPE_LEN)\n",
    "dist[:3] = [100, 0.16, 0.0001]\n",
    "[f'{d*100:.4f}' for d in dist/max(dist)]"
   ]
  },
  {
   "cell_type": "code",
   "execution_count": null,
   "metadata": {},
   "outputs": [
    {
     "data": {
      "text/plain": [
       "[('C', 100), ('H', 100), ('O', 10)]"
      ]
     },
     "execution_count": null,
     "metadata": {},
     "output_type": "execute_result"
    }
   ],
   "source": [
    "formula = 'C(100)H(100)O(10)'\n",
    "formula = [item.split('(') for item in formula.strip(')').split(')')]\n",
    "formula = [(elem, int(n)) for elem, n in formula]\n",
    "formula"
   ]
  },
  {
   "cell_type": "code",
   "execution_count": null,
   "metadata": {},
   "outputs": [
    {
     "data": {
      "text/plain": [
       "1460.731601"
      ]
     },
     "execution_count": null,
     "metadata": {},
     "output_type": "execute_result"
    }
   ],
   "source": [
    "mass = np.sum([CHEM_MONO_MASS[elem]*n for elem,n in formula])\n",
    "mass"
   ]
  },
  {
   "cell_type": "code",
   "execution_count": null,
   "metadata": {},
   "outputs": [
    {
     "name": "stdout",
     "output_type": "stream",
     "text": [
      "0\n"
     ]
    },
    {
     "data": {
      "text/plain": [
       "['87.8624',\n",
       " '100.0000',\n",
       " '58.1497',\n",
       " '23.0071',\n",
       " '6.9586',\n",
       " '1.7138',\n",
       " '0.3575',\n",
       " '0.0649',\n",
       " '0.0104',\n",
       " '0.0015']"
      ]
     },
     "execution_count": null,
     "metadata": {},
     "output_type": "execute_result"
    },
    {
     "data": {
      "image/png": "[encoded data removed]",
      "text/plain": [
       "<Figure size 432x288 with 1 Axes>"
      ]
     },
     "metadata": {
      "needs_background": "light"
     },
     "output_type": "display_data"
    }
   ],
   "source": [
    "try:\n",
    "    import matplotlib.pyplot as plt\n",
    "except:\n",
    "    plt = None\n",
    "calc_dist, mono_idx = formula_dist(formula)\n",
    "print(mono_idx)\n",
    "\n",
    "if plt: plt.vlines(np.arange(len(calc_dist)), ymin=np.zeros_like(calc_dist), ymax=calc_dist)\n",
    "[f'{d*100:.4f}' for d in calc_dist/max(calc_dist)]\n"
   ]
  },
  {
   "cell_type": "markdown",
   "metadata": {},
   "source": [
    "### Desired distribution for `C(100)H(100)O(10)`: `(90.7784, 100, 56.368, 21.6475, 6.3624, 1.524, 0.3093)` calculated from sisweb.com/mstools/isotope.htm in low resolution mode (centroid mode)"
   ]
  },
  {
   "cell_type": "code",
   "execution_count": null,
   "metadata": {},
   "outputs": [
    {
     "data": {
      "text/plain": [
       "['90.7784',\n",
       " '100.0000',\n",
       " '56.3680',\n",
       " '21.6475',\n",
       " '6.3624',\n",
       " '1.5240',\n",
       " '0.3093',\n",
       " '0.0000',\n",
       " '0.0000',\n",
       " '0.0000']"
      ]
     },
     "execution_count": null,
     "metadata": {},
     "output_type": "execute_result"
    },
    {
     "data": {
      "image/png": "[encoded data removed]",
      "text/plain": [
       "<Figure size 432x288 with 1 Axes>"
      ]
     },
     "metadata": {
      "needs_background": "light"
     },
     "output_type": "display_data"
    }
   ],
   "source": [
    "target_dist = np.zeros(MAX_ISOTOPE_LEN)\n",
    "\n",
    "target_dist[:7] = [90.7784, 100, 56.368, 21.6475, 6.3624, 1.524, 0.3093]\n",
    "if plt: plt.vlines(np.arange(len(target_dist)), ymin=np.zeros_like(target_dist), ymax=target_dist)\n",
    "[f'{d*100:.4f}' for d in target_dist/max(target_dist)]"
   ]
  },
  {
   "cell_type": "markdown",
   "metadata": {},
   "source": [
    "### The target and calculated distributions are very similar"
   ]
  },
  {
   "cell_type": "code",
   "execution_count": null,
   "metadata": {},
   "outputs": [
    {
     "data": {
      "text/plain": [
       "1.0"
      ]
     },
     "execution_count": null,
     "metadata": {},
     "output_type": "execute_result"
    }
   ],
   "source": [
    "cosine = np.sum(calc_dist*target_dist)/np.sum(np.sqrt(calc_dist**2 * target_dist**2))\n",
    "cosine"
   ]
  },
  {
   "cell_type": "markdown",
   "metadata": {},
   "source": [
    "### Compare with Averagine"
   ]
  },
  {
   "cell_type": "code",
   "execution_count": null,
   "metadata": {},
   "outputs": [
    {
     "data": {
      "text/plain": [
       "(13, 16)"
      ]
     },
     "execution_count": null,
     "metadata": {},
     "output_type": "execute_result"
    }
   ],
   "source": [
    "averagine_aa = {}\n",
    "averagine_aa[\"C\"] = 4.9384\n",
    "averagine_aa[\"H\"] = 7.7583\n",
    "averagine_aa[\"N\"] = 1.3577\n",
    "averagine_aa[\"O\"] = 1.4773\n",
    "averagine_aa[\"S\"] = 0.0417\n",
    "averagine_avg = 111.1254\n",
    "\n",
    "nAA = int(mass/averagine_avg)\n",
    "nH = int(mass - nAA*averagine_avg)\n",
    "nAA, nH"
   ]
  },
  {
   "cell_type": "code",
   "execution_count": null,
   "metadata": {},
   "outputs": [
    {
     "data": {
      "text/plain": [
       "['100.0000',\n",
       " '80.3436',\n",
       " '35.7405',\n",
       " '11.4293',\n",
       " '2.9118',\n",
       " '0.6241',\n",
       " '0.1163',\n",
       " '0.0193',\n",
       " '0.0029',\n",
       " '0.0004']"
      ]
     },
     "execution_count": null,
     "metadata": {},
     "output_type": "execute_result"
    },
    {
     "data": {
      "image/png": "[encoded data removed]",
      "text/plain": [
       "<Figure size 432x288 with 1 Axes>"
      ]
     },
     "metadata": {
      "needs_background": "light"
     },
     "output_type": "display_data"
    }
   ],
   "source": [
    "if nH:\n",
    "    calc_dist, mono_idx = one_element_dist('H', nH, CHEM_ISOTOPE_DIST, CHEM_MONO_IDX)\n",
    "else:\n",
    "    calc_dist = EMPTY_DIST.copy()\n",
    "    mono_idx = 0\n",
    "for elem, num in averagine_aa.items():\n",
    "    n = int(nAA*num)\n",
    "    _dist, _mono = one_element_dist(elem, n, CHEM_ISOTOPE_DIST, CHEM_MONO_IDX)\n",
    "    calc_dist, mono_idx = abundance_convolution(calc_dist, mono_idx, _dist, _mono)\n",
    "if plt: plt.vlines(np.arange(len(calc_dist)), ymin=np.zeros_like(calc_dist), ymax=calc_dist)\n",
    "[f'{d*100:.4f}' for d in calc_dist/max(calc_dist)]"
   ]
  },
  {
   "cell_type": "code",
   "execution_count": null,
   "metadata": {},
   "outputs": [
    {
     "name": "stdout",
     "output_type": "stream",
     "text": [
      "mono isotope idx is 1\n"
     ]
    },
    {
     "data": {
      "text/plain": [
       "['0.8823',\n",
       " '88.3536',\n",
       " '100.0000',\n",
       " '58.0412',\n",
       " '22.9427',\n",
       " '6.9352',\n",
       " '1.7074',\n",
       " '0.3561',\n",
       " '0.0646',\n",
       " '0.0104']"
      ]
     },
     "execution_count": null,
     "metadata": {},
     "output_type": "execute_result"
    },
    {
     "data": {
      "image/png": "[encoded data removed]",
      "text/plain": [
       "<Figure size 432x288 with 1 Axes>"
      ]
     },
     "metadata": {
      "needs_background": "light"
     },
     "output_type": "display_data"
    }
   ],
   "source": [
    "formula = 'C(100)H(100)O(10)13C(1)'\n",
    "formula = [item.split('(') for item in formula.strip(')').split(')')]\n",
    "formula = [(elem, int(n)) for elem, n in formula]\n",
    "\n",
    "calc_dist, mono_idx = formula_dist(formula)\n",
    "print(f'mono isotope idx is {mono_idx}')\n",
    "\n",
    "if plt: plt.vlines(np.arange(len(calc_dist)), ymin=np.zeros_like(calc_dist), ymax=calc_dist)\n",
    "[f'{d*100:.4f}' for d in calc_dist/max(calc_dist)]"
   ]
  },
  {
   "cell_type": "code",
   "execution_count": null,
   "metadata": {},
   "outputs": [],
   "source": []
  }
 ],
 "metadata": {
  "kernelspec": {
   "display_name": "Python 3.8.3 64-bit ('base': conda)",
   "name": "python3"
  }
 },
 "nbformat": 4,
 "nbformat_minor": 2
}
