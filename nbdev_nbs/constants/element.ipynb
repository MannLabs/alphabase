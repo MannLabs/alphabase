{
 "cells": [
  {
   "cell_type": "code",
   "execution_count": null,
   "metadata": {},
   "outputs": [],
   "source": [
    "#| default_exp constants.element"
   ]
  },
  {
   "cell_type": "markdown",
   "metadata": {},
   "source": [
    "# Atom element information"
   ]
  },
  {
   "cell_type": "markdown",
   "metadata": {},
   "source": [
    "`alphabase.constants.element`"
   ]
  },
  {
   "cell_type": "code",
   "execution_count": null,
   "metadata": {},
   "outputs": [],
   "source": [
    "#| export\n",
    "\n",
    "import os\n",
    "import numpy as np\n",
    "import numba\n",
    "\n",
    "from alphabase.yaml_utils import load_yaml\n",
    "\n",
    "from alphabase.constants._const import CONST_FILE_FOLDER"
   ]
  },
  {
   "cell_type": "code",
   "execution_count": null,
   "metadata": {},
   "outputs": [],
   "source": [
    "#| export\n",
    "\n",
    "common_const_dict:dict = load_yaml(\n",
    "    os.path.join(CONST_FILE_FOLDER, 'common_constants.yaml')\n",
    ")\n",
    "\n",
    "MASS_PROTON:float = common_const_dict['MASS_PROTON']\n",
    "MASS_ISOTOPE:float = common_const_dict['MASS_ISOTOPE']"
   ]
  },
  {
   "cell_type": "markdown",
   "metadata": {},
   "source": [
    "When we have the chemical element information, we define the max isotope abundance distribution length (`MAX_ISOTOPE_LEN`) for each element and combination of elements. If the isotope length is larger than `MAX_ISOTOPE_LEN`, we `truncate_isotope()` by keeping the monoisotope and its top `MAX_ISOTOPE_LEN-1` abundant neighbors.\n",
    "\n",
    "`EMPTY_DIST` defines a \"zero element\", its monoisotopic position is 0 with abundance 1. It is used for abundance convolution between different isotopes (see `abundance_convolution()`)."
   ]
  },
  {
   "cell_type": "code",
   "execution_count": null,
   "metadata": {},
   "outputs": [],
   "source": [
    "#| export\n",
    "\n",
    "MAX_ISOTOPE_LEN = common_const_dict['MAX_ISOTOPE_LEN']\n",
    "EMPTY_DIST = np.zeros(MAX_ISOTOPE_LEN)\n",
    "EMPTY_DIST[0] = 1\n",
    "\n",
    "@numba.njit\n",
    "def truncate_isotope(\n",
    "    isotopes: np.ndarray, mono_idx: int\n",
    ")->tuple:\n",
    "    '''\n",
    "    For a given isotope distribution (intensity patterns), \n",
    "    this function truncates the distribution by top \n",
    "    `MAX_ISOTOPE_LEN` neighbors those contain the monoisotopic \n",
    "    peak pointed by `mono_idx`.\n",
    "\n",
    "    Parameters\n",
    "    ----------\n",
    "    isotopes : np.ndarray\n",
    "\n",
    "        Isotope patterns with size > `MAX_ISOTOPE_LEN`.\n",
    "\n",
    "    mono_idx : int\n",
    "\n",
    "        Monoisotopic peak position (index) in the isotope patterns\n",
    "            \n",
    "    Returns\n",
    "    -------\n",
    "    int\n",
    "    \n",
    "        the new position of `mono_idx`\n",
    "\n",
    "    int\n",
    "    \n",
    "        the start position of the truncated isotopes\n",
    "\n",
    "    int\n",
    "    \n",
    "        the end position of the truncated isotopes\n",
    "    '''\n",
    "    trunc_start = mono_idx - 1\n",
    "    trunc_end = mono_idx + 1\n",
    "    while trunc_start >= 0 and trunc_end < len(isotopes) and (trunc_end-trunc_start-1)<MAX_ISOTOPE_LEN:\n",
    "        if isotopes[trunc_end] >= isotopes[trunc_start]:\n",
    "            trunc_end += 1\n",
    "        else:\n",
    "            trunc_start -= 1\n",
    "    if trunc_end-trunc_start-1 < MAX_ISOTOPE_LEN:\n",
    "        if trunc_start == -1:\n",
    "            trunc_end = MAX_ISOTOPE_LEN\n",
    "        elif trunc_end == len(isotopes):\n",
    "            trunc_start = len(isotopes)-MAX_ISOTOPE_LEN-1\n",
    "    return mono_idx-trunc_start-1, trunc_start+1, trunc_end"
   ]
  },
  {
   "cell_type": "markdown",
   "metadata": {},
   "source": [
    "### Load chemical element information\n",
    "\n",
    "First, we load `alphadeep/constants/nist_element.yaml` into `CHEM_INFO_DICT`, which is the base dict for further processing.\n",
    "\n",
    "Then we call `reset_elements()` to extract corresponding information for `CHEM_MONO_MASS` (mono mass dict), `CHEM_ISOTOPE_DIST` (isotope distribution dict), and `CHEM_MONO_IDX` (dict of mono position in the isotope distribution).\n",
    "\n",
    "At last, `MASS_H2O` and `MASS_NH3` are re-calculated based on masses of `H`, `O`, and `N` in `CHEM_MONO_MASS`.\n",
    "\n",
    "All these steps are done in `load_elem_yaml(yaml_file)`."
   ]
  },
  {
   "cell_type": "code",
   "execution_count": null,
   "metadata": {},
   "outputs": [],
   "source": [
    "#| export\n",
    "\n",
    "#: chemical element information in dict defined by `nist_element.yaml`\n",
    "CHEM_INFO_DICT = {}\n",
    "\n",
    "#: {element: mass}\n",
    "CHEM_MONO_MASS = {}\n",
    "\n",
    "#: {element: np.ndarray of abundance distribution}\n",
    "CHEM_ISOTOPE_DIST:numba.typed.Dict = numba.typed.Dict.empty(\n",
    "    key_type=numba.types.unicode_type,\n",
    "    value_type=numba.types.float64[:]\n",
    ")\n",
    "\n",
    "#: {element: int (mono position)}\n",
    "CHEM_MONO_IDX:numba.typed.Dict = numba.typed.Dict.empty(\n",
    "    key_type=numba.types.unicode_type,\n",
    "    value_type=numba.types.int64\n",
    ")\n",
    "\n",
    "MASS_H2O:int = None #raise errors if the value is not reset\n",
    "MASS_NH3:int = None\n",
    "\n",
    "def reset_elements():\n",
    "    for elem, items in CHEM_INFO_DICT.items():\n",
    "        isotopes = np.array(items['abundance'])\n",
    "        masses = np.array(items['mass'])\n",
    "        _sort_idx = np.argsort(masses)\n",
    "        masses = masses[_sort_idx]\n",
    "        isotopes = isotopes[_sort_idx]\n",
    "        _mass_pos = np.round(masses).astype(int)\n",
    "        _mass_pos = _mass_pos - _mass_pos[0]\n",
    "        if _mass_pos[-1] - _mass_pos[0] + 1 <= MAX_ISOTOPE_LEN:\n",
    "            _isos = np.zeros(MAX_ISOTOPE_LEN)\n",
    "            _isos[_mass_pos] = isotopes\n",
    "            _masses = np.zeros(MAX_ISOTOPE_LEN)\n",
    "            _masses[_mass_pos] = masses\n",
    "            mono_idx = np.argmax(_isos)\n",
    "\n",
    "            CHEM_MONO_MASS[elem] = _masses[mono_idx]\n",
    "            CHEM_ISOTOPE_DIST[elem] = _isos\n",
    "            CHEM_MONO_IDX[elem] = mono_idx\n",
    "        else:\n",
    "            _isos = np.zeros(_mass_pos[-1] - _mass_pos[0] + 1)\n",
    "            _isos[_mass_pos] = isotopes\n",
    "            _masses = np.zeros(_mass_pos[-1] - _mass_pos[0] + 1)\n",
    "            _masses[_mass_pos] = masses\n",
    "            mono_idx = np.argmax(_isos)\n",
    "            CHEM_MONO_MASS[elem] = _masses[mono_idx]\n",
    "\n",
    "            _mono_idx, start, end = truncate_isotope(_isos, mono_idx)\n",
    "\n",
    "            CHEM_ISOTOPE_DIST[elem] = _isos[start:end]\n",
    "            CHEM_MONO_IDX[elem] = _mono_idx\n",
    "\n",
    "def load_elem_yaml(yaml_file:str):\n",
    "    '''Load built-in or user-defined element yaml file. Default yaml is: \n",
    "        os.path.join(_base_dir, 'nist_element.yaml')\n",
    "    '''\n",
    "    global CHEM_INFO_DICT\n",
    "    global CHEM_MONO_MASS\n",
    "    global CHEM_ISOTOPE_DIST\n",
    "    global CHEM_MONO_IDX\n",
    "    global MASS_H2O\n",
    "    global MASS_NH3\n",
    "\n",
    "    CHEM_INFO_DICT = load_yaml(yaml_file)\n",
    "\n",
    "    CHEM_MONO_MASS = {}\n",
    "    CHEM_ISOTOPE_DIST = numba.typed.Dict.empty(\n",
    "        key_type=numba.types.unicode_type,\n",
    "        value_type=numba.types.float64[:]\n",
    "    )\n",
    "    \n",
    "    CHEM_MONO_IDX = numba.typed.Dict.empty(\n",
    "        key_type=numba.types.unicode_type,\n",
    "        value_type=numba.types.int64\n",
    "    )\n",
    "\n",
    "    reset_elements()\n",
    "        \n",
    "    MASS_H2O = CHEM_MONO_MASS['H']*2 + CHEM_MONO_MASS['O']\n",
    "    MASS_NH3 = CHEM_MONO_MASS['H']*3 + CHEM_MONO_MASS['N']\n",
    "\n",
    "load_elem_yaml(\n",
    "    os.path.join(CONST_FILE_FOLDER,\n",
    "        'nist_element.yaml'\n",
    "    )\n",
    ")"
   ]
  },
  {
   "cell_type": "markdown",
   "metadata": {},
   "source": [
    "### Calculate mass from a formula\n",
    "\n",
    "Now we have `CHEM_MONO_MASS`, we can calculate the mass of different chemical formula. Formula format: `H(1)C(2)O(3)...`"
   ]
  },
  {
   "cell_type": "code",
   "execution_count": null,
   "metadata": {},
   "outputs": [],
   "source": [
    "#| export\n",
    "def parse_formula(\n",
    "    formula:str\n",
    ")->list:\n",
    "    '''\n",
    "    Given a formula (str, e.g. `H(1)C(2)O(3)`), \n",
    "    it generates `[('H', 2), ('C', 2), ('O', 1)]`\n",
    "    '''\n",
    "    if not formula: return []\n",
    "    items = [item.split('(') for item in \n",
    "        formula.strip(')').split(')')\n",
    "    ]\n",
    "    return [(elem, int(n)) for elem, n in items]\n",
    "\n",
    "\n",
    "def calc_mass_from_formula(formula:str):\n",
    "    '''\n",
    "    Calculates the mass of the formula`\n",
    "\n",
    "    Parameters\n",
    "    ----------\n",
    "    formula : str\n",
    "        e.g. `H(1)C(2)O(3)`\n",
    "    \n",
    "    Returns\n",
    "    -------\n",
    "    float\n",
    "        mass of the formula\n",
    "    '''\n",
    "    return np.sum([\n",
    "        CHEM_MONO_MASS[elem]*n \n",
    "        for elem, n in parse_formula(formula)\n",
    "    ])"
   ]
  },
  {
   "cell_type": "markdown",
   "metadata": {},
   "source": [
    "Example"
   ]
  },
  {
   "cell_type": "code",
   "execution_count": null,
   "metadata": {},
   "outputs": [],
   "source": [
    "#| hide\n",
    "expected = [('H', 2), ('C', 2), ('O', 1)]\n",
    "for exp_val, output in zip(expected, parse_formula('H(2)C(2)O(1)')):\n",
    "    assert exp_val == output"
   ]
  },
  {
   "cell_type": "code",
   "execution_count": null,
   "metadata": {},
   "outputs": [],
   "source": [
    "#| hide\n",
    "assert abs(calc_mass_from_formula('H(2)C(2)O(1)')-42.010564684)<1e-6"
   ]
  },
  {
   "cell_type": "code",
   "execution_count": null,
   "metadata": {},
   "outputs": [],
   "source": [
    "#| hide\n",
    "assert calc_mass_from_formula('')==0"
   ]
  },
  {
   "cell_type": "code",
   "execution_count": null,
   "metadata": {},
   "outputs": [],
   "source": []
  }
 ],
 "metadata": {
  "kernelspec": {
   "display_name": "Python 3.8.3 ('base')",
   "language": "python",
   "name": "python3"
  }
 },
 "nbformat": 4,
 "nbformat_minor": 2
}
