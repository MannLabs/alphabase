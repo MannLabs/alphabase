{
 "cells": [
  {
   "cell_type": "code",
   "execution_count": null,
   "metadata": {},
   "outputs": [],
   "source": [
    "#---#| default_exp constants.element"
   ]
  },
  {
   "cell_type": "markdown",
   "metadata": {},
   "source": [
    "# Atom element information"
   ]
  },
  {
   "cell_type": "markdown",
   "metadata": {},
   "source": [
    "When we have the chemical element information, we define the max isotope abundance distribution length (`MAX_ISOTOPE_LEN`) for each element and combination of elements. If the isotope length is larger than `MAX_ISOTOPE_LEN`, we `truncate_isotope` by keeping the monoisotope and its top `MAX_ISOTOPE_LEN-1` abundant neighbors.\n",
    "\n",
    "`EMPTY_DIST` defines a \"zero element\", its monoisotopic position is 0 with abundance 1. It is used for abundance convolution between different isotopes (see `abundance_convolution`)."
   ]
  },
  {
   "cell_type": "markdown",
   "metadata": {},
   "source": [
    "### Load chemical element information\n",
    "\n",
    "First, we load `alphadeep/constants/nist_element.yaml` into `CHEM_INFO_DICT`, which is the base dict for further processing.\n",
    "\n",
    "Then we call `reset_elements` to extract corresponding information for `CHEM_MONO_MASS` (mono mass dict), `CHEM_ISOTOPE_DIST` (isotope distribution dict), and `CHEM_MONO_IDX` (dict of mono position in the isotope distribution).\n",
    "\n",
    "At last, `MASS_H2O` and `MASS_NH3` are re-calculated based on masses of `H`, `O`, and `N` in `CHEM_MONO_MASS`.\n",
    "\n",
    "All these steps are done in `load_elem_yaml(yaml_file)`."
   ]
  },
  {
   "cell_type": "markdown",
   "metadata": {},
   "source": [
    "### Calculate mass from a formula\n",
    "\n",
    "Now we have `CHEM_MONO_MASS`, we can calculate the mass of different chemical formula. Formula format: `H(1)C(2)O(3)...`"
   ]
  },
  {
   "cell_type": "markdown",
   "metadata": {},
   "source": [
    "Example"
   ]
  },
  {
   "cell_type": "code",
   "execution_count": null,
   "metadata": {},
   "outputs": [],
   "source": [
    "from alphabase.constants.element import *"
   ]
  },
  {
   "cell_type": "code",
   "execution_count": null,
   "metadata": {},
   "outputs": [],
   "source": [
    "#| hide\n",
    "expected = [('H', 2), ('C', 2), ('O', 1)]\n",
    "for exp_val, output in zip(expected, parse_formula('H(2)C(2)O(1)')):\n",
    "    assert exp_val == output"
   ]
  },
  {
   "cell_type": "code",
   "execution_count": null,
   "metadata": {},
   "outputs": [],
   "source": [
    "#| hide\n",
    "assert abs(calc_mass_from_formula('H(2)C(2)O(1)')-42.010564684)<1e-6"
   ]
  },
  {
   "cell_type": "code",
   "execution_count": null,
   "metadata": {},
   "outputs": [],
   "source": [
    "#| hide\n",
    "assert calc_mass_from_formula('')==0"
   ]
  },
  {
   "cell_type": "code",
   "execution_count": null,
   "metadata": {},
   "outputs": [],
   "source": []
  }
 ],
 "metadata": {
  "kernelspec": {
   "display_name": "Python 3.8.3 ('base')",
   "language": "python",
   "name": "python3"
  }
 },
 "nbformat": 4,
 "nbformat_minor": 2
}
