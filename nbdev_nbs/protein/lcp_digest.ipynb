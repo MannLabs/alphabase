{
 "cells": [
  {
   "cell_type": "code",
   "execution_count": null,
   "metadata": {},
   "outputs": [],
   "source": [
    "#default_exp protein.lcp_digest"
   ]
  },
  {
   "cell_type": "markdown",
   "metadata": {},
   "source": [
    "# Experimental features"
   ]
  },
  {
   "cell_type": "code",
   "execution_count": null,
   "metadata": {},
   "outputs": [
    {
     "data": {
      "text/plain": [
       "(array([ 1,  1,  1,  1,  2,  2,  2,  2,  3,  3,  3,  3,  9,  9, 15, 15, 15,\n",
       "        16, 16, 17, 20, 20, 20, 21, 21, 21, 22, 22, 23], dtype=uint32),\n",
       " array([ 5,  6,  7,  8,  5,  6,  7,  8,  5,  6,  7,  8, 13, 14, 17, 18, 19,\n",
       "        18, 19, 19, 23, 24, 25, 23, 24, 25, 24, 25, 25], dtype=uint32))"
      ]
     },
     "execution_count": null,
     "metadata": {},
     "output_type": "execute_result"
    }
   ],
   "source": [
    "#export\n",
    "\n",
    "import numba\n",
    "import numpy as np\n",
    "from pydivsufsort import divsufsort, kasai\n",
    " \n",
    "def get_lcp_array(cat_prot):\n",
    "    suffix_array = divsufsort(cat_prot)\n",
    "    lcp_array = kasai(cat_prot, suffix_array)\n",
    "    return lcp_array[np.argsort(suffix_array)]\n",
    "\n",
    "@numba.njit\n",
    "def get_next_stop_char(seq, stop_char='$'):\n",
    "    next_stop_indices = np.zeros(len(seq), dtype=np.uint32)\n",
    "    curr_next_stop = len(seq)-1\n",
    "    for i in range(len(seq)-1, -1, -1):\n",
    "        if seq[i]==stop_char:\n",
    "            curr_next_stop = i\n",
    "        else:\n",
    "            next_stop_indices[i] = curr_next_stop\n",
    "    return next_stop_indices\n",
    "\n",
    "@numba.njit\n",
    "def get_all_substring_indices_from_lcp(cat_prot, lcp_array, min_len, max_len, stop_char='$'):\n",
    "    pos_starts = []\n",
    "    pos_ends = []\n",
    "    next_stops = get_next_stop_char(cat_prot, stop_char)\n",
    "    for i in range(len(cat_prot)):\n",
    "        if cat_prot[i] == stop_char: continue\n",
    "        for seq_len in range(\n",
    "            max(lcp_array[i]+1,min_len), \n",
    "            min(len(cat_prot)-i,max_len+1)\n",
    "        ):\n",
    "            end_pos = i+seq_len\n",
    "            if end_pos>next_stops[i]: break\n",
    "            pos_starts.append(i)\n",
    "            pos_ends.append(end_pos)\n",
    "    return np.array(pos_starts,dtype=np.uint32), np.array(pos_ends,dtype=np.uint32)\n",
    "\n",
    "def get_substring_indices(cat_prot, min_len=7, max_len=25, stop_char='$'):\n",
    "    lcp_array = get_lcp_array(cat_prot)\n",
    "    return get_all_substring_indices_from_lcp(cat_prot, lcp_array, min_len, max_len, stop_char=stop_char)\n",
    "\n",
    "#compile\n",
    "get_substring_indices(\"$ABCABCD$ABCDE$ABCE$BCDEF$\", 2, 100)"
   ]
  },
  {
   "cell_type": "code",
   "execution_count": null,
   "metadata": {},
   "outputs": [],
   "source": [
    "#hide\n",
    "cat_prots = \"$ABCABCD$ABCDE$ABCE$BCDEF$\"\n",
    "pos_starts, pos_ends = get_substring_indices(cat_prots, 2, 100)\n",
    "substr_set = set()\n",
    "for start,end in zip(pos_starts, pos_ends):\n",
    "    substr_set.add(cat_prots[start:end])\n",
    "assert len(substr_set)==len(pos_starts) #not redundant\n",
    "for i in range(len(cat_prots)):\n",
    "    for j in range(i+2,len(cat_prots)):\n",
    "        if '$' in cat_prots[i:j]: break\n",
    "        assert cat_prots[i:j] in substr_set, f\"{cat_prots[i:j]} not found\" #not missing"
   ]
  },
  {
   "cell_type": "code",
   "execution_count": null,
   "metadata": {},
   "outputs": [],
   "source": []
  }
 ],
 "metadata": {
  "kernelspec": {
   "display_name": "Python 3.8.3 ('base')",
   "language": "python",
   "name": "python3"
  }
 },
 "nbformat": 4,
 "nbformat_minor": 2
}
