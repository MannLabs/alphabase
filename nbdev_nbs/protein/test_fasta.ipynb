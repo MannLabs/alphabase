{
 "cells": [
  {
   "cell_type": "code",
   "execution_count": null,
   "metadata": {},
   "outputs": [],
   "source": [
    "%reload_ext autoreload\n",
    "%autoreload 2"
   ]
  },
  {
   "cell_type": "markdown",
   "metadata": {},
   "source": [
    "# Testing fasta"
   ]
  },
  {
   "cell_type": "markdown",
   "metadata": {},
   "source": [
    "Use FastaLib to build a library (database)"
   ]
  },
  {
   "cell_type": "markdown",
   "metadata": {},
   "source": [
    "#### Init fasta lib"
   ]
  },
  {
   "cell_type": "code",
   "execution_count": null,
   "metadata": {},
   "outputs": [],
   "source": [
    "from alphabase.protein.fasta import FastaLib\n",
    "\n",
    "protein_dict = {\n",
    "    'xx': {\n",
    "        'protein_id': 'xx',\n",
    "        'sequence': 'MACDESTYKBKFGHIKLMNPQRST'\n",
    "    },\n",
    "    'yy': {\n",
    "        'protein_id': 'yy',\n",
    "        'sequence': 'FGHIKLMNPQR'\n",
    "    }\n",
    "}\n",
    "\n",
    "fastalib = FastaLib(\n",
    "    ['b_z1','b_z2','y_z1','y_z2'], \n",
    "    var_mods=['Oxidation@M','Acetyl@Protein N-term'],\n",
    "    fix_mods=['Carbamidomethyl@C'],\n",
    "    decoy='pseudo_reverse',\n",
    "    I_to_L=False, \n",
    ")\n"
   ]
  },
  {
   "cell_type": "markdown",
   "metadata": {},
   "source": [
    "Call `import_protein_dict` or `import_fasta` to load proteins, append decoys, add modifications and add charge states.\n",
    "\n",
    "```\n",
    "fastalib.import_fasta([fasta1, fasta2])\n",
    "```"
   ]
  },
  {
   "cell_type": "code",
   "execution_count": null,
   "metadata": {},
   "outputs": [
    {
     "data": {
      "text/html": [
       "<div>\n",
       "<style scoped>\n",
       "    .dataframe tbody tr th:only-of-type {\n",
       "        vertical-align: middle;\n",
       "    }\n",
       "\n",
       "    .dataframe tbody tr th {\n",
       "        vertical-align: top;\n",
       "    }\n",
       "\n",
       "    .dataframe thead th {\n",
       "        text-align: right;\n",
       "    }\n",
       "</style>\n",
       "<table border=\"1\" class=\"dataframe\">\n",
       "  <thead>\n",
       "    <tr style=\"text-align: right;\">\n",
       "      <th></th>\n",
       "      <th>protein_id</th>\n",
       "      <th>sequence</th>\n",
       "    </tr>\n",
       "  </thead>\n",
       "  <tbody>\n",
       "    <tr>\n",
       "      <th>0</th>\n",
       "      <td>xx</td>\n",
       "      <td>MACDESTYKBKFGHIKLMNPQRST</td>\n",
       "    </tr>\n",
       "    <tr>\n",
       "      <th>1</th>\n",
       "      <td>yy</td>\n",
       "      <td>FGHIKLMNPQR</td>\n",
       "    </tr>\n",
       "  </tbody>\n",
       "</table>\n",
       "</div>"
      ],
      "text/plain": [
       "  protein_id                  sequence\n",
       "0         xx  MACDESTYKBKFGHIKLMNPQRST\n",
       "1         yy               FGHIKLMNPQR"
      ]
     },
     "execution_count": null,
     "metadata": {},
     "output_type": "execute_result"
    }
   ],
   "source": [
    "fastalib.import_and_process_protein_dict(protein_dict)\n",
    "fastalib.protein_df"
   ]
  },
  {
   "cell_type": "code",
   "execution_count": null,
   "metadata": {},
   "outputs": [],
   "source": [
    "assert 'decoy' in fastalib.precursor_df.columns\n",
    "assert 'mods' in fastalib.precursor_df.columns\n",
    "assert 'mod_sites' in fastalib.precursor_df.columns\n",
    "assert 'charge' in fastalib.precursor_df.columns"
   ]
  },
  {
   "cell_type": "markdown",
   "metadata": {},
   "source": [
    "Call `calc_precursor_isotope` to calculate the precursor_mz, and M1/M2 isotope mz and intensity."
   ]
  },
  {
   "cell_type": "code",
   "execution_count": null,
   "metadata": {},
   "outputs": [],
   "source": [
    "fastalib.calc_precursor_isotope()\n",
    "assert 'precursor_mz' in fastalib.precursor_df.columns\n",
    "assert 'isotope_apex_mz' in fastalib.precursor_df.columns\n",
    "assert 'isotope_apex_intensity' in fastalib.precursor_df.columns\n",
    "assert 'isotope_apex_offset' in fastalib.precursor_df.columns\n",
    "assert 'isotope_right_most_mz' in fastalib.precursor_df.columns\n",
    "assert 'isotope_right_most_intensity' in fastalib.precursor_df.columns\n",
    "assert 'isotope_right_most_offset' in fastalib.precursor_df.columns\n",
    "assert 'isotope_m1_mz' in fastalib.precursor_df.columns\n",
    "assert 'isotope_m1_intensity' in fastalib.precursor_df.columns"
   ]
  },
  {
   "cell_type": "markdown",
   "metadata": {},
   "source": [
    "Call `calc_fragment_mz_df` to calculate the fragment dataframe"
   ]
  },
  {
   "cell_type": "code",
   "execution_count": null,
   "metadata": {},
   "outputs": [],
   "source": [
    "fastalib.calc_fragment_mz_df()\n",
    "assert 'frag_start_idx' in fastalib.precursor_df.columns\n",
    "assert 'frag_end_idx' in fastalib.precursor_df.columns\n",
    "import numpy as np\n",
    "assert len(fastalib.fragment_mz_df) == (fastalib.precursor_df.nAA.values-1).sum()"
   ]
  },
  {
   "cell_type": "markdown",
   "metadata": {},
   "source": [
    "Use `save_hdf` to save as hdf file:\n",
    "```\n",
    "fastalib.save_hdf(hdf_file_path)\n",
    "```\n",
    "\n",
    "Then use `load_hdf` to load precursor and fragment dataframes:\n",
    "```\n",
    "fastalib.load_df(hdf_file_path, load_mod_seq=True)\n",
    "```"
   ]
  },
  {
   "cell_type": "code",
   "execution_count": null,
   "metadata": {},
   "outputs": [],
   "source": []
  }
 ],
 "metadata": {
  "kernelspec": {
   "display_name": "Python 3.8.3 ('base')",
   "language": "python",
   "name": "python3"
  }
 },
 "nbformat": 4,
 "nbformat_minor": 2
}
