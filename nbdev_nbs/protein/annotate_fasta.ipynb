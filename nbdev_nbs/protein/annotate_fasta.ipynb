{
 "cells": [
  {
   "cell_type": "code",
   "execution_count": 1,
   "metadata": {},
   "outputs": [],
   "source": [
    "%reload_ext autoreload\n",
    "%autoreload 2"
   ]
  },
  {
   "cell_type": "code",
   "execution_count": 4,
   "metadata": {},
   "outputs": [],
   "source": [
    "from alphabase.protein import fasta\n",
    "import pandas as pd"
   ]
  },
  {
   "cell_type": "code",
   "execution_count": 12,
   "metadata": {},
   "outputs": [],
   "source": [
    "protein_df = pd.DataFrame([\n",
    "    {\n",
    "        'protein_id': 'xx',\n",
    "        'full_name': 'xx_xx',\n",
    "        'gene_name': 'x_x',\n",
    "        'gene_org': 'xx_HUMAN',\n",
    "        'sequence': 'MACDESTYKBKFGHIKLMNPQRST'\n",
    "    },\n",
    "    {\n",
    "        'protein_id': 'yy',\n",
    "        'full_name': 'yy_yy',\n",
    "        'gene_name': 'y_y',\n",
    "        'gene_org': 'yy_HUMAN',\n",
    "        'sequence': 'FGHIKLMNPQR'\n",
    "    }\n",
    "])\n",
    "\n",
    "precursor_df = pd.DataFrame([\n",
    "    {\n",
    "        'charge': 2,\n",
    "        'sequence': 'MACDESTYK',\n",
    "    },\n",
    "    {\n",
    "        'charge': 3,\n",
    "        'sequence': 'MACDESTYK',\n",
    "    },\n",
    "    {\n",
    "        'charge': 2,\n",
    "        'sequence': 'MNPQ',\n",
    "    },\n",
    "    {\n",
    "        'charge': 3,\n",
    "        'sequence': 'MNPQKKKKK',\n",
    "    }\n",
    "])"
   ]
  },
  {
   "cell_type": "code",
   "execution_count": 15,
   "metadata": {},
   "outputs": [
    {
     "name": "stderr",
     "output_type": "stream",
     "text": [
      "100%|██████████| 2/2 [00:00<00:00, 17848.10it/s]"
     ]
    },
    {
     "name": "stderr",
     "output_type": "stream",
     "text": [
      "\n",
      "/Users/georgwallmann/Documents/git/alphabase/alphabase/protein/fasta.py:1384: UserWarning: 1 peptides could not be annotated\n",
      "  return precursor_df.merge(peptide_df, on='sequence', how='left')\n"
     ]
    }
   ],
   "source": [
    "output_precursor_df = fasta.annotate_precursor_df(precursor_df, protein_df)"
   ]
  },
  {
   "cell_type": "code",
   "execution_count": 20,
   "metadata": {},
   "outputs": [],
   "source": [
    "assert len(output_precursor_df) == len(precursor_df)\n",
    "assert output_precursor_df['cardinality'].tolist() == [1, 1, 2, 0]\n",
    "assert output_precursor_df['proteins'].tolist() == ['xx', 'xx', 'xx;yy', '']\n",
    "assert output_precursor_df['genes'].tolist() == ['xx_HUMAN', 'xx_HUMAN', 'xx_HUMAN;yy_HUMAN', '']"
   ]
  }
 ],
 "metadata": {
  "kernelspec": {
   "display_name": "alpha",
   "language": "python",
   "name": "python3"
  },
  "language_info": {
   "codemirror_mode": {
    "name": "ipython",
    "version": 3
   },
   "file_extension": ".py",
   "mimetype": "text/x-python",
   "name": "python",
   "nbconvert_exporter": "python",
   "pygments_lexer": "ipython3",
   "version": "3.9.13"
  }
 },
 "nbformat": 4,
 "nbformat_minor": 2
}
