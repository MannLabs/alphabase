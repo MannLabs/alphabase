{
 "cells": [
  {
   "cell_type": "code",
   "execution_count": null,
   "metadata": {},
   "outputs": [],
   "source": [
    "#default_exp protein.inference"
   ]
  },
  {
   "cell_type": "markdown",
   "metadata": {},
   "source": [
    "# Experimental features"
   ]
  },
  {
   "cell_type": "code",
   "execution_count": null,
   "metadata": {},
   "outputs": [],
   "source": [
    "#export\n",
    "import ahocorasick\n",
    "\n",
    "def build_AC(peptides:list):\n",
    "    AC = ahocorasick.Automaton()\n",
    "\n",
    "    for seq in peptides:\n",
    "        AC.add_word(seq, seq)\n",
    "    AC.make_automaton()\n",
    "\n",
    "def match_AC(AC:ahocorasick.Automaton, protein_seq):\n",
    "    start_last_list = []\n",
    "    for last_index, seq in AC.iter(protein_seq):\n",
    "        start_index = last_index - len(seq) + 1\n",
    "        start_last_list.append((start_index, last_index))\n",
    "    return start_last_list"
   ]
  },
  {
   "cell_type": "code",
   "execution_count": null,
   "metadata": {},
   "outputs": [],
   "source": []
  }
 ],
 "metadata": {
  "kernelspec": {
   "display_name": "Python 3",
   "language": "python",
   "name": "python3"
  }
 },
 "nbformat": 4,
 "nbformat_minor": 2
}
