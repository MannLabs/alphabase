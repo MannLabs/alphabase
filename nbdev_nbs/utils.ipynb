{
 "cells": [
  {
   "cell_type": "code",
   "execution_count": null,
   "metadata": {},
   "outputs": [],
   "source": [
    "#default_exp utils"
   ]
  },
  {
   "cell_type": "markdown",
   "metadata": {},
   "source": [
    "# Utils"
   ]
  },
  {
   "cell_type": "code",
   "execution_count": null,
   "metadata": {},
   "outputs": [],
   "source": [
    "#export\n",
    "import tqdm\n",
    "import os\n",
    "import sys\n",
    "import pandas as pd\n",
    "import itertools\n",
    "\n",
    "# from alphatims\n",
    "def process_bar(iterator, len_iter):\n",
    "    with tqdm.tqdm(total=len_iter) as bar:\n",
    "        i = 0\n",
    "        for i,iter in enumerate(iterator):\n",
    "            yield iter\n",
    "            bar.update()\n",
    "        bar.update(len_iter-i-1)\n",
    "\n",
    "def _flatten(list_of_lists):\n",
    "    '''\n",
    "    Flatten a list of lists\n",
    "    '''\n",
    "    return list(\n",
    "        itertools.chain.from_iterable(list_of_lists)\n",
    "    )\n",
    "\n",
    "def explode_multiple_columns(df:pd.DataFrame, columns:list):\n",
    "    try:\n",
    "        return df.explode(columns)\n",
    "    except ValueError:\n",
    "        # pandas <= 1.2.x?\n",
    "        print(f'pandas=={pd.__version__} cannot explode multiple columns')\n",
    "        ret_df = df.explode(columns[0])\n",
    "        for col in columns[1:]:\n",
    "            ret_df[col] = _flatten(df[col].values)\n",
    "        return ret_df"
   ]
  }
 ],
 "metadata": {},
 "nbformat": 4,
 "nbformat_minor": 2
}
