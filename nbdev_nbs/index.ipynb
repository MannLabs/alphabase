{
 "cells": [
  {
   "cell_type": "markdown",
   "metadata": {},
   "source": [
    "# AlphaBase"
   ]
  },
  {
   "cell_type": "markdown",
   "metadata": {},
   "source": [
    "<a href=\"https://github.com/MannLabs/alphabase/workflows/Default%20installation%20and%20tests/badge.svg\" alt=\"Pip Installation\">\n",
    "<img src=\"https://github.com/MannLabs/alphabase/workflows/Default%20installation%20and%20tests/badge.svg\" /></a>\n",
    "<a href=\"https://github.com/MannLabs/alphabase/workflows/Publish%20on%20PyPi%20and%20release%20on%20GitHub/badge.svg\" alt=\"GUI and PyPi releases\">\n",
    "<img src=\"https://github.com/MannLabs/alphabase/workflows/Publish%20on%20PyPi%20and%20release%20on%20GitHub/badge.svg\"/></a>\n",
    "<a href=\"https://pypi.org/project/peptdeep\" alt=\"pypi\">\n",
    "<img src=\"https://img.shields.io/pypi/v/alphabase\" /></a>\n",
    "<a href=\"https://pypi.org/project/alphabase\" alt=\"release\">\n",
    "<img src=\"https://img.shields.io/pypi/dm/alphabase?color=blue&label=pip%20downloads\"/></a>\n",
    "<img src=\"https://img.shields.io/pypi/pyversions/alphabase\"/>\n",
    "<img src=\"https://img.shields.io/github/languages/code-size/mannlabs/alphabase\"/>"
   ]
  },
  {
   "cell_type": "markdown",
   "metadata": {},
   "source": [
    "AlphaBase provides all basic python functionalities for AlphaPept ecosystem from the [Mann Labs at the Max Planck Institute of Biochemistry](https://www.biochem.mpg.de/mann) and the [University of Copenhagen](https://www.cpr.ku.dk/research/proteomics/mann/). To enable all hyperlinks in this document, please view it at [GitHub](https://github.com/MannLabs/alphabase). For documentation, please see [GitHub Pages](https://mannlabs.github.io/alphabase/)\n",
    "\n",
    "* [**About**](#about)\n",
    "* [**License**](#license)\n",
    "* [**Installation**](#installation)\n",
    "  * [**Pip installer**](#pip)\n",
    "  * [**Developer installer**](#developer)\n",
    "* [**Usage**](#usage)\n",
    "* [**Troubleshooting**](#troubleshooting)\n",
    "* [**Citations**](#citations)\n",
    "* [**How to contribute**](#how-to-contribute)\n",
    "* [**Changelog**](#changelog)\n",
    "\n",
    "---"
   ]
  },
  {
   "cell_type": "markdown",
   "metadata": {},
   "source": [
    "## About\n",
    "\n",
    "An open-source Python package of the AlphaPept ecosystem from the [Mann Labs at the Max Planck Institute of Biochemistry](https://www.biochem.mpg.de/mann) and the [University of Copenhagen](https://www.cpr.ku.dk/research/proteomics/mann/). It provides basic functionalities for AlphaPept ecosystem.\n",
    "\n",
    "---"
   ]
  },
  {
   "cell_type": "markdown",
   "metadata": {},
   "source": [
    "## License\n",
    "\n",
    "AlphaBase was developed by the [Mann Labs at the Max Planck Institute of Biochemistry](https://www.biochem.mpg.de/mann) and the [University of Copenhagen](https://www.cpr.ku.dk/research/proteomics/mann/) and is freely available with an [Apache License](LICENSE.txt). External Python packages (available in the [requirements](requirements) folder) have their own licenses, which can be consulted on their respective websites.\n",
    "\n",
    "---"
   ]
  },
  {
   "cell_type": "markdown",
   "metadata": {},
   "source": [
    "## Installation\n",
    "\n",
    "AlphaBase can be installed and used on all major operating systems (Windows, macOS and Linux).\n",
    "There are two different types of installation possible:\n",
    "\n",
    "* [**Pip installer:**](#pip) Choose this installation if you want to use AlphaBase as a Python package in an existing Python 3.8 environment (e.g. a Jupyter notebook). \n",
    "* [**Developer installer:**](#developer) Choose this installation if you are familiar with [conda](https://docs.conda.io/en/latest/) and Python. This installation allows access to all available features of AlphaBase and even allows to modify its source code directly. Generally, the developer version of AlphaBase outperforms the precompiled versions which makes this the installation of choice for high-throughput experiments.\n"
   ]
  },
  {
   "cell_type": "markdown",
   "metadata": {},
   "source": [
    "### Pip\n",
    "\n",
    "AlphaBase can be installed in an existing Python 3.8 environment with a single `bash` command. *This `bash` command can also be run directly from within a Jupyter notebook by prepending it with a `!`*:\n",
    "\n",
    "```bash\n",
    "pip install alphabase\n",
    "```\n",
    "\n",
    "Installing AlphaBase like this avoids conflicts when integrating it in other tools, as this does not enforce strict versioning of dependancies. However, if new versions of dependancies are released, they are not guaranteed to be fully compatible with AlphaBase. While this should only occur in rare cases where dependencies are not backwards compatible, you can always force AlphaBase to use dependancy versions which are known to be compatible with:\n",
    "\n",
    "```bash\n",
    "pip install \"alphabase[stable]\"\n",
    "```\n",
    "\n",
    "NOTE: You might need to run `pip install -U pip` before installing AlphaBase like this. Also note the double quotes `\"`.\n",
    "\n",
    "For those who are really adventurous, it is also possible to directly install any branch (e.g. `@development`) with any extras (e.g. `#egg=alphabase[stable,development-stable]`) from GitHub with e.g.\n",
    "\n",
    "```bash\n",
    "pip install \"git+https://github.com/MannLabs/alphabase.git@development#egg=alphabase[stable,development-stable]\"\n",
    "```\n"
   ]
  },
  {
   "cell_type": "markdown",
   "metadata": {},
   "source": [
    "### Developer\n",
    "\n",
    "AlphaBase can also be installed in editable (i.e. developer) mode with a few `bash` commands. This allows to fully customize the software and even modify the source code to your specific needs. When an editable Python package is installed, its source code is stored in a transparent location of your choice. While optional, it is advised to first (create and) navigate to e.g. a general software folder:\n",
    "\n",
    "```bash\n",
    "mkdir ~/folder/where/to/install/software\n",
    "cd ~/folder/where/to/install/software\n",
    "```\n",
    "\n",
    "***The following commands assume you do not perform any additional `cd` commands anymore***.\n",
    "\n",
    "Next, download the AlphaBase repository from GitHub either directly or with a `git` command. This creates a new AlphaBase subfolder in your current directory.\n",
    "\n",
    "```bash\n",
    "git clone https://github.com/MannLabs/alphabase.git\n",
    "```\n",
    "\n",
    "For any Python package, it is highly recommended to use a separate [conda virtual environment](https://docs.conda.io/en/latest/), as otherwise *dependancy conflicts can occur with already existing packages*.\n",
    "\n",
    "```bash\n",
    "conda create --name alphabase python=3.8 -y\n",
    "conda activate alphabase\n",
    "```\n",
    "\n",
    "Finally, AlphaBase and all its [dependancies](requirements) need to be installed. To take advantage of all features and allow development (with the `-e` flag), this is best done by also installing the [development dependencies](requirements/requirements_development.txt) instead of only the [core dependencies](requirements/requirements.txt):\n",
    "\n",
    "```bash\n",
    "pip install -e \"./alphabase[development]\"\n",
    "```\n",
    "\n",
    "By default this installs loose dependancies (no explicit versioning), although it is also possible to use stable dependencies (e.g. `pip install -e \"./alphabase[stable,development-stable]\"`).\n",
    "\n",
    "***By using the editable flag `-e`, all modifications to the [AlphaBase source code folder](alphabase) are directly reflected when running AlphaBase. Note that the AlphaBase folder cannot be moved and/or renamed if an editable version is installed. In case of confusion, you can always retrieve the location of any Python module with e.g. the command `import module` followed by `module.__file__`.***\n",
    "\n",
    "---"
   ]
  },
  {
   "cell_type": "markdown",
   "metadata": {},
   "source": [
    "## Usage\n",
    "\n",
    "TODO\n",
    "\n",
    "---"
   ]
  },
  {
   "cell_type": "markdown",
   "metadata": {},
   "source": [
    "## Troubleshooting\n",
    "\n",
    "In case of issues, check out the following:\n",
    "\n",
    "* [Issues](https://github.com/MannLabs/alphabase/issues): Try a few different search terms to find out if a similar problem has been encountered before\n",
    "* [Discussions](https://github.com/MannLabs/alphabase/discussions): Check if your problem or feature requests has been discussed before.\n",
    "\n",
    "---"
   ]
  },
  {
   "cell_type": "markdown",
   "metadata": {},
   "source": [
    "## Citations\n",
    "\n",
    "There are currently no plans to draft a manuscript.\n",
    "\n",
    "---"
   ]
  },
  {
   "cell_type": "markdown",
   "metadata": {},
   "source": [
    "## How to contribute\n",
    "\n",
    "If you like this software, you can give us a [star](https://github.com/MannLabs/alphabase/stargazers) to boost our visibility! All direct contributions are also welcome. Feel free to post a new [issue](https://github.com/MannLabs/alphabase/issues) or clone the repository and create a [pull request](https://github.com/MannLabs/alphabase/pulls) with a new branch. For an even more interactive participation, check out the [discussions](https://github.com/MannLabs/alphabase/discussions) and the [the Contributors License Agreement](misc/CLA.md).\n",
    "\n",
    "---"
   ]
  },
  {
   "cell_type": "markdown",
   "metadata": {},
   "source": [
    "## Changelog\n",
    "\n",
    "See the [HISTORY.md](HISTORY.md) for a full overview of the changes made in each version."
   ]
  },
  {
   "cell_type": "markdown",
   "metadata": {},
   "source": []
  }
 ],
 "metadata": {
  "kernelspec": {
   "display_name": "Python 3.8.3 ('base')",
   "language": "python",
   "name": "python3"
  },
  "language_info": {
   "name": "python",
   "version": "3.8.3"
  },
  "vscode": {
   "interpreter": {
    "hash": "8a3b27e141e49c996c9b863f8707e97aabd49c4a7e8445b9b783b34e4a21a9b2"
   }
  }
 },
 "nbformat": 4,
 "nbformat_minor": 2
}
