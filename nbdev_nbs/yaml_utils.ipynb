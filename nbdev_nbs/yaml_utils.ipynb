{
 "cells": [
  {
   "cell_type": "code",
   "execution_count": null,
   "metadata": {},
   "outputs": [],
   "source": [
    "#default_exp yaml_utils"
   ]
  },
  {
   "cell_type": "code",
   "execution_count": null,
   "metadata": {},
   "outputs": [],
   "source": [
    "#export\n",
    "import yaml\n",
    "\n",
    "def load_yaml(filename)->dict:\n",
    "    with open(filename) as f:\n",
    "        settings = yaml.load(f, Loader=yaml.FullLoader)\n",
    "    return settings\n",
    "\n",
    "def save_yaml(filename, settings):\n",
    "    with open(filename, \"w\") as file:\n",
    "        yaml.dump(settings, file)"
   ]
  }
 ],
 "metadata": {},
 "nbformat": 4,
 "nbformat_minor": 2
}
