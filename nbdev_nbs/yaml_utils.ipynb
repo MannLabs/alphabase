{
 "cells": [
  {
   "cell_type": "code",
   "execution_count": null,
   "metadata": {},
   "outputs": [],
   "source": [
    "#---#| default_exp yaml_utils"
   ]
  },
  {
   "cell_type": "markdown",
   "metadata": {},
   "source": [
    "# YAML Utils"
   ]
  },
  {
   "cell_type": "code",
   "execution_count": null,
   "metadata": {},
   "outputs": [],
   "source": [
    "#| export\n",
    "import yaml\n",
    "\n",
    "def load_yaml(filename)->dict:\n",
    "    with open(filename) as f:\n",
    "        settings = yaml.load(f, Loader=yaml.FullLoader)\n",
    "    return settings\n",
    "\n",
    "def save_yaml(filename, settings):\n",
    "    with open(filename, \"w\") as file:\n",
    "        yaml.dump(settings, file)"
   ]
  }
 ],
 "metadata": {
  "kernelspec": {
   "display_name": "Python 3.8.3 ('base')",
   "language": "python",
   "name": "python3"
  }
 },
 "nbformat": 4,
 "nbformat_minor": 2
}
