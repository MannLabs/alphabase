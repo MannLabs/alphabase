{
 "cells": [
  {
   "metadata": {},
   "cell_type": "markdown",
   "source": "# Retrieve modifications from Unimod and update modifications.tsv"
  },
  {
   "metadata": {},
   "cell_type": "code",
   "source": [
    "import xml.etree.ElementTree as ET\n",
    "import pandas as pd\n",
    "import tempfile\n",
    "import os\n",
    "import urllib.request"
   ],
   "outputs": [],
   "execution_count": null
  },
  {
   "metadata": {},
   "cell_type": "markdown",
   "source": "## Retrieve unimod data"
  },
  {
   "metadata": {},
   "cell_type": "code",
   "source": [
    "url = \"https://www.unimod.org/xml/unimod.xml\"\n",
    "xmlns = '{http://www.unimod.org/xmlns/schema/unimod_2}'\n",
    "\n",
    "# download unimod.xml to temp directory\n",
    "temp_dir = tempfile.mkdtemp()\n",
    "temp_file = os.path.join(temp_dir, 'unimod.xml')\n",
    "urllib.request.urlretrieve(url, temp_file)"
   ],
   "outputs": [],
   "execution_count": null
  },
  {
   "cell_type": "code",
   "metadata": {},
   "source": [
    "def get_composition(node):\n",
    "    composition = \"\"\n",
    "    for elem in node.findall(f'{xmlns}element'):\n",
    "        composition += elem.attrib['symbol']+'('+elem.attrib['number']+')'\n",
    "    return composition\n",
    "\n",
    "def replace_modseq_with_whitespace(modseq):\n",
    "    return modseq.replace(\" \", \"_\")\n",
    "\n",
    "xml = ET.parse(temp_file)\n",
    "root = xml.getroot()\n",
    "\n",
    "unimod = {}\n",
    "for modifications in root.findall(f'{xmlns}modifications'):\n",
    "    for mod in modifications.findall(f'{xmlns}mod'):\n",
    "        modname = mod.attrib['title']\n",
    "        id = mod.attrib['record_id']\n",
    "        for delta in mod.findall(f'{xmlns}delta'):\n",
    "            unimod_mass = delta.attrib['mono_mass']\n",
    "            unimod_avge_mass = delta.attrib['avge_mass']\n",
    "            composition = get_composition(delta)\n",
    "            break\n",
    "        for specificity in mod.findall(f'{xmlns}specificity'):\n",
    "            pos = specificity.attrib['position']\n",
    "            site = specificity.attrib['site']\n",
    "            _class = specificity.attrib['classification']\n",
    "            if site == 'N-term' or site == 'C-term':\n",
    "                site = pos\n",
    "            elif pos.startswith('Any ') or pos.startswith('Protein '):\n",
    "                site = site + '^' + pos\n",
    "\n",
    "            ptm_nl = 0\n",
    "            ptm_nl_composition = \"\"\n",
    "            for nl in specificity.findall(f'{xmlns}NeutralLoss'):\n",
    "                if nl.attrib['mono_mass'] == '0': continue\n",
    "                ptm_nl = nl.attrib['mono_mass']\n",
    "                ptm_nl_composition = get_composition(nl)\n",
    "                break\n",
    "            mod_site = f'{modname}@{site}'\n",
    "            mod_site = replace_modseq_with_whitespace(mod_site)\n",
    "\n",
    "            unimod[mod_site] = {}\n",
    "            unimod[mod_site]['unimod_mass'] = float(unimod_mass)\n",
    "            unimod[mod_site]['unimod_avge_mass'] = float(unimod_avge_mass)\n",
    "            unimod[mod_site]['composition'] = composition\n",
    "            unimod[mod_site]['unimod_modloss'] = float(ptm_nl)\n",
    "            unimod[mod_site]['modloss_composition'] = ptm_nl_composition\n",
    "            unimod[mod_site]['classification'] = _class\n",
    "            unimod[mod_site]['unimod_id'] = int(id)\n",
    "            unimod[mod_site]['smiles'] = ''\n",
    "\n",
    "\n",
    "            if '~' in site:\n",
    "                print(mod_site)\n",
    "                mod_site = f'{modname}@{pos}'\n",
    "                mod_site = replace_modseq_with_whitespace(mod_site)\n",
    "\n",
    "                unimod[mod_site] = {}\n",
    "                unimod[mod_site]['unimod_mass'] = float(unimod_mass)\n",
    "                unimod[mod_site]['unimod_avge_mass'] = float(unimod_avge_mass)\n",
    "                unimod[mod_site]['composition'] = composition\n",
    "                unimod[mod_site]['unimod_modloss'] = float(ptm_nl)\n",
    "                unimod[mod_site]['modloss_composition'] = ptm_nl_composition\n",
    "                unimod[mod_site]['classification'] = _class\n",
    "                unimod[mod_site]['unimod_id'] = int(id)\n",
    "                unimod[mod_site]['smiles'] = ''"
   ],
   "outputs": [],
   "execution_count": null
  },
  {
   "metadata": {},
   "cell_type": "markdown",
   "source": "## Construct modification dataframe"
  },
  {
   "cell_type": "code",
   "metadata": {},
   "source": [
    "df = pd.DataFrame().from_dict(unimod, orient='index')\n",
    "df['modloss_importance'] = 0\n",
    "df.loc[df.modloss_composition != '','modloss_importance'] = 0.5\n",
    "df.loc['Phospho@S','modloss_importance'] = 1e8\n",
    "df.loc['Phospho@T','modloss_importance'] = 1e7\n",
    "df.loc['GG@K','modloss_importance'] = 1e6\n",
    "df.loc['GlyGly@K',:] = df.loc['GG@K']\n",
    "df.loc['GlyGly@K','classification'] = 'Multiple'\n",
    "df['mod_name'] = df.index.values\n",
    "df = df[['mod_name']+[col for col in df.columns if col != 'mod_name']]\n",
    "df['unimod_id'] = df.unimod_id.astype(int)\n",
    "df"
   ],
   "outputs": [],
   "execution_count": null
  },
  {
   "metadata": {},
   "cell_type": "markdown",
   "source": "## Inspect added modifications"
  },
  {
   "cell_type": "code",
   "metadata": {},
   "source": [
    "from alphabase.constants.modification import MOD_DF\n",
    "\n",
    "stored_columns = ['mod_name', 'unimod_mass', 'unimod_avge_mass', 'composition', 'unimod_modloss', 'modloss_composition', 'classification', 'unimod_id', 'modloss_importance','smiles']\n",
    "\n",
    "if 'smiles' not in MOD_DF.columns:\n",
    "    MOD_DF['smiles'] = ''\n",
    "\n",
    "mod_df = MOD_DF[stored_columns]\n",
    "new_modifications = df[~df.index.isin(mod_df.index)]"
   ],
   "outputs": [],
   "execution_count": null
  },
  {
   "cell_type": "code",
   "metadata": {},
   "source": [
    "new_mod_df = pd.concat([mod_df, new_modifications])\n",
    "new_mod_df = new_mod_df.sort_values(by=['unimod_id','mod_name'])"
   ],
   "outputs": [],
   "execution_count": null
  },
  {
   "cell_type": "code",
   "metadata": {},
   "source": [
    "new_mod_df"
   ],
   "outputs": [],
   "execution_count": null
  },
  {
   "metadata": {},
   "cell_type": "markdown",
   "source": "## Save updated modification dataframe"
  },
  {
   "cell_type": "code",
   "metadata": {},
   "source": "df.to_csv('../alphabase/constants/const_files/modification.tsv', index=False, sep='\\t', header=True)",
   "outputs": [],
   "execution_count": null
  }
 ],
 "metadata": {
  "kernelspec": {
   "display_name": "Python 3.8.3 ('base')",
   "language": "python",
   "name": "python3"
  },
  "language_info": {
   "codemirror_mode": {
    "name": "ipython",
    "version": 3
   },
   "file_extension": ".py",
   "mimetype": "text/x-python",
   "name": "python",
   "nbconvert_exporter": "python",
   "pygments_lexer": "ipython3",
   "version": "3.11.7"
  },
  "vscode": {
   "interpreter": {
    "hash": "8a3b27e141e49c996c9b863f8707e97aabd49c4a7e8445b9b783b34e4a21a9b2"
   }
  }
 },
 "nbformat": 4,
 "nbformat_minor": 2
}
